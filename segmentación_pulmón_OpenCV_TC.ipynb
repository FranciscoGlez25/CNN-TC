{
  "nbformat": 4,
  "nbformat_minor": 0,
  "metadata": {
    "colab": {
      "provenance": [],
      "authorship_tag": "ABX9TyNf7zO7WyvuFNyBdkuM7IUj",
      "include_colab_link": true
    },
    "kernelspec": {
      "name": "python3",
      "display_name": "Python 3"
    },
    "language_info": {
      "name": "python"
    }
  },
  "cells": [
    {
      "cell_type": "markdown",
      "metadata": {
        "id": "view-in-github",
        "colab_type": "text"
      },
      "source": [
        "<a href=\"https://colab.research.google.com/github/FranciscoGlez25/CNN-TC/blob/main/segmentaci%C3%B3n_pulm%C3%B3n_OpenCV_TC.ipynb\" target=\"_parent\"><img src=\"https://colab.research.google.com/assets/colab-badge.svg\" alt=\"Open In Colab\"/></a>"
      ]
    },
    {
      "cell_type": "markdown",
      "source": [
        "# **Procesamiento de Imágenes de Tomografías Computarizadas Torácicas para Segmentación Pulmonar**"
      ],
      "metadata": {
        "id": "cBY_I60GyRVs"
      }
    },
    {
      "cell_type": "markdown",
      "source": [
        "Este bloque de código realiza la segmentación del pulmón en imágenes de tomografías computarizadas torácicas.\n",
        "\n",
        "1. **Función de Procesamiento de Imágenes:**\n",
        "   - La función `procesar_imagen` toma la ruta de una imagen como entrada.\n",
        "   - Lee la imagen en escala de grises.\n",
        "   - Aplica umbralización para segmentar el cuerpo en la imagen.\n",
        "   - Encuentra los contornos en la imagen binaria y selecciona el contorno más grande como el contorno del cuerpo.\n",
        "   - Crea una máscara del cuerpo y la aplica a la imagen original.\n",
        "   - Recorta la imagen según la región segmentada (contorno del cuerpo).\n",
        "   - Devuelve la imagen recortada.\n",
        "\n",
        "2. **Procesamiento de Todas las Imágenes en una Carpeta:**\n",
        "   - Se especifica la carpeta de entrada que contiene las imágenes originales de tomografías computarizadas torácicas.\n",
        "   - Se especifica la carpeta de salida donde se guardarán las imágenes segmentadas.\n",
        "   - Se crea la carpeta de salida si no existe.\n",
        "   - Para cada imagen en la carpeta de entrada:\n",
        "     - Se procesa la imagen utilizando la función `procesar_imagen`.\n",
        "     - La imagen segmentada se guarda en la carpeta de salida.\n",
        "\n",
        "Este código puede ser utilizado para preprocesar un conjunto de imágenes de tomografías computarizadas torácicas, centrándose en la segmentación del pulmón para análisis y aplicaciones médicas."
      ],
      "metadata": {
        "id": "c6N5BerHyKal"
      }
    },
    {
      "cell_type": "code",
      "execution_count": null,
      "metadata": {
        "id": "5pt8FGZ9xi2L"
      },
      "outputs": [],
      "source": [
        "import cv2\n",
        "import numpy as np\n",
        "import os\n",
        "import matplotlib.pyplot as plt\n",
        "\n",
        "def procesar_imagen(ruta_imagen):\n",
        "    # Leer la imagen\n",
        "    imagen = cv2.imread(ruta_imagen, cv2.IMREAD_GRAYSCALE)\n",
        "\n",
        "    # Umbralización para segmentar el cuerpo\n",
        "    _, imagen_binaria = cv2.threshold(imagen, 40, 255, cv2.THRESH_BINARY)\n",
        "\n",
        "    # Encuentra los contornos en la imagen binaria\n",
        "    contornos, _ = cv2.findContours(imagen_binaria, cv2.RETR_EXTERNAL, cv2.CHAIN_APPROX_SIMPLE)\n",
        "\n",
        "    # Encuentra el contorno más grande (asumiendo que es el cuerpo)\n",
        "    cuerpo = max(contornos, key=cv2.contourArea)\n",
        "\n",
        "    # Crea una máscara del cuerpo\n",
        "    mascara = np.zeros_like(imagen)\n",
        "    cv2.drawContours(mascara, [cuerpo], -1, (255), thickness=cv2.FILLED)\n",
        "\n",
        "    # Aplica la máscara a la imagen original\n",
        "    imagen_segmentada = cv2.bitwise_and(imagen, imagen, mask=mascara)\n",
        "\n",
        "    # Recorta la imagen según la región segmentada\n",
        "    (x, y, w, h) = cv2.boundingRect(cuerpo)\n",
        "    imagen_recortada = imagen_segmentada[y:y+h, x:x+w]\n",
        "\n",
        "    return imagen_recortada\n",
        "\n",
        "# Carpeta de entrada y salida\n",
        "carpeta_entrada = 'ruta_carpeta_entrada'\n",
        "carpeta_salida = 'ruta_carpeta_salida'\n",
        "\n",
        "# Crear la carpeta de salida si no existe\n",
        "if not os.path.exists(carpeta_salida):\n",
        "    os.makedirs(carpeta_salida)\n",
        "\n",
        "# Procesar todas las imágenes en la carpeta de entrada\n",
        "for nombre_imagen in os.listdir(carpeta_entrada):\n",
        "    ruta_imagen_entrada = os.path.join(carpeta_entrada, nombre_imagen)\n",
        "    ruta_imagen_salida = os.path.join(carpeta_salida, nombre_imagen)\n",
        "\n",
        "    # Procesar y guardar la imagen\n",
        "    imagen_recortada = procesar_imagen(ruta_imagen_entrada)\n",
        "    cv2.imwrite(ruta_imagen_salida, imagen_recortada)"
      ]
    }
  ]
}