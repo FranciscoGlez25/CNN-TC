{
  "cells": [
    {
      "cell_type": "markdown",
      "metadata": {
        "id": "view-in-github",
        "colab_type": "text"
      },
      "source": [
        "<a href=\"https://colab.research.google.com/github/FranciscoGlez25/CNN-TC/blob/main/ResNet50_Pytorch.ipynb\" target=\"_parent\"><img src=\"https://colab.research.google.com/assets/colab-badge.svg\" alt=\"Open In Colab\"/></a>"
      ]
    },
    {
      "cell_type": "markdown",
      "id": "808ef33a",
      "metadata": {
        "id": "808ef33a",
        "papermill": {
          "duration": 0.005172,
          "end_time": "2023-10-04T14:55:00.752467",
          "exception": false,
          "start_time": "2023-10-04T14:55:00.747295",
          "status": "completed"
        },
        "tags": []
      },
      "source": [
        "# **Configuración del Entorno y Dispositivo de GPU**"
      ]
    },
    {
      "cell_type": "markdown",
      "source": [
        "En este bloque de código, se realiza la configuración inicial del entorno para trabajar con PyTorch y se verifica la disponibilidad de la GPU.\n",
        "\n",
        "1. **Importación de Librerías:**\n",
        "   - Importa las librerías necesarias, incluyendo PyTorch, torchvision, pandas, PIL (Pillow), os, tqdm, matplotlib, seaborn y otras.\n",
        "\n",
        "2. **Verificación de la GPU:**\n",
        "   - Utiliza `torch.cuda.is_available()` para verificar si una GPU está disponible.\n",
        "   - Configura el dispositivo (`device`) en \"cuda\" si hay una GPU disponible; de lo contrario, usa \"cpu\".\n",
        "\n",
        "Este bloque establece el entorno y el dispositivo necesario para trabajar con modelos de PyTorch en una GPU si está disponible, de lo contrario, utilizará la CPU.[texto del vínculo](https://)"
      ],
      "metadata": {
        "id": "UAYMkR6lyowh"
      },
      "id": "UAYMkR6lyowh"
    },
    {
      "cell_type": "code",
      "execution_count": null,
      "id": "4bce4d92",
      "metadata": {
        "execution": {
          "iopub.execute_input": "2023-10-04T14:55:00.763077Z",
          "iopub.status.busy": "2023-10-04T14:55:00.762755Z",
          "iopub.status.idle": "2023-10-04T14:55:06.316844Z",
          "shell.execute_reply": "2023-10-04T14:55:06.315835Z"
        },
        "id": "4bce4d92",
        "papermill": {
          "duration": 5.562184,
          "end_time": "2023-10-04T14:55:06.319250",
          "exception": false,
          "start_time": "2023-10-04T14:55:00.757066",
          "status": "completed"
        },
        "tags": [],
        "outputId": "32af0553-17ce-4962-d783-8a5aa0099870"
      },
      "outputs": [
        {
          "name": "stderr",
          "output_type": "stream",
          "text": [
            "/opt/conda/lib/python3.10/site-packages/torchvision/datapoints/__init__.py:12: UserWarning: The torchvision.datapoints and torchvision.transforms.v2 namespaces are still Beta. While we do not expect major breaking changes, some APIs may still change according to user feedback. Please submit any feedback you may have in this issue: https://github.com/pytorch/vision/issues/6753, and you can also check out https://github.com/pytorch/vision/issues/7319 to learn more about the APIs that we suspect might involve future changes. You can silence this warning by calling torchvision.disable_beta_transforms_warning().\n",
            "  warnings.warn(_BETA_TRANSFORMS_WARNING)\n",
            "/opt/conda/lib/python3.10/site-packages/torchvision/transforms/v2/__init__.py:54: UserWarning: The torchvision.datapoints and torchvision.transforms.v2 namespaces are still Beta. While we do not expect major breaking changes, some APIs may still change according to user feedback. Please submit any feedback you may have in this issue: https://github.com/pytorch/vision/issues/6753, and you can also check out https://github.com/pytorch/vision/issues/7319 to learn more about the APIs that we suspect might involve future changes. You can silence this warning by calling torchvision.disable_beta_transforms_warning().\n",
            "  warnings.warn(_BETA_TRANSFORMS_WARNING)\n",
            "/opt/conda/lib/python3.10/site-packages/scipy/__init__.py:146: UserWarning: A NumPy version >=1.16.5 and <1.23.0 is required for this version of SciPy (detected version 1.23.5\n",
            "  warnings.warn(f\"A NumPy version >={np_minversion} and <{np_maxversion}\"\n"
          ]
        }
      ],
      "source": [
        "import torch\n",
        "import torchvision\n",
        "from torchvision.transforms import v2\n",
        "import torch.optim as optim\n",
        "import torch.nn as nn\n",
        "import torch.nn.init as init\n",
        "from torch.utils.data import Dataset, DataLoader\n",
        "import pandas as pd\n",
        "from PIL import Image\n",
        "import os\n",
        "from tqdm import tqdm_notebook as tqdm\n",
        "import matplotlib.image as img\n",
        "from sklearn.metrics import confusion_matrix, classification_report, accuracy_score, precision_score, recall_score, f1_score\n",
        "import seaborn as sns\n",
        "import matplotlib.pyplot as plt\n",
        "import torchvision.models as models\n",
        "from torch.nn import Linear, CrossEntropyLoss, Sequential\n",
        "\n",
        "torch.cuda.is_available()\n",
        "device = torch.device(\"cuda\" if torch.cuda.is_available() else \"cpu\")"
      ]
    },
    {
      "cell_type": "markdown",
      "id": "f2732a71",
      "metadata": {
        "id": "f2732a71",
        "papermill": {
          "duration": 0.004959,
          "end_time": "2023-10-04T14:55:06.329517",
          "exception": false,
          "start_time": "2023-10-04T14:55:06.324558",
          "status": "completed"
        },
        "tags": []
      },
      "source": [
        "# **Realizar transformaciones adecuadas para el modelo**"
      ]
    },
    {
      "cell_type": "markdown",
      "source": [
        "En este bloque de código, se definen las transformaciones que se aplicarán a las imágenes durante el preprocesamiento.\n",
        "\n",
        "1. **Transformaciones de Entrenamiento (`transform_train`):**\n",
        "   - `ToTensor()`: Convierte la imagen a un tensor.\n",
        "   - `CenterCrop(size=(850, 850))`: Realiza un recorte centrado de la imagen a un tamaño de 850x850 píxeles.\n",
        "   - `Resize(size=(224, 224))`: Cambia el tamaño de la imagen a 224x224 píxeles.\n",
        "   - `RandomHorizontalFlip(p=0.5)`: Aplica una posibilidad del 50% de voltear horizontalmente la imagen de manera aleatoria.\n",
        "   - `Normalize(mean=[0.485, 0.456, 0.406], std=[0.229, 0.224, 0.225])`: Normaliza la imagen con medias y desviaciones estándar predefinidas.\n",
        "\n",
        "2. **Transformaciones de Prueba (`transform_test`):**\n",
        "   - Similar a las transformaciones de entrenamiento, pero sin la operación de volteo horizontal.\n",
        "\n",
        "Estas transformaciones se utilizan para preparar las imágenes antes de alimentarlas al modelo. La normalización es particularmente importante para garantizar que los datos tengan una escala y distribución consistentes. La operación de volteo horizontal durante el entrenamiento introduce variedad en el conjunto de datos para mejorar la capacidad del modelo para generalizar."
      ],
      "metadata": {
        "id": "hUMFexE0y6JV"
      },
      "id": "hUMFexE0y6JV"
    },
    {
      "cell_type": "code",
      "execution_count": null,
      "id": "0f0fe29b",
      "metadata": {
        "execution": {
          "iopub.execute_input": "2023-10-04T14:55:06.341257Z",
          "iopub.status.busy": "2023-10-04T14:55:06.340283Z",
          "iopub.status.idle": "2023-10-04T14:55:06.353807Z",
          "shell.execute_reply": "2023-10-04T14:55:06.352903Z"
        },
        "id": "0f0fe29b",
        "papermill": {
          "duration": 0.021206,
          "end_time": "2023-10-04T14:55:06.355613",
          "exception": false,
          "start_time": "2023-10-04T14:55:06.334407",
          "status": "completed"
        },
        "tags": [],
        "outputId": "033b58b3-572e-480e-e2a8-87b6b5c378be"
      },
      "outputs": [
        {
          "name": "stderr",
          "output_type": "stream",
          "text": [
            "/opt/conda/lib/python3.10/site-packages/torchvision/transforms/v2/_deprecated.py:41: UserWarning: The transform `ToTensor()` is deprecated and will be removed in a future release. Instead, please use `transforms.Compose([transforms.ToImageTensor(), transforms.ConvertImageDtype()])`.\n",
            "  warnings.warn(\n"
          ]
        }
      ],
      "source": [
        "from torchvision import datasets, transforms, models\n",
        "\n",
        "# Definir transformaciones para el preprocesamiento de las imágenes\n",
        "transform_train = v2.Compose([v2.ToTensor(),\n",
        "                    v2.CenterCrop(size = (850, 850)),\n",
        "                    v2.Resize(size = (224, 224)),\n",
        "                    v2.RandomHorizontalFlip(p=0.5),\n",
        "                    #v2.RandomEqualize(p = 1),\n",
        "                    v2.Normalize(mean=[0.485, 0.456, 0.406], std=[0.229, 0.224, 0.225]),\n",
        "                ])\n",
        "\n",
        "transform_test = v2.Compose([v2.ToTensor(),\n",
        "                    v2.CenterCrop(size = (850, 850)),\n",
        "                    v2.Resize(size = (224, 224)),\n",
        "                    #v2.RandomEqualize(p = 1),\n",
        "                    v2.Normalize(mean=[0.485, 0.456, 0.406], std=[0.229, 0.224, 0.225]),\n",
        "                ])"
      ]
    },
    {
      "cell_type": "markdown",
      "id": "ccc10652",
      "metadata": {
        "id": "ccc10652",
        "papermill": {
          "duration": 0.004751,
          "end_time": "2023-10-04T14:55:06.365256",
          "exception": false,
          "start_time": "2023-10-04T14:55:06.360505",
          "status": "completed"
        },
        "tags": []
      },
      "source": [
        "# **Definir la clase CustomDataset para obtener las etiquetas del archivo .csv y las imágenes**"
      ]
    },
    {
      "cell_type": "markdown",
      "source": [
        "En este bloque de código, se define una clase `CustomDataset` que hereda de la clase `Dataset` de PyTorch.\n",
        "\n",
        "- **Método `__init__`:**\n",
        "  - Recibe como entrada la ruta del archivo CSV (`csv_file`), la carpeta raíz de las imágenes (`root_dir`), y las transformaciones a aplicar (`transform`).\n",
        "  - Lee el archivo CSV con etiquetas y otras anotaciones.\n",
        "  - Almacena el DataFrame resultante y las otras variables de entrada como atributos de la clase.\n",
        "  - Calcula el número de clases únicas en la columna 'Egreso' del conjunto de datos y lo almacena como `self.num_classes`.\n",
        "\n",
        "- **Método `__len__`:**\n",
        "  - Devuelve la longitud total del conjunto de datos, es decir, el número de filas en el DataFrame.\n",
        "\n",
        "- **Método `__getitem__`:**\n",
        "  - Recibe un índice como entrada.\n",
        "  - Construye la ruta de la imagen correspondiente utilizando la carpeta raíz y la información del DataFrame.\n",
        "  - Abre la imagen en formato RGB usando `PIL.Image`.\n",
        "  - Obtiene la etiqueta correspondiente del DataFrame.\n",
        "  - Aplica transformaciones a la imagen si se proporcionan.\n",
        "  - Devuelve la imagen y su etiqueta como una tupla.\n",
        "\n",
        "Este conjunto de datos personalizado es utilizado para cargar imágenes y etiquetas desde un archivo CSV, proporcionando una interfaz compatible con PyTorch para integrar fácilmente con los dataloaders. La columna 'Egreso' se asume como la columna de etiquetas en el archivo CSV."
      ],
      "metadata": {
        "id": "DxNIt7jVzIC_"
      },
      "id": "DxNIt7jVzIC_"
    },
    {
      "cell_type": "code",
      "execution_count": null,
      "id": "124784ae",
      "metadata": {
        "execution": {
          "iopub.execute_input": "2023-10-04T14:55:06.377202Z",
          "iopub.status.busy": "2023-10-04T14:55:06.376966Z",
          "iopub.status.idle": "2023-10-04T14:55:06.382899Z",
          "shell.execute_reply": "2023-10-04T14:55:06.381911Z"
        },
        "id": "124784ae",
        "papermill": {
          "duration": 0.013289,
          "end_time": "2023-10-04T14:55:06.384657",
          "exception": false,
          "start_time": "2023-10-04T14:55:06.371368",
          "status": "completed"
        },
        "tags": []
      },
      "outputs": [],
      "source": [
        "# Definir dataset personalizado para cargar imágenes y clases desde archivos CSV\n",
        "class CustomDataset(Dataset):\n",
        "    def __init__(self, csv_file, root_dir, transform=None):\n",
        "        self.annotations = pd.read_csv(csv_file)\n",
        "        self.root_dir = root_dir\n",
        "        self.transform = transform\n",
        "\n",
        "        # Obtener el número de clases desde el conjunto de datos\n",
        "        self.num_classes = len(self.annotations['Egreso'].unique())  # Suponiendo que la columna de etiquetas se llama 'label'\n",
        "\n",
        "    def __len__(self):\n",
        "        return len(self.annotations)\n",
        "\n",
        "    def __getitem__(self, index):\n",
        "        img_path = os.path.join(self.root_dir, self.annotations.iloc[index, 0])\n",
        "        image = Image.open(img_path).convert('RGB')\n",
        "        label = self.annotations.iloc[index, 3]\n",
        "\n",
        "        if self.transform:\n",
        "            image = self.transform(image)\n",
        "\n",
        "        return image, label"
      ]
    },
    {
      "cell_type": "markdown",
      "source": [
        "# **Montaje de Google Drive en Colab**"
      ],
      "metadata": {
        "id": "SaK439gPoWYZ"
      },
      "id": "SaK439gPoWYZ"
    },
    {
      "cell_type": "markdown",
      "source": [
        "\n",
        "En este bloque de código, se utiliza la biblioteca `google.colab` para montar Google Drive en el entorno de ejecución de Google Colab. Google Drive es una plataforma de almacenamiento en la nube, y montarlo en Colab permite acceder y manipular archivos almacenados en Google Drive directamente desde el entorno de ejecución.\n",
        "\n",
        "1. **Importación de la Biblioteca:**\n",
        "   Se importa la biblioteca `drive` desde `google.colab`.\n",
        "\n",
        "2. **Montaje de Google Drive:**\n",
        "   La función `drive.mount('/content/drive')` se utiliza para montar Google Drive en el directorio `/content/drive` de Colab. Al ejecutar esta celda, aparecerá un enlace para autorizar el acceso a Google Drive. Después de la autorización, se generará un código de autenticación que debe ser copiado y pegado en un campo de entrada en la celda para completar el proceso de montaje.\n",
        "\n",
        "Este bloque es esencial cuando se trabaja con archivos almacenados en Google Drive desde un entorno de ejecución en Google Colab. Una vez montado, se pueden acceder a los archivos de Google Drive como si fueran archivos locales en la ruta `/content/drive`."
      ],
      "metadata": {
        "id": "keZ7HMSEgHii"
      },
      "id": "keZ7HMSEgHii"
    },
    {
      "cell_type": "code",
      "source": [
        "from google.colab import drive\n",
        "\n",
        "# Monta Google Drive en el entorno de ejecución\n",
        "drive.mount('/content/drive')"
      ],
      "metadata": {
        "id": "F2lJj6RZgCfO"
      },
      "execution_count": null,
      "outputs": [],
      "id": "F2lJj6RZgCfO"
    },
    {
      "cell_type": "markdown",
      "id": "5daa22d5",
      "metadata": {
        "id": "5daa22d5",
        "papermill": {
          "duration": 0.00459,
          "end_time": "2023-10-04T14:55:06.394027",
          "exception": false,
          "start_time": "2023-10-04T14:55:06.389437",
          "status": "completed"
        },
        "tags": []
      },
      "source": [
        "# **Creación del Conjunto de Datos y DataLoader**"
      ]
    },
    {
      "cell_type": "markdown",
      "source": [
        "En este bloque de código, se crea el conjunto de datos de entrenamiento (`train_dataset`) utilizando la clase `CustomDataset` definida previamente. También se imprime la cantidad total de imágenes en el conjunto de entrenamiento.\n",
        "\n",
        "- Se instancia `CustomDataset` con la ruta al archivo CSV (`'ruta_archivo_csv'`), la carpeta raíz de las imágenes (`'ruta_carpeta_imagenes'`), y las transformaciones de entrenamiento (`transform_train`).\n",
        "  \n",
        "- La variable `total_train` se establece como la longitud total del conjunto de entrenamiento utilizando la función `len(train_dataset)`.\n",
        "\n",
        "- Finalmente, se imprime la cantidad total de imágenes en el conjunto de entrenamiento.\n",
        "\n",
        "Este bloque es esencial para preparar los datos de entrenamiento antes de pasarlos al modelo de red neuronal para el entrenamiento."
      ],
      "metadata": {
        "id": "V-aATCbzzMMZ"
      },
      "id": "V-aATCbzzMMZ"
    },
    {
      "cell_type": "code",
      "execution_count": null,
      "id": "4fbde403",
      "metadata": {
        "execution": {
          "iopub.execute_input": "2023-10-04T14:55:06.404482Z",
          "iopub.status.busy": "2023-10-04T14:55:06.404227Z",
          "iopub.status.idle": "2023-10-04T14:55:06.434523Z",
          "shell.execute_reply": "2023-10-04T14:55:06.433334Z"
        },
        "id": "4fbde403",
        "outputId": "cea326bd-2a0f-4ca4-c09d-82bcb065f90a",
        "papermill": {
          "duration": 0.037576,
          "end_time": "2023-10-04T14:55:06.436330",
          "exception": false,
          "start_time": "2023-10-04T14:55:06.398754",
          "status": "completed"
        },
        "tags": []
      },
      "outputs": [
        {
          "name": "stdout",
          "output_type": "stream",
          "text": [
            "Cantidad total de imágenes en Train Dataset: 964\n"
          ]
        }
      ],
      "source": [
        "from torch.utils.data import DataLoader, random_split\n",
        "\n",
        "# Define el conjunto de datos completo\n",
        "train_dataset = CustomDataset('ruta_archivo_csv', 'ruta_carpeta_imagenes', transform=transform_train)\n",
        "\n",
        "total_train = len(train_dataset)\n",
        "print(f'Cantidad total de imágenes en Train Dataset: {total_train}')"
      ]
    },
    {
      "cell_type": "markdown",
      "source": [
        "# **División del Conjunto de Datos y Creación de DataLoaders**"
      ],
      "metadata": {
        "id": "n0LUU560iS1H"
      },
      "id": "n0LUU560iS1H"
    },
    {
      "cell_type": "markdown",
      "source": [
        "En este bloque, se realiza la división del conjunto de datos de entrenamiento en conjuntos de entrenamiento y validación, además de la creación de DataLoaders correspondientes.\n",
        "\n",
        "- `total_samples`: Se obtiene el número total de muestras en el conjunto de entrenamiento.\n",
        "\n",
        "- `validation_split`: Especifica la fracción del conjunto de entrenamiento que se utilizará como conjunto de validación (por ejemplo, 20%).\n",
        "\n",
        "- `validation_size`: Se calcula el tamaño del conjunto de validación multiplicando `validation_split` por el número total de muestras en el conjunto de entrenamiento.\n",
        "\n",
        "- `train_size`: Representa el tamaño del conjunto de entrenamiento y se calcula restando `validation_size` de `total_samples`.\n",
        "\n",
        "- `train_dataset, validation_dataset`: Utilizando la función `random_split` del módulo `torch.utils.data`, se divide el conjunto de entrenamiento en un conjunto de entrenamiento y uno de validación.\n",
        "\n",
        "- `train_loader, val_loader`: Se crean DataLoaders para el conjunto de entrenamiento y el conjunto de validación, respectivamente, utilizando la clase `DataLoader` de PyTorch. Estos DataLoaders se utilizan para iterar sobre los datos durante el entrenamiento y la validación.\n",
        "\n",
        "Este bloque es fundamental para establecer la configuración del entrenamiento, dividiendo el conjunto de datos en partes para el entrenamiento y la evaluación del modelo."
      ],
      "metadata": {
        "id": "YvRR0EePzxjo"
      },
      "id": "YvRR0EePzxjo"
    },
    {
      "cell_type": "code",
      "execution_count": null,
      "id": "0bf49fdc",
      "metadata": {
        "execution": {
          "iopub.execute_input": "2023-10-04T14:55:06.447906Z",
          "iopub.status.busy": "2023-10-04T14:55:06.447358Z",
          "iopub.status.idle": "2023-10-04T14:55:06.470742Z",
          "shell.execute_reply": "2023-10-04T14:55:06.469910Z"
        },
        "id": "0bf49fdc",
        "papermill": {
          "duration": 0.031106,
          "end_time": "2023-10-04T14:55:06.472554",
          "exception": false,
          "start_time": "2023-10-04T14:55:06.441448",
          "status": "completed"
        },
        "tags": []
      },
      "outputs": [],
      "source": [
        "# Obtén el número total de muestras en el conjunto de entrenamiento\n",
        "total_samples = len(train_dataset)\n",
        "\n",
        "# Calcula el número de muestras para el conjunto de validación (por ejemplo, el 20%)\n",
        "validation_split = 0.2\n",
        "validation_size = int(validation_split * total_samples)\n",
        "\n",
        "# Calcula el tamaño del conjunto de entrenamiento\n",
        "train_size = total_samples - validation_size\n",
        "\n",
        "# Divide el conjunto de entrenamiento en conjunto de entrenamiento y conjunto de validación\n",
        "train_dataset, validation_dataset = random_split(train_dataset, [train_size, validation_size])\n",
        "\n",
        "# Define los DataLoaders para entrenamiento y validación\n",
        "train_loader = DataLoader(train_dataset, batch_size=64, shuffle=True)\n",
        "val_loader = DataLoader(validation_dataset, batch_size=64, shuffle=True)"
      ]
    },
    {
      "cell_type": "markdown",
      "source": [
        "**Cantidad Total de Imágenes en Train y Validation Dataset Después de la División:**\n",
        "\n",
        "En este bloque, se calcula y muestra la cantidad total de imágenes en los conjuntos de entrenamiento y validación después de realizar la división. Aquí está el resumen del bloque:\n",
        "\n",
        "- `total_images_train`: Se obtiene la cantidad total de imágenes en el conjunto de entrenamiento utilizando la propiedad `dataset` del `train_loader`.\n",
        "\n",
        "- `total_images_validation`: Se obtiene la cantidad total de imágenes en el conjunto de validación utilizando la propiedad `dataset` del `val_loader`.\n",
        "\n",
        "- Se imprime la cantidad total de imágenes en el conjunto de entrenamiento y en el conjunto de validación después de realizar la división.\n",
        "\n",
        "Este bloque proporciona información sobre la cantidad de datos disponibles para el entrenamiento y la validación después de la división del conjunto de datos. Es útil para verificar que la división se realizó correctamente y entender el tamaño de los conjuntos de datos utilizados en cada fase del entrenamiento."
      ],
      "metadata": {
        "id": "479JdN1Qz7r-"
      },
      "id": "479JdN1Qz7r-"
    },
    {
      "cell_type": "code",
      "execution_count": null,
      "id": "770441e4",
      "metadata": {
        "execution": {
          "iopub.execute_input": "2023-10-04T14:55:06.484300Z",
          "iopub.status.busy": "2023-10-04T14:55:06.483893Z",
          "iopub.status.idle": "2023-10-04T14:55:06.489177Z",
          "shell.execute_reply": "2023-10-04T14:55:06.488107Z"
        },
        "id": "770441e4",
        "outputId": "7b3036ad-ae8d-49e2-a1dd-e5245d3aac41",
        "papermill": {
          "duration": 0.013758,
          "end_time": "2023-10-04T14:55:06.491159",
          "exception": false,
          "start_time": "2023-10-04T14:55:06.477401",
          "status": "completed"
        },
        "tags": []
      },
      "outputs": [
        {
          "name": "stdout",
          "output_type": "stream",
          "text": [
            "Cantidad total de imágenes en Train Dataset despues de realizar split: 772\n",
            "Cantidad total de imágenes en Validation Dataset: 192\n"
          ]
        }
      ],
      "source": [
        "# Obtén la cantidad total de imágenes en train_loader y validation_loader\n",
        "total_images_train = len(train_loader.dataset)\n",
        "total_images_validation = len(val_loader.dataset)\n",
        "\n",
        "# Imprime la cantidad total de imágenes\n",
        "print(f'Cantidad total de imágenes en Train Dataset despues de realizar split: {total_images_train}')\n",
        "print(f'Cantidad total de imágenes en Validation Dataset: {total_images_validation}')"
      ]
    },
    {
      "cell_type": "markdown",
      "id": "a5773649",
      "metadata": {
        "id": "a5773649",
        "papermill": {
          "duration": 0.004735,
          "end_time": "2023-10-04T14:55:06.500775",
          "exception": false,
          "start_time": "2023-10-04T14:55:06.496040",
          "status": "completed"
        },
        "tags": []
      },
      "source": [
        "# **Definición del Dataset de Prueba y DataLoader**"
      ]
    },
    {
      "cell_type": "markdown",
      "source": [
        "En este bloque, se define el dataset de prueba (`test_dataset`) utilizando la clase `CustomDataset` y se crea un DataLoader (`test_loader`) para cargar los datos de prueba.\n",
        "\n",
        "- `test_dataset`: Se crea un objeto `CustomDataset` para el conjunto de prueba, utilizando la ruta al archivo CSV y la carpeta de imágenes, junto con la transformación `transform_test`.\n",
        "\n",
        "- `test_loader`: Se crea un DataLoader para el conjunto de prueba (`test_dataset`) con un tamaño de lote de 64 y el parámetro `shuffle` configurado en `True`.\n",
        "\n",
        "- `total_images_test`: Se obtiene la cantidad total de imágenes en el conjunto de prueba utilizando la propiedad `dataset` del `test_loader`.\n",
        "\n",
        "- Se imprime la cantidad total de imágenes en el conjunto de prueba.\n",
        "\n",
        "Este bloque se encarga de preparar el conjunto de datos de prueba para su uso durante la evaluación del modelo. El DataLoader facilita la iteración a través del conjunto de datos de prueba en mini lotes durante la evaluación del modelo."
      ],
      "metadata": {
        "id": "rwelMOZRz_KM"
      },
      "id": "rwelMOZRz_KM"
    },
    {
      "cell_type": "code",
      "execution_count": null,
      "id": "24f96da8",
      "metadata": {
        "execution": {
          "iopub.execute_input": "2023-10-04T14:55:06.511556Z",
          "iopub.status.busy": "2023-10-04T14:55:06.511303Z",
          "iopub.status.idle": "2023-10-04T14:55:06.525841Z",
          "shell.execute_reply": "2023-10-04T14:55:06.525001Z"
        },
        "id": "24f96da8",
        "outputId": "8d2d501d-5249-4ccd-bff3-cfe62919742d",
        "papermill": {
          "duration": 0.021927,
          "end_time": "2023-10-04T14:55:06.527493",
          "exception": false,
          "start_time": "2023-10-04T14:55:06.505566",
          "status": "completed"
        },
        "tags": []
      },
      "outputs": [
        {
          "name": "stdout",
          "output_type": "stream",
          "text": [
            "Cantidad total de imágenes en Test Dataset: 240\n"
          ]
        }
      ],
      "source": [
        "# Definir dataset de validación y dataloader\n",
        "test_dataset = CustomDataset('ruta_archivo_csv', 'ruta_carpeta_imagenes', transform=transform_test)\n",
        "test_loader = DataLoader(test_dataset, batch_size=64, shuffle=True)\n",
        "\n",
        "total_images_test = len(test_loader.dataset)\n",
        "print(f'Cantidad total de imágenes en Test Dataset: {total_images_test}')"
      ]
    },
    {
      "cell_type": "markdown",
      "source": [
        "# **Obtención del Número de Clases en el Conjunto de Prueba**"
      ],
      "metadata": {
        "id": "Uxs8s4EQidZm"
      },
      "id": "Uxs8s4EQidZm"
    },
    {
      "cell_type": "markdown",
      "source": [
        "En este bloque, se obtiene el número de clases presente en el conjunto de prueba (`test_dataset`) mediante la propiedad `num_classes` de la instancia del dataset.\n",
        "\n",
        "- `num_classes`: Se obtiene el número de clases en el conjunto de prueba accediendo a la propiedad `num_classes` de la instancia `test_dataset`.\n",
        "\n",
        "- Se imprime el número de clases en el conjunto de prueba.\n",
        "\n",
        "Este bloque proporciona información sobre la cantidad de clases presentes en el conjunto de datos de prueba. Es importante conocer el número de clases, ya que es un factor crucial en la configuración de la capa de salida del modelo y en la interpretación de los resultados durante la evaluación."
      ],
      "metadata": {
        "id": "AOpaobUN0o0U"
      },
      "id": "AOpaobUN0o0U"
    },
    {
      "cell_type": "code",
      "execution_count": null,
      "id": "872ee66f",
      "metadata": {
        "execution": {
          "iopub.execute_input": "2023-10-04T14:55:06.538916Z",
          "iopub.status.busy": "2023-10-04T14:55:06.538161Z",
          "iopub.status.idle": "2023-10-04T14:55:06.543452Z",
          "shell.execute_reply": "2023-10-04T14:55:06.542570Z"
        },
        "id": "872ee66f",
        "outputId": "9bca7db7-3e1f-4e5e-c195-ee155b91a572",
        "papermill": {
          "duration": 0.012941,
          "end_time": "2023-10-04T14:55:06.545246",
          "exception": false,
          "start_time": "2023-10-04T14:55:06.532305",
          "status": "completed"
        },
        "tags": []
      },
      "outputs": [
        {
          "name": "stdout",
          "output_type": "stream",
          "text": [
            "Clases obtenidas en el conjunto Test Dataset: 2\n"
          ]
        }
      ],
      "source": [
        "num_classes = test_dataset.num_classes\n",
        "print(\"Clases obtenidas en el conjunto Test Dataset:\", num_classes)"
      ]
    },
    {
      "cell_type": "markdown",
      "id": "fb601642",
      "metadata": {
        "id": "fb601642",
        "papermill": {
          "duration": 0.005006,
          "end_time": "2023-10-04T14:55:06.555085",
          "exception": false,
          "start_time": "2023-10-04T14:55:06.550079",
          "status": "completed"
        },
        "tags": []
      },
      "source": [
        "# **Carga del Modelo ResNet50 y Modificación de la Capa de Clasificación**\n"
      ]
    },
    {
      "cell_type": "markdown",
      "source": [
        "En este bloque, se carga el modelo ResNet50 preentrenado y se modifica la capa de clasificación para adaptarse a dos clases.\n",
        "\n",
        "- `model`: Se carga el modelo ResNet50 preentrenado desde `torchvision.models` con `pretrained=True`.\n",
        "\n",
        "- `num_features`: Se obtiene el número de características en la capa de entrada de la clasificación original del modelo ResNet50.\n",
        "\n",
        "- Se modifica la capa de clasificación (`model.fc`) para tener una capa lineal (`nn.Linear`) con el número correcto de características de entrada (`num_features`) y el número de clases correcto (`num_classes`).\n",
        "\n",
        "- El modelo se mueve al dispositivo de entrenamiento (`cuda:0` si está disponible; de lo contrario, `cpu`).\n",
        "\n",
        "Este bloque es esencial para adaptar la arquitectura del modelo a la tarea específica de dos clases. La capa de clasificación se redefine para tener el número correcto de neuronas de salida para las clases deseadas."
      ],
      "metadata": {
        "id": "6Tzfn6uq0xJA"
      },
      "id": "6Tzfn6uq0xJA"
    },
    {
      "cell_type": "code",
      "execution_count": null,
      "id": "63be612c",
      "metadata": {
        "execution": {
          "iopub.execute_input": "2023-10-04T14:55:06.566976Z",
          "iopub.status.busy": "2023-10-04T14:55:06.566197Z",
          "iopub.status.idle": "2023-10-04T14:55:10.611339Z",
          "shell.execute_reply": "2023-10-04T14:55:10.610452Z"
        },
        "id": "63be612c",
        "outputId": "ec9df59c-9898-4f11-9818-ab1f428f9c81",
        "papermill": {
          "duration": 4.054785,
          "end_time": "2023-10-04T14:55:10.615087",
          "exception": false,
          "start_time": "2023-10-04T14:55:06.560302",
          "status": "completed"
        },
        "tags": []
      },
      "outputs": [
        {
          "name": "stderr",
          "output_type": "stream",
          "text": [
            "/opt/conda/lib/python3.10/site-packages/torchvision/models/_utils.py:208: UserWarning: The parameter 'pretrained' is deprecated since 0.13 and may be removed in the future, please use 'weights' instead.\n",
            "  warnings.warn(\n",
            "/opt/conda/lib/python3.10/site-packages/torchvision/models/_utils.py:223: UserWarning: Arguments other than a weight enum or `None` for 'weights' are deprecated since 0.13 and may be removed in the future. The current behavior is equivalent to passing `weights=ResNet50_Weights.IMAGENET1K_V1`. You can also use `weights=ResNet50_Weights.DEFAULT` to get the most up-to-date weights.\n",
            "  warnings.warn(msg)\n",
            "Downloading: \"https://download.pytorch.org/models/resnet50-0676ba61.pth\" to /root/.cache/torch/hub/checkpoints/resnet50-0676ba61.pth\n",
            "100%|██████████| 97.8M/97.8M [00:00<00:00, 229MB/s]\n"
          ]
        },
        {
          "data": {
            "text/plain": [
              "ResNet(\n",
              "  (conv1): Conv2d(3, 64, kernel_size=(7, 7), stride=(2, 2), padding=(3, 3), bias=False)\n",
              "  (bn1): BatchNorm2d(64, eps=1e-05, momentum=0.1, affine=True, track_running_stats=True)\n",
              "  (relu): ReLU(inplace=True)\n",
              "  (maxpool): MaxPool2d(kernel_size=3, stride=2, padding=1, dilation=1, ceil_mode=False)\n",
              "  (layer1): Sequential(\n",
              "    (0): Bottleneck(\n",
              "      (conv1): Conv2d(64, 64, kernel_size=(1, 1), stride=(1, 1), bias=False)\n",
              "      (bn1): BatchNorm2d(64, eps=1e-05, momentum=0.1, affine=True, track_running_stats=True)\n",
              "      (conv2): Conv2d(64, 64, kernel_size=(3, 3), stride=(1, 1), padding=(1, 1), bias=False)\n",
              "      (bn2): BatchNorm2d(64, eps=1e-05, momentum=0.1, affine=True, track_running_stats=True)\n",
              "      (conv3): Conv2d(64, 256, kernel_size=(1, 1), stride=(1, 1), bias=False)\n",
              "      (bn3): BatchNorm2d(256, eps=1e-05, momentum=0.1, affine=True, track_running_stats=True)\n",
              "      (relu): ReLU(inplace=True)\n",
              "      (downsample): Sequential(\n",
              "        (0): Conv2d(64, 256, kernel_size=(1, 1), stride=(1, 1), bias=False)\n",
              "        (1): BatchNorm2d(256, eps=1e-05, momentum=0.1, affine=True, track_running_stats=True)\n",
              "      )\n",
              "    )\n",
              "    (1): Bottleneck(\n",
              "      (conv1): Conv2d(256, 64, kernel_size=(1, 1), stride=(1, 1), bias=False)\n",
              "      (bn1): BatchNorm2d(64, eps=1e-05, momentum=0.1, affine=True, track_running_stats=True)\n",
              "      (conv2): Conv2d(64, 64, kernel_size=(3, 3), stride=(1, 1), padding=(1, 1), bias=False)\n",
              "      (bn2): BatchNorm2d(64, eps=1e-05, momentum=0.1, affine=True, track_running_stats=True)\n",
              "      (conv3): Conv2d(64, 256, kernel_size=(1, 1), stride=(1, 1), bias=False)\n",
              "      (bn3): BatchNorm2d(256, eps=1e-05, momentum=0.1, affine=True, track_running_stats=True)\n",
              "      (relu): ReLU(inplace=True)\n",
              "    )\n",
              "    (2): Bottleneck(\n",
              "      (conv1): Conv2d(256, 64, kernel_size=(1, 1), stride=(1, 1), bias=False)\n",
              "      (bn1): BatchNorm2d(64, eps=1e-05, momentum=0.1, affine=True, track_running_stats=True)\n",
              "      (conv2): Conv2d(64, 64, kernel_size=(3, 3), stride=(1, 1), padding=(1, 1), bias=False)\n",
              "      (bn2): BatchNorm2d(64, eps=1e-05, momentum=0.1, affine=True, track_running_stats=True)\n",
              "      (conv3): Conv2d(64, 256, kernel_size=(1, 1), stride=(1, 1), bias=False)\n",
              "      (bn3): BatchNorm2d(256, eps=1e-05, momentum=0.1, affine=True, track_running_stats=True)\n",
              "      (relu): ReLU(inplace=True)\n",
              "    )\n",
              "  )\n",
              "  (layer2): Sequential(\n",
              "    (0): Bottleneck(\n",
              "      (conv1): Conv2d(256, 128, kernel_size=(1, 1), stride=(1, 1), bias=False)\n",
              "      (bn1): BatchNorm2d(128, eps=1e-05, momentum=0.1, affine=True, track_running_stats=True)\n",
              "      (conv2): Conv2d(128, 128, kernel_size=(3, 3), stride=(2, 2), padding=(1, 1), bias=False)\n",
              "      (bn2): BatchNorm2d(128, eps=1e-05, momentum=0.1, affine=True, track_running_stats=True)\n",
              "      (conv3): Conv2d(128, 512, kernel_size=(1, 1), stride=(1, 1), bias=False)\n",
              "      (bn3): BatchNorm2d(512, eps=1e-05, momentum=0.1, affine=True, track_running_stats=True)\n",
              "      (relu): ReLU(inplace=True)\n",
              "      (downsample): Sequential(\n",
              "        (0): Conv2d(256, 512, kernel_size=(1, 1), stride=(2, 2), bias=False)\n",
              "        (1): BatchNorm2d(512, eps=1e-05, momentum=0.1, affine=True, track_running_stats=True)\n",
              "      )\n",
              "    )\n",
              "    (1): Bottleneck(\n",
              "      (conv1): Conv2d(512, 128, kernel_size=(1, 1), stride=(1, 1), bias=False)\n",
              "      (bn1): BatchNorm2d(128, eps=1e-05, momentum=0.1, affine=True, track_running_stats=True)\n",
              "      (conv2): Conv2d(128, 128, kernel_size=(3, 3), stride=(1, 1), padding=(1, 1), bias=False)\n",
              "      (bn2): BatchNorm2d(128, eps=1e-05, momentum=0.1, affine=True, track_running_stats=True)\n",
              "      (conv3): Conv2d(128, 512, kernel_size=(1, 1), stride=(1, 1), bias=False)\n",
              "      (bn3): BatchNorm2d(512, eps=1e-05, momentum=0.1, affine=True, track_running_stats=True)\n",
              "      (relu): ReLU(inplace=True)\n",
              "    )\n",
              "    (2): Bottleneck(\n",
              "      (conv1): Conv2d(512, 128, kernel_size=(1, 1), stride=(1, 1), bias=False)\n",
              "      (bn1): BatchNorm2d(128, eps=1e-05, momentum=0.1, affine=True, track_running_stats=True)\n",
              "      (conv2): Conv2d(128, 128, kernel_size=(3, 3), stride=(1, 1), padding=(1, 1), bias=False)\n",
              "      (bn2): BatchNorm2d(128, eps=1e-05, momentum=0.1, affine=True, track_running_stats=True)\n",
              "      (conv3): Conv2d(128, 512, kernel_size=(1, 1), stride=(1, 1), bias=False)\n",
              "      (bn3): BatchNorm2d(512, eps=1e-05, momentum=0.1, affine=True, track_running_stats=True)\n",
              "      (relu): ReLU(inplace=True)\n",
              "    )\n",
              "    (3): Bottleneck(\n",
              "      (conv1): Conv2d(512, 128, kernel_size=(1, 1), stride=(1, 1), bias=False)\n",
              "      (bn1): BatchNorm2d(128, eps=1e-05, momentum=0.1, affine=True, track_running_stats=True)\n",
              "      (conv2): Conv2d(128, 128, kernel_size=(3, 3), stride=(1, 1), padding=(1, 1), bias=False)\n",
              "      (bn2): BatchNorm2d(128, eps=1e-05, momentum=0.1, affine=True, track_running_stats=True)\n",
              "      (conv3): Conv2d(128, 512, kernel_size=(1, 1), stride=(1, 1), bias=False)\n",
              "      (bn3): BatchNorm2d(512, eps=1e-05, momentum=0.1, affine=True, track_running_stats=True)\n",
              "      (relu): ReLU(inplace=True)\n",
              "    )\n",
              "  )\n",
              "  (layer3): Sequential(\n",
              "    (0): Bottleneck(\n",
              "      (conv1): Conv2d(512, 256, kernel_size=(1, 1), stride=(1, 1), bias=False)\n",
              "      (bn1): BatchNorm2d(256, eps=1e-05, momentum=0.1, affine=True, track_running_stats=True)\n",
              "      (conv2): Conv2d(256, 256, kernel_size=(3, 3), stride=(2, 2), padding=(1, 1), bias=False)\n",
              "      (bn2): BatchNorm2d(256, eps=1e-05, momentum=0.1, affine=True, track_running_stats=True)\n",
              "      (conv3): Conv2d(256, 1024, kernel_size=(1, 1), stride=(1, 1), bias=False)\n",
              "      (bn3): BatchNorm2d(1024, eps=1e-05, momentum=0.1, affine=True, track_running_stats=True)\n",
              "      (relu): ReLU(inplace=True)\n",
              "      (downsample): Sequential(\n",
              "        (0): Conv2d(512, 1024, kernel_size=(1, 1), stride=(2, 2), bias=False)\n",
              "        (1): BatchNorm2d(1024, eps=1e-05, momentum=0.1, affine=True, track_running_stats=True)\n",
              "      )\n",
              "    )\n",
              "    (1): Bottleneck(\n",
              "      (conv1): Conv2d(1024, 256, kernel_size=(1, 1), stride=(1, 1), bias=False)\n",
              "      (bn1): BatchNorm2d(256, eps=1e-05, momentum=0.1, affine=True, track_running_stats=True)\n",
              "      (conv2): Conv2d(256, 256, kernel_size=(3, 3), stride=(1, 1), padding=(1, 1), bias=False)\n",
              "      (bn2): BatchNorm2d(256, eps=1e-05, momentum=0.1, affine=True, track_running_stats=True)\n",
              "      (conv3): Conv2d(256, 1024, kernel_size=(1, 1), stride=(1, 1), bias=False)\n",
              "      (bn3): BatchNorm2d(1024, eps=1e-05, momentum=0.1, affine=True, track_running_stats=True)\n",
              "      (relu): ReLU(inplace=True)\n",
              "    )\n",
              "    (2): Bottleneck(\n",
              "      (conv1): Conv2d(1024, 256, kernel_size=(1, 1), stride=(1, 1), bias=False)\n",
              "      (bn1): BatchNorm2d(256, eps=1e-05, momentum=0.1, affine=True, track_running_stats=True)\n",
              "      (conv2): Conv2d(256, 256, kernel_size=(3, 3), stride=(1, 1), padding=(1, 1), bias=False)\n",
              "      (bn2): BatchNorm2d(256, eps=1e-05, momentum=0.1, affine=True, track_running_stats=True)\n",
              "      (conv3): Conv2d(256, 1024, kernel_size=(1, 1), stride=(1, 1), bias=False)\n",
              "      (bn3): BatchNorm2d(1024, eps=1e-05, momentum=0.1, affine=True, track_running_stats=True)\n",
              "      (relu): ReLU(inplace=True)\n",
              "    )\n",
              "    (3): Bottleneck(\n",
              "      (conv1): Conv2d(1024, 256, kernel_size=(1, 1), stride=(1, 1), bias=False)\n",
              "      (bn1): BatchNorm2d(256, eps=1e-05, momentum=0.1, affine=True, track_running_stats=True)\n",
              "      (conv2): Conv2d(256, 256, kernel_size=(3, 3), stride=(1, 1), padding=(1, 1), bias=False)\n",
              "      (bn2): BatchNorm2d(256, eps=1e-05, momentum=0.1, affine=True, track_running_stats=True)\n",
              "      (conv3): Conv2d(256, 1024, kernel_size=(1, 1), stride=(1, 1), bias=False)\n",
              "      (bn3): BatchNorm2d(1024, eps=1e-05, momentum=0.1, affine=True, track_running_stats=True)\n",
              "      (relu): ReLU(inplace=True)\n",
              "    )\n",
              "    (4): Bottleneck(\n",
              "      (conv1): Conv2d(1024, 256, kernel_size=(1, 1), stride=(1, 1), bias=False)\n",
              "      (bn1): BatchNorm2d(256, eps=1e-05, momentum=0.1, affine=True, track_running_stats=True)\n",
              "      (conv2): Conv2d(256, 256, kernel_size=(3, 3), stride=(1, 1), padding=(1, 1), bias=False)\n",
              "      (bn2): BatchNorm2d(256, eps=1e-05, momentum=0.1, affine=True, track_running_stats=True)\n",
              "      (conv3): Conv2d(256, 1024, kernel_size=(1, 1), stride=(1, 1), bias=False)\n",
              "      (bn3): BatchNorm2d(1024, eps=1e-05, momentum=0.1, affine=True, track_running_stats=True)\n",
              "      (relu): ReLU(inplace=True)\n",
              "    )\n",
              "    (5): Bottleneck(\n",
              "      (conv1): Conv2d(1024, 256, kernel_size=(1, 1), stride=(1, 1), bias=False)\n",
              "      (bn1): BatchNorm2d(256, eps=1e-05, momentum=0.1, affine=True, track_running_stats=True)\n",
              "      (conv2): Conv2d(256, 256, kernel_size=(3, 3), stride=(1, 1), padding=(1, 1), bias=False)\n",
              "      (bn2): BatchNorm2d(256, eps=1e-05, momentum=0.1, affine=True, track_running_stats=True)\n",
              "      (conv3): Conv2d(256, 1024, kernel_size=(1, 1), stride=(1, 1), bias=False)\n",
              "      (bn3): BatchNorm2d(1024, eps=1e-05, momentum=0.1, affine=True, track_running_stats=True)\n",
              "      (relu): ReLU(inplace=True)\n",
              "    )\n",
              "  )\n",
              "  (layer4): Sequential(\n",
              "    (0): Bottleneck(\n",
              "      (conv1): Conv2d(1024, 512, kernel_size=(1, 1), stride=(1, 1), bias=False)\n",
              "      (bn1): BatchNorm2d(512, eps=1e-05, momentum=0.1, affine=True, track_running_stats=True)\n",
              "      (conv2): Conv2d(512, 512, kernel_size=(3, 3), stride=(2, 2), padding=(1, 1), bias=False)\n",
              "      (bn2): BatchNorm2d(512, eps=1e-05, momentum=0.1, affine=True, track_running_stats=True)\n",
              "      (conv3): Conv2d(512, 2048, kernel_size=(1, 1), stride=(1, 1), bias=False)\n",
              "      (bn3): BatchNorm2d(2048, eps=1e-05, momentum=0.1, affine=True, track_running_stats=True)\n",
              "      (relu): ReLU(inplace=True)\n",
              "      (downsample): Sequential(\n",
              "        (0): Conv2d(1024, 2048, kernel_size=(1, 1), stride=(2, 2), bias=False)\n",
              "        (1): BatchNorm2d(2048, eps=1e-05, momentum=0.1, affine=True, track_running_stats=True)\n",
              "      )\n",
              "    )\n",
              "    (1): Bottleneck(\n",
              "      (conv1): Conv2d(2048, 512, kernel_size=(1, 1), stride=(1, 1), bias=False)\n",
              "      (bn1): BatchNorm2d(512, eps=1e-05, momentum=0.1, affine=True, track_running_stats=True)\n",
              "      (conv2): Conv2d(512, 512, kernel_size=(3, 3), stride=(1, 1), padding=(1, 1), bias=False)\n",
              "      (bn2): BatchNorm2d(512, eps=1e-05, momentum=0.1, affine=True, track_running_stats=True)\n",
              "      (conv3): Conv2d(512, 2048, kernel_size=(1, 1), stride=(1, 1), bias=False)\n",
              "      (bn3): BatchNorm2d(2048, eps=1e-05, momentum=0.1, affine=True, track_running_stats=True)\n",
              "      (relu): ReLU(inplace=True)\n",
              "    )\n",
              "    (2): Bottleneck(\n",
              "      (conv1): Conv2d(2048, 512, kernel_size=(1, 1), stride=(1, 1), bias=False)\n",
              "      (bn1): BatchNorm2d(512, eps=1e-05, momentum=0.1, affine=True, track_running_stats=True)\n",
              "      (conv2): Conv2d(512, 512, kernel_size=(3, 3), stride=(1, 1), padding=(1, 1), bias=False)\n",
              "      (bn2): BatchNorm2d(512, eps=1e-05, momentum=0.1, affine=True, track_running_stats=True)\n",
              "      (conv3): Conv2d(512, 2048, kernel_size=(1, 1), stride=(1, 1), bias=False)\n",
              "      (bn3): BatchNorm2d(2048, eps=1e-05, momentum=0.1, affine=True, track_running_stats=True)\n",
              "      (relu): ReLU(inplace=True)\n",
              "    )\n",
              "  )\n",
              "  (avgpool): AdaptiveAvgPool2d(output_size=(1, 1))\n",
              "  (fc): Linear(in_features=2048, out_features=2, bias=True)\n",
              ")"
            ]
          },
          "execution_count": 9,
          "metadata": {},
          "output_type": "execute_result"
        }
      ],
      "source": [
        "model = models.resnet50(pretrained=True)\n",
        "# Modificar la capa de clasificación para dos clases\n",
        "num_features = model.fc.in_features\n",
        "model.fc = nn.Linear(num_features, num_classes) # Dos clases\n",
        "\n",
        "# Mover modelo a dispositivo de entrenamiento\n",
        "device = torch.device(\"cuda:0\" if torch.cuda.is_available() else \"cpu\")\n",
        "model.to(device)"
      ]
    },
    {
      "cell_type": "markdown",
      "id": "80e3c4c7",
      "metadata": {
        "id": "80e3c4c7",
        "papermill": {
          "duration": 0.005447,
          "end_time": "2023-10-04T14:55:10.627011",
          "exception": false,
          "start_time": "2023-10-04T14:55:10.621564",
          "status": "completed"
        },
        "tags": []
      },
      "source": [
        "# **Visualizamos la arquitectura del modelo**"
      ]
    },
    {
      "cell_type": "code",
      "execution_count": null,
      "id": "c194e925",
      "metadata": {
        "execution": {
          "iopub.execute_input": "2023-10-04T14:55:10.639488Z",
          "iopub.status.busy": "2023-10-04T14:55:10.639220Z",
          "iopub.status.idle": "2023-10-04T14:55:10.645979Z",
          "shell.execute_reply": "2023-10-04T14:55:10.645131Z"
        },
        "id": "c194e925",
        "outputId": "8983454c-ab5e-4c34-c531-289d67adbe79",
        "papermill": {
          "duration": 0.014962,
          "end_time": "2023-10-04T14:55:10.647627",
          "exception": false,
          "start_time": "2023-10-04T14:55:10.632665",
          "status": "completed"
        },
        "tags": []
      },
      "outputs": [
        {
          "data": {
            "text/plain": [
              "ResNet(\n",
              "  (conv1): Conv2d(3, 64, kernel_size=(7, 7), stride=(2, 2), padding=(3, 3), bias=False)\n",
              "  (bn1): BatchNorm2d(64, eps=1e-05, momentum=0.1, affine=True, track_running_stats=True)\n",
              "  (relu): ReLU(inplace=True)\n",
              "  (maxpool): MaxPool2d(kernel_size=3, stride=2, padding=1, dilation=1, ceil_mode=False)\n",
              "  (layer1): Sequential(\n",
              "    (0): Bottleneck(\n",
              "      (conv1): Conv2d(64, 64, kernel_size=(1, 1), stride=(1, 1), bias=False)\n",
              "      (bn1): BatchNorm2d(64, eps=1e-05, momentum=0.1, affine=True, track_running_stats=True)\n",
              "      (conv2): Conv2d(64, 64, kernel_size=(3, 3), stride=(1, 1), padding=(1, 1), bias=False)\n",
              "      (bn2): BatchNorm2d(64, eps=1e-05, momentum=0.1, affine=True, track_running_stats=True)\n",
              "      (conv3): Conv2d(64, 256, kernel_size=(1, 1), stride=(1, 1), bias=False)\n",
              "      (bn3): BatchNorm2d(256, eps=1e-05, momentum=0.1, affine=True, track_running_stats=True)\n",
              "      (relu): ReLU(inplace=True)\n",
              "      (downsample): Sequential(\n",
              "        (0): Conv2d(64, 256, kernel_size=(1, 1), stride=(1, 1), bias=False)\n",
              "        (1): BatchNorm2d(256, eps=1e-05, momentum=0.1, affine=True, track_running_stats=True)\n",
              "      )\n",
              "    )\n",
              "    (1): Bottleneck(\n",
              "      (conv1): Conv2d(256, 64, kernel_size=(1, 1), stride=(1, 1), bias=False)\n",
              "      (bn1): BatchNorm2d(64, eps=1e-05, momentum=0.1, affine=True, track_running_stats=True)\n",
              "      (conv2): Conv2d(64, 64, kernel_size=(3, 3), stride=(1, 1), padding=(1, 1), bias=False)\n",
              "      (bn2): BatchNorm2d(64, eps=1e-05, momentum=0.1, affine=True, track_running_stats=True)\n",
              "      (conv3): Conv2d(64, 256, kernel_size=(1, 1), stride=(1, 1), bias=False)\n",
              "      (bn3): BatchNorm2d(256, eps=1e-05, momentum=0.1, affine=True, track_running_stats=True)\n",
              "      (relu): ReLU(inplace=True)\n",
              "    )\n",
              "    (2): Bottleneck(\n",
              "      (conv1): Conv2d(256, 64, kernel_size=(1, 1), stride=(1, 1), bias=False)\n",
              "      (bn1): BatchNorm2d(64, eps=1e-05, momentum=0.1, affine=True, track_running_stats=True)\n",
              "      (conv2): Conv2d(64, 64, kernel_size=(3, 3), stride=(1, 1), padding=(1, 1), bias=False)\n",
              "      (bn2): BatchNorm2d(64, eps=1e-05, momentum=0.1, affine=True, track_running_stats=True)\n",
              "      (conv3): Conv2d(64, 256, kernel_size=(1, 1), stride=(1, 1), bias=False)\n",
              "      (bn3): BatchNorm2d(256, eps=1e-05, momentum=0.1, affine=True, track_running_stats=True)\n",
              "      (relu): ReLU(inplace=True)\n",
              "    )\n",
              "  )\n",
              "  (layer2): Sequential(\n",
              "    (0): Bottleneck(\n",
              "      (conv1): Conv2d(256, 128, kernel_size=(1, 1), stride=(1, 1), bias=False)\n",
              "      (bn1): BatchNorm2d(128, eps=1e-05, momentum=0.1, affine=True, track_running_stats=True)\n",
              "      (conv2): Conv2d(128, 128, kernel_size=(3, 3), stride=(2, 2), padding=(1, 1), bias=False)\n",
              "      (bn2): BatchNorm2d(128, eps=1e-05, momentum=0.1, affine=True, track_running_stats=True)\n",
              "      (conv3): Conv2d(128, 512, kernel_size=(1, 1), stride=(1, 1), bias=False)\n",
              "      (bn3): BatchNorm2d(512, eps=1e-05, momentum=0.1, affine=True, track_running_stats=True)\n",
              "      (relu): ReLU(inplace=True)\n",
              "      (downsample): Sequential(\n",
              "        (0): Conv2d(256, 512, kernel_size=(1, 1), stride=(2, 2), bias=False)\n",
              "        (1): BatchNorm2d(512, eps=1e-05, momentum=0.1, affine=True, track_running_stats=True)\n",
              "      )\n",
              "    )\n",
              "    (1): Bottleneck(\n",
              "      (conv1): Conv2d(512, 128, kernel_size=(1, 1), stride=(1, 1), bias=False)\n",
              "      (bn1): BatchNorm2d(128, eps=1e-05, momentum=0.1, affine=True, track_running_stats=True)\n",
              "      (conv2): Conv2d(128, 128, kernel_size=(3, 3), stride=(1, 1), padding=(1, 1), bias=False)\n",
              "      (bn2): BatchNorm2d(128, eps=1e-05, momentum=0.1, affine=True, track_running_stats=True)\n",
              "      (conv3): Conv2d(128, 512, kernel_size=(1, 1), stride=(1, 1), bias=False)\n",
              "      (bn3): BatchNorm2d(512, eps=1e-05, momentum=0.1, affine=True, track_running_stats=True)\n",
              "      (relu): ReLU(inplace=True)\n",
              "    )\n",
              "    (2): Bottleneck(\n",
              "      (conv1): Conv2d(512, 128, kernel_size=(1, 1), stride=(1, 1), bias=False)\n",
              "      (bn1): BatchNorm2d(128, eps=1e-05, momentum=0.1, affine=True, track_running_stats=True)\n",
              "      (conv2): Conv2d(128, 128, kernel_size=(3, 3), stride=(1, 1), padding=(1, 1), bias=False)\n",
              "      (bn2): BatchNorm2d(128, eps=1e-05, momentum=0.1, affine=True, track_running_stats=True)\n",
              "      (conv3): Conv2d(128, 512, kernel_size=(1, 1), stride=(1, 1), bias=False)\n",
              "      (bn3): BatchNorm2d(512, eps=1e-05, momentum=0.1, affine=True, track_running_stats=True)\n",
              "      (relu): ReLU(inplace=True)\n",
              "    )\n",
              "    (3): Bottleneck(\n",
              "      (conv1): Conv2d(512, 128, kernel_size=(1, 1), stride=(1, 1), bias=False)\n",
              "      (bn1): BatchNorm2d(128, eps=1e-05, momentum=0.1, affine=True, track_running_stats=True)\n",
              "      (conv2): Conv2d(128, 128, kernel_size=(3, 3), stride=(1, 1), padding=(1, 1), bias=False)\n",
              "      (bn2): BatchNorm2d(128, eps=1e-05, momentum=0.1, affine=True, track_running_stats=True)\n",
              "      (conv3): Conv2d(128, 512, kernel_size=(1, 1), stride=(1, 1), bias=False)\n",
              "      (bn3): BatchNorm2d(512, eps=1e-05, momentum=0.1, affine=True, track_running_stats=True)\n",
              "      (relu): ReLU(inplace=True)\n",
              "    )\n",
              "  )\n",
              "  (layer3): Sequential(\n",
              "    (0): Bottleneck(\n",
              "      (conv1): Conv2d(512, 256, kernel_size=(1, 1), stride=(1, 1), bias=False)\n",
              "      (bn1): BatchNorm2d(256, eps=1e-05, momentum=0.1, affine=True, track_running_stats=True)\n",
              "      (conv2): Conv2d(256, 256, kernel_size=(3, 3), stride=(2, 2), padding=(1, 1), bias=False)\n",
              "      (bn2): BatchNorm2d(256, eps=1e-05, momentum=0.1, affine=True, track_running_stats=True)\n",
              "      (conv3): Conv2d(256, 1024, kernel_size=(1, 1), stride=(1, 1), bias=False)\n",
              "      (bn3): BatchNorm2d(1024, eps=1e-05, momentum=0.1, affine=True, track_running_stats=True)\n",
              "      (relu): ReLU(inplace=True)\n",
              "      (downsample): Sequential(\n",
              "        (0): Conv2d(512, 1024, kernel_size=(1, 1), stride=(2, 2), bias=False)\n",
              "        (1): BatchNorm2d(1024, eps=1e-05, momentum=0.1, affine=True, track_running_stats=True)\n",
              "      )\n",
              "    )\n",
              "    (1): Bottleneck(\n",
              "      (conv1): Conv2d(1024, 256, kernel_size=(1, 1), stride=(1, 1), bias=False)\n",
              "      (bn1): BatchNorm2d(256, eps=1e-05, momentum=0.1, affine=True, track_running_stats=True)\n",
              "      (conv2): Conv2d(256, 256, kernel_size=(3, 3), stride=(1, 1), padding=(1, 1), bias=False)\n",
              "      (bn2): BatchNorm2d(256, eps=1e-05, momentum=0.1, affine=True, track_running_stats=True)\n",
              "      (conv3): Conv2d(256, 1024, kernel_size=(1, 1), stride=(1, 1), bias=False)\n",
              "      (bn3): BatchNorm2d(1024, eps=1e-05, momentum=0.1, affine=True, track_running_stats=True)\n",
              "      (relu): ReLU(inplace=True)\n",
              "    )\n",
              "    (2): Bottleneck(\n",
              "      (conv1): Conv2d(1024, 256, kernel_size=(1, 1), stride=(1, 1), bias=False)\n",
              "      (bn1): BatchNorm2d(256, eps=1e-05, momentum=0.1, affine=True, track_running_stats=True)\n",
              "      (conv2): Conv2d(256, 256, kernel_size=(3, 3), stride=(1, 1), padding=(1, 1), bias=False)\n",
              "      (bn2): BatchNorm2d(256, eps=1e-05, momentum=0.1, affine=True, track_running_stats=True)\n",
              "      (conv3): Conv2d(256, 1024, kernel_size=(1, 1), stride=(1, 1), bias=False)\n",
              "      (bn3): BatchNorm2d(1024, eps=1e-05, momentum=0.1, affine=True, track_running_stats=True)\n",
              "      (relu): ReLU(inplace=True)\n",
              "    )\n",
              "    (3): Bottleneck(\n",
              "      (conv1): Conv2d(1024, 256, kernel_size=(1, 1), stride=(1, 1), bias=False)\n",
              "      (bn1): BatchNorm2d(256, eps=1e-05, momentum=0.1, affine=True, track_running_stats=True)\n",
              "      (conv2): Conv2d(256, 256, kernel_size=(3, 3), stride=(1, 1), padding=(1, 1), bias=False)\n",
              "      (bn2): BatchNorm2d(256, eps=1e-05, momentum=0.1, affine=True, track_running_stats=True)\n",
              "      (conv3): Conv2d(256, 1024, kernel_size=(1, 1), stride=(1, 1), bias=False)\n",
              "      (bn3): BatchNorm2d(1024, eps=1e-05, momentum=0.1, affine=True, track_running_stats=True)\n",
              "      (relu): ReLU(inplace=True)\n",
              "    )\n",
              "    (4): Bottleneck(\n",
              "      (conv1): Conv2d(1024, 256, kernel_size=(1, 1), stride=(1, 1), bias=False)\n",
              "      (bn1): BatchNorm2d(256, eps=1e-05, momentum=0.1, affine=True, track_running_stats=True)\n",
              "      (conv2): Conv2d(256, 256, kernel_size=(3, 3), stride=(1, 1), padding=(1, 1), bias=False)\n",
              "      (bn2): BatchNorm2d(256, eps=1e-05, momentum=0.1, affine=True, track_running_stats=True)\n",
              "      (conv3): Conv2d(256, 1024, kernel_size=(1, 1), stride=(1, 1), bias=False)\n",
              "      (bn3): BatchNorm2d(1024, eps=1e-05, momentum=0.1, affine=True, track_running_stats=True)\n",
              "      (relu): ReLU(inplace=True)\n",
              "    )\n",
              "    (5): Bottleneck(\n",
              "      (conv1): Conv2d(1024, 256, kernel_size=(1, 1), stride=(1, 1), bias=False)\n",
              "      (bn1): BatchNorm2d(256, eps=1e-05, momentum=0.1, affine=True, track_running_stats=True)\n",
              "      (conv2): Conv2d(256, 256, kernel_size=(3, 3), stride=(1, 1), padding=(1, 1), bias=False)\n",
              "      (bn2): BatchNorm2d(256, eps=1e-05, momentum=0.1, affine=True, track_running_stats=True)\n",
              "      (conv3): Conv2d(256, 1024, kernel_size=(1, 1), stride=(1, 1), bias=False)\n",
              "      (bn3): BatchNorm2d(1024, eps=1e-05, momentum=0.1, affine=True, track_running_stats=True)\n",
              "      (relu): ReLU(inplace=True)\n",
              "    )\n",
              "  )\n",
              "  (layer4): Sequential(\n",
              "    (0): Bottleneck(\n",
              "      (conv1): Conv2d(1024, 512, kernel_size=(1, 1), stride=(1, 1), bias=False)\n",
              "      (bn1): BatchNorm2d(512, eps=1e-05, momentum=0.1, affine=True, track_running_stats=True)\n",
              "      (conv2): Conv2d(512, 512, kernel_size=(3, 3), stride=(2, 2), padding=(1, 1), bias=False)\n",
              "      (bn2): BatchNorm2d(512, eps=1e-05, momentum=0.1, affine=True, track_running_stats=True)\n",
              "      (conv3): Conv2d(512, 2048, kernel_size=(1, 1), stride=(1, 1), bias=False)\n",
              "      (bn3): BatchNorm2d(2048, eps=1e-05, momentum=0.1, affine=True, track_running_stats=True)\n",
              "      (relu): ReLU(inplace=True)\n",
              "      (downsample): Sequential(\n",
              "        (0): Conv2d(1024, 2048, kernel_size=(1, 1), stride=(2, 2), bias=False)\n",
              "        (1): BatchNorm2d(2048, eps=1e-05, momentum=0.1, affine=True, track_running_stats=True)\n",
              "      )\n",
              "    )\n",
              "    (1): Bottleneck(\n",
              "      (conv1): Conv2d(2048, 512, kernel_size=(1, 1), stride=(1, 1), bias=False)\n",
              "      (bn1): BatchNorm2d(512, eps=1e-05, momentum=0.1, affine=True, track_running_stats=True)\n",
              "      (conv2): Conv2d(512, 512, kernel_size=(3, 3), stride=(1, 1), padding=(1, 1), bias=False)\n",
              "      (bn2): BatchNorm2d(512, eps=1e-05, momentum=0.1, affine=True, track_running_stats=True)\n",
              "      (conv3): Conv2d(512, 2048, kernel_size=(1, 1), stride=(1, 1), bias=False)\n",
              "      (bn3): BatchNorm2d(2048, eps=1e-05, momentum=0.1, affine=True, track_running_stats=True)\n",
              "      (relu): ReLU(inplace=True)\n",
              "    )\n",
              "    (2): Bottleneck(\n",
              "      (conv1): Conv2d(2048, 512, kernel_size=(1, 1), stride=(1, 1), bias=False)\n",
              "      (bn1): BatchNorm2d(512, eps=1e-05, momentum=0.1, affine=True, track_running_stats=True)\n",
              "      (conv2): Conv2d(512, 512, kernel_size=(3, 3), stride=(1, 1), padding=(1, 1), bias=False)\n",
              "      (bn2): BatchNorm2d(512, eps=1e-05, momentum=0.1, affine=True, track_running_stats=True)\n",
              "      (conv3): Conv2d(512, 2048, kernel_size=(1, 1), stride=(1, 1), bias=False)\n",
              "      (bn3): BatchNorm2d(2048, eps=1e-05, momentum=0.1, affine=True, track_running_stats=True)\n",
              "      (relu): ReLU(inplace=True)\n",
              "    )\n",
              "  )\n",
              "  (avgpool): AdaptiveAvgPool2d(output_size=(1, 1))\n",
              "  (fc): Linear(in_features=2048, out_features=2, bias=True)\n",
              ")"
            ]
          },
          "execution_count": 10,
          "metadata": {},
          "output_type": "execute_result"
        }
      ],
      "source": [
        "model"
      ]
    },
    {
      "cell_type": "markdown",
      "id": "cb29b3c6",
      "metadata": {
        "id": "cb29b3c6",
        "papermill": {
          "duration": 0.005742,
          "end_time": "2023-10-04T14:55:10.659021",
          "exception": false,
          "start_time": "2023-10-04T14:55:10.653279",
          "status": "completed"
        },
        "tags": []
      },
      "source": [
        "# **Definición de Función de Pérdida, Optimizador, y Especificación de Épocas**\n"
      ]
    },
    {
      "cell_type": "markdown",
      "source": [
        "En este bloque, se definen la función de pérdida y el optimizador, y se especifica el número de épocas para entrenar el modelo.\n",
        "\n",
        "- `criterion`: Se define la función de pérdida como la entropía cruzada (`nn.CrossEntropyLoss`). La función de pérdida se mueve al dispositivo de entrenamiento (`device`).\n",
        "\n",
        "- `optimizer`: Se define el optimizador Adam (`optim.Adam`) para ajustar los parámetros del modelo durante el entrenamiento. Se especifica una tasa de aprendizaje de 0.0001 y una penalización de peso (weight decay) de 1e-5.\n",
        "\n",
        "- `epochs`: Se especifica el número de épocas para entrenar el modelo. En este caso, se ha establecido en 100 épocas.\n",
        "\n",
        "Este bloque configura la optimización y la función de pérdida necesarias para el proceso de entrenamiento y establece el número de épocas para controlar cuántas veces se iterará sobre el conjunto de entrenamiento completo."
      ],
      "metadata": {
        "id": "1pIgOSJW1AAn"
      },
      "id": "1pIgOSJW1AAn"
    },
    {
      "cell_type": "code",
      "execution_count": null,
      "id": "6b682939",
      "metadata": {
        "execution": {
          "iopub.execute_input": "2023-10-04T14:55:10.672333Z",
          "iopub.status.busy": "2023-10-04T14:55:10.671478Z",
          "iopub.status.idle": "2023-10-04T14:55:10.676990Z",
          "shell.execute_reply": "2023-10-04T14:55:10.676228Z"
        },
        "id": "6b682939",
        "papermill": {
          "duration": 0.013594,
          "end_time": "2023-10-04T14:55:10.678576",
          "exception": false,
          "start_time": "2023-10-04T14:55:10.664982",
          "status": "completed"
        },
        "tags": []
      },
      "outputs": [],
      "source": [
        "# Definir función de pérdida y optimizador\n",
        "criterion = nn.CrossEntropyLoss().to(device)\n",
        "optimizer = optim.Adam(model.parameters(), lr=0.0001, weight_decay=1e-5)\n",
        "\n",
        "# Entrenar modelo por 100 épocas\n",
        "epochs = 100"
      ]
    },
    {
      "cell_type": "markdown",
      "id": "f45b14ec",
      "metadata": {
        "id": "f45b14ec",
        "papermill": {
          "duration": 0.00555,
          "end_time": "2023-10-04T14:55:10.689840",
          "exception": false,
          "start_time": "2023-10-04T14:55:10.684290",
          "status": "completed"
        },
        "tags": []
      },
      "source": [
        "# **Entrenamiento del Modelo ResNet50**\n",
        "\n"
      ]
    },
    {
      "cell_type": "markdown",
      "source": [
        "Este bloque de código realiza el entrenamiento del modelo ResNet50.\n",
        "\n",
        "- `train_loss`: Lista para almacenar las pérdidas de entrenamiento.\n",
        "- `train_accuracy`: Lista para almacenar la precisión de entrenamiento.\n",
        "- `val_loss`: Lista para almacenar las pérdidas de validación.\n",
        "- `val_accuracy`: Lista para almacenar la precisión de validación.\n",
        "- `best_val_loss`: Variable para almacenar la mejor pérdida de validación inicializada como infinito.\n",
        "- `best_epoch`: Variable para almacenar la mejor época inicializada como 0.\n",
        "\n",
        "El bucle principal itera a través de las épocas especificadas (`epochs`). Para cada época, se realiza el siguiente proceso:\n",
        "\n",
        "1. **Entrenamiento del Modelo:**\n",
        "   - El modelo se coloca en el modo de entrenamiento (`model.train()`).\n",
        "   - Se utiliza un iterador de progreso (`tqdm`) para mostrar una barra de progreso durante el entrenamiento.\n",
        "   - Para cada lote en el conjunto de entrenamiento (`train_loader`):\n",
        "      - Se lleva a cabo la propagación hacia adelante y hacia atrás para calcular y actualizar los gradientes.\n",
        "      - Se registra la pérdida actual y se actualiza la barra de progreso.\n",
        "\n",
        "2. **Validación del Modelo:**\n",
        "   - Si la época es múltiplo de 1, se realiza la validación.\n",
        "   - El modelo se coloca en el modo de evaluación (`model.eval()`).\n",
        "   - Se realiza la validación en el conjunto de validación (`val_loader`).\n",
        "   - Se calcula la precisión y la pérdida de validación.\n",
        "   - Se actualiza la mejor pérdida de validación y se guarda el modelo si se encuentra una mejor pérdida.\n",
        "\n",
        "3. **Almacenamiento de Resultados:**\n",
        "   - Se almacenan las métricas de entrenamiento y validación en las listas correspondientes.\n",
        "\n",
        "4. **Guardado del Mejor Modelo:**\n",
        "   - Al final de las épocas, se guarda el modelo con la mejor pérdida de validación.\n",
        "\n",
        "Este bloque representa el ciclo de entrenamiento y validación del modelo ResNet50 a lo largo de múltiples épocas."
      ],
      "metadata": {
        "id": "B52UDoMA1rGC"
      },
      "id": "B52UDoMA1rGC"
    },
    {
      "cell_type": "code",
      "execution_count": null,
      "id": "4d7b710c",
      "metadata": {
        "execution": {
          "iopub.execute_input": "2023-10-04T14:55:10.702793Z",
          "iopub.status.busy": "2023-10-04T14:55:10.702551Z",
          "iopub.status.idle": "2023-10-04T15:38:21.607375Z",
          "shell.execute_reply": "2023-10-04T15:38:21.606383Z"
        },
        "id": "4d7b710c",
        "outputId": "3b9e3482-39ef-4548-a922-8885a7f9e1e4",
        "papermill": {
          "duration": 2590.913602,
          "end_time": "2023-10-04T15:38:21.609303",
          "exception": false,
          "start_time": "2023-10-04T14:55:10.695701",
          "status": "completed"
        },
        "tags": [],
        "colab": {
          "referenced_widgets": [
            "d4f3b68628f34498a5c06fea7fb62b4a",
            "2a67f50f1ff64a9ea45e9003203f44ca",
            "907f0f588eb24e12a773c6c53b1f7b22",
            "47efa32067f5402886dde4e527cfd935",
            "247d84594197442282bc0ebd775c3348",
            "7631793d548a48d9a4e66d3d5e0254a4",
            "837e7f3e119444b6a0c440ebf75284ba",
            "0903471b5c62410a8260936fd274b9cb",
            "6df9fc73991f4a31a578ff92a1e602f4",
            "6dd35c7454db4a05add27b183eb400c6",
            "1c274985af944a6b9dbe020a4c2ef456",
            "3da991e59f714caca68c8246b0947c69",
            "bfefa3134f274dd9bf68a182d70ae228",
            "28b805a95b974d35b3bbf4aa2b71c17b",
            "d91e9e1dd9924d0da59300b82f95be37",
            "cc5388d0a7674ac1a2c0f5d1e4982052",
            "cc1a453d4104484f98815d26c95ca328",
            "28da23fb6a5c43fdbbffa87bf94d46cf",
            "b9cf331408854033827520222c1802eb",
            "812f0c06fea548c18f16bc3efe5e7a4d",
            "cd099606ee9d491488e60b4eb9a10e4a",
            "6aba5dbbf31745f2b027d8c4a587a50d",
            "23dff8897d9f480a8781939c50f98dfc",
            "b8cd05ece3ae4e1c8c0ee3c92610accc",
            "f5627705107a4f93a707801a620a5433",
            "0263ecbfe79648e394c73c7df2b307dc",
            "1fed31228de54e22ae4e614814504154",
            "9a9b7198f16042edaa587d74a6eeef37",
            "ed05ed367c1b48199a55feaf07f9d335",
            "19966de03573487ba844eaaf821ffff7",
            "9d5b03249e33433280f0c8d7b90d04c1",
            "ac270dd81fe3433c9f253055acbe62a7",
            "59ed146d57f44370b34bfab337425de1",
            "44740581e4c443d2b4d603df0046b559",
            "5320c3434b294c7bbfc550a353d2c97c",
            "558e3095cb5646b5a8e1a0727adc3ddf",
            "e7286f8207424236aa31b58a1bbc955d",
            "c3919b70006548bb8106a7cdd65de33e",
            "1ac17ade051c49d98629d02833a5dafb",
            "1a06e31b68704136b9273c89d8d5a134",
            "4d602441ad4c44e19e3ec9b174099052",
            "5c37471502f7441fbe432697609d714d",
            "9d11b07cc1fb4eca91faf630852875c3",
            "0ecc14d3cc13458fb65c1af464b1dd56",
            "e96eda6af0a64006a6e494d808b05ec6",
            "e6987b7d0ebf476fadb3d8521dff1ddf",
            "54c3ecb5080848ce8c2bc4ca9523d287",
            "0db74a871b8148588ae07c89875e5e7b",
            "84636157f6004e078d80a12b1937dc93",
            "53b1721fbfdc4c868a74d0072b164d0d",
            "865fcc8a70f448918156cbc6a23c764a",
            "649066df286a4dd3ba203033fe65f42b",
            "178ce2a8f6664b399ec48060f4f8d3bc",
            "87e1cfea011146ed9f953d749eb47f4d",
            "2d890e1320c146bab8e9a25ecf44ae51",
            "5a21d3dc518c4ab1bc4be9fab0272e2f",
            "82106bba580f48d481c9c1300f7e781e",
            "09b6a91cc00848bf82ce87e9d809a97a",
            "f96c4023fe24420daf2f90557ea7ed2b",
            "0eedbac7eaf14341bba662e8e2d4cd02",
            "2bd93ce5d1c0417ba6d916b0710e81ef",
            "081e2a62f63b4d7488547720d63a2aca",
            "15968b5a114a4f588dac1695fcf558cd",
            "e200e1d9aff043228a985b604bc3a06e",
            "2dae5cc1e2b64d8caa30b78712623d7f",
            "2963d11e4dd14cfc97d85329d057fda8",
            "0f8f73147a6641ddad6f390dd836ce79",
            "bb117cd891244780aea39cf64619fa17",
            "87167ea766524d6ab0e8ea3483eeed1e",
            "7ca7ab30e3f54004963542656b983489",
            "33d6dc142f3f49f2b0122c66e918b86b",
            "0a1c8807588b48049114a8e221a7549b",
            "161ddd0e70324275b1442bb57f7818ff",
            "137ffb8e5a3f4eae98d46c7ca165e5cb",
            "9f83ba727a0c4f17b046e079bda2953f",
            "97568ab5b179446a98ad71d792233fe0",
            "633790b67d9c4f1ba7fa54f3d9852373",
            "febcd89b19864757a1d11bca6da858d9",
            "32f942d2735e460b866becda8f4e322f",
            "7d89c1eedb904647a4d00b9d6d1d6571",
            "b6bad50c4d75448db4d0f23fe8b4894c",
            "7ae1cbcc0cc54f33ab383757f3993b55",
            "3269b2be4149430bbb2d7a43c1095eed",
            "53b1f9c1407040a9a3bbb128b58160ab",
            "15aefcc332e5444097800f93a3184ad0",
            "234d5373d4ef47e79ffdb1fb78bfb770",
            "878e56e89c844db6b00dc4a33e6a6140",
            "dfd8f0a5828b4f35b8212f1430c17445",
            "c3673f8635814c56b2f53d7c02d57d43",
            "3be5ca5237b9439a9421d1d2b2c57d66",
            "f28f520b038e462e8506add5997a7aa6",
            "f289ad0b33384bf9b263ebd4c79e0f67",
            "d7916f3e91b44ced9d2481b16eee0e7d",
            "14e3660fdcdb4b6bab9aebae516b72b7",
            "6a17f99b8acd454d97788b1237079d5f",
            "f697699df9594a07a5f409fc1fd7daf7",
            "076fd0a3ab9042b0b8b2cf5efbdda2a4",
            "82556c750f4e4e52b94d0bc4403601b7",
            "6be916b09895416082701a2a1eb99138",
            "1ceb58c5ed3d4c41a817e543187c369e"
          ]
        }
      },
      "outputs": [
        {
          "name": "stderr",
          "output_type": "stream",
          "text": [
            "/tmp/ipykernel_24/22504745.py:17: TqdmDeprecationWarning: This function will be removed in tqdm==5.0.0\n",
            "Please use `tqdm.notebook.tqdm` instead of `tqdm.tqdm_notebook`\n",
            "  with tqdm(train_loader, unit=\"batch\") as tepoch:  # Utiliza train_loader en lugar de train_dataset\n"
          ]
        },
        {
          "data": {
            "application/vnd.jupyter.widget-view+json": {
              "model_id": "d4f3b68628f34498a5c06fea7fb62b4a",
              "version_major": 2,
              "version_minor": 0
            },
            "text/plain": [
              "  0%|          | 0/13 [00:00<?, ?batch/s]"
            ]
          },
          "metadata": {},
          "output_type": "display_data"
        },
        {
          "name": "stderr",
          "output_type": "stream",
          "text": [
            "/opt/conda/lib/python3.10/site-packages/torchvision/transforms/functional.py:1603: UserWarning: The default value of the antialias parameter of all the resizing transforms (Resize(), RandomResizedCrop(), etc.) will change from None to True in v0.17, in order to be consistent across the PIL and Tensor backends. To suppress this warning, directly pass antialias=True (recommended, future default), antialias=None (current default, which means False for Tensors and True for PIL), or antialias=False (only works on Tensors - PIL will still use antialiasing). This also applies if you are using the inference transforms from the models weights: update the call to weights.transforms(antialias=True).\n",
            "  warnings.warn(\n"
          ]
        },
        {
          "name": "stdout",
          "output_type": "stream",
          "text": [
            "Epoch 1 Training Accuracy = 0.7098445595854922\n",
            "Epoch 1 Training Loss = 0.5402497016086479\n",
            "Epoch 1 Validation Accuracy = 0.7552083333333334\n",
            "Epoch 1 Validation Loss = 0.524841696023941\n",
            "La mejor precisión de Validation Loss (0.524841696023941) se alcanzó en la época 1\n"
          ]
        },
        {
          "data": {
            "application/vnd.jupyter.widget-view+json": {
              "model_id": "2a67f50f1ff64a9ea45e9003203f44ca",
              "version_major": 2,
              "version_minor": 0
            },
            "text/plain": [
              "  0%|          | 0/13 [00:00<?, ?batch/s]"
            ]
          },
          "metadata": {},
          "output_type": "display_data"
        },
        {
          "name": "stdout",
          "output_type": "stream",
          "text": [
            "Epoch 2 Training Accuracy = 0.9183937823834197\n",
            "Epoch 2 Training Loss = 0.2845906261644215\n",
            "Epoch 2 Validation Accuracy = 0.7916666666666666\n",
            "Epoch 2 Validation Loss = 0.5056414405504862\n",
            "La mejor precisión de Validation Loss (0.5056414405504862) se alcanzó en la época 2\n"
          ]
        },
        {
          "data": {
            "application/vnd.jupyter.widget-view+json": {
              "model_id": "907f0f588eb24e12a773c6c53b1f7b22",
              "version_major": 2,
              "version_minor": 0
            },
            "text/plain": [
              "  0%|          | 0/13 [00:00<?, ?batch/s]"
            ]
          },
          "metadata": {},
          "output_type": "display_data"
        },
        {
          "name": "stdout",
          "output_type": "stream",
          "text": [
            "Epoch 3 Training Accuracy = 0.9352331606217616\n",
            "Epoch 3 Training Loss = 0.15769047317109577\n",
            "Epoch 3 Validation Accuracy = 0.6979166666666666\n",
            "Epoch 3 Validation Loss = 0.7685012022654215\n",
            "La mejor precisión de Validation Loss (0.5056414405504862) se alcanzó en la época 2\n"
          ]
        },
        {
          "data": {
            "application/vnd.jupyter.widget-view+json": {
              "model_id": "47efa32067f5402886dde4e527cfd935",
              "version_major": 2,
              "version_minor": 0
            },
            "text/plain": [
              "  0%|          | 0/13 [00:00<?, ?batch/s]"
            ]
          },
          "metadata": {},
          "output_type": "display_data"
        },
        {
          "name": "stdout",
          "output_type": "stream",
          "text": [
            "Epoch 4 Training Accuracy = 0.9455958549222798\n",
            "Epoch 4 Training Loss = 0.15174145896200072\n",
            "Epoch 4 Validation Accuracy = 0.703125\n",
            "Epoch 4 Validation Loss = 0.93510502576828\n",
            "La mejor precisión de Validation Loss (0.5056414405504862) se alcanzó en la época 2\n"
          ]
        },
        {
          "data": {
            "application/vnd.jupyter.widget-view+json": {
              "model_id": "247d84594197442282bc0ebd775c3348",
              "version_major": 2,
              "version_minor": 0
            },
            "text/plain": [
              "  0%|          | 0/13 [00:00<?, ?batch/s]"
            ]
          },
          "metadata": {},
          "output_type": "display_data"
        },
        {
          "name": "stdout",
          "output_type": "stream",
          "text": [
            "Epoch 5 Training Accuracy = 0.9430051813471503\n",
            "Epoch 5 Training Loss = 0.17807937733867626\n",
            "Epoch 5 Validation Accuracy = 0.7447916666666666\n",
            "Epoch 5 Validation Loss = 0.6051208178202311\n",
            "La mejor precisión de Validation Loss (0.5056414405504862) se alcanzó en la época 2\n"
          ]
        },
        {
          "data": {
            "application/vnd.jupyter.widget-view+json": {
              "model_id": "7631793d548a48d9a4e66d3d5e0254a4",
              "version_major": 2,
              "version_minor": 0
            },
            "text/plain": [
              "  0%|          | 0/13 [00:00<?, ?batch/s]"
            ]
          },
          "metadata": {},
          "output_type": "display_data"
        },
        {
          "name": "stdout",
          "output_type": "stream",
          "text": [
            "Epoch 6 Training Accuracy = 0.9637305699481865\n",
            "Epoch 6 Training Loss = 0.11002593707544198\n",
            "Epoch 6 Validation Accuracy = 0.8125\n",
            "Epoch 6 Validation Loss = 0.4767274558544159\n",
            "La mejor precisión de Validation Loss (0.4767274558544159) se alcanzó en la época 6\n"
          ]
        },
        {
          "data": {
            "application/vnd.jupyter.widget-view+json": {
              "model_id": "837e7f3e119444b6a0c440ebf75284ba",
              "version_major": 2,
              "version_minor": 0
            },
            "text/plain": [
              "  0%|          | 0/13 [00:00<?, ?batch/s]"
            ]
          },
          "metadata": {},
          "output_type": "display_data"
        },
        {
          "name": "stdout",
          "output_type": "stream",
          "text": [
            "Epoch 7 Training Accuracy = 0.9637305699481865\n",
            "Epoch 7 Training Loss = 0.1047109024203503\n",
            "Epoch 7 Validation Accuracy = 0.875\n",
            "Epoch 7 Validation Loss = 0.4590991735458374\n",
            "La mejor precisión de Validation Loss (0.4590991735458374) se alcanzó en la época 7\n"
          ]
        },
        {
          "data": {
            "application/vnd.jupyter.widget-view+json": {
              "model_id": "0903471b5c62410a8260936fd274b9cb",
              "version_major": 2,
              "version_minor": 0
            },
            "text/plain": [
              "  0%|          | 0/13 [00:00<?, ?batch/s]"
            ]
          },
          "metadata": {},
          "output_type": "display_data"
        },
        {
          "name": "stdout",
          "output_type": "stream",
          "text": [
            "Epoch 8 Training Accuracy = 0.977979274611399\n",
            "Epoch 8 Training Loss = 0.0677441081099714\n",
            "Epoch 8 Validation Accuracy = 0.8333333333333334\n",
            "Epoch 8 Validation Loss = 0.4430494010448456\n",
            "La mejor precisión de Validation Loss (0.4430494010448456) se alcanzó en la época 8\n"
          ]
        },
        {
          "data": {
            "application/vnd.jupyter.widget-view+json": {
              "model_id": "6df9fc73991f4a31a578ff92a1e602f4",
              "version_major": 2,
              "version_minor": 0
            },
            "text/plain": [
              "  0%|          | 0/13 [00:00<?, ?batch/s]"
            ]
          },
          "metadata": {},
          "output_type": "display_data"
        },
        {
          "name": "stdout",
          "output_type": "stream",
          "text": [
            "Epoch 9 Training Accuracy = 0.9922279792746114\n",
            "Epoch 9 Training Loss = 0.031688922195854584\n",
            "Epoch 9 Validation Accuracy = 0.8541666666666666\n",
            "Epoch 9 Validation Loss = 0.41155492266019184\n",
            "La mejor precisión de Validation Loss (0.41155492266019184) se alcanzó en la época 9\n"
          ]
        },
        {
          "data": {
            "application/vnd.jupyter.widget-view+json": {
              "model_id": "6dd35c7454db4a05add27b183eb400c6",
              "version_major": 2,
              "version_minor": 0
            },
            "text/plain": [
              "  0%|          | 0/13 [00:00<?, ?batch/s]"
            ]
          },
          "metadata": {},
          "output_type": "display_data"
        },
        {
          "name": "stdout",
          "output_type": "stream",
          "text": [
            "Epoch 10 Training Accuracy = 0.9883419689119171\n",
            "Epoch 10 Training Loss = 0.042913601391133246\n",
            "Epoch 10 Validation Accuracy = 0.8697916666666666\n",
            "Epoch 10 Validation Loss = 0.440960297981898\n",
            "La mejor precisión de Validation Loss (0.41155492266019184) se alcanzó en la época 9\n"
          ]
        },
        {
          "data": {
            "application/vnd.jupyter.widget-view+json": {
              "model_id": "1c274985af944a6b9dbe020a4c2ef456",
              "version_major": 2,
              "version_minor": 0
            },
            "text/plain": [
              "  0%|          | 0/13 [00:00<?, ?batch/s]"
            ]
          },
          "metadata": {},
          "output_type": "display_data"
        },
        {
          "name": "stdout",
          "output_type": "stream",
          "text": [
            "Epoch 11 Training Accuracy = 0.9896373056994818\n",
            "Epoch 11 Training Loss = 0.04211149535532751\n",
            "Epoch 11 Validation Accuracy = 0.8072916666666666\n",
            "Epoch 11 Validation Loss = 0.652817447980245\n",
            "La mejor precisión de Validation Loss (0.41155492266019184) se alcanzó en la época 9\n"
          ]
        },
        {
          "data": {
            "application/vnd.jupyter.widget-view+json": {
              "model_id": "3da991e59f714caca68c8246b0947c69",
              "version_major": 2,
              "version_minor": 0
            },
            "text/plain": [
              "  0%|          | 0/13 [00:00<?, ?batch/s]"
            ]
          },
          "metadata": {},
          "output_type": "display_data"
        },
        {
          "name": "stdout",
          "output_type": "stream",
          "text": [
            "Epoch 12 Training Accuracy = 0.9987046632124352\n",
            "Epoch 12 Training Loss = 0.015407478156948337\n",
            "Epoch 12 Validation Accuracy = 0.859375\n",
            "Epoch 12 Validation Loss = 0.44924188653628033\n",
            "La mejor precisión de Validation Loss (0.41155492266019184) se alcanzó en la época 9\n"
          ]
        },
        {
          "data": {
            "application/vnd.jupyter.widget-view+json": {
              "model_id": "bfefa3134f274dd9bf68a182d70ae228",
              "version_major": 2,
              "version_minor": 0
            },
            "text/plain": [
              "  0%|          | 0/13 [00:00<?, ?batch/s]"
            ]
          },
          "metadata": {},
          "output_type": "display_data"
        },
        {
          "name": "stdout",
          "output_type": "stream",
          "text": [
            "Epoch 13 Training Accuracy = 0.9974093264248705\n",
            "Epoch 13 Training Loss = 0.008847973777531342\n",
            "Epoch 13 Validation Accuracy = 0.8541666666666666\n",
            "Epoch 13 Validation Loss = 0.4621828893820445\n",
            "La mejor precisión de Validation Loss (0.41155492266019184) se alcanzó en la época 9\n"
          ]
        },
        {
          "data": {
            "application/vnd.jupyter.widget-view+json": {
              "model_id": "28b805a95b974d35b3bbf4aa2b71c17b",
              "version_major": 2,
              "version_minor": 0
            },
            "text/plain": [
              "  0%|          | 0/13 [00:00<?, ?batch/s]"
            ]
          },
          "metadata": {},
          "output_type": "display_data"
        },
        {
          "name": "stdout",
          "output_type": "stream",
          "text": [
            "Epoch 14 Training Accuracy = 0.9987046632124352\n",
            "Epoch 14 Training Loss = 0.014372922499408376\n",
            "Epoch 14 Validation Accuracy = 0.8645833333333334\n",
            "Epoch 14 Validation Loss = 0.45025119185447693\n",
            "La mejor precisión de Validation Loss (0.41155492266019184) se alcanzó en la época 9\n"
          ]
        },
        {
          "data": {
            "application/vnd.jupyter.widget-view+json": {
              "model_id": "d91e9e1dd9924d0da59300b82f95be37",
              "version_major": 2,
              "version_minor": 0
            },
            "text/plain": [
              "  0%|          | 0/13 [00:00<?, ?batch/s]"
            ]
          },
          "metadata": {},
          "output_type": "display_data"
        },
        {
          "name": "stdout",
          "output_type": "stream",
          "text": [
            "Epoch 15 Training Accuracy = 0.9689119170984456\n",
            "Epoch 15 Training Loss = 0.0880775495668767\n",
            "Epoch 15 Validation Accuracy = 0.8385416666666666\n",
            "Epoch 15 Validation Loss = 0.46888352433840436\n",
            "La mejor precisión de Validation Loss (0.41155492266019184) se alcanzó en la época 9\n"
          ]
        },
        {
          "data": {
            "application/vnd.jupyter.widget-view+json": {
              "model_id": "cc5388d0a7674ac1a2c0f5d1e4982052",
              "version_major": 2,
              "version_minor": 0
            },
            "text/plain": [
              "  0%|          | 0/13 [00:00<?, ?batch/s]"
            ]
          },
          "metadata": {},
          "output_type": "display_data"
        },
        {
          "name": "stdout",
          "output_type": "stream",
          "text": [
            "Epoch 16 Training Accuracy = 0.961139896373057\n",
            "Epoch 16 Training Loss = 0.10356457713856289\n",
            "Epoch 16 Validation Accuracy = 0.75\n",
            "Epoch 16 Validation Loss = 0.5740389426549276\n",
            "La mejor precisión de Validation Loss (0.41155492266019184) se alcanzó en la época 9\n"
          ]
        },
        {
          "data": {
            "application/vnd.jupyter.widget-view+json": {
              "model_id": "cc1a453d4104484f98815d26c95ca328",
              "version_major": 2,
              "version_minor": 0
            },
            "text/plain": [
              "  0%|          | 0/13 [00:00<?, ?batch/s]"
            ]
          },
          "metadata": {},
          "output_type": "display_data"
        },
        {
          "name": "stdout",
          "output_type": "stream",
          "text": [
            "Epoch 17 Training Accuracy = 0.9650259067357513\n",
            "Epoch 17 Training Loss = 0.10245417282371323\n",
            "Epoch 17 Validation Accuracy = 0.8697916666666666\n",
            "Epoch 17 Validation Loss = 0.3482085665067037\n",
            "La mejor precisión de Validation Loss (0.3482085665067037) se alcanzó en la época 17\n"
          ]
        },
        {
          "data": {
            "application/vnd.jupyter.widget-view+json": {
              "model_id": "28da23fb6a5c43fdbbffa87bf94d46cf",
              "version_major": 2,
              "version_minor": 0
            },
            "text/plain": [
              "  0%|          | 0/13 [00:00<?, ?batch/s]"
            ]
          },
          "metadata": {},
          "output_type": "display_data"
        },
        {
          "name": "stdout",
          "output_type": "stream",
          "text": [
            "Epoch 18 Training Accuracy = 0.9572538860103627\n",
            "Epoch 18 Training Loss = 0.13270613319515565\n",
            "Epoch 18 Validation Accuracy = 0.7760416666666666\n",
            "Epoch 18 Validation Loss = 0.7285840312639872\n",
            "La mejor precisión de Validation Loss (0.3482085665067037) se alcanzó en la época 17\n"
          ]
        },
        {
          "data": {
            "application/vnd.jupyter.widget-view+json": {
              "model_id": "b9cf331408854033827520222c1802eb",
              "version_major": 2,
              "version_minor": 0
            },
            "text/plain": [
              "  0%|          | 0/13 [00:00<?, ?batch/s]"
            ]
          },
          "metadata": {},
          "output_type": "display_data"
        },
        {
          "name": "stdout",
          "output_type": "stream",
          "text": [
            "Epoch 19 Training Accuracy = 0.966321243523316\n",
            "Epoch 19 Training Loss = 0.11257322674491708\n",
            "Epoch 19 Validation Accuracy = 0.7760416666666666\n",
            "Epoch 19 Validation Loss = 0.6001379092534384\n",
            "La mejor precisión de Validation Loss (0.3482085665067037) se alcanzó en la época 17\n"
          ]
        },
        {
          "data": {
            "application/vnd.jupyter.widget-view+json": {
              "model_id": "812f0c06fea548c18f16bc3efe5e7a4d",
              "version_major": 2,
              "version_minor": 0
            },
            "text/plain": [
              "  0%|          | 0/13 [00:00<?, ?batch/s]"
            ]
          },
          "metadata": {},
          "output_type": "display_data"
        },
        {
          "name": "stdout",
          "output_type": "stream",
          "text": [
            "Epoch 20 Training Accuracy = 0.9805699481865285\n",
            "Epoch 20 Training Loss = 0.06447271962162744\n",
            "Epoch 20 Validation Accuracy = 0.7760416666666666\n",
            "Epoch 20 Validation Loss = 0.628176212310791\n",
            "La mejor precisión de Validation Loss (0.3482085665067037) se alcanzó en la época 17\n"
          ]
        },
        {
          "data": {
            "application/vnd.jupyter.widget-view+json": {
              "model_id": "cd099606ee9d491488e60b4eb9a10e4a",
              "version_major": 2,
              "version_minor": 0
            },
            "text/plain": [
              "  0%|          | 0/13 [00:00<?, ?batch/s]"
            ]
          },
          "metadata": {},
          "output_type": "display_data"
        },
        {
          "name": "stdout",
          "output_type": "stream",
          "text": [
            "Epoch 21 Training Accuracy = 0.9948186528497409\n",
            "Epoch 21 Training Loss = 0.026033395312610685\n",
            "Epoch 21 Validation Accuracy = 0.8020833333333334\n",
            "Epoch 21 Validation Loss = 0.5452436606089274\n",
            "La mejor precisión de Validation Loss (0.3482085665067037) se alcanzó en la época 17\n"
          ]
        },
        {
          "data": {
            "application/vnd.jupyter.widget-view+json": {
              "model_id": "6aba5dbbf31745f2b027d8c4a587a50d",
              "version_major": 2,
              "version_minor": 0
            },
            "text/plain": [
              "  0%|          | 0/13 [00:00<?, ?batch/s]"
            ]
          },
          "metadata": {},
          "output_type": "display_data"
        },
        {
          "name": "stdout",
          "output_type": "stream",
          "text": [
            "Epoch 22 Training Accuracy = 0.9624352331606217\n",
            "Epoch 22 Training Loss = 0.09763180561498812\n",
            "Epoch 22 Validation Accuracy = 0.8125\n",
            "Epoch 22 Validation Loss = 0.4312700231870015\n",
            "La mejor precisión de Validation Loss (0.3482085665067037) se alcanzó en la época 17\n"
          ]
        },
        {
          "data": {
            "application/vnd.jupyter.widget-view+json": {
              "model_id": "23dff8897d9f480a8781939c50f98dfc",
              "version_major": 2,
              "version_minor": 0
            },
            "text/plain": [
              "  0%|          | 0/13 [00:00<?, ?batch/s]"
            ]
          },
          "metadata": {},
          "output_type": "display_data"
        },
        {
          "name": "stdout",
          "output_type": "stream",
          "text": [
            "Epoch 23 Training Accuracy = 0.9805699481865285\n",
            "Epoch 23 Training Loss = 0.06608036750145836\n",
            "Epoch 23 Validation Accuracy = 0.8072916666666666\n",
            "Epoch 23 Validation Loss = 0.6551776130994161\n",
            "La mejor precisión de Validation Loss (0.3482085665067037) se alcanzó en la época 17\n"
          ]
        },
        {
          "data": {
            "application/vnd.jupyter.widget-view+json": {
              "model_id": "b8cd05ece3ae4e1c8c0ee3c92610accc",
              "version_major": 2,
              "version_minor": 0
            },
            "text/plain": [
              "  0%|          | 0/13 [00:00<?, ?batch/s]"
            ]
          },
          "metadata": {},
          "output_type": "display_data"
        },
        {
          "name": "stdout",
          "output_type": "stream",
          "text": [
            "Epoch 24 Training Accuracy = 0.9987046632124352\n",
            "Epoch 24 Training Loss = 0.01970782208164739\n",
            "Epoch 24 Validation Accuracy = 0.8177083333333334\n",
            "Epoch 24 Validation Loss = 0.6091068436702093\n",
            "La mejor precisión de Validation Loss (0.3482085665067037) se alcanzó en la época 17\n"
          ]
        },
        {
          "data": {
            "application/vnd.jupyter.widget-view+json": {
              "model_id": "f5627705107a4f93a707801a620a5433",
              "version_major": 2,
              "version_minor": 0
            },
            "text/plain": [
              "  0%|          | 0/13 [00:00<?, ?batch/s]"
            ]
          },
          "metadata": {},
          "output_type": "display_data"
        },
        {
          "name": "stdout",
          "output_type": "stream",
          "text": [
            "Epoch 25 Training Accuracy = 0.9844559585492227\n",
            "Epoch 25 Training Loss = 0.04245459077966646\n",
            "Epoch 25 Validation Accuracy = 0.7604166666666666\n",
            "Epoch 25 Validation Loss = 0.8973631064097086\n",
            "La mejor precisión de Validation Loss (0.3482085665067037) se alcanzó en la época 17\n"
          ]
        },
        {
          "data": {
            "application/vnd.jupyter.widget-view+json": {
              "model_id": "0263ecbfe79648e394c73c7df2b307dc",
              "version_major": 2,
              "version_minor": 0
            },
            "text/plain": [
              "  0%|          | 0/13 [00:00<?, ?batch/s]"
            ]
          },
          "metadata": {},
          "output_type": "display_data"
        },
        {
          "name": "stdout",
          "output_type": "stream",
          "text": [
            "Epoch 26 Training Accuracy = 0.9378238341968912\n",
            "Epoch 26 Training Loss = 0.17614359404756616\n",
            "Epoch 26 Validation Accuracy = 0.5729166666666666\n",
            "Epoch 26 Validation Loss = 0.918410579363505\n",
            "La mejor precisión de Validation Loss (0.3482085665067037) se alcanzó en la época 17\n"
          ]
        },
        {
          "data": {
            "application/vnd.jupyter.widget-view+json": {
              "model_id": "1fed31228de54e22ae4e614814504154",
              "version_major": 2,
              "version_minor": 0
            },
            "text/plain": [
              "  0%|          | 0/13 [00:00<?, ?batch/s]"
            ]
          },
          "metadata": {},
          "output_type": "display_data"
        },
        {
          "name": "stdout",
          "output_type": "stream",
          "text": [
            "Epoch 27 Training Accuracy = 0.9417098445595855\n",
            "Epoch 27 Training Loss = 0.17222303913549128\n",
            "Epoch 27 Validation Accuracy = 0.8125\n",
            "Epoch 27 Validation Loss = 0.493059108654658\n",
            "La mejor precisión de Validation Loss (0.3482085665067037) se alcanzó en la época 17\n"
          ]
        },
        {
          "data": {
            "application/vnd.jupyter.widget-view+json": {
              "model_id": "9a9b7198f16042edaa587d74a6eeef37",
              "version_major": 2,
              "version_minor": 0
            },
            "text/plain": [
              "  0%|          | 0/13 [00:00<?, ?batch/s]"
            ]
          },
          "metadata": {},
          "output_type": "display_data"
        },
        {
          "name": "stdout",
          "output_type": "stream",
          "text": [
            "Epoch 28 Training Accuracy = 0.9857512953367875\n",
            "Epoch 28 Training Loss = 0.054032129558874535\n",
            "Epoch 28 Validation Accuracy = 0.8385416666666666\n",
            "Epoch 28 Validation Loss = 0.5670254429181417\n",
            "La mejor precisión de Validation Loss (0.3482085665067037) se alcanzó en la época 17\n"
          ]
        },
        {
          "data": {
            "application/vnd.jupyter.widget-view+json": {
              "model_id": "ed05ed367c1b48199a55feaf07f9d335",
              "version_major": 2,
              "version_minor": 0
            },
            "text/plain": [
              "  0%|          | 0/13 [00:00<?, ?batch/s]"
            ]
          },
          "metadata": {},
          "output_type": "display_data"
        },
        {
          "name": "stdout",
          "output_type": "stream",
          "text": [
            "Epoch 29 Training Accuracy = 0.9948186528497409\n",
            "Epoch 29 Training Loss = 0.026007222325343235\n",
            "Epoch 29 Validation Accuracy = 0.8229166666666666\n",
            "Epoch 29 Validation Loss = 0.5377756953239441\n",
            "La mejor precisión de Validation Loss (0.3482085665067037) se alcanzó en la época 17\n"
          ]
        },
        {
          "data": {
            "application/vnd.jupyter.widget-view+json": {
              "model_id": "19966de03573487ba844eaaf821ffff7",
              "version_major": 2,
              "version_minor": 0
            },
            "text/plain": [
              "  0%|          | 0/13 [00:00<?, ?batch/s]"
            ]
          },
          "metadata": {},
          "output_type": "display_data"
        },
        {
          "name": "stdout",
          "output_type": "stream",
          "text": [
            "Epoch 30 Training Accuracy = 0.9974093264248705\n",
            "Epoch 30 Training Loss = 0.016620596150573284\n",
            "Epoch 30 Validation Accuracy = 0.8645833333333334\n",
            "Epoch 30 Validation Loss = 0.47789070506890613\n",
            "La mejor precisión de Validation Loss (0.3482085665067037) se alcanzó en la época 17\n"
          ]
        },
        {
          "data": {
            "application/vnd.jupyter.widget-view+json": {
              "model_id": "9d5b03249e33433280f0c8d7b90d04c1",
              "version_major": 2,
              "version_minor": 0
            },
            "text/plain": [
              "  0%|          | 0/13 [00:00<?, ?batch/s]"
            ]
          },
          "metadata": {},
          "output_type": "display_data"
        },
        {
          "name": "stdout",
          "output_type": "stream",
          "text": [
            "Epoch 31 Training Accuracy = 0.9987046632124352\n",
            "Epoch 31 Training Loss = 0.00821695599096967\n",
            "Epoch 31 Validation Accuracy = 0.8697916666666666\n",
            "Epoch 31 Validation Loss = 0.3850126614173253\n",
            "La mejor precisión de Validation Loss (0.3482085665067037) se alcanzó en la época 17\n"
          ]
        },
        {
          "data": {
            "application/vnd.jupyter.widget-view+json": {
              "model_id": "ac270dd81fe3433c9f253055acbe62a7",
              "version_major": 2,
              "version_minor": 0
            },
            "text/plain": [
              "  0%|          | 0/13 [00:00<?, ?batch/s]"
            ]
          },
          "metadata": {},
          "output_type": "display_data"
        },
        {
          "name": "stdout",
          "output_type": "stream",
          "text": [
            "Epoch 32 Training Accuracy = 0.9974093264248705\n",
            "Epoch 32 Training Loss = 0.012993568544869596\n",
            "Epoch 32 Validation Accuracy = 0.8125\n",
            "Epoch 32 Validation Loss = 0.6019254227479299\n",
            "La mejor precisión de Validation Loss (0.3482085665067037) se alcanzó en la época 17\n"
          ]
        },
        {
          "data": {
            "application/vnd.jupyter.widget-view+json": {
              "model_id": "59ed146d57f44370b34bfab337425de1",
              "version_major": 2,
              "version_minor": 0
            },
            "text/plain": [
              "  0%|          | 0/13 [00:00<?, ?batch/s]"
            ]
          },
          "metadata": {},
          "output_type": "display_data"
        },
        {
          "name": "stdout",
          "output_type": "stream",
          "text": [
            "Epoch 33 Training Accuracy = 0.9481865284974094\n",
            "Epoch 33 Training Loss = 0.15729748602435378\n",
            "Epoch 33 Validation Accuracy = 0.796875\n",
            "Epoch 33 Validation Loss = 0.5709551870822906\n",
            "La mejor precisión de Validation Loss (0.3482085665067037) se alcanzó en la época 17\n"
          ]
        },
        {
          "data": {
            "application/vnd.jupyter.widget-view+json": {
              "model_id": "44740581e4c443d2b4d603df0046b559",
              "version_major": 2,
              "version_minor": 0
            },
            "text/plain": [
              "  0%|          | 0/13 [00:00<?, ?batch/s]"
            ]
          },
          "metadata": {},
          "output_type": "display_data"
        },
        {
          "name": "stdout",
          "output_type": "stream",
          "text": [
            "Epoch 34 Training Accuracy = 0.9689119170984456\n",
            "Epoch 34 Training Loss = 0.07873479937024684\n",
            "Epoch 34 Validation Accuracy = 0.8385416666666666\n",
            "Epoch 34 Validation Loss = 0.5007372200489044\n",
            "La mejor precisión de Validation Loss (0.3482085665067037) se alcanzó en la época 17\n"
          ]
        },
        {
          "data": {
            "application/vnd.jupyter.widget-view+json": {
              "model_id": "5320c3434b294c7bbfc550a353d2c97c",
              "version_major": 2,
              "version_minor": 0
            },
            "text/plain": [
              "  0%|          | 0/13 [00:00<?, ?batch/s]"
            ]
          },
          "metadata": {},
          "output_type": "display_data"
        },
        {
          "name": "stdout",
          "output_type": "stream",
          "text": [
            "Epoch 35 Training Accuracy = 0.9637305699481865\n",
            "Epoch 35 Training Loss = 0.12938747696887334\n",
            "Epoch 35 Validation Accuracy = 0.7708333333333334\n",
            "Epoch 35 Validation Loss = 0.8043353160222372\n",
            "La mejor precisión de Validation Loss (0.3482085665067037) se alcanzó en la época 17\n"
          ]
        },
        {
          "data": {
            "application/vnd.jupyter.widget-view+json": {
              "model_id": "558e3095cb5646b5a8e1a0727adc3ddf",
              "version_major": 2,
              "version_minor": 0
            },
            "text/plain": [
              "  0%|          | 0/13 [00:00<?, ?batch/s]"
            ]
          },
          "metadata": {},
          "output_type": "display_data"
        },
        {
          "name": "stdout",
          "output_type": "stream",
          "text": [
            "Epoch 36 Training Accuracy = 0.977979274611399\n",
            "Epoch 36 Training Loss = 0.0688630583855309\n",
            "Epoch 36 Validation Accuracy = 0.8333333333333334\n",
            "Epoch 36 Validation Loss = 0.48426292339960736\n",
            "La mejor precisión de Validation Loss (0.3482085665067037) se alcanzó en la época 17\n"
          ]
        },
        {
          "data": {
            "application/vnd.jupyter.widget-view+json": {
              "model_id": "e7286f8207424236aa31b58a1bbc955d",
              "version_major": 2,
              "version_minor": 0
            },
            "text/plain": [
              "  0%|          | 0/13 [00:00<?, ?batch/s]"
            ]
          },
          "metadata": {},
          "output_type": "display_data"
        },
        {
          "name": "stdout",
          "output_type": "stream",
          "text": [
            "Epoch 37 Training Accuracy = 0.9961139896373057\n",
            "Epoch 37 Training Loss = 0.022065497471569735\n",
            "Epoch 37 Validation Accuracy = 0.8541666666666666\n",
            "Epoch 37 Validation Loss = 0.47496527433395386\n",
            "La mejor precisión de Validation Loss (0.3482085665067037) se alcanzó en la época 17\n"
          ]
        },
        {
          "data": {
            "application/vnd.jupyter.widget-view+json": {
              "model_id": "c3919b70006548bb8106a7cdd65de33e",
              "version_major": 2,
              "version_minor": 0
            },
            "text/plain": [
              "  0%|          | 0/13 [00:00<?, ?batch/s]"
            ]
          },
          "metadata": {},
          "output_type": "display_data"
        },
        {
          "name": "stdout",
          "output_type": "stream",
          "text": [
            "Epoch 38 Training Accuracy = 0.9766839378238342\n",
            "Epoch 38 Training Loss = 0.06316324616806494\n",
            "Epoch 38 Validation Accuracy = 0.8125\n",
            "Epoch 38 Validation Loss = 0.7013370792071024\n",
            "La mejor precisión de Validation Loss (0.3482085665067037) se alcanzó en la época 17\n"
          ]
        },
        {
          "data": {
            "application/vnd.jupyter.widget-view+json": {
              "model_id": "1ac17ade051c49d98629d02833a5dafb",
              "version_major": 2,
              "version_minor": 0
            },
            "text/plain": [
              "  0%|          | 0/13 [00:00<?, ?batch/s]"
            ]
          },
          "metadata": {},
          "output_type": "display_data"
        },
        {
          "name": "stdout",
          "output_type": "stream",
          "text": [
            "Epoch 39 Training Accuracy = 0.9961139896373057\n",
            "Epoch 39 Training Loss = 0.02345405132968191\n",
            "Epoch 39 Validation Accuracy = 0.8072916666666666\n",
            "Epoch 39 Validation Loss = 0.7919727166493734\n",
            "La mejor precisión de Validation Loss (0.3482085665067037) se alcanzó en la época 17\n"
          ]
        },
        {
          "data": {
            "application/vnd.jupyter.widget-view+json": {
              "model_id": "1a06e31b68704136b9273c89d8d5a134",
              "version_major": 2,
              "version_minor": 0
            },
            "text/plain": [
              "  0%|          | 0/13 [00:00<?, ?batch/s]"
            ]
          },
          "metadata": {},
          "output_type": "display_data"
        },
        {
          "name": "stdout",
          "output_type": "stream",
          "text": [
            "Epoch 40 Training Accuracy = 0.9844559585492227\n",
            "Epoch 40 Training Loss = 0.06159867963951486\n",
            "Epoch 40 Validation Accuracy = 0.7916666666666666\n",
            "Epoch 40 Validation Loss = 0.754913330078125\n",
            "La mejor precisión de Validation Loss (0.3482085665067037) se alcanzó en la época 17\n"
          ]
        },
        {
          "data": {
            "application/vnd.jupyter.widget-view+json": {
              "model_id": "4d602441ad4c44e19e3ec9b174099052",
              "version_major": 2,
              "version_minor": 0
            },
            "text/plain": [
              "  0%|          | 0/13 [00:00<?, ?batch/s]"
            ]
          },
          "metadata": {},
          "output_type": "display_data"
        },
        {
          "name": "stdout",
          "output_type": "stream",
          "text": [
            "Epoch 41 Training Accuracy = 0.9805699481865285\n",
            "Epoch 41 Training Loss = 0.06366822401476648\n",
            "Epoch 41 Validation Accuracy = 0.8125\n",
            "Epoch 41 Validation Loss = 0.5236628452936808\n",
            "La mejor precisión de Validation Loss (0.3482085665067037) se alcanzó en la época 17\n"
          ]
        },
        {
          "data": {
            "application/vnd.jupyter.widget-view+json": {
              "model_id": "5c37471502f7441fbe432697609d714d",
              "version_major": 2,
              "version_minor": 0
            },
            "text/plain": [
              "  0%|          | 0/13 [00:00<?, ?batch/s]"
            ]
          },
          "metadata": {},
          "output_type": "display_data"
        },
        {
          "name": "stdout",
          "output_type": "stream",
          "text": [
            "Epoch 42 Training Accuracy = 0.9689119170984456\n",
            "Epoch 42 Training Loss = 0.09201900251788797\n",
            "Epoch 42 Validation Accuracy = 0.8020833333333334\n",
            "Epoch 42 Validation Loss = 0.47442256410916644\n",
            "La mejor precisión de Validation Loss (0.3482085665067037) se alcanzó en la época 17\n"
          ]
        },
        {
          "data": {
            "application/vnd.jupyter.widget-view+json": {
              "model_id": "9d11b07cc1fb4eca91faf630852875c3",
              "version_major": 2,
              "version_minor": 0
            },
            "text/plain": [
              "  0%|          | 0/13 [00:00<?, ?batch/s]"
            ]
          },
          "metadata": {},
          "output_type": "display_data"
        },
        {
          "name": "stdout",
          "output_type": "stream",
          "text": [
            "Epoch 43 Training Accuracy = 0.9507772020725389\n",
            "Epoch 43 Training Loss = 0.15464639540163347\n",
            "Epoch 43 Validation Accuracy = 0.7708333333333334\n",
            "Epoch 43 Validation Loss = 0.679414709409078\n",
            "La mejor precisión de Validation Loss (0.3482085665067037) se alcanzó en la época 17\n"
          ]
        },
        {
          "data": {
            "application/vnd.jupyter.widget-view+json": {
              "model_id": "0ecc14d3cc13458fb65c1af464b1dd56",
              "version_major": 2,
              "version_minor": 0
            },
            "text/plain": [
              "  0%|          | 0/13 [00:00<?, ?batch/s]"
            ]
          },
          "metadata": {},
          "output_type": "display_data"
        },
        {
          "name": "stdout",
          "output_type": "stream",
          "text": [
            "Epoch 44 Training Accuracy = 0.9365284974093264\n",
            "Epoch 44 Training Loss = 0.1690913905133855\n",
            "Epoch 44 Validation Accuracy = 0.7708333333333334\n",
            "Epoch 44 Validation Loss = 0.5449893871943156\n",
            "La mejor precisión de Validation Loss (0.3482085665067037) se alcanzó en la época 17\n"
          ]
        },
        {
          "data": {
            "application/vnd.jupyter.widget-view+json": {
              "model_id": "e96eda6af0a64006a6e494d808b05ec6",
              "version_major": 2,
              "version_minor": 0
            },
            "text/plain": [
              "  0%|          | 0/13 [00:00<?, ?batch/s]"
            ]
          },
          "metadata": {},
          "output_type": "display_data"
        },
        {
          "name": "stdout",
          "output_type": "stream",
          "text": [
            "Epoch 45 Training Accuracy = 0.9378238341968912\n",
            "Epoch 45 Training Loss = 0.16107232864811014\n",
            "Epoch 45 Validation Accuracy = 0.7708333333333334\n",
            "Epoch 45 Validation Loss = 0.6377494136492411\n",
            "La mejor precisión de Validation Loss (0.3482085665067037) se alcanzó en la época 17\n"
          ]
        },
        {
          "data": {
            "application/vnd.jupyter.widget-view+json": {
              "model_id": "e6987b7d0ebf476fadb3d8521dff1ddf",
              "version_major": 2,
              "version_minor": 0
            },
            "text/plain": [
              "  0%|          | 0/13 [00:00<?, ?batch/s]"
            ]
          },
          "metadata": {},
          "output_type": "display_data"
        },
        {
          "name": "stdout",
          "output_type": "stream",
          "text": [
            "Epoch 46 Training Accuracy = 0.9766839378238342\n",
            "Epoch 46 Training Loss = 0.0712479641709303\n",
            "Epoch 46 Validation Accuracy = 0.796875\n",
            "Epoch 46 Validation Loss = 0.588127871354421\n",
            "La mejor precisión de Validation Loss (0.3482085665067037) se alcanzó en la época 17\n"
          ]
        },
        {
          "data": {
            "application/vnd.jupyter.widget-view+json": {
              "model_id": "54c3ecb5080848ce8c2bc4ca9523d287",
              "version_major": 2,
              "version_minor": 0
            },
            "text/plain": [
              "  0%|          | 0/13 [00:00<?, ?batch/s]"
            ]
          },
          "metadata": {},
          "output_type": "display_data"
        },
        {
          "name": "stdout",
          "output_type": "stream",
          "text": [
            "Epoch 47 Training Accuracy = 0.9922279792746114\n",
            "Epoch 47 Training Loss = 0.036478506550771894\n",
            "Epoch 47 Validation Accuracy = 0.8020833333333334\n",
            "Epoch 47 Validation Loss = 0.48906630277633667\n",
            "La mejor precisión de Validation Loss (0.3482085665067037) se alcanzó en la época 17\n"
          ]
        },
        {
          "data": {
            "application/vnd.jupyter.widget-view+json": {
              "model_id": "0db74a871b8148588ae07c89875e5e7b",
              "version_major": 2,
              "version_minor": 0
            },
            "text/plain": [
              "  0%|          | 0/13 [00:00<?, ?batch/s]"
            ]
          },
          "metadata": {},
          "output_type": "display_data"
        },
        {
          "name": "stdout",
          "output_type": "stream",
          "text": [
            "Epoch 48 Training Accuracy = 0.9961139896373057\n",
            "Epoch 48 Training Loss = 0.02185201728378707\n",
            "Epoch 48 Validation Accuracy = 0.7864583333333334\n",
            "Epoch 48 Validation Loss = 0.5692858099937439\n",
            "La mejor precisión de Validation Loss (0.3482085665067037) se alcanzó en la época 17\n"
          ]
        },
        {
          "data": {
            "application/vnd.jupyter.widget-view+json": {
              "model_id": "84636157f6004e078d80a12b1937dc93",
              "version_major": 2,
              "version_minor": 0
            },
            "text/plain": [
              "  0%|          | 0/13 [00:00<?, ?batch/s]"
            ]
          },
          "metadata": {},
          "output_type": "display_data"
        },
        {
          "name": "stdout",
          "output_type": "stream",
          "text": [
            "Epoch 49 Training Accuracy = 0.9974093264248705\n",
            "Epoch 49 Training Loss = 0.014487329658140173\n",
            "Epoch 49 Validation Accuracy = 0.8125\n",
            "Epoch 49 Validation Loss = 0.5865468084812164\n",
            "La mejor precisión de Validation Loss (0.3482085665067037) se alcanzó en la época 17\n"
          ]
        },
        {
          "data": {
            "application/vnd.jupyter.widget-view+json": {
              "model_id": "53b1721fbfdc4c868a74d0072b164d0d",
              "version_major": 2,
              "version_minor": 0
            },
            "text/plain": [
              "  0%|          | 0/13 [00:00<?, ?batch/s]"
            ]
          },
          "metadata": {},
          "output_type": "display_data"
        },
        {
          "name": "stdout",
          "output_type": "stream",
          "text": [
            "Epoch 50 Training Accuracy = 1.0\n",
            "Epoch 50 Training Loss = 0.007404831209137958\n",
            "Epoch 50 Validation Accuracy = 0.8125\n",
            "Epoch 50 Validation Loss = 0.5971083641052246\n",
            "La mejor precisión de Validation Loss (0.3482085665067037) se alcanzó en la época 17\n"
          ]
        },
        {
          "data": {
            "application/vnd.jupyter.widget-view+json": {
              "model_id": "865fcc8a70f448918156cbc6a23c764a",
              "version_major": 2,
              "version_minor": 0
            },
            "text/plain": [
              "  0%|          | 0/13 [00:00<?, ?batch/s]"
            ]
          },
          "metadata": {},
          "output_type": "display_data"
        },
        {
          "name": "stdout",
          "output_type": "stream",
          "text": [
            "Epoch 51 Training Accuracy = 0.9987046632124352\n",
            "Epoch 51 Training Loss = 0.005496714939725214\n",
            "Epoch 51 Validation Accuracy = 0.8125\n",
            "Epoch 51 Validation Loss = 0.5214901169141134\n",
            "La mejor precisión de Validation Loss (0.3482085665067037) se alcanzó en la época 17\n"
          ]
        },
        {
          "data": {
            "application/vnd.jupyter.widget-view+json": {
              "model_id": "649066df286a4dd3ba203033fe65f42b",
              "version_major": 2,
              "version_minor": 0
            },
            "text/plain": [
              "  0%|          | 0/13 [00:00<?, ?batch/s]"
            ]
          },
          "metadata": {},
          "output_type": "display_data"
        },
        {
          "name": "stdout",
          "output_type": "stream",
          "text": [
            "Epoch 52 Training Accuracy = 1.0\n",
            "Epoch 52 Training Loss = 0.003717739559671422\n",
            "Epoch 52 Validation Accuracy = 0.7916666666666666\n",
            "Epoch 52 Validation Loss = 0.645402709643046\n",
            "La mejor precisión de Validation Loss (0.3482085665067037) se alcanzó en la época 17\n"
          ]
        },
        {
          "data": {
            "application/vnd.jupyter.widget-view+json": {
              "model_id": "178ce2a8f6664b399ec48060f4f8d3bc",
              "version_major": 2,
              "version_minor": 0
            },
            "text/plain": [
              "  0%|          | 0/13 [00:00<?, ?batch/s]"
            ]
          },
          "metadata": {},
          "output_type": "display_data"
        },
        {
          "name": "stdout",
          "output_type": "stream",
          "text": [
            "Epoch 53 Training Accuracy = 0.9948186528497409\n",
            "Epoch 53 Training Loss = 0.03358181840088701\n",
            "Epoch 53 Validation Accuracy = 0.7916666666666666\n",
            "Epoch 53 Validation Loss = 0.9135138392448425\n",
            "La mejor precisión de Validation Loss (0.3482085665067037) se alcanzó en la época 17\n"
          ]
        },
        {
          "data": {
            "application/vnd.jupyter.widget-view+json": {
              "model_id": "87e1cfea011146ed9f953d749eb47f4d",
              "version_major": 2,
              "version_minor": 0
            },
            "text/plain": [
              "  0%|          | 0/13 [00:00<?, ?batch/s]"
            ]
          },
          "metadata": {},
          "output_type": "display_data"
        },
        {
          "name": "stdout",
          "output_type": "stream",
          "text": [
            "Epoch 54 Training Accuracy = 0.9598445595854922\n",
            "Epoch 54 Training Loss = 0.1184162089475696\n",
            "Epoch 54 Validation Accuracy = 0.7916666666666666\n",
            "Epoch 54 Validation Loss = 0.7222733100255331\n",
            "La mejor precisión de Validation Loss (0.3482085665067037) se alcanzó en la época 17\n"
          ]
        },
        {
          "data": {
            "application/vnd.jupyter.widget-view+json": {
              "model_id": "2d890e1320c146bab8e9a25ecf44ae51",
              "version_major": 2,
              "version_minor": 0
            },
            "text/plain": [
              "  0%|          | 0/13 [00:00<?, ?batch/s]"
            ]
          },
          "metadata": {},
          "output_type": "display_data"
        },
        {
          "name": "stdout",
          "output_type": "stream",
          "text": [
            "Epoch 55 Training Accuracy = 0.9766839378238342\n",
            "Epoch 55 Training Loss = 0.09365260436976512\n",
            "Epoch 55 Validation Accuracy = 0.7864583333333334\n",
            "Epoch 55 Validation Loss = 0.5457143584887186\n",
            "La mejor precisión de Validation Loss (0.3482085665067037) se alcanzó en la época 17\n"
          ]
        },
        {
          "data": {
            "application/vnd.jupyter.widget-view+json": {
              "model_id": "5a21d3dc518c4ab1bc4be9fab0272e2f",
              "version_major": 2,
              "version_minor": 0
            },
            "text/plain": [
              "  0%|          | 0/13 [00:00<?, ?batch/s]"
            ]
          },
          "metadata": {},
          "output_type": "display_data"
        },
        {
          "name": "stdout",
          "output_type": "stream",
          "text": [
            "Epoch 56 Training Accuracy = 0.9909326424870466\n",
            "Epoch 56 Training Loss = 0.033983644194553554\n",
            "Epoch 56 Validation Accuracy = 0.8385416666666666\n",
            "Epoch 56 Validation Loss = 0.49752060572306317\n",
            "La mejor precisión de Validation Loss (0.3482085665067037) se alcanzó en la época 17\n"
          ]
        },
        {
          "data": {
            "application/vnd.jupyter.widget-view+json": {
              "model_id": "82106bba580f48d481c9c1300f7e781e",
              "version_major": 2,
              "version_minor": 0
            },
            "text/plain": [
              "  0%|          | 0/13 [00:00<?, ?batch/s]"
            ]
          },
          "metadata": {},
          "output_type": "display_data"
        },
        {
          "name": "stdout",
          "output_type": "stream",
          "text": [
            "Epoch 57 Training Accuracy = 0.9844559585492227\n",
            "Epoch 57 Training Loss = 0.056827286017064604\n",
            "Epoch 57 Validation Accuracy = 0.8333333333333334\n",
            "Epoch 57 Validation Loss = 0.500496377547582\n",
            "La mejor precisión de Validation Loss (0.3482085665067037) se alcanzó en la época 17\n"
          ]
        },
        {
          "data": {
            "application/vnd.jupyter.widget-view+json": {
              "model_id": "09b6a91cc00848bf82ce87e9d809a97a",
              "version_major": 2,
              "version_minor": 0
            },
            "text/plain": [
              "  0%|          | 0/13 [00:00<?, ?batch/s]"
            ]
          },
          "metadata": {},
          "output_type": "display_data"
        },
        {
          "name": "stdout",
          "output_type": "stream",
          "text": [
            "Epoch 58 Training Accuracy = 0.9974093264248705\n",
            "Epoch 58 Training Loss = 0.01814261858153683\n",
            "Epoch 58 Validation Accuracy = 0.8541666666666666\n",
            "Epoch 58 Validation Loss = 0.47172940770785016\n",
            "La mejor precisión de Validation Loss (0.3482085665067037) se alcanzó en la época 17\n"
          ]
        },
        {
          "data": {
            "application/vnd.jupyter.widget-view+json": {
              "model_id": "f96c4023fe24420daf2f90557ea7ed2b",
              "version_major": 2,
              "version_minor": 0
            },
            "text/plain": [
              "  0%|          | 0/13 [00:00<?, ?batch/s]"
            ]
          },
          "metadata": {},
          "output_type": "display_data"
        },
        {
          "name": "stdout",
          "output_type": "stream",
          "text": [
            "Epoch 59 Training Accuracy = 0.9987046632124352\n",
            "Epoch 59 Training Loss = 0.013796910103120952\n",
            "Epoch 59 Validation Accuracy = 0.8333333333333334\n",
            "Epoch 59 Validation Loss = 0.47916380564371747\n",
            "La mejor precisión de Validation Loss (0.3482085665067037) se alcanzó en la época 17\n"
          ]
        },
        {
          "data": {
            "application/vnd.jupyter.widget-view+json": {
              "model_id": "0eedbac7eaf14341bba662e8e2d4cd02",
              "version_major": 2,
              "version_minor": 0
            },
            "text/plain": [
              "  0%|          | 0/13 [00:00<?, ?batch/s]"
            ]
          },
          "metadata": {},
          "output_type": "display_data"
        },
        {
          "name": "stdout",
          "output_type": "stream",
          "text": [
            "Epoch 60 Training Accuracy = 0.9948186528497409\n",
            "Epoch 60 Training Loss = 0.01233078628160793\n",
            "Epoch 60 Validation Accuracy = 0.8489583333333334\n",
            "Epoch 60 Validation Loss = 0.49995189905166626\n",
            "La mejor precisión de Validation Loss (0.3482085665067037) se alcanzó en la época 17\n"
          ]
        },
        {
          "data": {
            "application/vnd.jupyter.widget-view+json": {
              "model_id": "2bd93ce5d1c0417ba6d916b0710e81ef",
              "version_major": 2,
              "version_minor": 0
            },
            "text/plain": [
              "  0%|          | 0/13 [00:00<?, ?batch/s]"
            ]
          },
          "metadata": {},
          "output_type": "display_data"
        },
        {
          "name": "stdout",
          "output_type": "stream",
          "text": [
            "Epoch 61 Training Accuracy = 1.0\n",
            "Epoch 61 Training Loss = 0.0067149130096707315\n",
            "Epoch 61 Validation Accuracy = 0.8385416666666666\n",
            "Epoch 61 Validation Loss = 0.45068594813346863\n",
            "La mejor precisión de Validation Loss (0.3482085665067037) se alcanzó en la época 17\n"
          ]
        },
        {
          "data": {
            "application/vnd.jupyter.widget-view+json": {
              "model_id": "081e2a62f63b4d7488547720d63a2aca",
              "version_major": 2,
              "version_minor": 0
            },
            "text/plain": [
              "  0%|          | 0/13 [00:00<?, ?batch/s]"
            ]
          },
          "metadata": {},
          "output_type": "display_data"
        },
        {
          "name": "stdout",
          "output_type": "stream",
          "text": [
            "Epoch 62 Training Accuracy = 0.9987046632124352\n",
            "Epoch 62 Training Loss = 0.009570505788520828\n",
            "Epoch 62 Validation Accuracy = 0.84375\n",
            "Epoch 62 Validation Loss = 0.48921125133832294\n",
            "La mejor precisión de Validation Loss (0.3482085665067037) se alcanzó en la época 17\n"
          ]
        },
        {
          "data": {
            "application/vnd.jupyter.widget-view+json": {
              "model_id": "15968b5a114a4f588dac1695fcf558cd",
              "version_major": 2,
              "version_minor": 0
            },
            "text/plain": [
              "  0%|          | 0/13 [00:00<?, ?batch/s]"
            ]
          },
          "metadata": {},
          "output_type": "display_data"
        },
        {
          "name": "stdout",
          "output_type": "stream",
          "text": [
            "Epoch 63 Training Accuracy = 0.9948186528497409\n",
            "Epoch 63 Training Loss = 0.018489197610727863\n",
            "Epoch 63 Validation Accuracy = 0.8125\n",
            "Epoch 63 Validation Loss = 0.6972588996092478\n",
            "La mejor precisión de Validation Loss (0.3482085665067037) se alcanzó en la época 17\n"
          ]
        },
        {
          "data": {
            "application/vnd.jupyter.widget-view+json": {
              "model_id": "e200e1d9aff043228a985b604bc3a06e",
              "version_major": 2,
              "version_minor": 0
            },
            "text/plain": [
              "  0%|          | 0/13 [00:00<?, ?batch/s]"
            ]
          },
          "metadata": {},
          "output_type": "display_data"
        },
        {
          "name": "stdout",
          "output_type": "stream",
          "text": [
            "Epoch 64 Training Accuracy = 0.9922279792746114\n",
            "Epoch 64 Training Loss = 0.03008752161096492\n",
            "Epoch 64 Validation Accuracy = 0.8489583333333334\n",
            "Epoch 64 Validation Loss = 0.49595641096433\n",
            "La mejor precisión de Validation Loss (0.3482085665067037) se alcanzó en la época 17\n"
          ]
        },
        {
          "data": {
            "application/vnd.jupyter.widget-view+json": {
              "model_id": "2dae5cc1e2b64d8caa30b78712623d7f",
              "version_major": 2,
              "version_minor": 0
            },
            "text/plain": [
              "  0%|          | 0/13 [00:00<?, ?batch/s]"
            ]
          },
          "metadata": {},
          "output_type": "display_data"
        },
        {
          "name": "stdout",
          "output_type": "stream",
          "text": [
            "Epoch 65 Training Accuracy = 0.9987046632124352\n",
            "Epoch 65 Training Loss = 0.013112678506213766\n",
            "Epoch 65 Validation Accuracy = 0.8541666666666666\n",
            "Epoch 65 Validation Loss = 0.45913881063461304\n",
            "La mejor precisión de Validation Loss (0.3482085665067037) se alcanzó en la época 17\n"
          ]
        },
        {
          "data": {
            "application/vnd.jupyter.widget-view+json": {
              "model_id": "2963d11e4dd14cfc97d85329d057fda8",
              "version_major": 2,
              "version_minor": 0
            },
            "text/plain": [
              "  0%|          | 0/13 [00:00<?, ?batch/s]"
            ]
          },
          "metadata": {},
          "output_type": "display_data"
        },
        {
          "name": "stdout",
          "output_type": "stream",
          "text": [
            "Epoch 66 Training Accuracy = 0.9987046632124352\n",
            "Epoch 66 Training Loss = 0.009077381168931259\n",
            "Epoch 66 Validation Accuracy = 0.8697916666666666\n",
            "Epoch 66 Validation Loss = 0.42969738443692523\n",
            "La mejor precisión de Validation Loss (0.3482085665067037) se alcanzó en la época 17\n"
          ]
        },
        {
          "data": {
            "application/vnd.jupyter.widget-view+json": {
              "model_id": "0f8f73147a6641ddad6f390dd836ce79",
              "version_major": 2,
              "version_minor": 0
            },
            "text/plain": [
              "  0%|          | 0/13 [00:00<?, ?batch/s]"
            ]
          },
          "metadata": {},
          "output_type": "display_data"
        },
        {
          "name": "stdout",
          "output_type": "stream",
          "text": [
            "Epoch 67 Training Accuracy = 0.9974093264248705\n",
            "Epoch 67 Training Loss = 0.007780248130348371\n",
            "Epoch 67 Validation Accuracy = 0.8697916666666666\n",
            "Epoch 67 Validation Loss = 0.38556702931722003\n",
            "La mejor precisión de Validation Loss (0.3482085665067037) se alcanzó en la época 17\n"
          ]
        },
        {
          "data": {
            "application/vnd.jupyter.widget-view+json": {
              "model_id": "bb117cd891244780aea39cf64619fa17",
              "version_major": 2,
              "version_minor": 0
            },
            "text/plain": [
              "  0%|          | 0/13 [00:00<?, ?batch/s]"
            ]
          },
          "metadata": {},
          "output_type": "display_data"
        },
        {
          "name": "stdout",
          "output_type": "stream",
          "text": [
            "Epoch 68 Training Accuracy = 1.0\n",
            "Epoch 68 Training Loss = 0.005716629427679153\n",
            "Epoch 68 Validation Accuracy = 0.8541666666666666\n",
            "Epoch 68 Validation Loss = 0.4134642481803894\n",
            "La mejor precisión de Validation Loss (0.3482085665067037) se alcanzó en la época 17\n"
          ]
        },
        {
          "data": {
            "application/vnd.jupyter.widget-view+json": {
              "model_id": "87167ea766524d6ab0e8ea3483eeed1e",
              "version_major": 2,
              "version_minor": 0
            },
            "text/plain": [
              "  0%|          | 0/13 [00:00<?, ?batch/s]"
            ]
          },
          "metadata": {},
          "output_type": "display_data"
        },
        {
          "name": "stdout",
          "output_type": "stream",
          "text": [
            "Epoch 69 Training Accuracy = 0.9961139896373057\n",
            "Epoch 69 Training Loss = 0.01527399423054463\n",
            "Epoch 69 Validation Accuracy = 0.8385416666666666\n",
            "Epoch 69 Validation Loss = 0.48863192399342853\n",
            "La mejor precisión de Validation Loss (0.3482085665067037) se alcanzó en la época 17\n"
          ]
        },
        {
          "data": {
            "application/vnd.jupyter.widget-view+json": {
              "model_id": "7ca7ab30e3f54004963542656b983489",
              "version_major": 2,
              "version_minor": 0
            },
            "text/plain": [
              "  0%|          | 0/13 [00:00<?, ?batch/s]"
            ]
          },
          "metadata": {},
          "output_type": "display_data"
        },
        {
          "name": "stdout",
          "output_type": "stream",
          "text": [
            "Epoch 70 Training Accuracy = 0.9585492227979274\n",
            "Epoch 70 Training Loss = 0.1086801768044116\n",
            "Epoch 70 Validation Accuracy = 0.71875\n",
            "Epoch 70 Validation Loss = 1.106460452079773\n",
            "La mejor precisión de Validation Loss (0.3482085665067037) se alcanzó en la época 17\n"
          ]
        },
        {
          "data": {
            "application/vnd.jupyter.widget-view+json": {
              "model_id": "33d6dc142f3f49f2b0122c66e918b86b",
              "version_major": 2,
              "version_minor": 0
            },
            "text/plain": [
              "  0%|          | 0/13 [00:00<?, ?batch/s]"
            ]
          },
          "metadata": {},
          "output_type": "display_data"
        },
        {
          "name": "stdout",
          "output_type": "stream",
          "text": [
            "Epoch 71 Training Accuracy = 0.9533678756476683\n",
            "Epoch 71 Training Loss = 0.13099198112833685\n",
            "Epoch 71 Validation Accuracy = 0.8072916666666666\n",
            "Epoch 71 Validation Loss = 0.883306622505188\n",
            "La mejor precisión de Validation Loss (0.3482085665067037) se alcanzó en la época 17\n"
          ]
        },
        {
          "data": {
            "application/vnd.jupyter.widget-view+json": {
              "model_id": "0a1c8807588b48049114a8e221a7549b",
              "version_major": 2,
              "version_minor": 0
            },
            "text/plain": [
              "  0%|          | 0/13 [00:00<?, ?batch/s]"
            ]
          },
          "metadata": {},
          "output_type": "display_data"
        },
        {
          "name": "stdout",
          "output_type": "stream",
          "text": [
            "Epoch 72 Training Accuracy = 0.961139896373057\n",
            "Epoch 72 Training Loss = 0.10972459668322548\n",
            "Epoch 72 Validation Accuracy = 0.796875\n",
            "Epoch 72 Validation Loss = 0.9374080896377563\n",
            "La mejor precisión de Validation Loss (0.3482085665067037) se alcanzó en la época 17\n"
          ]
        },
        {
          "data": {
            "application/vnd.jupyter.widget-view+json": {
              "model_id": "161ddd0e70324275b1442bb57f7818ff",
              "version_major": 2,
              "version_minor": 0
            },
            "text/plain": [
              "  0%|          | 0/13 [00:00<?, ?batch/s]"
            ]
          },
          "metadata": {},
          "output_type": "display_data"
        },
        {
          "name": "stdout",
          "output_type": "stream",
          "text": [
            "Epoch 73 Training Accuracy = 0.9805699481865285\n",
            "Epoch 73 Training Loss = 0.07042710019825654\n",
            "Epoch 73 Validation Accuracy = 0.7760416666666666\n",
            "Epoch 73 Validation Loss = 0.7165586054325104\n",
            "La mejor precisión de Validation Loss (0.3482085665067037) se alcanzó en la época 17\n"
          ]
        },
        {
          "data": {
            "application/vnd.jupyter.widget-view+json": {
              "model_id": "137ffb8e5a3f4eae98d46c7ca165e5cb",
              "version_major": 2,
              "version_minor": 0
            },
            "text/plain": [
              "  0%|          | 0/13 [00:00<?, ?batch/s]"
            ]
          },
          "metadata": {},
          "output_type": "display_data"
        },
        {
          "name": "stdout",
          "output_type": "stream",
          "text": [
            "Epoch 74 Training Accuracy = 0.9883419689119171\n",
            "Epoch 74 Training Loss = 0.06770782774902996\n",
            "Epoch 74 Validation Accuracy = 0.8229166666666666\n",
            "Epoch 74 Validation Loss = 0.6792574326197306\n",
            "La mejor precisión de Validation Loss (0.3482085665067037) se alcanzó en la época 17\n"
          ]
        },
        {
          "data": {
            "application/vnd.jupyter.widget-view+json": {
              "model_id": "9f83ba727a0c4f17b046e079bda2953f",
              "version_major": 2,
              "version_minor": 0
            },
            "text/plain": [
              "  0%|          | 0/13 [00:00<?, ?batch/s]"
            ]
          },
          "metadata": {},
          "output_type": "display_data"
        },
        {
          "name": "stdout",
          "output_type": "stream",
          "text": [
            "Epoch 75 Training Accuracy = 0.9909326424870466\n",
            "Epoch 75 Training Loss = 0.03870678685335298\n",
            "Epoch 75 Validation Accuracy = 0.7760416666666666\n",
            "Epoch 75 Validation Loss = 0.7164791723092397\n",
            "La mejor precisión de Validation Loss (0.3482085665067037) se alcanzó en la época 17\n"
          ]
        },
        {
          "data": {
            "application/vnd.jupyter.widget-view+json": {
              "model_id": "97568ab5b179446a98ad71d792233fe0",
              "version_major": 2,
              "version_minor": 0
            },
            "text/plain": [
              "  0%|          | 0/13 [00:00<?, ?batch/s]"
            ]
          },
          "metadata": {},
          "output_type": "display_data"
        },
        {
          "name": "stdout",
          "output_type": "stream",
          "text": [
            "Epoch 76 Training Accuracy = 0.9740932642487047\n",
            "Epoch 76 Training Loss = 0.07249591866305455\n",
            "Epoch 76 Validation Accuracy = 0.7447916666666666\n",
            "Epoch 76 Validation Loss = 0.8501614530881246\n",
            "La mejor precisión de Validation Loss (0.3482085665067037) se alcanzó en la época 17\n"
          ]
        },
        {
          "data": {
            "application/vnd.jupyter.widget-view+json": {
              "model_id": "633790b67d9c4f1ba7fa54f3d9852373",
              "version_major": 2,
              "version_minor": 0
            },
            "text/plain": [
              "  0%|          | 0/13 [00:00<?, ?batch/s]"
            ]
          },
          "metadata": {},
          "output_type": "display_data"
        },
        {
          "name": "stdout",
          "output_type": "stream",
          "text": [
            "Epoch 77 Training Accuracy = 0.9753886010362695\n",
            "Epoch 77 Training Loss = 0.08387703313419856\n",
            "Epoch 77 Validation Accuracy = 0.7864583333333334\n",
            "Epoch 77 Validation Loss = 0.5723493496576945\n",
            "La mejor precisión de Validation Loss (0.3482085665067037) se alcanzó en la época 17\n"
          ]
        },
        {
          "data": {
            "application/vnd.jupyter.widget-view+json": {
              "model_id": "febcd89b19864757a1d11bca6da858d9",
              "version_major": 2,
              "version_minor": 0
            },
            "text/plain": [
              "  0%|          | 0/13 [00:00<?, ?batch/s]"
            ]
          },
          "metadata": {},
          "output_type": "display_data"
        },
        {
          "name": "stdout",
          "output_type": "stream",
          "text": [
            "Epoch 78 Training Accuracy = 0.9922279792746114\n",
            "Epoch 78 Training Loss = 0.046840254892957026\n",
            "Epoch 78 Validation Accuracy = 0.8020833333333334\n",
            "Epoch 78 Validation Loss = 0.5517790218194326\n",
            "La mejor precisión de Validation Loss (0.3482085665067037) se alcanzó en la época 17\n"
          ]
        },
        {
          "data": {
            "application/vnd.jupyter.widget-view+json": {
              "model_id": "32f942d2735e460b866becda8f4e322f",
              "version_major": 2,
              "version_minor": 0
            },
            "text/plain": [
              "  0%|          | 0/13 [00:00<?, ?batch/s]"
            ]
          },
          "metadata": {},
          "output_type": "display_data"
        },
        {
          "name": "stdout",
          "output_type": "stream",
          "text": [
            "Epoch 79 Training Accuracy = 0.9922279792746114\n",
            "Epoch 79 Training Loss = 0.03575071692466736\n",
            "Epoch 79 Validation Accuracy = 0.78125\n",
            "Epoch 79 Validation Loss = 0.7329196333885193\n",
            "La mejor precisión de Validation Loss (0.3482085665067037) se alcanzó en la época 17\n"
          ]
        },
        {
          "data": {
            "application/vnd.jupyter.widget-view+json": {
              "model_id": "7d89c1eedb904647a4d00b9d6d1d6571",
              "version_major": 2,
              "version_minor": 0
            },
            "text/plain": [
              "  0%|          | 0/13 [00:00<?, ?batch/s]"
            ]
          },
          "metadata": {},
          "output_type": "display_data"
        },
        {
          "name": "stdout",
          "output_type": "stream",
          "text": [
            "Epoch 80 Training Accuracy = 0.9805699481865285\n",
            "Epoch 80 Training Loss = 0.05922459482837835\n",
            "Epoch 80 Validation Accuracy = 0.7864583333333334\n",
            "Epoch 80 Validation Loss = 0.6998212337493896\n",
            "La mejor precisión de Validation Loss (0.3482085665067037) se alcanzó en la época 17\n"
          ]
        },
        {
          "data": {
            "application/vnd.jupyter.widget-view+json": {
              "model_id": "b6bad50c4d75448db4d0f23fe8b4894c",
              "version_major": 2,
              "version_minor": 0
            },
            "text/plain": [
              "  0%|          | 0/13 [00:00<?, ?batch/s]"
            ]
          },
          "metadata": {},
          "output_type": "display_data"
        },
        {
          "name": "stdout",
          "output_type": "stream",
          "text": [
            "Epoch 81 Training Accuracy = 0.9844559585492227\n",
            "Epoch 81 Training Loss = 0.04675596222821913\n",
            "Epoch 81 Validation Accuracy = 0.7916666666666666\n",
            "Epoch 81 Validation Loss = 0.6518437365690867\n",
            "La mejor precisión de Validation Loss (0.3482085665067037) se alcanzó en la época 17\n"
          ]
        },
        {
          "data": {
            "application/vnd.jupyter.widget-view+json": {
              "model_id": "7ae1cbcc0cc54f33ab383757f3993b55",
              "version_major": 2,
              "version_minor": 0
            },
            "text/plain": [
              "  0%|          | 0/13 [00:00<?, ?batch/s]"
            ]
          },
          "metadata": {},
          "output_type": "display_data"
        },
        {
          "name": "stdout",
          "output_type": "stream",
          "text": [
            "Epoch 82 Training Accuracy = 0.9922279792746114\n",
            "Epoch 82 Training Loss = 0.03382121170316026\n",
            "Epoch 82 Validation Accuracy = 0.7864583333333334\n",
            "Epoch 82 Validation Loss = 0.7320815523465475\n",
            "La mejor precisión de Validation Loss (0.3482085665067037) se alcanzó en la época 17\n"
          ]
        },
        {
          "data": {
            "application/vnd.jupyter.widget-view+json": {
              "model_id": "3269b2be4149430bbb2d7a43c1095eed",
              "version_major": 2,
              "version_minor": 0
            },
            "text/plain": [
              "  0%|          | 0/13 [00:00<?, ?batch/s]"
            ]
          },
          "metadata": {},
          "output_type": "display_data"
        },
        {
          "name": "stdout",
          "output_type": "stream",
          "text": [
            "Epoch 83 Training Accuracy = 0.9935233160621761\n",
            "Epoch 83 Training Loss = 0.023006595980009266\n",
            "Epoch 83 Validation Accuracy = 0.7864583333333334\n",
            "Epoch 83 Validation Loss = 0.6786190668741862\n",
            "La mejor precisión de Validation Loss (0.3482085665067037) se alcanzó en la época 17\n"
          ]
        },
        {
          "data": {
            "application/vnd.jupyter.widget-view+json": {
              "model_id": "53b1f9c1407040a9a3bbb128b58160ab",
              "version_major": 2,
              "version_minor": 0
            },
            "text/plain": [
              "  0%|          | 0/13 [00:00<?, ?batch/s]"
            ]
          },
          "metadata": {},
          "output_type": "display_data"
        },
        {
          "name": "stdout",
          "output_type": "stream",
          "text": [
            "Epoch 84 Training Accuracy = 1.0\n",
            "Epoch 84 Training Loss = 0.005701244627777004\n",
            "Epoch 84 Validation Accuracy = 0.8072916666666666\n",
            "Epoch 84 Validation Loss = 0.6998841563860575\n",
            "La mejor precisión de Validation Loss (0.3482085665067037) se alcanzó en la época 17\n"
          ]
        },
        {
          "data": {
            "application/vnd.jupyter.widget-view+json": {
              "model_id": "15aefcc332e5444097800f93a3184ad0",
              "version_major": 2,
              "version_minor": 0
            },
            "text/plain": [
              "  0%|          | 0/13 [00:00<?, ?batch/s]"
            ]
          },
          "metadata": {},
          "output_type": "display_data"
        },
        {
          "name": "stdout",
          "output_type": "stream",
          "text": [
            "Epoch 85 Training Accuracy = 1.0\n",
            "Epoch 85 Training Loss = 0.006566236625604061\n",
            "Epoch 85 Validation Accuracy = 0.8125\n",
            "Epoch 85 Validation Loss = 0.6959799329439799\n",
            "La mejor precisión de Validation Loss (0.3482085665067037) se alcanzó en la época 17\n"
          ]
        },
        {
          "data": {
            "application/vnd.jupyter.widget-view+json": {
              "model_id": "234d5373d4ef47e79ffdb1fb78bfb770",
              "version_major": 2,
              "version_minor": 0
            },
            "text/plain": [
              "  0%|          | 0/13 [00:00<?, ?batch/s]"
            ]
          },
          "metadata": {},
          "output_type": "display_data"
        },
        {
          "name": "stdout",
          "output_type": "stream",
          "text": [
            "Epoch 86 Training Accuracy = 0.9987046632124352\n",
            "Epoch 86 Training Loss = 0.006937155731678627\n",
            "Epoch 86 Validation Accuracy = 0.78125\n",
            "Epoch 86 Validation Loss = 0.6802228093147278\n",
            "La mejor precisión de Validation Loss (0.3482085665067037) se alcanzó en la época 17\n"
          ]
        },
        {
          "data": {
            "application/vnd.jupyter.widget-view+json": {
              "model_id": "878e56e89c844db6b00dc4a33e6a6140",
              "version_major": 2,
              "version_minor": 0
            },
            "text/plain": [
              "  0%|          | 0/13 [00:00<?, ?batch/s]"
            ]
          },
          "metadata": {},
          "output_type": "display_data"
        },
        {
          "name": "stdout",
          "output_type": "stream",
          "text": [
            "Epoch 87 Training Accuracy = 0.9922279792746114\n",
            "Epoch 87 Training Loss = 0.023946869191882523\n",
            "Epoch 87 Validation Accuracy = 0.7864583333333334\n",
            "Epoch 87 Validation Loss = 0.8085905512173971\n",
            "La mejor precisión de Validation Loss (0.3482085665067037) se alcanzó en la época 17\n"
          ]
        },
        {
          "data": {
            "application/vnd.jupyter.widget-view+json": {
              "model_id": "dfd8f0a5828b4f35b8212f1430c17445",
              "version_major": 2,
              "version_minor": 0
            },
            "text/plain": [
              "  0%|          | 0/13 [00:00<?, ?batch/s]"
            ]
          },
          "metadata": {},
          "output_type": "display_data"
        },
        {
          "name": "stdout",
          "output_type": "stream",
          "text": [
            "Epoch 88 Training Accuracy = 0.9974093264248705\n",
            "Epoch 88 Training Loss = 0.013681552783040802\n",
            "Epoch 88 Validation Accuracy = 0.78125\n",
            "Epoch 88 Validation Loss = 0.7382778724034628\n",
            "La mejor precisión de Validation Loss (0.3482085665067037) se alcanzó en la época 17\n"
          ]
        },
        {
          "data": {
            "application/vnd.jupyter.widget-view+json": {
              "model_id": "c3673f8635814c56b2f53d7c02d57d43",
              "version_major": 2,
              "version_minor": 0
            },
            "text/plain": [
              "  0%|          | 0/13 [00:00<?, ?batch/s]"
            ]
          },
          "metadata": {},
          "output_type": "display_data"
        },
        {
          "name": "stdout",
          "output_type": "stream",
          "text": [
            "Epoch 89 Training Accuracy = 0.9935233160621761\n",
            "Epoch 89 Training Loss = 0.021037593406716775\n",
            "Epoch 89 Validation Accuracy = 0.7604166666666666\n",
            "Epoch 89 Validation Loss = 0.9161428014437357\n",
            "La mejor precisión de Validation Loss (0.3482085665067037) se alcanzó en la época 17\n"
          ]
        },
        {
          "data": {
            "application/vnd.jupyter.widget-view+json": {
              "model_id": "3be5ca5237b9439a9421d1d2b2c57d66",
              "version_major": 2,
              "version_minor": 0
            },
            "text/plain": [
              "  0%|          | 0/13 [00:00<?, ?batch/s]"
            ]
          },
          "metadata": {},
          "output_type": "display_data"
        },
        {
          "name": "stdout",
          "output_type": "stream",
          "text": [
            "Epoch 90 Training Accuracy = 0.9831606217616581\n",
            "Epoch 90 Training Loss = 0.05051858333262755\n",
            "Epoch 90 Validation Accuracy = 0.71875\n",
            "Epoch 90 Validation Loss = 0.9735333919525146\n",
            "La mejor precisión de Validation Loss (0.3482085665067037) se alcanzó en la época 17\n"
          ]
        },
        {
          "data": {
            "application/vnd.jupyter.widget-view+json": {
              "model_id": "f28f520b038e462e8506add5997a7aa6",
              "version_major": 2,
              "version_minor": 0
            },
            "text/plain": [
              "  0%|          | 0/13 [00:00<?, ?batch/s]"
            ]
          },
          "metadata": {},
          "output_type": "display_data"
        },
        {
          "name": "stdout",
          "output_type": "stream",
          "text": [
            "Epoch 91 Training Accuracy = 0.9792746113989638\n",
            "Epoch 91 Training Loss = 0.05143043257952354\n",
            "Epoch 91 Validation Accuracy = 0.8125\n",
            "Epoch 91 Validation Loss = 0.6875622272491455\n",
            "La mejor precisión de Validation Loss (0.3482085665067037) se alcanzó en la época 17\n"
          ]
        },
        {
          "data": {
            "application/vnd.jupyter.widget-view+json": {
              "model_id": "f289ad0b33384bf9b263ebd4c79e0f67",
              "version_major": 2,
              "version_minor": 0
            },
            "text/plain": [
              "  0%|          | 0/13 [00:00<?, ?batch/s]"
            ]
          },
          "metadata": {},
          "output_type": "display_data"
        },
        {
          "name": "stdout",
          "output_type": "stream",
          "text": [
            "Epoch 92 Training Accuracy = 0.9870466321243523\n",
            "Epoch 92 Training Loss = 0.0476885658720209\n",
            "Epoch 92 Validation Accuracy = 0.7760416666666666\n",
            "Epoch 92 Validation Loss = 0.7443363666534424\n",
            "La mejor precisión de Validation Loss (0.3482085665067037) se alcanzó en la época 17\n"
          ]
        },
        {
          "data": {
            "application/vnd.jupyter.widget-view+json": {
              "model_id": "d7916f3e91b44ced9d2481b16eee0e7d",
              "version_major": 2,
              "version_minor": 0
            },
            "text/plain": [
              "  0%|          | 0/13 [00:00<?, ?batch/s]"
            ]
          },
          "metadata": {},
          "output_type": "display_data"
        },
        {
          "name": "stdout",
          "output_type": "stream",
          "text": [
            "Epoch 93 Training Accuracy = 0.9935233160621761\n",
            "Epoch 93 Training Loss = 0.022742694562272087\n",
            "Epoch 93 Validation Accuracy = 0.8072916666666666\n",
            "Epoch 93 Validation Loss = 0.7492301265398661\n",
            "La mejor precisión de Validation Loss (0.3482085665067037) se alcanzó en la época 17\n"
          ]
        },
        {
          "data": {
            "application/vnd.jupyter.widget-view+json": {
              "model_id": "14e3660fdcdb4b6bab9aebae516b72b7",
              "version_major": 2,
              "version_minor": 0
            },
            "text/plain": [
              "  0%|          | 0/13 [00:00<?, ?batch/s]"
            ]
          },
          "metadata": {},
          "output_type": "display_data"
        },
        {
          "name": "stdout",
          "output_type": "stream",
          "text": [
            "Epoch 94 Training Accuracy = 0.9948186528497409\n",
            "Epoch 94 Training Loss = 0.02713649295309047\n",
            "Epoch 94 Validation Accuracy = 0.7864583333333334\n",
            "Epoch 94 Validation Loss = 0.9176609317461649\n",
            "La mejor precisión de Validation Loss (0.3482085665067037) se alcanzó en la época 17\n"
          ]
        },
        {
          "data": {
            "application/vnd.jupyter.widget-view+json": {
              "model_id": "6a17f99b8acd454d97788b1237079d5f",
              "version_major": 2,
              "version_minor": 0
            },
            "text/plain": [
              "  0%|          | 0/13 [00:00<?, ?batch/s]"
            ]
          },
          "metadata": {},
          "output_type": "display_data"
        },
        {
          "name": "stdout",
          "output_type": "stream",
          "text": [
            "Epoch 95 Training Accuracy = 0.9689119170984456\n",
            "Epoch 95 Training Loss = 0.07136819955598506\n",
            "Epoch 95 Validation Accuracy = 0.8125\n",
            "Epoch 95 Validation Loss = 0.8773939808209738\n",
            "La mejor precisión de Validation Loss (0.3482085665067037) se alcanzó en la época 17\n"
          ]
        },
        {
          "data": {
            "application/vnd.jupyter.widget-view+json": {
              "model_id": "f697699df9594a07a5f409fc1fd7daf7",
              "version_major": 2,
              "version_minor": 0
            },
            "text/plain": [
              "  0%|          | 0/13 [00:00<?, ?batch/s]"
            ]
          },
          "metadata": {},
          "output_type": "display_data"
        },
        {
          "name": "stdout",
          "output_type": "stream",
          "text": [
            "Epoch 96 Training Accuracy = 0.9520725388601037\n",
            "Epoch 96 Training Loss = 0.1258438441111016\n",
            "Epoch 96 Validation Accuracy = 0.71875\n",
            "Epoch 96 Validation Loss = 1.1242780884106953\n",
            "La mejor precisión de Validation Loss (0.3482085665067037) se alcanzó en la época 17\n"
          ]
        },
        {
          "data": {
            "application/vnd.jupyter.widget-view+json": {
              "model_id": "076fd0a3ab9042b0b8b2cf5efbdda2a4",
              "version_major": 2,
              "version_minor": 0
            },
            "text/plain": [
              "  0%|          | 0/13 [00:00<?, ?batch/s]"
            ]
          },
          "metadata": {},
          "output_type": "display_data"
        },
        {
          "name": "stdout",
          "output_type": "stream",
          "text": [
            "Epoch 97 Training Accuracy = 0.9702072538860104\n",
            "Epoch 97 Training Loss = 0.08298885513463786\n",
            "Epoch 97 Validation Accuracy = 0.7864583333333334\n",
            "Epoch 97 Validation Loss = 0.7445273399353027\n",
            "La mejor precisión de Validation Loss (0.3482085665067037) se alcanzó en la época 17\n"
          ]
        },
        {
          "data": {
            "application/vnd.jupyter.widget-view+json": {
              "model_id": "82556c750f4e4e52b94d0bc4403601b7",
              "version_major": 2,
              "version_minor": 0
            },
            "text/plain": [
              "  0%|          | 0/13 [00:00<?, ?batch/s]"
            ]
          },
          "metadata": {},
          "output_type": "display_data"
        },
        {
          "name": "stdout",
          "output_type": "stream",
          "text": [
            "Epoch 98 Training Accuracy = 0.9909326424870466\n",
            "Epoch 98 Training Loss = 0.03625057133908716\n",
            "Epoch 98 Validation Accuracy = 0.8072916666666666\n",
            "Epoch 98 Validation Loss = 0.6003884971141815\n",
            "La mejor precisión de Validation Loss (0.3482085665067037) se alcanzó en la época 17\n"
          ]
        },
        {
          "data": {
            "application/vnd.jupyter.widget-view+json": {
              "model_id": "6be916b09895416082701a2a1eb99138",
              "version_major": 2,
              "version_minor": 0
            },
            "text/plain": [
              "  0%|          | 0/13 [00:00<?, ?batch/s]"
            ]
          },
          "metadata": {},
          "output_type": "display_data"
        },
        {
          "name": "stdout",
          "output_type": "stream",
          "text": [
            "Epoch 99 Training Accuracy = 0.9948186528497409\n",
            "Epoch 99 Training Loss = 0.030193751880541984\n",
            "Epoch 99 Validation Accuracy = 0.8072916666666666\n",
            "Epoch 99 Validation Loss = 0.5515102644761404\n",
            "La mejor precisión de Validation Loss (0.3482085665067037) se alcanzó en la época 17\n"
          ]
        },
        {
          "data": {
            "application/vnd.jupyter.widget-view+json": {
              "model_id": "1ceb58c5ed3d4c41a817e543187c369e",
              "version_major": 2,
              "version_minor": 0
            },
            "text/plain": [
              "  0%|          | 0/13 [00:00<?, ?batch/s]"
            ]
          },
          "metadata": {},
          "output_type": "display_data"
        },
        {
          "name": "stdout",
          "output_type": "stream",
          "text": [
            "Epoch 100 Training Accuracy = 0.9935233160621761\n",
            "Epoch 100 Training Loss = 0.022065316109768467\n",
            "Epoch 100 Validation Accuracy = 0.8177083333333334\n",
            "Epoch 100 Validation Loss = 0.5610427757104238\n",
            "La mejor precisión de Validation Loss (0.3482085665067037) se alcanzó en la época 17\n"
          ]
        }
      ],
      "source": [
        "train_loss = []  # Lista para almacenar las pérdidas de entrenamiento\n",
        "train_accuracy = []  # Lista para almacenar la precisión de entrenamiento\n",
        "val_loss = []  # Lista para almacenar las pérdidas de validación\n",
        "val_accuracy = []  # Lista para almacenar la precisión de validación\n",
        "best_val_loss = float('inf')  # Inicializa la mejor pérdida de validación como infinito\n",
        "best_epoch = 0  # Inicializa la mejor época como 0\n",
        "\n",
        "\n",
        "for epoch in range(epochs):\n",
        "    model.train()\n",
        "    total = 0\n",
        "    correct = 0\n",
        "    counter = 0\n",
        "    train_running_loss = 0\n",
        "\n",
        "    # Utiliza tqdm para mostrar una barra de progreso durante el entrenamiento\n",
        "    with tqdm(train_loader, unit=\"batch\") as tepoch:  # Utiliza train_loader en lugar de train_dataset\n",
        "        # Etiqueta de la barra de progreso\n",
        "        tepoch.set_description(f'Epoch {epoch+1}/{epochs}')\n",
        "\n",
        "        for images, labels in tepoch:  # Utiliza tepoch como iterable\n",
        "            images = images.to(device)\n",
        "            labels = labels.to(device)\n",
        "\n",
        "            optimizer.zero_grad()\n",
        "            outputs = model(images)\n",
        "            loss = criterion(outputs, labels)\n",
        "            loss.backward()\n",
        "            optimizer.step()\n",
        "\n",
        "            train_running_loss += loss.item() * images.size(0)\n",
        "\n",
        "            _, pred = torch.max(outputs.data, 1)\n",
        "\n",
        "            # Lleva un registro de cuántas imágenes se han propagado hacia adelante\n",
        "            total += labels.size(0)\n",
        "            # Lleva un registro de cuántas se predijeron correctamente\n",
        "            correct += (pred == labels).sum().item()\n",
        "\n",
        "            # Actualiza la barra de progreso con la pérdida actual\n",
        "            tepoch.set_postfix(loss=train_running_loss/total)  # Puedes mostrar la pérdida en la barra de progreso\n",
        "\n",
        "        train_accuracy.append(correct/total)\n",
        "        train_loss.append(train_running_loss/len(train_dataset))\n",
        "\n",
        "        print(f'Epoch {epoch+1} Training Accuracy = {correct/total}')\n",
        "        print(f'Epoch {epoch+1} Training Loss = {train_running_loss/len(train_dataset)}')\n",
        "\n",
        "    # Obtén nuestra precisión y pérdida de validación\n",
        "    if epoch %1 == 0:\n",
        "        model.eval()\n",
        "        total = 0\n",
        "        correct = 0\n",
        "        val_running_loss = 0\n",
        "\n",
        "        # No necesitamos gradientes para la validación, así que envuélvelo en no_grad para ahorrar memoria\n",
        "        with torch.no_grad():\n",
        "            for images, labels in val_loader:\n",
        "                images, labels = images.to(device), labels.to(device)\n",
        "                val_output = model(images)\n",
        "                loss_val = criterion(val_output, labels)\n",
        "\n",
        "                # Calcula la pérdida acumulada multiplicando el valor de pérdida por el tamaño del lote\n",
        "                val_running_loss += loss_val.item() * images.size(0)\n",
        "                _, pred = torch.max(val_output.data, 1)\n",
        "                total += labels.size(0)\n",
        "                correct += (pred == labels).sum().item()\n",
        "\n",
        "            val_accuracy.append(correct/total)\n",
        "            # Calcula la pérdida por época dividiendo la pérdida acumulada por el número de elementos en el conjunto de validación\n",
        "            val_loss.append(val_running_loss/len(validation_dataset))\n",
        "\n",
        "            # Actualiza la variable best_val_loss y guarda los pesos del modelo si la pérdida de validación actual es mejor.\n",
        "            if val_loss[-1] < best_val_loss:\n",
        "                best_val_loss = val_loss[-1]\n",
        "                # Guarda los pesos del modelo en variables para almacenarlo al finalizar el entrenamiento.\n",
        "                best_epoch = epoch\n",
        "                best_model_name = \"mejor_modelo.pth\"\n",
        "                best_model_dict = model.state_dict()\n",
        "                #torch.save(model.state_dict(), best_model_name)\n",
        "                best_model = model\n",
        "\n",
        "            print(f'Epoch {epoch+1} Validation Accuracy = {correct/total}')\n",
        "            print(f'Epoch {epoch+1} Validation Loss = {val_running_loss/len(validation_dataset)}')\n",
        "            print(f\"La mejor precisión de Validation Loss ({best_val_loss}) se alcanzó en la época {best_epoch + 1}\")\n",
        "\n",
        "            # Guarda los pesos del modelo en un archivo.\n",
        "torch.save(best_model_dict, best_model_name)"
      ]
    },
    {
      "cell_type": "markdown",
      "id": "38a1e3d6",
      "metadata": {
        "id": "38a1e3d6",
        "papermill": {
          "duration": 0.022916,
          "end_time": "2023-10-04T15:38:21.655973",
          "exception": false,
          "start_time": "2023-10-04T15:38:21.633057",
          "status": "completed"
        },
        "tags": []
      },
      "source": [
        "# **Visualización de Pérdida y Precisión durante el Entrenamiento**"
      ]
    },
    {
      "cell_type": "markdown",
      "source": [
        "Este bloque de código genera una gráfica que muestra la pérdida y la precisión del modelo en el conjunto de entrenamiento y validación a lo largo de las épocas.\n",
        "\n",
        "- `epoch_log`: Lista que contiene el número de épocas.\n",
        "- Se crea una figura con dos subgráficos (uno para pérdida y otro para precisión) utilizando Matplotlib.\n",
        "- Se establece un título general y etiquetas para los ejes x e y.\n",
        "- Se crean líneas para las curvas de pérdida y precisión del entrenamiento, así como para las del conjunto de validación.\n",
        "- Se configuran los ejes y leyendas para ambos subgráficos.\n",
        "- Se ajusta el espaciado entre los subgráficos para mejorar la visualización.\n",
        "- La gráfica se guarda como un archivo PDF y se muestra.\n",
        "\n",
        "Este bloque proporciona una representación visual del rendimiento del modelo a lo largo de las épocas, lo que facilita la interpretación de su entrenamiento y validación."
      ],
      "metadata": {
        "id": "eDk6fSFv14UM"
      },
      "id": "eDk6fSFv14UM"
    },
    {
      "cell_type": "code",
      "execution_count": null,
      "id": "945f68d2",
      "metadata": {
        "execution": {
          "iopub.execute_input": "2023-10-04T15:38:21.703901Z",
          "iopub.status.busy": "2023-10-04T15:38:21.703024Z",
          "iopub.status.idle": "2023-10-04T15:38:22.915227Z",
          "shell.execute_reply": "2023-10-04T15:38:22.914209Z"
        },
        "id": "945f68d2",
        "outputId": "a4b47cfc-8f29-42ec-d065-1d4ccea160a8",
        "papermill": {
          "duration": 1.23858,
          "end_time": "2023-10-04T15:38:22.917891",
          "exception": false,
          "start_time": "2023-10-04T15:38:21.679311",
          "status": "completed"
        },
        "tags": []
      },
      "outputs": [
        {
          "data": {
            "image/png": "[encoded data removed]",
            "text/plain": [
              "<Figure size 1000x800 with 2 Axes>"
            ]
          },
          "metadata": {},
          "output_type": "display_data"
        }
      ],
      "source": [
        "epoch_log = [*range(epochs)]\n",
        "\n",
        "# Crear la figura y los ejes\n",
        "fig, (ax1, ax2) = plt.subplots(2, 1, figsize=(10, 8))  # 2 filas, 1 columna\n",
        "\n",
        "# Título y rotación del eje x\n",
        "fig.suptitle(\"Training Loss & Accuracy vs Epoch\", fontsize=16)\n",
        "ax2.set_xlabel('Epochs')\n",
        "\n",
        "# Crear las líneas para los datos de entrenamiento (colores y estilos personalizados)\n",
        "ax1.plot(epoch_log, train_loss, color='red', linestyle='-', marker='o', label='Training Loss')\n",
        "ax2.plot(epoch_log, train_accuracy, color='blue', linestyle='--', marker='o', label='Training Accuracy')\n",
        "\n",
        "# Crear las líneas para los datos de validación (colores y estilos personalizados)\n",
        "ax1.plot(epoch_log, val_loss, color='green', linestyle='-.', marker='o', label='Validation Loss')\n",
        "ax2.plot(epoch_log, val_accuracy, color='purple', linestyle=':', marker='o', label='Validation Accuracy')\n",
        "\n",
        "# Configurar ejes y leyendas para el primer subgráfico (pérdida)\n",
        "ax1.set_ylabel('Loss', color='black')\n",
        "ax1.tick_params(axis='y', labelcolor='black')\n",
        "ax1.legend(loc='upper left')\n",
        "\n",
        "# Configurar ejes y leyendas para el segundo subgráfico (precisión)\n",
        "ax2.set_ylabel('Accuracy', color='black')\n",
        "ax2.tick_params(axis='y', labelcolor='black')\n",
        "ax2.legend(loc='upper left')\n",
        "\n",
        "# Ajustar el espaciado entre los subgráficos\n",
        "plt.tight_layout()\n",
        "\n",
        "    # Nombre del archivo PDF\n",
        "pdf_filename = \"graficaFold2_Loss&AccvsEpoch.pdf\"\n",
        "\n",
        "    # Guardar la gráfica en un archivo PDF\n",
        "plt.savefig(pdf_filename, format='pdf')\n",
        "\n",
        "# Mostrar la gráfica\n",
        "plt.show()"
      ]
    },
    {
      "cell_type": "markdown",
      "id": "a6e62416",
      "metadata": {
        "id": "a6e62416",
        "papermill": {
          "duration": 0.024931,
          "end_time": "2023-10-04T15:38:22.968227",
          "exception": false,
          "start_time": "2023-10-04T15:38:22.943296",
          "status": "completed"
        },
        "tags": []
      },
      "source": [
        "# **Evaluación del Modelo en el Conjunto de Prueba**"
      ]
    },
    {
      "cell_type": "markdown",
      "source": [
        "Este bloque de código realiza la evaluación final del modelo en el conjunto de prueba y calcula diversas métricas de rendimiento, incluyendo la precisión, recall y F1-score.\n",
        "\n",
        "- `all_predictions` y `all_labels`: Listas para almacenar las predicciones del modelo y las etiquetas reales en el conjunto de prueba.\n",
        "- Se inicializa un modelo ResNet50 sin pesos preentrenados y se modifica la capa de clasificación para dos clases.\n",
        "- Se cargan los pesos entrenados desde el archivo (\"mejor_modelo.pth\").\n",
        "- Se mueve el modelo al dispositivo de evaluación (GPU si está disponible).\n",
        "- Se establece el modelo en modo de evaluación.\n",
        "- Se inicializan variables para las métricas, incluyendo el número total de predicciones correctas y el número total de muestras en el conjunto de prueba.\n",
        "- Se inicializa una matriz de confusión.\n",
        "- Se realiza un bucle de prueba sobre el conjunto de prueba, sin realizar cálculos de gradiente.\n",
        "- Se almacenan las predicciones y etiquetas reales para cálculos posteriores.\n",
        "- Se calculan las métricas finales, incluyendo la precisión, recall y F1-score.\n",
        "\n",
        "Este bloque proporciona una evaluación cuantitativa del rendimiento del modelo en datos no vistos, permitiendo una comprensión más completa de su capacidad para generalizar."
      ],
      "metadata": {
        "id": "VO0NbRA52CfN"
      },
      "id": "VO0NbRA52CfN"
    },
    {
      "cell_type": "code",
      "execution_count": null,
      "id": "ca4f8d11",
      "metadata": {
        "execution": {
          "iopub.execute_input": "2023-10-04T15:38:23.018895Z",
          "iopub.status.busy": "2023-10-04T15:38:23.018430Z",
          "iopub.status.idle": "2023-10-04T15:38:30.800691Z",
          "shell.execute_reply": "2023-10-04T15:38:30.799662Z"
        },
        "papermill": {
          "duration": 7.809965,
          "end_time": "2023-10-04T15:38:30.802686",
          "exception": false,
          "start_time": "2023-10-04T15:38:22.992721",
          "status": "completed"
        },
        "tags": [],
        "id": "ca4f8d11",
        "outputId": "827df3c2-b6de-43fb-d085-d216bc57f506"
      },
      "outputs": [
        {
          "name": "stderr",
          "output_type": "stream",
          "text": [
            "/opt/conda/lib/python3.10/site-packages/torchvision/models/_utils.py:208: UserWarning: The parameter 'pretrained' is deprecated since 0.13 and may be removed in the future, please use 'weights' instead.\n",
            "  warnings.warn(\n",
            "/opt/conda/lib/python3.10/site-packages/torchvision/models/_utils.py:223: UserWarning: Arguments other than a weight enum or `None` for 'weights' are deprecated since 0.13 and may be removed in the future. The current behavior is equivalent to passing `weights=None`.\n",
            "  warnings.warn(msg)\n",
            "/opt/conda/lib/python3.10/site-packages/torchvision/transforms/functional.py:1603: UserWarning: The default value of the antialias parameter of all the resizing transforms (Resize(), RandomResizedCrop(), etc.) will change from None to True in v0.17, in order to be consistent across the PIL and Tensor backends. To suppress this warning, directly pass antialias=True (recommended, future default), antialias=None (current default, which means False for Tensors and True for PIL), or antialias=False (only works on Tensors - PIL will still use antialiasing). This also applies if you are using the inference transforms from the models weights: update the call to weights.transforms(antialias=True).\n",
            "  warnings.warn(\n"
          ]
        },
        {
          "name": "stdout",
          "output_type": "stream",
          "text": [
            "Resultados con el mejor modelo\n"
          ]
        }
      ],
      "source": [
        "# Inicializa listas para almacenar las predicciones y etiquetas reales\n",
        "all_predictions = []\n",
        "all_labels = []\n",
        "\n",
        "model = models.resnet50(pretrained=False)\n",
        "# Modificar la capa de clasificación para dos clases\n",
        "num_features = model.fc.in_features\n",
        "model.fc = nn.Linear(num_features, num_classes) # Dos clases\n",
        "# Cargar los pesos entrenados desde el archivo\n",
        "\n",
        "model.load_state_dict(torch.load('mejor_modelo.pth'))\n",
        "\n",
        "model.to(device)\n",
        "\n",
        "# Cambiar el modelo a modo de evaluación\n",
        "model.eval()\n",
        "\n",
        "# Inicializa variables para las métricas\n",
        "total_correct = 0\n",
        "total_samples = 0\n",
        "\n",
        "# Inicializa la matriz de confusión\n",
        "confusion = torch.zeros(num_classes, num_classes)\n",
        "\n",
        "# Realiza el bucle de prueba\n",
        "with torch.no_grad():\n",
        "    for images, labels in test_loader:\n",
        "        images = images.to(device)\n",
        "        labels = labels.to(device)\n",
        "\n",
        "        # Realiza predicciones\n",
        "        outputs = model(images)\n",
        "        _, predictions = torch.max(outputs, 1)\n",
        "\n",
        "        # Calcula la matriz de confusión\n",
        "        for t, p in zip(labels.view(-1), predictions.view(-1)):\n",
        "            confusion[t.long(), p.long()] += 1\n",
        "\n",
        "        # Calcula las métricas\n",
        "        total_samples += labels.size(0)\n",
        "        total_correct += (predictions == labels).sum().item()\n",
        "\n",
        "        # Almacena las predicciones y etiquetas reales para cálculos posteriores\n",
        "        all_predictions.extend(predictions.cpu().numpy())\n",
        "        all_labels.extend(labels.cpu().numpy())\n",
        "\n",
        "# Calcula métricas finales\n",
        "print('Resultados con el mejor modelo')\n",
        "accuracy = total_correct / total_samples\n",
        "precision = precision_score(all_labels, all_predictions, average='micro')\n",
        "recall = recall_score(all_labels, all_predictions)\n",
        "f1 = f1_score(all_labels, all_predictions)"
      ]
    },
    {
      "cell_type": "markdown",
      "id": "b2673ee7",
      "metadata": {
        "papermill": {
          "duration": 0.024792,
          "end_time": "2023-10-04T15:38:30.855115",
          "exception": false,
          "start_time": "2023-10-04T15:38:30.830323",
          "status": "completed"
        },
        "tags": [],
        "id": "b2673ee7"
      },
      "source": [
        "# **Impresión de Métricas**"
      ]
    },
    {
      "cell_type": "markdown",
      "source": [
        "Este bloque de código imprime las métricas de rendimiento calculadas en el bloque anterior.\n",
        "\n",
        "- Se imprime la precisión (`accuracy`), la precisión ponderada (`precision`), el recall (`recall`) y el F1-score (`f1`) en el conjunto de prueba.\n",
        "\n",
        "La impresión de estas métricas proporciona información detallada sobre el rendimiento del modelo en términos de su capacidad para clasificar correctamente las muestras en el conjunto de prueba. Estas métricas son fundamentales para evaluar la eficacia del modelo y su idoneidad para la tarea específica de clasificación binaria."
      ],
      "metadata": {
        "id": "d_AjZ4hK2LpZ"
      },
      "id": "d_AjZ4hK2LpZ"
    },
    {
      "cell_type": "code",
      "execution_count": null,
      "id": "f7757719",
      "metadata": {
        "execution": {
          "iopub.execute_input": "2023-10-04T15:38:30.906240Z",
          "iopub.status.busy": "2023-10-04T15:38:30.905969Z",
          "iopub.status.idle": "2023-10-04T15:38:30.910662Z",
          "shell.execute_reply": "2023-10-04T15:38:30.909852Z"
        },
        "papermill": {
          "duration": 0.032325,
          "end_time": "2023-10-04T15:38:30.912572",
          "exception": false,
          "start_time": "2023-10-04T15:38:30.880247",
          "status": "completed"
        },
        "tags": [],
        "id": "f7757719",
        "outputId": "c76fd2f1-437b-4cf7-cbc1-6eb2c20b4f6b"
      },
      "outputs": [
        {
          "name": "stdout",
          "output_type": "stream",
          "text": [
            "Accuracy: 0.8541666666666666\n",
            "Precision: 0.8541666666666666\n",
            "Recall: 0.8257575757575758\n",
            "F1-Score: 0.8616600790513834\n"
          ]
        }
      ],
      "source": [
        "# Imprime las métricas\n",
        "print(f'Accuracy: {accuracy}')\n",
        "print(f'Precision: {precision}')\n",
        "print(f'Recall: {recall}')\n",
        "print(f'F1-Score: {f1}')"
      ]
    },
    {
      "cell_type": "markdown",
      "id": "e7ef0a00",
      "metadata": {
        "papermill": {
          "duration": 0.024592,
          "end_time": "2023-10-04T15:38:30.961841",
          "exception": false,
          "start_time": "2023-10-04T15:38:30.937249",
          "status": "completed"
        },
        "tags": [],
        "id": "e7ef0a00"
      },
      "source": [
        "# **Gráfico de Barras de Métricas**"
      ]
    },
    {
      "cell_type": "markdown",
      "source": [
        "En este bloque de código, se crea un gráfico de barras que visualiza las métricas de evaluación del modelo.\n",
        "\n",
        "- Se crean listas `metrics` y `values` que contienen los nombres de las métricas (`'Accuracy'`, `'Precision'`, `'Recall'`, `'F1-Score'`) y sus valores correspondientes, respectivamente.\n",
        "\n",
        "- Se utiliza Matplotlib para crear un gráfico de barras donde las barras representan los valores de las métricas.\n",
        "\n",
        "- El eje y está etiquetado como `'Valor'`.\n",
        "\n",
        "- El título del gráfico es `'Métricas de Evaluación'`.\n",
        "\n",
        "- Se guarda el gráfico en un archivo PDF con el nombre `'graficaFold2_Metrics.pdf'`.\n",
        "\n",
        "- Finalmente, se muestra el gráfico de barras.\n",
        "\n",
        "Este gráfico proporciona una representación visual de las métricas de evaluación, lo que facilita la comparación y la interpretación del rendimiento del modelo en diferentes aspectos."
      ],
      "metadata": {
        "id": "ZHYiqnkf2be4"
      },
      "id": "ZHYiqnkf2be4"
    },
    {
      "cell_type": "code",
      "execution_count": null,
      "id": "7f8ebd15",
      "metadata": {
        "execution": {
          "iopub.execute_input": "2023-10-04T15:38:31.012942Z",
          "iopub.status.busy": "2023-10-04T15:38:31.012209Z",
          "iopub.status.idle": "2023-10-04T15:38:31.333205Z",
          "shell.execute_reply": "2023-10-04T15:38:31.332308Z"
        },
        "papermill": {
          "duration": 0.348384,
          "end_time": "2023-10-04T15:38:31.334901",
          "exception": false,
          "start_time": "2023-10-04T15:38:30.986517",
          "status": "completed"
        },
        "tags": [],
        "id": "7f8ebd15",
        "outputId": "19919ab1-5529-4a7e-eb12-0efd7fb71b66"
      },
      "outputs": [
        {
          "data": {
            "image/png": "[encoded data removed]",
            "text/plain": [
              "<Figure size 800x600 with 1 Axes>"
            ]
          },
          "metadata": {},
          "output_type": "display_data"
        }
      ],
      "source": [
        "# Valores de las métricas\n",
        "metrics = ['Accuracy', 'Precision', 'Recall', 'F1-Score']\n",
        "values = [accuracy, precision, recall, f1]\n",
        "\n",
        "# Crea una figura de Matplotlib\n",
        "plt.figure(figsize=(8, 6))\n",
        "\n",
        "# Crea un gráfico de barras para las métricas\n",
        "plt.bar(metrics, values, color=['blue', 'green', 'red', 'purple'])\n",
        "\n",
        "# Etiqueta del eje y\n",
        "plt.ylabel('Valor')\n",
        "\n",
        "# Título del gráfico\n",
        "plt.title('Métricas de Evaluación')\n",
        "\n",
        "    # Nombre del archivo PDF\n",
        "pdf_filename2 = \"graficaFold2_Metrics.pdf\"\n",
        "\n",
        "plt.savefig(pdf_filename2, format='pdf')\n",
        "\n",
        "# Muestra el gráfico de barras\n",
        "plt.show()"
      ]
    },
    {
      "cell_type": "markdown",
      "id": "7c5ee65a",
      "metadata": {
        "papermill": {
          "duration": 0.025383,
          "end_time": "2023-10-04T15:38:31.385674",
          "exception": false,
          "start_time": "2023-10-04T15:38:31.360291",
          "status": "completed"
        },
        "tags": [],
        "id": "7c5ee65a"
      },
      "source": [
        "# **Matriz de Confusión - Gráfico de Mapa de Calor**\n"
      ]
    },
    {
      "cell_type": "markdown",
      "source": [
        "En este bloque de código, se genera un gráfico de mapa de calor para visualizar la matriz de confusión.\n",
        "\n",
        "- Se crea una figura de Matplotlib con un tamaño de (8, 6).\n",
        "\n",
        "- La matriz de confusión (`confusion`) se convierte en un DataFrame de Pandas (`confusion_df`) para facilitar la visualización.\n",
        "\n",
        "- Se utiliza Seaborn para crear un mapa de calor con la función `sns.heatmap()`. Los valores de la matriz de confusión se muestran en las celdas del mapa de calor, y la escala de color (`cmap`) se establece en 'Reds'.\n",
        "\n",
        "- Se configuran las etiquetas de los ejes x e y, así como el título del mapa de calor.\n",
        "\n",
        "- El mapa de calor se guarda en un archivo PDF con el nombre `'graficaFold2_Matrix.pdf'`.\n",
        "\n",
        "- Finalmente, se muestra la matriz de confusión como un mapa de calor.\n",
        "\n",
        "Este tipo de gráfico proporciona una representación visual efectiva de la distribución de las predicciones del modelo en comparación con las etiquetas reales. Cada celda del mapa de calor muestra la frecuencia con la que una clase predicha coincide con una clase real."
      ],
      "metadata": {
        "id": "HwX8vEN92kZP"
      },
      "id": "HwX8vEN92kZP"
    },
    {
      "cell_type": "code",
      "execution_count": null,
      "id": "0f77c9d1",
      "metadata": {
        "execution": {
          "iopub.execute_input": "2023-10-04T15:38:31.437336Z",
          "iopub.status.busy": "2023-10-04T15:38:31.437062Z",
          "iopub.status.idle": "2023-10-04T15:38:31.692289Z",
          "shell.execute_reply": "2023-10-04T15:38:31.691196Z"
        },
        "papermill": {
          "duration": 0.284964,
          "end_time": "2023-10-04T15:38:31.695583",
          "exception": false,
          "start_time": "2023-10-04T15:38:31.410619",
          "status": "completed"
        },
        "tags": [],
        "id": "0f77c9d1",
        "outputId": "512f42ce-65d0-42ff-d1f6-c8e3854b3e84"
      },
      "outputs": [
        {
          "data": {
            "image/png": "[encoded data removed]",
            "text/plain": [
              "<Figure size 800x600 with 1 Axes>"
            ]
          },
          "metadata": {},
          "output_type": "display_data"
        }
      ],
      "source": [
        "# Crea una figura de Matplotlib\n",
        "plt.figure(figsize=(8, 6))\n",
        "\n",
        "# Convierte la matriz de confusión en un DataFrame de pandas para una mejor visualización\n",
        "confusion_df = pd.DataFrame(confusion.numpy(), index=range(num_classes), columns=range(num_classes))\n",
        "\n",
        "# Utiliza Seaborn para crear un mapa de calor\n",
        "sns.heatmap(confusion_df, annot=True, fmt='g', cmap='Reds', cbar=False)\n",
        "\n",
        "# Configura etiquetas y títulos\n",
        "plt.xlabel('Valores de Predicción')\n",
        "plt.ylabel('Reales')\n",
        "plt.title('Confusion Matrix')\n",
        "\n",
        "    # Nombre del archivo PDF\n",
        "pdf_filename3 = \"graficaFold2_Matrix.pdf\"\n",
        "\n",
        "plt.savefig(pdf_filename3, format='pdf')\n",
        "\n",
        "# Muestra la matriz de confusión\n",
        "plt.show()"
      ]
    }
  ],
  "metadata": {
    "kernelspec": {
      "display_name": "Python 3",
      "language": "python",
      "name": "python3"
    },
    "language_info": {
      "codemirror_mode": {
        "name": "ipython",
        "version": 3
      },
      "file_extension": ".py",
      "mimetype": "text/x-python",
      "name": "python",
      "nbconvert_exporter": "python",
      "pygments_lexer": "ipython3",
      "version": "3.10.12"
    },
    "papermill": {
      "default_parameters": {},
      "duration": 2616.553464,
      "end_time": "2023-10-04T15:38:34.438240",
      "environment_variables": {},
      "exception": null,
      "input_path": "__notebook__.ipynb",
      "output_path": "__notebook__.ipynb",
      "parameters": {},
      "start_time": "2023-10-04T14:54:57.884776",
      "version": "2.4.0"
    },
    "colab": {
      "provenance": [],
      "collapsed_sections": [
        "808ef33a",
        "f2732a71",
        "ccc10652",
        "SaK439gPoWYZ",
        "5daa22d5",
        "n0LUU560iS1H",
        "a5773649",
        "Uxs8s4EQidZm",
        "fb601642",
        "80e3c4c7",
        "cb29b3c6",
        "f45b14ec",
        "38a1e3d6",
        "a6e62416",
        "b2673ee7",
        "e7ef0a00",
        "7c5ee65a"
      ],
      "include_colab_link": true
    }
  },
  "nbformat": 4,
  "nbformat_minor": 5
}