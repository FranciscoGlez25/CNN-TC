{
  "nbformat": 4,
  "nbformat_minor": 0,
  "metadata": {
    "colab": {
      "provenance": [],
      "authorship_tag": "ABX9TyMqC+FTUsmS5uZOQ0KfOwP2",
      "include_colab_link": true
    },
    "kernelspec": {
      "name": "python3",
      "display_name": "Python 3"
    },
    "language_info": {
      "name": "python"
    }
  },
  "cells": [
    {
      "cell_type": "markdown",
      "metadata": {
        "id": "view-in-github",
        "colab_type": "text"
      },
      "source": [
        "<a href=\"https://colab.research.google.com/github/FranciscoGlez25/CNN-TC/blob/main/aumento_Brillo_TC_OpenCV.ipynb\" target=\"_parent\"><img src=\"https://colab.research.google.com/assets/colab-badge.svg\" alt=\"Open In Colab\"/></a>"
      ]
    },
    {
      "cell_type": "markdown",
      "source": [
        "# **Ajuste de Contraste y Brillo en Tomografías Computarizadas Torácicas**\n"
      ],
      "metadata": {
        "id": "tKWyKd8u0G2c"
      }
    },
    {
      "cell_type": "markdown",
      "source": [
        "Este bloque de código realiza el ajuste de contraste y brillo en imágenes de tomografías computarizadas torácicas.\n",
        "\n",
        "1. **Función de Ajuste de Contraste y Brillo:**\n",
        "   - La función `ajustar_contraste_brillo` toma la ruta de una imagen como entrada, junto con los parámetros `alpha` y `beta` para el ajuste.\n",
        "   - Lee la imagen en escala de grises.\n",
        "   - Ajusta el contraste y el brillo de la imagen utilizando la función `cv2.convertScaleAbs`.\n",
        "   - Devuelve la imagen ajustada.\n",
        "\n",
        "2. **Procesamiento de Todas las Imágenes en una Carpeta:**\n",
        "   - Se especifica la carpeta de entrada que contiene las imágenes originales de tomografías computarizadas torácicas.\n",
        "   - Se especifica la carpeta de salida donde se guardarán las imágenes procesadas.\n",
        "   - Se crea la carpeta de salida si no existe.\n",
        "   - Para cada imagen en la carpeta de entrada:\n",
        "     - Se procesa la imagen utilizando la función `ajustar_contraste_brillo`.\n",
        "     - La imagen ajustada se guarda en la carpeta de salida.\n",
        "\n",
        "Este código puede ser utilizado para realizar mejoras en la visualización de las tomografías computarizadas torácicas, ajustando el contraste y el brillo según los parámetros proporcionados."
      ],
      "metadata": {
        "id": "5zMxVuoI0IFe"
      }
    },
    {
      "cell_type": "code",
      "execution_count": null,
      "metadata": {
        "id": "eb8sHQXHzIgw"
      },
      "outputs": [],
      "source": [
        "import os\n",
        "import cv2\n",
        "import numpy as np\n",
        "\n",
        "def ajustar_contraste_brillo(ruta_imagen, alpha=1.5, beta=50):\n",
        "    # Leer la imagen en escala de grises\n",
        "    imagen = cv2.imread(ruta_imagen, cv2.IMREAD_GRAYSCALE)\n",
        "\n",
        "    # Ajustar contraste y brillo\n",
        "    imagen_ajustada = cv2.convertScaleAbs(imagen, alpha=alpha, beta=beta)\n",
        "\n",
        "    return imagen_ajustada\n",
        "\n",
        "# Ruta a la carpeta de entrada y salida en Google Drive\n",
        "carpeta_entrada = 'ruta_carpeta_entrada'\n",
        "carpeta_salida = 'ruta_carpeta_salida'\n",
        "\n",
        "# Crea la carpeta de salida si no existe\n",
        "if not os.path.exists(carpeta_salida):\n",
        "    os.makedirs(carpeta_salida)\n",
        "\n",
        "# Procesar todas las imágenes en la carpeta de entrada\n",
        "for nombre_imagen in os.listdir(carpeta_entrada):\n",
        "    ruta_imagen_entrada = os.path.join(carpeta_entrada, nombre_imagen)\n",
        "    ruta_imagen_salida = os.path.join(carpeta_salida, nombre_imagen)\n",
        "\n",
        "    # Procesar y guardar la imagen\n",
        "    imagen_procesada = ajustar_contraste_brillo(ruta_imagen_entrada)\n",
        "    cv2.imwrite(ruta_imagen_salida, imagen_procesada)"
      ]
    }
  ]
}