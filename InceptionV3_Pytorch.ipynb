{
  "cells": [
    {
      "cell_type": "markdown",
      "metadata": {
        "id": "view-in-github",
        "colab_type": "text"
      },
      "source": [
        "<a href=\"https://colab.research.google.com/github/FranciscoGlez25/CNN-TC/blob/main/InceptionV3_Pytorch.ipynb\" target=\"_parent\"><img src=\"https://colab.research.google.com/assets/colab-badge.svg\" alt=\"Open In Colab\"/></a>"
      ]
    },
    {
      "cell_type": "markdown",
      "id": "890930a6",
      "metadata": {
        "id": "890930a6",
        "papermill": {
          "duration": 0.00771,
          "end_time": "2023-10-04T14:53:40.922383",
          "exception": false,
          "start_time": "2023-10-04T14:53:40.914673",
          "status": "completed"
        },
        "tags": []
      },
      "source": [
        "# **Configuración del Entorno y Dispositivo de GPU**"
      ]
    },
    {
      "cell_type": "markdown",
      "source": [
        "En este bloque de código, se importan las bibliotecas esenciales para la implementación y entrenamiento de modelos de aprendizaje profundo utilizando la biblioteca PyTorch. Se incluyen módulos clave como torch, torchvision, y otras utilidades para la manipulación de datos, optimización, y evaluación de modelos. Además, se verifica la disponibilidad de GPU para aprovechar el rendimiento de cómputo acelerado si está disponible."
      ],
      "metadata": {
        "id": "P6DTgrWoJEf3"
      },
      "id": "P6DTgrWoJEf3"
    },
    {
      "cell_type": "code",
      "execution_count": null,
      "id": "b8214a92",
      "metadata": {
        "execution": {
          "iopub.execute_input": "2023-10-04T14:53:40.934305Z",
          "iopub.status.busy": "2023-10-04T14:53:40.934006Z",
          "iopub.status.idle": "2023-10-04T14:53:51.302581Z",
          "shell.execute_reply": "2023-10-04T14:53:51.301481Z"
        },
        "id": "b8214a92",
        "papermill": {
          "duration": 10.377051,
          "end_time": "2023-10-04T14:53:51.304798",
          "exception": false,
          "start_time": "2023-10-04T14:53:40.927747",
          "status": "completed"
        },
        "tags": [],
        "outputId": "fc7c6141-17d9-4d0c-e34b-df583867fb59"
      },
      "outputs": [
        {
          "name": "stderr",
          "output_type": "stream",
          "text": [
            "/opt/conda/lib/python3.10/site-packages/torchvision/datapoints/__init__.py:12: UserWarning: The torchvision.datapoints and torchvision.transforms.v2 namespaces are still Beta. While we do not expect major breaking changes, some APIs may still change according to user feedback. Please submit any feedback you may have in this issue: https://github.com/pytorch/vision/issues/6753, and you can also check out https://github.com/pytorch/vision/issues/7319 to learn more about the APIs that we suspect might involve future changes. You can silence this warning by calling torchvision.disable_beta_transforms_warning().\n",
            "  warnings.warn(_BETA_TRANSFORMS_WARNING)\n",
            "/opt/conda/lib/python3.10/site-packages/torchvision/transforms/v2/__init__.py:54: UserWarning: The torchvision.datapoints and torchvision.transforms.v2 namespaces are still Beta. While we do not expect major breaking changes, some APIs may still change according to user feedback. Please submit any feedback you may have in this issue: https://github.com/pytorch/vision/issues/6753, and you can also check out https://github.com/pytorch/vision/issues/7319 to learn more about the APIs that we suspect might involve future changes. You can silence this warning by calling torchvision.disable_beta_transforms_warning().\n",
            "  warnings.warn(_BETA_TRANSFORMS_WARNING)\n",
            "/opt/conda/lib/python3.10/site-packages/scipy/__init__.py:146: UserWarning: A NumPy version >=1.16.5 and <1.23.0 is required for this version of SciPy (detected version 1.23.5\n",
            "  warnings.warn(f\"A NumPy version >={np_minversion} and <{np_maxversion}\"\n"
          ]
        }
      ],
      "source": [
        "import torch\n",
        "import torchvision\n",
        "from torchvision.transforms import v2\n",
        "import torch.optim as optim\n",
        "import torch.nn as nn\n",
        "import torch.nn.init as init\n",
        "from torch.utils.data import Dataset, DataLoader\n",
        "import pandas as pd\n",
        "from PIL import Image\n",
        "import os\n",
        "from tqdm import tqdm_notebook as tqdm\n",
        "import matplotlib.image as img\n",
        "from sklearn.metrics import confusion_matrix, classification_report, accuracy_score, precision_score, recall_score, f1_score\n",
        "import seaborn as sns\n",
        "import matplotlib.pyplot as plt\n",
        "import torchvision.models as models\n",
        "from torch.nn import Linear, CrossEntropyLoss, Sequential\n",
        "\n",
        "torch.cuda.is_available()\n",
        "device = torch.device(\"cuda\" if torch.cuda.is_available() else \"cpu\")"
      ]
    },
    {
      "cell_type": "markdown",
      "id": "df56ab06",
      "metadata": {
        "id": "df56ab06",
        "papermill": {
          "duration": 0.004723,
          "end_time": "2023-10-04T14:53:51.314655",
          "exception": false,
          "start_time": "2023-10-04T14:53:51.309932",
          "status": "completed"
        },
        "tags": []
      },
      "source": [
        "# **Realizar transformaciones adecuadas para el modelo**"
      ]
    },
    {
      "cell_type": "markdown",
      "source": [
        "En este fragmento de código, se importan y configuran las bibliotecas y transformaciones necesarias para el preprocesamiento de imágenes en el contexto de entrenamiento y evaluación de modelos de visión por computadora. La biblioteca torchvision se utiliza para acceder a conjuntos de datos, transformaciones y modelos preentrenados.\n",
        "\n",
        "Se definen dos conjuntos de transformaciones: transform_train y transform_test. Estas transformaciones se aplican a las imágenes durante el entrenamiento y la evaluación, respectivamente. Las operaciones incluyen la conversión de imágenes a tensores, recorte y redimensionamiento, así como aumentación de datos como la inversión horizontal aleatoria durante el entrenamiento para mejorar la generalización del modelo. Además, se realiza la normalización de las imágenes de acuerdo con los valores de media y desviación estándar especificados.\n",
        "\n",
        "Estas transformaciones son esenciales para garantizar que las imágenes de entrada estén en el formato adecuado y que el modelo pueda aprender de manera efectiva durante el entrenamiento, manteniendo un rendimiento consistente durante la evaluación."
      ],
      "metadata": {
        "id": "Kvav4DUFJvcJ"
      },
      "id": "Kvav4DUFJvcJ"
    },
    {
      "cell_type": "code",
      "execution_count": null,
      "id": "a7bbf463",
      "metadata": {
        "execution": {
          "iopub.execute_input": "2023-10-04T14:53:51.325506Z",
          "iopub.status.busy": "2023-10-04T14:53:51.324824Z",
          "iopub.status.idle": "2023-10-04T14:53:51.338330Z",
          "shell.execute_reply": "2023-10-04T14:53:51.337326Z"
        },
        "id": "a7bbf463",
        "papermill": {
          "duration": 0.020838,
          "end_time": "2023-10-04T14:53:51.340079",
          "exception": false,
          "start_time": "2023-10-04T14:53:51.319241",
          "status": "completed"
        },
        "tags": [],
        "outputId": "01ec5743-3609-47fe-a5f6-96e685c5ef39"
      },
      "outputs": [
        {
          "name": "stderr",
          "output_type": "stream",
          "text": [
            "/opt/conda/lib/python3.10/site-packages/torchvision/transforms/v2/_deprecated.py:41: UserWarning: The transform `ToTensor()` is deprecated and will be removed in a future release. Instead, please use `transforms.Compose([transforms.ToImageTensor(), transforms.ConvertImageDtype()])`.\n",
            "  warnings.warn(\n"
          ]
        }
      ],
      "source": [
        "from torchvision import datasets, transforms, models\n",
        "\n",
        "# Definir transformaciones para el preprocesamiento de las imágenes\n",
        "transform_train = v2.Compose([v2.ToTensor(),\n",
        "                    v2.CenterCrop(size = (850,850)),\n",
        "                    v2.Resize(size = (299, 299)),\n",
        "                    v2.RandomHorizontalFlip(p=0.5),\n",
        "                    #v2.RandomEqualize(p = 1),\n",
        "                    v2.Normalize(mean=[0.485, 0.456, 0.406], std=[0.229, 0.224, 0.225]),\n",
        "                ])\n",
        "\n",
        "transform_test = v2.Compose([v2.ToTensor(),\n",
        "                    v2.CenterCrop(size = (850,850)),\n",
        "                    v2.Resize(size = (299, 299)),\n",
        "                    #v2.RandomEqualize(p = 1),\n",
        "                    v2.Normalize(mean=[0.485, 0.456, 0.406], std=[0.229, 0.224, 0.225]),\n",
        "                ])"
      ]
    },
    {
      "cell_type": "markdown",
      "id": "ef1be2e8",
      "metadata": {
        "id": "ef1be2e8",
        "papermill": {
          "duration": 0.004554,
          "end_time": "2023-10-04T14:53:51.349190",
          "exception": false,
          "start_time": "2023-10-04T14:53:51.344636",
          "status": "completed"
        },
        "tags": []
      },
      "source": [
        "# **Definir la clase CustomDataset para obtener las etiquetas del archivo .csv y las imágenes**"
      ]
    },
    {
      "cell_type": "markdown",
      "source": [
        "En este bloque de código, se define una clase llamada `CustomDataset` que hereda de la clase `Dataset` de PyTorch. Esta clase personalizada se utiliza para cargar imágenes y etiquetas desde un archivo CSV, permitiendo la creación de conjuntos de datos personalizados para entrenamiento y evaluación de modelos.\n",
        "\n",
        "- **Constructor (`__init__`):** En el constructor, se inicializan las variables esenciales, como el archivo CSV, el directorio raíz de las imágenes y las transformaciones opcionales. Además, se calcula el número de clases únicas presentes en el conjunto de datos.\n",
        "\n",
        "- **Método `__len__`:** Este método devuelve la longitud del conjunto de datos, es decir, el número total de muestras.\n",
        "\n",
        "- **Método `__getitem__`:** Este método se utiliza para obtener una muestra específica del conjunto de datos en función de un índice dado. Se carga la imagen desde la ruta especificada en el archivo CSV, se convierte a formato RGB (si no lo está), y se obtiene la etiqueta correspondiente. Si se proporcionan transformaciones, se aplican a la imagen.\n",
        "\n",
        "La utilización de esta clase personalizada facilita la gestión de conjuntos de datos estructurados en archivos CSV, permitiendo una integración sencilla con las herramientas de manipulación de datos y entrenamiento de PyTorch."
      ],
      "metadata": {
        "id": "QBdfaY2wK0FO"
      },
      "id": "QBdfaY2wK0FO"
    },
    {
      "cell_type": "code",
      "execution_count": null,
      "id": "4ea8c899",
      "metadata": {
        "execution": {
          "iopub.execute_input": "2023-10-04T14:53:51.359499Z",
          "iopub.status.busy": "2023-10-04T14:53:51.359267Z",
          "iopub.status.idle": "2023-10-04T14:53:51.364760Z",
          "shell.execute_reply": "2023-10-04T14:53:51.363866Z"
        },
        "id": "4ea8c899",
        "papermill": {
          "duration": 0.012562,
          "end_time": "2023-10-04T14:53:51.366414",
          "exception": false,
          "start_time": "2023-10-04T14:53:51.353852",
          "status": "completed"
        },
        "tags": []
      },
      "outputs": [],
      "source": [
        "# Definir dataset personalizado para cargar imágenes y clases desde archivos CSV\n",
        "class CustomDataset(Dataset):\n",
        "    def __init__(self, csv_file, root_dir, transform=None):\n",
        "        self.annotations = pd.read_csv(csv_file)\n",
        "        self.root_dir = root_dir\n",
        "        self.transform = transform\n",
        "\n",
        "        # Obtener el número de clases desde el conjunto de datos\n",
        "        self.num_classes = len(self.annotations['Egreso'].unique())  # Suponiendo que la columna de etiquetas se llama 'label'\n",
        "\n",
        "    def __len__(self):\n",
        "        return len(self.annotations)\n",
        "\n",
        "    def __getitem__(self, index):\n",
        "        img_path = os.path.join(self.root_dir, self.annotations.iloc[index, 0])\n",
        "        image = Image.open(img_path).convert('RGB')\n",
        "        label = self.annotations.iloc[index, 3]\n",
        "\n",
        "        if self.transform:\n",
        "            image = self.transform(image)\n",
        "\n",
        "        return image, label"
      ]
    },
    {
      "cell_type": "markdown",
      "source": [
        "# **Montaje de Google Drive en Colab**"
      ],
      "metadata": {
        "id": "SaK439gPoWYZ"
      },
      "id": "SaK439gPoWYZ"
    },
    {
      "cell_type": "markdown",
      "source": [
        "\n",
        "En este bloque de código, se utiliza la biblioteca `google.colab` para montar Google Drive en el entorno de ejecución de Google Colab. Google Drive es una plataforma de almacenamiento en la nube, y montarlo en Colab permite acceder y manipular archivos almacenados en Google Drive directamente desde el entorno de ejecución.\n",
        "\n",
        "1. **Importación de la Biblioteca:**\n",
        "   Se importa la biblioteca `drive` desde `google.colab`.\n",
        "\n",
        "2. **Montaje de Google Drive:**\n",
        "   La función `drive.mount('/content/drive')` se utiliza para montar Google Drive en el directorio `/content/drive` de Colab. Al ejecutar esta celda, aparecerá un enlace para autorizar el acceso a Google Drive. Después de la autorización, se generará un código de autenticación que debe ser copiado y pegado en un campo de entrada en la celda para completar el proceso de montaje.\n",
        "\n",
        "Este bloque es esencial cuando se trabaja con archivos almacenados en Google Drive desde un entorno de ejecución en Google Colab. Una vez montado, se pueden acceder a los archivos de Google Drive como si fueran archivos locales en la ruta `/content/drive`."
      ],
      "metadata": {
        "id": "keZ7HMSEgHii"
      },
      "id": "keZ7HMSEgHii"
    },
    {
      "cell_type": "code",
      "source": [
        "from google.colab import drive\n",
        "\n",
        "# Monta Google Drive en el entorno de ejecución\n",
        "drive.mount('/content/drive')"
      ],
      "metadata": {
        "id": "F2lJj6RZgCfO"
      },
      "id": "F2lJj6RZgCfO",
      "execution_count": null,
      "outputs": []
    },
    {
      "cell_type": "markdown",
      "id": "514eab23",
      "metadata": {
        "id": "514eab23",
        "papermill": {
          "duration": 0.004631,
          "end_time": "2023-10-04T14:53:51.375841",
          "exception": false,
          "start_time": "2023-10-04T14:53:51.371210",
          "status": "completed"
        },
        "tags": []
      },
      "source": [
        "# **Creación del Conjunto de Datos y DataLoader**"
      ]
    },
    {
      "cell_type": "markdown",
      "source": [
        "En este fragmento de código, se utilizan las clases `DataLoader` y `random_split` de PyTorch para gestionar el conjunto de datos de entrenamiento. Además, se crea una instancia de la clase `CustomDataset` para cargar imágenes y etiquetas desde un archivo CSV.\n",
        "\n",
        "- **`DataLoader`:** Esta clase facilita la creación de un iterador sobre el conjunto de datos, permitiendo el acceso a las muestras en lotes durante el entrenamiento del modelo.\n",
        "\n",
        "- **`random_split`:** Este método se utiliza para dividir el conjunto de datos en subconjuntos de entrenamiento y validación de manera aleatoria. La longitud de cada subconjunto se especifica proporcionalmente.\n",
        "\n",
        "- **Creación del Conjunto de Datos:** Se crea un conjunto de datos de entrenamiento (`train_dataset`) utilizando la clase `CustomDataset`. Se especifica el archivo CSV, el directorio raíz de las imágenes y las transformaciones definidas anteriormente.\n",
        "\n",
        "- **Longitud del Conjunto de Datos:** Se imprime la cantidad total de imágenes en el conjunto de datos de entrenamiento.\n",
        "\n",
        "Este bloque de código establece las bases para la gestión eficiente de datos durante el entrenamiento del modelo, asegurando la aleatoriedad en la división del conjunto de datos y proporcionando una interfaz fácil de usar para cargar y procesar lotes de datos."
      ],
      "metadata": {
        "id": "NXIkmDltLLiP"
      },
      "id": "NXIkmDltLLiP"
    },
    {
      "cell_type": "code",
      "execution_count": null,
      "id": "a8738f67",
      "metadata": {
        "execution": {
          "iopub.execute_input": "2023-10-04T14:53:51.386077Z",
          "iopub.status.busy": "2023-10-04T14:53:51.385836Z",
          "iopub.status.idle": "2023-10-04T14:53:51.469558Z",
          "shell.execute_reply": "2023-10-04T14:53:51.468633Z"
        },
        "id": "a8738f67",
        "outputId": "cea326bd-2a0f-4ca4-c09d-82bcb065f90a",
        "papermill": {
          "duration": 0.090828,
          "end_time": "2023-10-04T14:53:51.471267",
          "exception": false,
          "start_time": "2023-10-04T14:53:51.380439",
          "status": "completed"
        },
        "tags": []
      },
      "outputs": [
        {
          "name": "stdout",
          "output_type": "stream",
          "text": [
            "Cantidad total de imágenes en Train Dataset: 963\n"
          ]
        }
      ],
      "source": [
        "from torch.utils.data import DataLoader, random_split\n",
        "\n",
        "# Define el conjunto de datos completo\n",
        "# La primer ruta corresponde al archivo .csv que contiene las etiquetas de las imágenes.\n",
        "# La segunda ruta corresponde a la carpeta que contiene las imágenes a utilizar.\n",
        "train_dataset = CustomDataset('ruta_archivo_csv', 'ruta_carpeta_imagenes', transform=transform_train)\n",
        "\n",
        "total_train = len(train_dataset)\n",
        "print(f'Cantidad total de imágenes en Train Dataset: {total_train}')"
      ]
    },
    {
      "cell_type": "markdown",
      "source": [
        "En este bloque de código, se realiza la división del conjunto de datos de entrenamiento en subconjuntos de entrenamiento y validación. También se calcula el número de muestras para cada conjunto y se definen los `DataLoaders` correspondientes.\n",
        "\n",
        "- **Número Total de Muestras:** Se calcula el número total de muestras en el conjunto de entrenamiento.\n",
        "\n",
        "- **Tamaño del Conjunto de Validación:** Se especifica el porcentaje de muestras que se destinará al conjunto de validación (en este caso, el 20%). Se calcula el tamaño correspondiente para el conjunto de validación.\n",
        "\n",
        "- **Tamaño del Conjunto de Entrenamiento:** Se calcula el tamaño del conjunto de entrenamiento restando el tamaño del conjunto de validación al número total de muestras.\n",
        "\n",
        "- **División del Conjunto de Datos:** Se utiliza la función `random_split` para dividir el conjunto de entrenamiento en conjuntos de entrenamiento y validación según los tamaños calculados.\n",
        "\n",
        "- **Definición de DataLoaders:** Se crean instancias de `DataLoader` para el conjunto de entrenamiento (`train_loader`) y el conjunto de validación (`val_loader`). Se especifica el tamaño del lote y se activa la opción de mezcla (`shuffle`) para garantizar la aleatoriedad durante el entrenamiento.\n",
        "\n",
        "Este bloque de código establece la estructura necesaria para iterar sobre lotes de datos durante el entrenamiento y la validación del modelo, lo que facilita el proceso de aprendizaje y evaluación. La aleatoriedad en la división y la mezcla de lotes contribuyen a mejorar la generalización del modelo."
      ],
      "metadata": {
        "id": "Sn19QTpLLg8Q"
      },
      "id": "Sn19QTpLLg8Q"
    },
    {
      "cell_type": "code",
      "execution_count": null,
      "id": "a94caf2b",
      "metadata": {
        "execution": {
          "iopub.execute_input": "2023-10-04T14:53:51.481793Z",
          "iopub.status.busy": "2023-10-04T14:53:51.481525Z",
          "iopub.status.idle": "2023-10-04T14:53:51.523841Z",
          "shell.execute_reply": "2023-10-04T14:53:51.523049Z"
        },
        "id": "a94caf2b",
        "papermill": {
          "duration": 0.049497,
          "end_time": "2023-10-04T14:53:51.525494",
          "exception": false,
          "start_time": "2023-10-04T14:53:51.475997",
          "status": "completed"
        },
        "tags": []
      },
      "outputs": [],
      "source": [
        "# Obtén el número total de muestras en el conjunto de entrenamiento\n",
        "total_samples = len(train_dataset)\n",
        "\n",
        "# Calcula el número de muestras para el conjunto de validación (por ejemplo, el 20%)\n",
        "validation_split = 0.2\n",
        "validation_size = int(validation_split * total_samples)\n",
        "\n",
        "# Calcula el tamaño del conjunto de entrenamiento\n",
        "train_size = total_samples - validation_size\n",
        "\n",
        "# Divide el conjunto de entrenamiento en conjunto de entrenamiento y conjunto de validación\n",
        "train_dataset, validation_dataset = random_split(train_dataset, [train_size, validation_size])\n",
        "\n",
        "# Define los DataLoaders para entrenamiento y validación\n",
        "train_loader = DataLoader(train_dataset, batch_size=64, shuffle=True)\n",
        "val_loader = DataLoader(validation_dataset, batch_size=64, shuffle=True)"
      ]
    },
    {
      "cell_type": "markdown",
      "source": [
        "En este fragmento de código, se obtiene la cantidad total de imágenes en los conjuntos de entrenamiento y validación a través de los `DataLoaders` previamente definidos. Luego, se imprime esta información para tener una visión general de la distribución de datos.\n",
        "\n",
        "- **Número Total de Imágenes en `train_loader` y `val_loader`:** Se utiliza la propiedad `dataset` de los `DataLoaders` para acceder al conjunto de datos subyacente y obtener la cantidad total de imágenes tanto para el conjunto de entrenamiento como para el de validación.\n",
        "\n",
        "- **Impresión de la Cantidad Total de Imágenes:** Se imprime la cantidad total de imágenes en el conjunto de entrenamiento después de realizar la división, así como la cantidad total de imágenes en el conjunto de validación.\n",
        "\n",
        "Este bloque de código proporciona información útil sobre la distribución de datos en los conjuntos de entrenamiento y validación después de la división, lo que es crucial para comprender la cantidad de datos disponible para el entrenamiento y la evaluación del modelo."
      ],
      "metadata": {
        "id": "68Q9s82SL3LD"
      },
      "id": "68Q9s82SL3LD"
    },
    {
      "cell_type": "code",
      "execution_count": null,
      "id": "e9811e86",
      "metadata": {
        "execution": {
          "iopub.execute_input": "2023-10-04T14:53:51.537092Z",
          "iopub.status.busy": "2023-10-04T14:53:51.535795Z",
          "iopub.status.idle": "2023-10-04T14:53:51.541540Z",
          "shell.execute_reply": "2023-10-04T14:53:51.540413Z"
        },
        "id": "e9811e86",
        "outputId": "7b3036ad-ae8d-49e2-a1dd-e5245d3aac41",
        "papermill": {
          "duration": 0.013172,
          "end_time": "2023-10-04T14:53:51.543308",
          "exception": false,
          "start_time": "2023-10-04T14:53:51.530136",
          "status": "completed"
        },
        "tags": []
      },
      "outputs": [
        {
          "name": "stdout",
          "output_type": "stream",
          "text": [
            "Cantidad total de imágenes en Train Dataset despues de realizar split: 771\n",
            "Cantidad total de imágenes en Validation Dataset: 192\n"
          ]
        }
      ],
      "source": [
        "# Obtén la cantidad total de imágenes en train_loader y validation_loader\n",
        "total_images_train = len(train_loader.dataset)\n",
        "total_images_validation = len(val_loader.dataset)\n",
        "\n",
        "# Imprime la cantidad total de imágenes\n",
        "print(f'Cantidad total de imágenes en Train Dataset despues de realizar split: {total_images_train}')\n",
        "print(f'Cantidad total de imágenes en Validation Dataset: {total_images_validation}')"
      ]
    },
    {
      "cell_type": "markdown",
      "id": "944ff772",
      "metadata": {
        "id": "944ff772",
        "papermill": {
          "duration": 0.004889,
          "end_time": "2023-10-04T14:53:51.552911",
          "exception": false,
          "start_time": "2023-10-04T14:53:51.548022",
          "status": "completed"
        },
        "tags": []
      },
      "source": [
        "# **Definición del Dataset de Prueba y DataLoader**"
      ]
    },
    {
      "cell_type": "markdown",
      "source": [
        "En este bloque de código, se define un conjunto de datos de prueba (`test_dataset`) utilizando la misma clase personalizada `CustomDataset` que se utilizó previamente para el conjunto de entrenamiento y validación. También se crea un `DataLoader` correspondiente (`test_loader`) para cargar lotes de datos durante la evaluación del modelo.\n",
        "\n",
        "- **Creación del Conjunto de Datos de Prueba:** Se instancia un nuevo conjunto de datos de prueba (`test_dataset`) utilizando la clase `CustomDataset`. Se especifica el archivo CSV, el directorio raíz de las imágenes y las transformaciones de prueba (`transform_test`) definidas anteriormente.\n",
        "\n",
        "- **Definición del DataLoader de Prueba:** Se crea un `DataLoader` (`test_loader`) para el conjunto de datos de prueba. Se especifica el tamaño del lote, y se activa la opción de mezcla (`shuffle`) para garantizar la aleatoriedad en la evaluación.\n",
        "\n",
        "- **Número Total de Imágenes en `test_loader`:** Se utiliza la propiedad `dataset` del `test_loader` para acceder al conjunto de datos subyacente y se imprime la cantidad total de imágenes en el conjunto de prueba.\n",
        "\n",
        "Este bloque de código establece las bases para la evaluación del modelo utilizando un conjunto de datos de prueba independiente. La aleatoriedad en la carga de lotes y la información sobre la cantidad total de imágenes son fundamentales para comprender la distribución de datos en el conjunto de prueba."
      ],
      "metadata": {
        "id": "CC3xOJySMcyS"
      },
      "id": "CC3xOJySMcyS"
    },
    {
      "cell_type": "code",
      "execution_count": null,
      "id": "508d20dc",
      "metadata": {
        "execution": {
          "iopub.execute_input": "2023-10-04T14:53:51.563782Z",
          "iopub.status.busy": "2023-10-04T14:53:51.563134Z",
          "iopub.status.idle": "2023-10-04T14:53:51.584401Z",
          "shell.execute_reply": "2023-10-04T14:53:51.583511Z"
        },
        "id": "508d20dc",
        "outputId": "8d2d501d-5249-4ccd-bff3-cfe62919742d",
        "papermill": {
          "duration": 0.028274,
          "end_time": "2023-10-04T14:53:51.586025",
          "exception": false,
          "start_time": "2023-10-04T14:53:51.557751",
          "status": "completed"
        },
        "tags": []
      },
      "outputs": [
        {
          "name": "stdout",
          "output_type": "stream",
          "text": [
            "Cantidad total de imágenes en Test Dataset: 241\n"
          ]
        }
      ],
      "source": [
        "# Definir dataset de validación y dataloader\n",
        "\n",
        "test_dataset = CustomDataset('ruta_archivo_csv', 'ruta_carpeta_imagenes', transform=transform_test)\n",
        "test_loader = DataLoader(test_dataset, batch_size=64, shuffle=True)\n",
        "\n",
        "total_images_test = len(test_loader.dataset)\n",
        "print(f'Cantidad total de imágenes en Test Dataset: {total_images_test}')"
      ]
    },
    {
      "cell_type": "markdown",
      "source": [
        "En este fragmento de código, se accede al número de clases en el conjunto de datos de prueba (`test_dataset`) utilizando la propiedad `num_classes` que se define en la clase `CustomDataset`. Luego, se imprime esta información para conocer el número total de clases presentes en el conjunto de prueba.\n",
        "\n",
        "- **Número de Clases en el Conjunto de Datos de Prueba:** Se accede al número de clases mediante la propiedad `num_classes` de la instancia del conjunto de datos de prueba (`test_dataset`).\n",
        "\n",
        "- **Impresión del Número de Clases:** Se imprime el número total de clases presentes en el conjunto de prueba.\n",
        "\n",
        "Este bloque de código proporciona información importante sobre la estructura del conjunto de datos de prueba y es esencial para configurar correctamente la capa de salida del modelo durante la evaluación y la inferencia."
      ],
      "metadata": {
        "id": "sF90VEoqMrg6"
      },
      "id": "sF90VEoqMrg6"
    },
    {
      "cell_type": "code",
      "execution_count": null,
      "id": "352c07d7",
      "metadata": {
        "execution": {
          "iopub.execute_input": "2023-10-04T14:53:51.597506Z",
          "iopub.status.busy": "2023-10-04T14:53:51.597155Z",
          "iopub.status.idle": "2023-10-04T14:53:51.601854Z",
          "shell.execute_reply": "2023-10-04T14:53:51.600993Z"
        },
        "id": "352c07d7",
        "outputId": "9bca7db7-3e1f-4e5e-c195-ee155b91a572",
        "papermill": {
          "duration": 0.013135,
          "end_time": "2023-10-04T14:53:51.604129",
          "exception": false,
          "start_time": "2023-10-04T14:53:51.590994",
          "status": "completed"
        },
        "tags": []
      },
      "outputs": [
        {
          "name": "stdout",
          "output_type": "stream",
          "text": [
            "Clases obtenidas en el conjunto Test Dataset: 2\n"
          ]
        }
      ],
      "source": [
        "num_classes = test_dataset.num_classes\n",
        "print(\"Clases obtenidas en el conjunto Test Dataset:\", num_classes)"
      ]
    },
    {
      "cell_type": "markdown",
      "id": "57a7aa74",
      "metadata": {
        "id": "57a7aa74",
        "papermill": {
          "duration": 0.004842,
          "end_time": "2023-10-04T14:53:51.613887",
          "exception": false,
          "start_time": "2023-10-04T14:53:51.609045",
          "status": "completed"
        },
        "tags": []
      },
      "source": [
        "# **Carga del Modelo InceptionV3 y Modificación de la Capa de Clasificación**"
      ]
    },
    {
      "cell_type": "markdown",
      "source": [
        "En este bloque de código, se carga un modelo preentrenado InceptionV3 y se modifican las capas totalmente conectadas (FC) para adaptarse al problema específico. Luego, el modelo se mueve al dispositivo de entrenamiento (GPU si está disponible, de lo contrario, CPU). A continuación, se imprime el número de clases y se describen las modificaciones realizadas al modelo.\n",
        "\n",
        "- **Carga del Modelo InceptionV3 Preentrenado:** Se utiliza la función `models.inception_v3` de PyTorch para cargar el modelo InceptionV3 preentrenado. Se establece la opción `pretrained=True` para cargar los pesos preentrenados en conjuntos de datos masivos.\n",
        "\n",
        "- **Obtención del Número de Características de Entrada:** Se obtiene el número de características de entrada de la capa completamente conectada (`fc`) del modelo InceptionV3 preentrenado.\n",
        "\n",
        "- **Definición de Nuevas Capas FC:** Se definen nuevas capas completamente conectadas (`fc0`, `fc1`, `fc2`, `fc3`) para adaptar la salida del modelo a las necesidades del problema específico. La última capa (`fc3`) tiene un número de neuronas igual al número de clases en el conjunto de datos de prueba.\n",
        "\n",
        "- **Reemplazo de la Capa FC Existente:** Se reemplaza la capa FC existente en el modelo InceptionV3 preentrenado con las nuevas capas definidas.\n",
        "\n",
        "- **Mover el Modelo al Dispositivo de Entrenamiento:** Se utiliza la función `to` para mover el modelo al dispositivo de entrenamiento (GPU si está disponible, de lo contrario, CPU).\n",
        "\n",
        "- **Número de Clases en el Conjunto de Datos de Prueba:** Se imprime el número de clases obtenidas desde el conjunto de datos de prueba.\n",
        "\n",
        "Este bloque de código configura el modelo InceptionV3 para el problema específico, reemplazando las capas FC y preparándolo para el entrenamiento en el dispositivo adecuado."
      ],
      "metadata": {
        "id": "cmFZIW50NF0T"
      },
      "id": "cmFZIW50NF0T"
    },
    {
      "cell_type": "code",
      "execution_count": null,
      "id": "82d7906b",
      "metadata": {
        "execution": {
          "iopub.execute_input": "2023-10-04T14:53:51.625194Z",
          "iopub.status.busy": "2023-10-04T14:53:51.624712Z",
          "iopub.status.idle": "2023-10-04T14:53:58.267574Z",
          "shell.execute_reply": "2023-10-04T14:53:58.266646Z"
        },
        "id": "82d7906b",
        "outputId": "ec9df59c-9898-4f11-9818-ab1f428f9c81",
        "papermill": {
          "duration": 6.65128,
          "end_time": "2023-10-04T14:53:58.270104",
          "exception": false,
          "start_time": "2023-10-04T14:53:51.618824",
          "status": "completed"
        },
        "tags": []
      },
      "outputs": [
        {
          "name": "stderr",
          "output_type": "stream",
          "text": [
            "/opt/conda/lib/python3.10/site-packages/torchvision/models/_utils.py:208: UserWarning: The parameter 'pretrained' is deprecated since 0.13 and may be removed in the future, please use 'weights' instead.\n",
            "  warnings.warn(\n",
            "/opt/conda/lib/python3.10/site-packages/torchvision/models/_utils.py:223: UserWarning: Arguments other than a weight enum or `None` for 'weights' are deprecated since 0.13 and may be removed in the future. The current behavior is equivalent to passing `weights=Inception_V3_Weights.IMAGENET1K_V1`. You can also use `weights=Inception_V3_Weights.DEFAULT` to get the most up-to-date weights.\n",
            "  warnings.warn(msg)\n",
            "Downloading: \"https://download.pytorch.org/models/inception_v3_google-0cc3c7bd.pth\" to /root/.cache/torch/hub/checkpoints/inception_v3_google-0cc3c7bd.pth\n",
            "100%|██████████| 104M/104M [00:01<00:00, 84.6MB/s]\n"
          ]
        },
        {
          "data": {
            "text/plain": [
              "Inception3(\n",
              "  (Conv2d_1a_3x3): BasicConv2d(\n",
              "    (conv): Conv2d(3, 32, kernel_size=(3, 3), stride=(2, 2), bias=False)\n",
              "    (bn): BatchNorm2d(32, eps=0.001, momentum=0.1, affine=True, track_running_stats=True)\n",
              "  )\n",
              "  (Conv2d_2a_3x3): BasicConv2d(\n",
              "    (conv): Conv2d(32, 32, kernel_size=(3, 3), stride=(1, 1), bias=False)\n",
              "    (bn): BatchNorm2d(32, eps=0.001, momentum=0.1, affine=True, track_running_stats=True)\n",
              "  )\n",
              "  (Conv2d_2b_3x3): BasicConv2d(\n",
              "    (conv): Conv2d(32, 64, kernel_size=(3, 3), stride=(1, 1), padding=(1, 1), bias=False)\n",
              "    (bn): BatchNorm2d(64, eps=0.001, momentum=0.1, affine=True, track_running_stats=True)\n",
              "  )\n",
              "  (maxpool1): MaxPool2d(kernel_size=3, stride=2, padding=0, dilation=1, ceil_mode=False)\n",
              "  (Conv2d_3b_1x1): BasicConv2d(\n",
              "    (conv): Conv2d(64, 80, kernel_size=(1, 1), stride=(1, 1), bias=False)\n",
              "    (bn): BatchNorm2d(80, eps=0.001, momentum=0.1, affine=True, track_running_stats=True)\n",
              "  )\n",
              "  (Conv2d_4a_3x3): BasicConv2d(\n",
              "    (conv): Conv2d(80, 192, kernel_size=(3, 3), stride=(1, 1), bias=False)\n",
              "    (bn): BatchNorm2d(192, eps=0.001, momentum=0.1, affine=True, track_running_stats=True)\n",
              "  )\n",
              "  (maxpool2): MaxPool2d(kernel_size=3, stride=2, padding=0, dilation=1, ceil_mode=False)\n",
              "  (Mixed_5b): InceptionA(\n",
              "    (branch1x1): BasicConv2d(\n",
              "      (conv): Conv2d(192, 64, kernel_size=(1, 1), stride=(1, 1), bias=False)\n",
              "      (bn): BatchNorm2d(64, eps=0.001, momentum=0.1, affine=True, track_running_stats=True)\n",
              "    )\n",
              "    (branch5x5_1): BasicConv2d(\n",
              "      (conv): Conv2d(192, 48, kernel_size=(1, 1), stride=(1, 1), bias=False)\n",
              "      (bn): BatchNorm2d(48, eps=0.001, momentum=0.1, affine=True, track_running_stats=True)\n",
              "    )\n",
              "    (branch5x5_2): BasicConv2d(\n",
              "      (conv): Conv2d(48, 64, kernel_size=(5, 5), stride=(1, 1), padding=(2, 2), bias=False)\n",
              "      (bn): BatchNorm2d(64, eps=0.001, momentum=0.1, affine=True, track_running_stats=True)\n",
              "    )\n",
              "    (branch3x3dbl_1): BasicConv2d(\n",
              "      (conv): Conv2d(192, 64, kernel_size=(1, 1), stride=(1, 1), bias=False)\n",
              "      (bn): BatchNorm2d(64, eps=0.001, momentum=0.1, affine=True, track_running_stats=True)\n",
              "    )\n",
              "    (branch3x3dbl_2): BasicConv2d(\n",
              "      (conv): Conv2d(64, 96, kernel_size=(3, 3), stride=(1, 1), padding=(1, 1), bias=False)\n",
              "      (bn): BatchNorm2d(96, eps=0.001, momentum=0.1, affine=True, track_running_stats=True)\n",
              "    )\n",
              "    (branch3x3dbl_3): BasicConv2d(\n",
              "      (conv): Conv2d(96, 96, kernel_size=(3, 3), stride=(1, 1), padding=(1, 1), bias=False)\n",
              "      (bn): BatchNorm2d(96, eps=0.001, momentum=0.1, affine=True, track_running_stats=True)\n",
              "    )\n",
              "    (branch_pool): BasicConv2d(\n",
              "      (conv): Conv2d(192, 32, kernel_size=(1, 1), stride=(1, 1), bias=False)\n",
              "      (bn): BatchNorm2d(32, eps=0.001, momentum=0.1, affine=True, track_running_stats=True)\n",
              "    )\n",
              "  )\n",
              "  (Mixed_5c): InceptionA(\n",
              "    (branch1x1): BasicConv2d(\n",
              "      (conv): Conv2d(256, 64, kernel_size=(1, 1), stride=(1, 1), bias=False)\n",
              "      (bn): BatchNorm2d(64, eps=0.001, momentum=0.1, affine=True, track_running_stats=True)\n",
              "    )\n",
              "    (branch5x5_1): BasicConv2d(\n",
              "      (conv): Conv2d(256, 48, kernel_size=(1, 1), stride=(1, 1), bias=False)\n",
              "      (bn): BatchNorm2d(48, eps=0.001, momentum=0.1, affine=True, track_running_stats=True)\n",
              "    )\n",
              "    (branch5x5_2): BasicConv2d(\n",
              "      (conv): Conv2d(48, 64, kernel_size=(5, 5), stride=(1, 1), padding=(2, 2), bias=False)\n",
              "      (bn): BatchNorm2d(64, eps=0.001, momentum=0.1, affine=True, track_running_stats=True)\n",
              "    )\n",
              "    (branch3x3dbl_1): BasicConv2d(\n",
              "      (conv): Conv2d(256, 64, kernel_size=(1, 1), stride=(1, 1), bias=False)\n",
              "      (bn): BatchNorm2d(64, eps=0.001, momentum=0.1, affine=True, track_running_stats=True)\n",
              "    )\n",
              "    (branch3x3dbl_2): BasicConv2d(\n",
              "      (conv): Conv2d(64, 96, kernel_size=(3, 3), stride=(1, 1), padding=(1, 1), bias=False)\n",
              "      (bn): BatchNorm2d(96, eps=0.001, momentum=0.1, affine=True, track_running_stats=True)\n",
              "    )\n",
              "    (branch3x3dbl_3): BasicConv2d(\n",
              "      (conv): Conv2d(96, 96, kernel_size=(3, 3), stride=(1, 1), padding=(1, 1), bias=False)\n",
              "      (bn): BatchNorm2d(96, eps=0.001, momentum=0.1, affine=True, track_running_stats=True)\n",
              "    )\n",
              "    (branch_pool): BasicConv2d(\n",
              "      (conv): Conv2d(256, 64, kernel_size=(1, 1), stride=(1, 1), bias=False)\n",
              "      (bn): BatchNorm2d(64, eps=0.001, momentum=0.1, affine=True, track_running_stats=True)\n",
              "    )\n",
              "  )\n",
              "  (Mixed_5d): InceptionA(\n",
              "    (branch1x1): BasicConv2d(\n",
              "      (conv): Conv2d(288, 64, kernel_size=(1, 1), stride=(1, 1), bias=False)\n",
              "      (bn): BatchNorm2d(64, eps=0.001, momentum=0.1, affine=True, track_running_stats=True)\n",
              "    )\n",
              "    (branch5x5_1): BasicConv2d(\n",
              "      (conv): Conv2d(288, 48, kernel_size=(1, 1), stride=(1, 1), bias=False)\n",
              "      (bn): BatchNorm2d(48, eps=0.001, momentum=0.1, affine=True, track_running_stats=True)\n",
              "    )\n",
              "    (branch5x5_2): BasicConv2d(\n",
              "      (conv): Conv2d(48, 64, kernel_size=(5, 5), stride=(1, 1), padding=(2, 2), bias=False)\n",
              "      (bn): BatchNorm2d(64, eps=0.001, momentum=0.1, affine=True, track_running_stats=True)\n",
              "    )\n",
              "    (branch3x3dbl_1): BasicConv2d(\n",
              "      (conv): Conv2d(288, 64, kernel_size=(1, 1), stride=(1, 1), bias=False)\n",
              "      (bn): BatchNorm2d(64, eps=0.001, momentum=0.1, affine=True, track_running_stats=True)\n",
              "    )\n",
              "    (branch3x3dbl_2): BasicConv2d(\n",
              "      (conv): Conv2d(64, 96, kernel_size=(3, 3), stride=(1, 1), padding=(1, 1), bias=False)\n",
              "      (bn): BatchNorm2d(96, eps=0.001, momentum=0.1, affine=True, track_running_stats=True)\n",
              "    )\n",
              "    (branch3x3dbl_3): BasicConv2d(\n",
              "      (conv): Conv2d(96, 96, kernel_size=(3, 3), stride=(1, 1), padding=(1, 1), bias=False)\n",
              "      (bn): BatchNorm2d(96, eps=0.001, momentum=0.1, affine=True, track_running_stats=True)\n",
              "    )\n",
              "    (branch_pool): BasicConv2d(\n",
              "      (conv): Conv2d(288, 64, kernel_size=(1, 1), stride=(1, 1), bias=False)\n",
              "      (bn): BatchNorm2d(64, eps=0.001, momentum=0.1, affine=True, track_running_stats=True)\n",
              "    )\n",
              "  )\n",
              "  (Mixed_6a): InceptionB(\n",
              "    (branch3x3): BasicConv2d(\n",
              "      (conv): Conv2d(288, 384, kernel_size=(3, 3), stride=(2, 2), bias=False)\n",
              "      (bn): BatchNorm2d(384, eps=0.001, momentum=0.1, affine=True, track_running_stats=True)\n",
              "    )\n",
              "    (branch3x3dbl_1): BasicConv2d(\n",
              "      (conv): Conv2d(288, 64, kernel_size=(1, 1), stride=(1, 1), bias=False)\n",
              "      (bn): BatchNorm2d(64, eps=0.001, momentum=0.1, affine=True, track_running_stats=True)\n",
              "    )\n",
              "    (branch3x3dbl_2): BasicConv2d(\n",
              "      (conv): Conv2d(64, 96, kernel_size=(3, 3), stride=(1, 1), padding=(1, 1), bias=False)\n",
              "      (bn): BatchNorm2d(96, eps=0.001, momentum=0.1, affine=True, track_running_stats=True)\n",
              "    )\n",
              "    (branch3x3dbl_3): BasicConv2d(\n",
              "      (conv): Conv2d(96, 96, kernel_size=(3, 3), stride=(2, 2), bias=False)\n",
              "      (bn): BatchNorm2d(96, eps=0.001, momentum=0.1, affine=True, track_running_stats=True)\n",
              "    )\n",
              "  )\n",
              "  (Mixed_6b): InceptionC(\n",
              "    (branch1x1): BasicConv2d(\n",
              "      (conv): Conv2d(768, 192, kernel_size=(1, 1), stride=(1, 1), bias=False)\n",
              "      (bn): BatchNorm2d(192, eps=0.001, momentum=0.1, affine=True, track_running_stats=True)\n",
              "    )\n",
              "    (branch7x7_1): BasicConv2d(\n",
              "      (conv): Conv2d(768, 128, kernel_size=(1, 1), stride=(1, 1), bias=False)\n",
              "      (bn): BatchNorm2d(128, eps=0.001, momentum=0.1, affine=True, track_running_stats=True)\n",
              "    )\n",
              "    (branch7x7_2): BasicConv2d(\n",
              "      (conv): Conv2d(128, 128, kernel_size=(1, 7), stride=(1, 1), padding=(0, 3), bias=False)\n",
              "      (bn): BatchNorm2d(128, eps=0.001, momentum=0.1, affine=True, track_running_stats=True)\n",
              "    )\n",
              "    (branch7x7_3): BasicConv2d(\n",
              "      (conv): Conv2d(128, 192, kernel_size=(7, 1), stride=(1, 1), padding=(3, 0), bias=False)\n",
              "      (bn): BatchNorm2d(192, eps=0.001, momentum=0.1, affine=True, track_running_stats=True)\n",
              "    )\n",
              "    (branch7x7dbl_1): BasicConv2d(\n",
              "      (conv): Conv2d(768, 128, kernel_size=(1, 1), stride=(1, 1), bias=False)\n",
              "      (bn): BatchNorm2d(128, eps=0.001, momentum=0.1, affine=True, track_running_stats=True)\n",
              "    )\n",
              "    (branch7x7dbl_2): BasicConv2d(\n",
              "      (conv): Conv2d(128, 128, kernel_size=(7, 1), stride=(1, 1), padding=(3, 0), bias=False)\n",
              "      (bn): BatchNorm2d(128, eps=0.001, momentum=0.1, affine=True, track_running_stats=True)\n",
              "    )\n",
              "    (branch7x7dbl_3): BasicConv2d(\n",
              "      (conv): Conv2d(128, 128, kernel_size=(1, 7), stride=(1, 1), padding=(0, 3), bias=False)\n",
              "      (bn): BatchNorm2d(128, eps=0.001, momentum=0.1, affine=True, track_running_stats=True)\n",
              "    )\n",
              "    (branch7x7dbl_4): BasicConv2d(\n",
              "      (conv): Conv2d(128, 128, kernel_size=(7, 1), stride=(1, 1), padding=(3, 0), bias=False)\n",
              "      (bn): BatchNorm2d(128, eps=0.001, momentum=0.1, affine=True, track_running_stats=True)\n",
              "    )\n",
              "    (branch7x7dbl_5): BasicConv2d(\n",
              "      (conv): Conv2d(128, 192, kernel_size=(1, 7), stride=(1, 1), padding=(0, 3), bias=False)\n",
              "      (bn): BatchNorm2d(192, eps=0.001, momentum=0.1, affine=True, track_running_stats=True)\n",
              "    )\n",
              "    (branch_pool): BasicConv2d(\n",
              "      (conv): Conv2d(768, 192, kernel_size=(1, 1), stride=(1, 1), bias=False)\n",
              "      (bn): BatchNorm2d(192, eps=0.001, momentum=0.1, affine=True, track_running_stats=True)\n",
              "    )\n",
              "  )\n",
              "  (Mixed_6c): InceptionC(\n",
              "    (branch1x1): BasicConv2d(\n",
              "      (conv): Conv2d(768, 192, kernel_size=(1, 1), stride=(1, 1), bias=False)\n",
              "      (bn): BatchNorm2d(192, eps=0.001, momentum=0.1, affine=True, track_running_stats=True)\n",
              "    )\n",
              "    (branch7x7_1): BasicConv2d(\n",
              "      (conv): Conv2d(768, 160, kernel_size=(1, 1), stride=(1, 1), bias=False)\n",
              "      (bn): BatchNorm2d(160, eps=0.001, momentum=0.1, affine=True, track_running_stats=True)\n",
              "    )\n",
              "    (branch7x7_2): BasicConv2d(\n",
              "      (conv): Conv2d(160, 160, kernel_size=(1, 7), stride=(1, 1), padding=(0, 3), bias=False)\n",
              "      (bn): BatchNorm2d(160, eps=0.001, momentum=0.1, affine=True, track_running_stats=True)\n",
              "    )\n",
              "    (branch7x7_3): BasicConv2d(\n",
              "      (conv): Conv2d(160, 192, kernel_size=(7, 1), stride=(1, 1), padding=(3, 0), bias=False)\n",
              "      (bn): BatchNorm2d(192, eps=0.001, momentum=0.1, affine=True, track_running_stats=True)\n",
              "    )\n",
              "    (branch7x7dbl_1): BasicConv2d(\n",
              "      (conv): Conv2d(768, 160, kernel_size=(1, 1), stride=(1, 1), bias=False)\n",
              "      (bn): BatchNorm2d(160, eps=0.001, momentum=0.1, affine=True, track_running_stats=True)\n",
              "    )\n",
              "    (branch7x7dbl_2): BasicConv2d(\n",
              "      (conv): Conv2d(160, 160, kernel_size=(7, 1), stride=(1, 1), padding=(3, 0), bias=False)\n",
              "      (bn): BatchNorm2d(160, eps=0.001, momentum=0.1, affine=True, track_running_stats=True)\n",
              "    )\n",
              "    (branch7x7dbl_3): BasicConv2d(\n",
              "      (conv): Conv2d(160, 160, kernel_size=(1, 7), stride=(1, 1), padding=(0, 3), bias=False)\n",
              "      (bn): BatchNorm2d(160, eps=0.001, momentum=0.1, affine=True, track_running_stats=True)\n",
              "    )\n",
              "    (branch7x7dbl_4): BasicConv2d(\n",
              "      (conv): Conv2d(160, 160, kernel_size=(7, 1), stride=(1, 1), padding=(3, 0), bias=False)\n",
              "      (bn): BatchNorm2d(160, eps=0.001, momentum=0.1, affine=True, track_running_stats=True)\n",
              "    )\n",
              "    (branch7x7dbl_5): BasicConv2d(\n",
              "      (conv): Conv2d(160, 192, kernel_size=(1, 7), stride=(1, 1), padding=(0, 3), bias=False)\n",
              "      (bn): BatchNorm2d(192, eps=0.001, momentum=0.1, affine=True, track_running_stats=True)\n",
              "    )\n",
              "    (branch_pool): BasicConv2d(\n",
              "      (conv): Conv2d(768, 192, kernel_size=(1, 1), stride=(1, 1), bias=False)\n",
              "      (bn): BatchNorm2d(192, eps=0.001, momentum=0.1, affine=True, track_running_stats=True)\n",
              "    )\n",
              "  )\n",
              "  (Mixed_6d): InceptionC(\n",
              "    (branch1x1): BasicConv2d(\n",
              "      (conv): Conv2d(768, 192, kernel_size=(1, 1), stride=(1, 1), bias=False)\n",
              "      (bn): BatchNorm2d(192, eps=0.001, momentum=0.1, affine=True, track_running_stats=True)\n",
              "    )\n",
              "    (branch7x7_1): BasicConv2d(\n",
              "      (conv): Conv2d(768, 160, kernel_size=(1, 1), stride=(1, 1), bias=False)\n",
              "      (bn): BatchNorm2d(160, eps=0.001, momentum=0.1, affine=True, track_running_stats=True)\n",
              "    )\n",
              "    (branch7x7_2): BasicConv2d(\n",
              "      (conv): Conv2d(160, 160, kernel_size=(1, 7), stride=(1, 1), padding=(0, 3), bias=False)\n",
              "      (bn): BatchNorm2d(160, eps=0.001, momentum=0.1, affine=True, track_running_stats=True)\n",
              "    )\n",
              "    (branch7x7_3): BasicConv2d(\n",
              "      (conv): Conv2d(160, 192, kernel_size=(7, 1), stride=(1, 1), padding=(3, 0), bias=False)\n",
              "      (bn): BatchNorm2d(192, eps=0.001, momentum=0.1, affine=True, track_running_stats=True)\n",
              "    )\n",
              "    (branch7x7dbl_1): BasicConv2d(\n",
              "      (conv): Conv2d(768, 160, kernel_size=(1, 1), stride=(1, 1), bias=False)\n",
              "      (bn): BatchNorm2d(160, eps=0.001, momentum=0.1, affine=True, track_running_stats=True)\n",
              "    )\n",
              "    (branch7x7dbl_2): BasicConv2d(\n",
              "      (conv): Conv2d(160, 160, kernel_size=(7, 1), stride=(1, 1), padding=(3, 0), bias=False)\n",
              "      (bn): BatchNorm2d(160, eps=0.001, momentum=0.1, affine=True, track_running_stats=True)\n",
              "    )\n",
              "    (branch7x7dbl_3): BasicConv2d(\n",
              "      (conv): Conv2d(160, 160, kernel_size=(1, 7), stride=(1, 1), padding=(0, 3), bias=False)\n",
              "      (bn): BatchNorm2d(160, eps=0.001, momentum=0.1, affine=True, track_running_stats=True)\n",
              "    )\n",
              "    (branch7x7dbl_4): BasicConv2d(\n",
              "      (conv): Conv2d(160, 160, kernel_size=(7, 1), stride=(1, 1), padding=(3, 0), bias=False)\n",
              "      (bn): BatchNorm2d(160, eps=0.001, momentum=0.1, affine=True, track_running_stats=True)\n",
              "    )\n",
              "    (branch7x7dbl_5): BasicConv2d(\n",
              "      (conv): Conv2d(160, 192, kernel_size=(1, 7), stride=(1, 1), padding=(0, 3), bias=False)\n",
              "      (bn): BatchNorm2d(192, eps=0.001, momentum=0.1, affine=True, track_running_stats=True)\n",
              "    )\n",
              "    (branch_pool): BasicConv2d(\n",
              "      (conv): Conv2d(768, 192, kernel_size=(1, 1), stride=(1, 1), bias=False)\n",
              "      (bn): BatchNorm2d(192, eps=0.001, momentum=0.1, affine=True, track_running_stats=True)\n",
              "    )\n",
              "  )\n",
              "  (Mixed_6e): InceptionC(\n",
              "    (branch1x1): BasicConv2d(\n",
              "      (conv): Conv2d(768, 192, kernel_size=(1, 1), stride=(1, 1), bias=False)\n",
              "      (bn): BatchNorm2d(192, eps=0.001, momentum=0.1, affine=True, track_running_stats=True)\n",
              "    )\n",
              "    (branch7x7_1): BasicConv2d(\n",
              "      (conv): Conv2d(768, 192, kernel_size=(1, 1), stride=(1, 1), bias=False)\n",
              "      (bn): BatchNorm2d(192, eps=0.001, momentum=0.1, affine=True, track_running_stats=True)\n",
              "    )\n",
              "    (branch7x7_2): BasicConv2d(\n",
              "      (conv): Conv2d(192, 192, kernel_size=(1, 7), stride=(1, 1), padding=(0, 3), bias=False)\n",
              "      (bn): BatchNorm2d(192, eps=0.001, momentum=0.1, affine=True, track_running_stats=True)\n",
              "    )\n",
              "    (branch7x7_3): BasicConv2d(\n",
              "      (conv): Conv2d(192, 192, kernel_size=(7, 1), stride=(1, 1), padding=(3, 0), bias=False)\n",
              "      (bn): BatchNorm2d(192, eps=0.001, momentum=0.1, affine=True, track_running_stats=True)\n",
              "    )\n",
              "    (branch7x7dbl_1): BasicConv2d(\n",
              "      (conv): Conv2d(768, 192, kernel_size=(1, 1), stride=(1, 1), bias=False)\n",
              "      (bn): BatchNorm2d(192, eps=0.001, momentum=0.1, affine=True, track_running_stats=True)\n",
              "    )\n",
              "    (branch7x7dbl_2): BasicConv2d(\n",
              "      (conv): Conv2d(192, 192, kernel_size=(7, 1), stride=(1, 1), padding=(3, 0), bias=False)\n",
              "      (bn): BatchNorm2d(192, eps=0.001, momentum=0.1, affine=True, track_running_stats=True)\n",
              "    )\n",
              "    (branch7x7dbl_3): BasicConv2d(\n",
              "      (conv): Conv2d(192, 192, kernel_size=(1, 7), stride=(1, 1), padding=(0, 3), bias=False)\n",
              "      (bn): BatchNorm2d(192, eps=0.001, momentum=0.1, affine=True, track_running_stats=True)\n",
              "    )\n",
              "    (branch7x7dbl_4): BasicConv2d(\n",
              "      (conv): Conv2d(192, 192, kernel_size=(7, 1), stride=(1, 1), padding=(3, 0), bias=False)\n",
              "      (bn): BatchNorm2d(192, eps=0.001, momentum=0.1, affine=True, track_running_stats=True)\n",
              "    )\n",
              "    (branch7x7dbl_5): BasicConv2d(\n",
              "      (conv): Conv2d(192, 192, kernel_size=(1, 7), stride=(1, 1), padding=(0, 3), bias=False)\n",
              "      (bn): BatchNorm2d(192, eps=0.001, momentum=0.1, affine=True, track_running_stats=True)\n",
              "    )\n",
              "    (branch_pool): BasicConv2d(\n",
              "      (conv): Conv2d(768, 192, kernel_size=(1, 1), stride=(1, 1), bias=False)\n",
              "      (bn): BatchNorm2d(192, eps=0.001, momentum=0.1, affine=True, track_running_stats=True)\n",
              "    )\n",
              "  )\n",
              "  (AuxLogits): InceptionAux(\n",
              "    (conv0): BasicConv2d(\n",
              "      (conv): Conv2d(768, 128, kernel_size=(1, 1), stride=(1, 1), bias=False)\n",
              "      (bn): BatchNorm2d(128, eps=0.001, momentum=0.1, affine=True, track_running_stats=True)\n",
              "    )\n",
              "    (conv1): BasicConv2d(\n",
              "      (conv): Conv2d(128, 768, kernel_size=(5, 5), stride=(1, 1), bias=False)\n",
              "      (bn): BatchNorm2d(768, eps=0.001, momentum=0.1, affine=True, track_running_stats=True)\n",
              "    )\n",
              "    (fc): Linear(in_features=768, out_features=1000, bias=True)\n",
              "  )\n",
              "  (Mixed_7a): InceptionD(\n",
              "    (branch3x3_1): BasicConv2d(\n",
              "      (conv): Conv2d(768, 192, kernel_size=(1, 1), stride=(1, 1), bias=False)\n",
              "      (bn): BatchNorm2d(192, eps=0.001, momentum=0.1, affine=True, track_running_stats=True)\n",
              "    )\n",
              "    (branch3x3_2): BasicConv2d(\n",
              "      (conv): Conv2d(192, 320, kernel_size=(3, 3), stride=(2, 2), bias=False)\n",
              "      (bn): BatchNorm2d(320, eps=0.001, momentum=0.1, affine=True, track_running_stats=True)\n",
              "    )\n",
              "    (branch7x7x3_1): BasicConv2d(\n",
              "      (conv): Conv2d(768, 192, kernel_size=(1, 1), stride=(1, 1), bias=False)\n",
              "      (bn): BatchNorm2d(192, eps=0.001, momentum=0.1, affine=True, track_running_stats=True)\n",
              "    )\n",
              "    (branch7x7x3_2): BasicConv2d(\n",
              "      (conv): Conv2d(192, 192, kernel_size=(1, 7), stride=(1, 1), padding=(0, 3), bias=False)\n",
              "      (bn): BatchNorm2d(192, eps=0.001, momentum=0.1, affine=True, track_running_stats=True)\n",
              "    )\n",
              "    (branch7x7x3_3): BasicConv2d(\n",
              "      (conv): Conv2d(192, 192, kernel_size=(7, 1), stride=(1, 1), padding=(3, 0), bias=False)\n",
              "      (bn): BatchNorm2d(192, eps=0.001, momentum=0.1, affine=True, track_running_stats=True)\n",
              "    )\n",
              "    (branch7x7x3_4): BasicConv2d(\n",
              "      (conv): Conv2d(192, 192, kernel_size=(3, 3), stride=(2, 2), bias=False)\n",
              "      (bn): BatchNorm2d(192, eps=0.001, momentum=0.1, affine=True, track_running_stats=True)\n",
              "    )\n",
              "  )\n",
              "  (Mixed_7b): InceptionE(\n",
              "    (branch1x1): BasicConv2d(\n",
              "      (conv): Conv2d(1280, 320, kernel_size=(1, 1), stride=(1, 1), bias=False)\n",
              "      (bn): BatchNorm2d(320, eps=0.001, momentum=0.1, affine=True, track_running_stats=True)\n",
              "    )\n",
              "    (branch3x3_1): BasicConv2d(\n",
              "      (conv): Conv2d(1280, 384, kernel_size=(1, 1), stride=(1, 1), bias=False)\n",
              "      (bn): BatchNorm2d(384, eps=0.001, momentum=0.1, affine=True, track_running_stats=True)\n",
              "    )\n",
              "    (branch3x3_2a): BasicConv2d(\n",
              "      (conv): Conv2d(384, 384, kernel_size=(1, 3), stride=(1, 1), padding=(0, 1), bias=False)\n",
              "      (bn): BatchNorm2d(384, eps=0.001, momentum=0.1, affine=True, track_running_stats=True)\n",
              "    )\n",
              "    (branch3x3_2b): BasicConv2d(\n",
              "      (conv): Conv2d(384, 384, kernel_size=(3, 1), stride=(1, 1), padding=(1, 0), bias=False)\n",
              "      (bn): BatchNorm2d(384, eps=0.001, momentum=0.1, affine=True, track_running_stats=True)\n",
              "    )\n",
              "    (branch3x3dbl_1): BasicConv2d(\n",
              "      (conv): Conv2d(1280, 448, kernel_size=(1, 1), stride=(1, 1), bias=False)\n",
              "      (bn): BatchNorm2d(448, eps=0.001, momentum=0.1, affine=True, track_running_stats=True)\n",
              "    )\n",
              "    (branch3x3dbl_2): BasicConv2d(\n",
              "      (conv): Conv2d(448, 384, kernel_size=(3, 3), stride=(1, 1), padding=(1, 1), bias=False)\n",
              "      (bn): BatchNorm2d(384, eps=0.001, momentum=0.1, affine=True, track_running_stats=True)\n",
              "    )\n",
              "    (branch3x3dbl_3a): BasicConv2d(\n",
              "      (conv): Conv2d(384, 384, kernel_size=(1, 3), stride=(1, 1), padding=(0, 1), bias=False)\n",
              "      (bn): BatchNorm2d(384, eps=0.001, momentum=0.1, affine=True, track_running_stats=True)\n",
              "    )\n",
              "    (branch3x3dbl_3b): BasicConv2d(\n",
              "      (conv): Conv2d(384, 384, kernel_size=(3, 1), stride=(1, 1), padding=(1, 0), bias=False)\n",
              "      (bn): BatchNorm2d(384, eps=0.001, momentum=0.1, affine=True, track_running_stats=True)\n",
              "    )\n",
              "    (branch_pool): BasicConv2d(\n",
              "      (conv): Conv2d(1280, 192, kernel_size=(1, 1), stride=(1, 1), bias=False)\n",
              "      (bn): BatchNorm2d(192, eps=0.001, momentum=0.1, affine=True, track_running_stats=True)\n",
              "    )\n",
              "  )\n",
              "  (Mixed_7c): InceptionE(\n",
              "    (branch1x1): BasicConv2d(\n",
              "      (conv): Conv2d(2048, 320, kernel_size=(1, 1), stride=(1, 1), bias=False)\n",
              "      (bn): BatchNorm2d(320, eps=0.001, momentum=0.1, affine=True, track_running_stats=True)\n",
              "    )\n",
              "    (branch3x3_1): BasicConv2d(\n",
              "      (conv): Conv2d(2048, 384, kernel_size=(1, 1), stride=(1, 1), bias=False)\n",
              "      (bn): BatchNorm2d(384, eps=0.001, momentum=0.1, affine=True, track_running_stats=True)\n",
              "    )\n",
              "    (branch3x3_2a): BasicConv2d(\n",
              "      (conv): Conv2d(384, 384, kernel_size=(1, 3), stride=(1, 1), padding=(0, 1), bias=False)\n",
              "      (bn): BatchNorm2d(384, eps=0.001, momentum=0.1, affine=True, track_running_stats=True)\n",
              "    )\n",
              "    (branch3x3_2b): BasicConv2d(\n",
              "      (conv): Conv2d(384, 384, kernel_size=(3, 1), stride=(1, 1), padding=(1, 0), bias=False)\n",
              "      (bn): BatchNorm2d(384, eps=0.001, momentum=0.1, affine=True, track_running_stats=True)\n",
              "    )\n",
              "    (branch3x3dbl_1): BasicConv2d(\n",
              "      (conv): Conv2d(2048, 448, kernel_size=(1, 1), stride=(1, 1), bias=False)\n",
              "      (bn): BatchNorm2d(448, eps=0.001, momentum=0.1, affine=True, track_running_stats=True)\n",
              "    )\n",
              "    (branch3x3dbl_2): BasicConv2d(\n",
              "      (conv): Conv2d(448, 384, kernel_size=(3, 3), stride=(1, 1), padding=(1, 1), bias=False)\n",
              "      (bn): BatchNorm2d(384, eps=0.001, momentum=0.1, affine=True, track_running_stats=True)\n",
              "    )\n",
              "    (branch3x3dbl_3a): BasicConv2d(\n",
              "      (conv): Conv2d(384, 384, kernel_size=(1, 3), stride=(1, 1), padding=(0, 1), bias=False)\n",
              "      (bn): BatchNorm2d(384, eps=0.001, momentum=0.1, affine=True, track_running_stats=True)\n",
              "    )\n",
              "    (branch3x3dbl_3b): BasicConv2d(\n",
              "      (conv): Conv2d(384, 384, kernel_size=(3, 1), stride=(1, 1), padding=(1, 0), bias=False)\n",
              "      (bn): BatchNorm2d(384, eps=0.001, momentum=0.1, affine=True, track_running_stats=True)\n",
              "    )\n",
              "    (branch_pool): BasicConv2d(\n",
              "      (conv): Conv2d(2048, 192, kernel_size=(1, 1), stride=(1, 1), bias=False)\n",
              "      (bn): BatchNorm2d(192, eps=0.001, momentum=0.1, affine=True, track_running_stats=True)\n",
              "    )\n",
              "  )\n",
              "  (avgpool): AdaptiveAvgPool2d(output_size=(1, 1))\n",
              "  (dropout): Dropout(p=0.5, inplace=False)\n",
              "  (fc): Sequential(\n",
              "    (0): Linear(in_features=2048, out_features=1024, bias=True)\n",
              "    (1): ReLU()\n",
              "    (2): Linear(in_features=1024, out_features=512, bias=True)\n",
              "    (3): ReLU()\n",
              "    (4): Linear(in_features=512, out_features=256, bias=True)\n",
              "    (5): ReLU()\n",
              "    (6): Linear(in_features=256, out_features=2, bias=True)\n",
              "  )\n",
              ")"
            ]
          },
          "execution_count": 9,
          "metadata": {},
          "output_type": "execute_result"
        }
      ],
      "source": [
        "# Cargar el modelo InceptionV3 pre-entrenado\n",
        "model = models.inception_v3(pretrained=True, aux_logits=True)\n",
        "num_features = model.fc.in_features  # Obtener el número de características de entrada\n",
        "# Definir tus propias capas FC\n",
        "fc0 = nn.Linear(num_features, 1024)\n",
        "fc1 = nn.Linear(1024, 512)  # Agrega la primera capa FC con 512 neuronas\n",
        "fc2 = nn.Linear(512, 256)  # Agrega la segunda capa FC con 256 neuronas\n",
        "fc3 = nn.Linear(256, num_classes)  # Agrega la tercera capa FC con 2 neuronas (suponiendo 2 clases)\n",
        "\n",
        "# Reemplazar la capa FC existente en InceptionV3 con tus nuevas capas FC\n",
        "model.fc = nn.Sequential(\n",
        "    fc0,\n",
        "    nn.ReLU(),\n",
        "    fc1,\n",
        "    nn.ReLU(),  # Agrega una función de activación, por ejemplo, ReLU\n",
        "    fc2,\n",
        "    nn.ReLU(),  # Otra función de activación, por ejemplo, ReLU\n",
        "    fc3\n",
        ")\n",
        "\n",
        "# Mover modelo a dispositivo de entrenamiento\n",
        "device = torch.device(\"cuda:0\" if torch.cuda.is_available() else \"cpu\")\n",
        "model.to(device)"
      ]
    },
    {
      "cell_type": "markdown",
      "id": "f2fdb2ca",
      "metadata": {
        "id": "f2fdb2ca",
        "papermill": {
          "duration": 0.008007,
          "end_time": "2023-10-04T14:53:58.287040",
          "exception": false,
          "start_time": "2023-10-04T14:53:58.279033",
          "status": "completed"
        },
        "tags": []
      },
      "source": [
        "# **Visualizamos la arquitectura del modelo**"
      ]
    },
    {
      "cell_type": "code",
      "execution_count": null,
      "id": "38088b44",
      "metadata": {
        "execution": {
          "iopub.execute_input": "2023-10-04T14:53:58.305604Z",
          "iopub.status.busy": "2023-10-04T14:53:58.304878Z",
          "iopub.status.idle": "2023-10-04T14:53:58.315310Z",
          "shell.execute_reply": "2023-10-04T14:53:58.314520Z"
        },
        "id": "38088b44",
        "outputId": "8983454c-ab5e-4c34-c531-289d67adbe79",
        "papermill": {
          "duration": 0.021948,
          "end_time": "2023-10-04T14:53:58.317211",
          "exception": false,
          "start_time": "2023-10-04T14:53:58.295263",
          "status": "completed"
        },
        "tags": []
      },
      "outputs": [
        {
          "data": {
            "text/plain": [
              "Inception3(\n",
              "  (Conv2d_1a_3x3): BasicConv2d(\n",
              "    (conv): Conv2d(3, 32, kernel_size=(3, 3), stride=(2, 2), bias=False)\n",
              "    (bn): BatchNorm2d(32, eps=0.001, momentum=0.1, affine=True, track_running_stats=True)\n",
              "  )\n",
              "  (Conv2d_2a_3x3): BasicConv2d(\n",
              "    (conv): Conv2d(32, 32, kernel_size=(3, 3), stride=(1, 1), bias=False)\n",
              "    (bn): BatchNorm2d(32, eps=0.001, momentum=0.1, affine=True, track_running_stats=True)\n",
              "  )\n",
              "  (Conv2d_2b_3x3): BasicConv2d(\n",
              "    (conv): Conv2d(32, 64, kernel_size=(3, 3), stride=(1, 1), padding=(1, 1), bias=False)\n",
              "    (bn): BatchNorm2d(64, eps=0.001, momentum=0.1, affine=True, track_running_stats=True)\n",
              "  )\n",
              "  (maxpool1): MaxPool2d(kernel_size=3, stride=2, padding=0, dilation=1, ceil_mode=False)\n",
              "  (Conv2d_3b_1x1): BasicConv2d(\n",
              "    (conv): Conv2d(64, 80, kernel_size=(1, 1), stride=(1, 1), bias=False)\n",
              "    (bn): BatchNorm2d(80, eps=0.001, momentum=0.1, affine=True, track_running_stats=True)\n",
              "  )\n",
              "  (Conv2d_4a_3x3): BasicConv2d(\n",
              "    (conv): Conv2d(80, 192, kernel_size=(3, 3), stride=(1, 1), bias=False)\n",
              "    (bn): BatchNorm2d(192, eps=0.001, momentum=0.1, affine=True, track_running_stats=True)\n",
              "  )\n",
              "  (maxpool2): MaxPool2d(kernel_size=3, stride=2, padding=0, dilation=1, ceil_mode=False)\n",
              "  (Mixed_5b): InceptionA(\n",
              "    (branch1x1): BasicConv2d(\n",
              "      (conv): Conv2d(192, 64, kernel_size=(1, 1), stride=(1, 1), bias=False)\n",
              "      (bn): BatchNorm2d(64, eps=0.001, momentum=0.1, affine=True, track_running_stats=True)\n",
              "    )\n",
              "    (branch5x5_1): BasicConv2d(\n",
              "      (conv): Conv2d(192, 48, kernel_size=(1, 1), stride=(1, 1), bias=False)\n",
              "      (bn): BatchNorm2d(48, eps=0.001, momentum=0.1, affine=True, track_running_stats=True)\n",
              "    )\n",
              "    (branch5x5_2): BasicConv2d(\n",
              "      (conv): Conv2d(48, 64, kernel_size=(5, 5), stride=(1, 1), padding=(2, 2), bias=False)\n",
              "      (bn): BatchNorm2d(64, eps=0.001, momentum=0.1, affine=True, track_running_stats=True)\n",
              "    )\n",
              "    (branch3x3dbl_1): BasicConv2d(\n",
              "      (conv): Conv2d(192, 64, kernel_size=(1, 1), stride=(1, 1), bias=False)\n",
              "      (bn): BatchNorm2d(64, eps=0.001, momentum=0.1, affine=True, track_running_stats=True)\n",
              "    )\n",
              "    (branch3x3dbl_2): BasicConv2d(\n",
              "      (conv): Conv2d(64, 96, kernel_size=(3, 3), stride=(1, 1), padding=(1, 1), bias=False)\n",
              "      (bn): BatchNorm2d(96, eps=0.001, momentum=0.1, affine=True, track_running_stats=True)\n",
              "    )\n",
              "    (branch3x3dbl_3): BasicConv2d(\n",
              "      (conv): Conv2d(96, 96, kernel_size=(3, 3), stride=(1, 1), padding=(1, 1), bias=False)\n",
              "      (bn): BatchNorm2d(96, eps=0.001, momentum=0.1, affine=True, track_running_stats=True)\n",
              "    )\n",
              "    (branch_pool): BasicConv2d(\n",
              "      (conv): Conv2d(192, 32, kernel_size=(1, 1), stride=(1, 1), bias=False)\n",
              "      (bn): BatchNorm2d(32, eps=0.001, momentum=0.1, affine=True, track_running_stats=True)\n",
              "    )\n",
              "  )\n",
              "  (Mixed_5c): InceptionA(\n",
              "    (branch1x1): BasicConv2d(\n",
              "      (conv): Conv2d(256, 64, kernel_size=(1, 1), stride=(1, 1), bias=False)\n",
              "      (bn): BatchNorm2d(64, eps=0.001, momentum=0.1, affine=True, track_running_stats=True)\n",
              "    )\n",
              "    (branch5x5_1): BasicConv2d(\n",
              "      (conv): Conv2d(256, 48, kernel_size=(1, 1), stride=(1, 1), bias=False)\n",
              "      (bn): BatchNorm2d(48, eps=0.001, momentum=0.1, affine=True, track_running_stats=True)\n",
              "    )\n",
              "    (branch5x5_2): BasicConv2d(\n",
              "      (conv): Conv2d(48, 64, kernel_size=(5, 5), stride=(1, 1), padding=(2, 2), bias=False)\n",
              "      (bn): BatchNorm2d(64, eps=0.001, momentum=0.1, affine=True, track_running_stats=True)\n",
              "    )\n",
              "    (branch3x3dbl_1): BasicConv2d(\n",
              "      (conv): Conv2d(256, 64, kernel_size=(1, 1), stride=(1, 1), bias=False)\n",
              "      (bn): BatchNorm2d(64, eps=0.001, momentum=0.1, affine=True, track_running_stats=True)\n",
              "    )\n",
              "    (branch3x3dbl_2): BasicConv2d(\n",
              "      (conv): Conv2d(64, 96, kernel_size=(3, 3), stride=(1, 1), padding=(1, 1), bias=False)\n",
              "      (bn): BatchNorm2d(96, eps=0.001, momentum=0.1, affine=True, track_running_stats=True)\n",
              "    )\n",
              "    (branch3x3dbl_3): BasicConv2d(\n",
              "      (conv): Conv2d(96, 96, kernel_size=(3, 3), stride=(1, 1), padding=(1, 1), bias=False)\n",
              "      (bn): BatchNorm2d(96, eps=0.001, momentum=0.1, affine=True, track_running_stats=True)\n",
              "    )\n",
              "    (branch_pool): BasicConv2d(\n",
              "      (conv): Conv2d(256, 64, kernel_size=(1, 1), stride=(1, 1), bias=False)\n",
              "      (bn): BatchNorm2d(64, eps=0.001, momentum=0.1, affine=True, track_running_stats=True)\n",
              "    )\n",
              "  )\n",
              "  (Mixed_5d): InceptionA(\n",
              "    (branch1x1): BasicConv2d(\n",
              "      (conv): Conv2d(288, 64, kernel_size=(1, 1), stride=(1, 1), bias=False)\n",
              "      (bn): BatchNorm2d(64, eps=0.001, momentum=0.1, affine=True, track_running_stats=True)\n",
              "    )\n",
              "    (branch5x5_1): BasicConv2d(\n",
              "      (conv): Conv2d(288, 48, kernel_size=(1, 1), stride=(1, 1), bias=False)\n",
              "      (bn): BatchNorm2d(48, eps=0.001, momentum=0.1, affine=True, track_running_stats=True)\n",
              "    )\n",
              "    (branch5x5_2): BasicConv2d(\n",
              "      (conv): Conv2d(48, 64, kernel_size=(5, 5), stride=(1, 1), padding=(2, 2), bias=False)\n",
              "      (bn): BatchNorm2d(64, eps=0.001, momentum=0.1, affine=True, track_running_stats=True)\n",
              "    )\n",
              "    (branch3x3dbl_1): BasicConv2d(\n",
              "      (conv): Conv2d(288, 64, kernel_size=(1, 1), stride=(1, 1), bias=False)\n",
              "      (bn): BatchNorm2d(64, eps=0.001, momentum=0.1, affine=True, track_running_stats=True)\n",
              "    )\n",
              "    (branch3x3dbl_2): BasicConv2d(\n",
              "      (conv): Conv2d(64, 96, kernel_size=(3, 3), stride=(1, 1), padding=(1, 1), bias=False)\n",
              "      (bn): BatchNorm2d(96, eps=0.001, momentum=0.1, affine=True, track_running_stats=True)\n",
              "    )\n",
              "    (branch3x3dbl_3): BasicConv2d(\n",
              "      (conv): Conv2d(96, 96, kernel_size=(3, 3), stride=(1, 1), padding=(1, 1), bias=False)\n",
              "      (bn): BatchNorm2d(96, eps=0.001, momentum=0.1, affine=True, track_running_stats=True)\n",
              "    )\n",
              "    (branch_pool): BasicConv2d(\n",
              "      (conv): Conv2d(288, 64, kernel_size=(1, 1), stride=(1, 1), bias=False)\n",
              "      (bn): BatchNorm2d(64, eps=0.001, momentum=0.1, affine=True, track_running_stats=True)\n",
              "    )\n",
              "  )\n",
              "  (Mixed_6a): InceptionB(\n",
              "    (branch3x3): BasicConv2d(\n",
              "      (conv): Conv2d(288, 384, kernel_size=(3, 3), stride=(2, 2), bias=False)\n",
              "      (bn): BatchNorm2d(384, eps=0.001, momentum=0.1, affine=True, track_running_stats=True)\n",
              "    )\n",
              "    (branch3x3dbl_1): BasicConv2d(\n",
              "      (conv): Conv2d(288, 64, kernel_size=(1, 1), stride=(1, 1), bias=False)\n",
              "      (bn): BatchNorm2d(64, eps=0.001, momentum=0.1, affine=True, track_running_stats=True)\n",
              "    )\n",
              "    (branch3x3dbl_2): BasicConv2d(\n",
              "      (conv): Conv2d(64, 96, kernel_size=(3, 3), stride=(1, 1), padding=(1, 1), bias=False)\n",
              "      (bn): BatchNorm2d(96, eps=0.001, momentum=0.1, affine=True, track_running_stats=True)\n",
              "    )\n",
              "    (branch3x3dbl_3): BasicConv2d(\n",
              "      (conv): Conv2d(96, 96, kernel_size=(3, 3), stride=(2, 2), bias=False)\n",
              "      (bn): BatchNorm2d(96, eps=0.001, momentum=0.1, affine=True, track_running_stats=True)\n",
              "    )\n",
              "  )\n",
              "  (Mixed_6b): InceptionC(\n",
              "    (branch1x1): BasicConv2d(\n",
              "      (conv): Conv2d(768, 192, kernel_size=(1, 1), stride=(1, 1), bias=False)\n",
              "      (bn): BatchNorm2d(192, eps=0.001, momentum=0.1, affine=True, track_running_stats=True)\n",
              "    )\n",
              "    (branch7x7_1): BasicConv2d(\n",
              "      (conv): Conv2d(768, 128, kernel_size=(1, 1), stride=(1, 1), bias=False)\n",
              "      (bn): BatchNorm2d(128, eps=0.001, momentum=0.1, affine=True, track_running_stats=True)\n",
              "    )\n",
              "    (branch7x7_2): BasicConv2d(\n",
              "      (conv): Conv2d(128, 128, kernel_size=(1, 7), stride=(1, 1), padding=(0, 3), bias=False)\n",
              "      (bn): BatchNorm2d(128, eps=0.001, momentum=0.1, affine=True, track_running_stats=True)\n",
              "    )\n",
              "    (branch7x7_3): BasicConv2d(\n",
              "      (conv): Conv2d(128, 192, kernel_size=(7, 1), stride=(1, 1), padding=(3, 0), bias=False)\n",
              "      (bn): BatchNorm2d(192, eps=0.001, momentum=0.1, affine=True, track_running_stats=True)\n",
              "    )\n",
              "    (branch7x7dbl_1): BasicConv2d(\n",
              "      (conv): Conv2d(768, 128, kernel_size=(1, 1), stride=(1, 1), bias=False)\n",
              "      (bn): BatchNorm2d(128, eps=0.001, momentum=0.1, affine=True, track_running_stats=True)\n",
              "    )\n",
              "    (branch7x7dbl_2): BasicConv2d(\n",
              "      (conv): Conv2d(128, 128, kernel_size=(7, 1), stride=(1, 1), padding=(3, 0), bias=False)\n",
              "      (bn): BatchNorm2d(128, eps=0.001, momentum=0.1, affine=True, track_running_stats=True)\n",
              "    )\n",
              "    (branch7x7dbl_3): BasicConv2d(\n",
              "      (conv): Conv2d(128, 128, kernel_size=(1, 7), stride=(1, 1), padding=(0, 3), bias=False)\n",
              "      (bn): BatchNorm2d(128, eps=0.001, momentum=0.1, affine=True, track_running_stats=True)\n",
              "    )\n",
              "    (branch7x7dbl_4): BasicConv2d(\n",
              "      (conv): Conv2d(128, 128, kernel_size=(7, 1), stride=(1, 1), padding=(3, 0), bias=False)\n",
              "      (bn): BatchNorm2d(128, eps=0.001, momentum=0.1, affine=True, track_running_stats=True)\n",
              "    )\n",
              "    (branch7x7dbl_5): BasicConv2d(\n",
              "      (conv): Conv2d(128, 192, kernel_size=(1, 7), stride=(1, 1), padding=(0, 3), bias=False)\n",
              "      (bn): BatchNorm2d(192, eps=0.001, momentum=0.1, affine=True, track_running_stats=True)\n",
              "    )\n",
              "    (branch_pool): BasicConv2d(\n",
              "      (conv): Conv2d(768, 192, kernel_size=(1, 1), stride=(1, 1), bias=False)\n",
              "      (bn): BatchNorm2d(192, eps=0.001, momentum=0.1, affine=True, track_running_stats=True)\n",
              "    )\n",
              "  )\n",
              "  (Mixed_6c): InceptionC(\n",
              "    (branch1x1): BasicConv2d(\n",
              "      (conv): Conv2d(768, 192, kernel_size=(1, 1), stride=(1, 1), bias=False)\n",
              "      (bn): BatchNorm2d(192, eps=0.001, momentum=0.1, affine=True, track_running_stats=True)\n",
              "    )\n",
              "    (branch7x7_1): BasicConv2d(\n",
              "      (conv): Conv2d(768, 160, kernel_size=(1, 1), stride=(1, 1), bias=False)\n",
              "      (bn): BatchNorm2d(160, eps=0.001, momentum=0.1, affine=True, track_running_stats=True)\n",
              "    )\n",
              "    (branch7x7_2): BasicConv2d(\n",
              "      (conv): Conv2d(160, 160, kernel_size=(1, 7), stride=(1, 1), padding=(0, 3), bias=False)\n",
              "      (bn): BatchNorm2d(160, eps=0.001, momentum=0.1, affine=True, track_running_stats=True)\n",
              "    )\n",
              "    (branch7x7_3): BasicConv2d(\n",
              "      (conv): Conv2d(160, 192, kernel_size=(7, 1), stride=(1, 1), padding=(3, 0), bias=False)\n",
              "      (bn): BatchNorm2d(192, eps=0.001, momentum=0.1, affine=True, track_running_stats=True)\n",
              "    )\n",
              "    (branch7x7dbl_1): BasicConv2d(\n",
              "      (conv): Conv2d(768, 160, kernel_size=(1, 1), stride=(1, 1), bias=False)\n",
              "      (bn): BatchNorm2d(160, eps=0.001, momentum=0.1, affine=True, track_running_stats=True)\n",
              "    )\n",
              "    (branch7x7dbl_2): BasicConv2d(\n",
              "      (conv): Conv2d(160, 160, kernel_size=(7, 1), stride=(1, 1), padding=(3, 0), bias=False)\n",
              "      (bn): BatchNorm2d(160, eps=0.001, momentum=0.1, affine=True, track_running_stats=True)\n",
              "    )\n",
              "    (branch7x7dbl_3): BasicConv2d(\n",
              "      (conv): Conv2d(160, 160, kernel_size=(1, 7), stride=(1, 1), padding=(0, 3), bias=False)\n",
              "      (bn): BatchNorm2d(160, eps=0.001, momentum=0.1, affine=True, track_running_stats=True)\n",
              "    )\n",
              "    (branch7x7dbl_4): BasicConv2d(\n",
              "      (conv): Conv2d(160, 160, kernel_size=(7, 1), stride=(1, 1), padding=(3, 0), bias=False)\n",
              "      (bn): BatchNorm2d(160, eps=0.001, momentum=0.1, affine=True, track_running_stats=True)\n",
              "    )\n",
              "    (branch7x7dbl_5): BasicConv2d(\n",
              "      (conv): Conv2d(160, 192, kernel_size=(1, 7), stride=(1, 1), padding=(0, 3), bias=False)\n",
              "      (bn): BatchNorm2d(192, eps=0.001, momentum=0.1, affine=True, track_running_stats=True)\n",
              "    )\n",
              "    (branch_pool): BasicConv2d(\n",
              "      (conv): Conv2d(768, 192, kernel_size=(1, 1), stride=(1, 1), bias=False)\n",
              "      (bn): BatchNorm2d(192, eps=0.001, momentum=0.1, affine=True, track_running_stats=True)\n",
              "    )\n",
              "  )\n",
              "  (Mixed_6d): InceptionC(\n",
              "    (branch1x1): BasicConv2d(\n",
              "      (conv): Conv2d(768, 192, kernel_size=(1, 1), stride=(1, 1), bias=False)\n",
              "      (bn): BatchNorm2d(192, eps=0.001, momentum=0.1, affine=True, track_running_stats=True)\n",
              "    )\n",
              "    (branch7x7_1): BasicConv2d(\n",
              "      (conv): Conv2d(768, 160, kernel_size=(1, 1), stride=(1, 1), bias=False)\n",
              "      (bn): BatchNorm2d(160, eps=0.001, momentum=0.1, affine=True, track_running_stats=True)\n",
              "    )\n",
              "    (branch7x7_2): BasicConv2d(\n",
              "      (conv): Conv2d(160, 160, kernel_size=(1, 7), stride=(1, 1), padding=(0, 3), bias=False)\n",
              "      (bn): BatchNorm2d(160, eps=0.001, momentum=0.1, affine=True, track_running_stats=True)\n",
              "    )\n",
              "    (branch7x7_3): BasicConv2d(\n",
              "      (conv): Conv2d(160, 192, kernel_size=(7, 1), stride=(1, 1), padding=(3, 0), bias=False)\n",
              "      (bn): BatchNorm2d(192, eps=0.001, momentum=0.1, affine=True, track_running_stats=True)\n",
              "    )\n",
              "    (branch7x7dbl_1): BasicConv2d(\n",
              "      (conv): Conv2d(768, 160, kernel_size=(1, 1), stride=(1, 1), bias=False)\n",
              "      (bn): BatchNorm2d(160, eps=0.001, momentum=0.1, affine=True, track_running_stats=True)\n",
              "    )\n",
              "    (branch7x7dbl_2): BasicConv2d(\n",
              "      (conv): Conv2d(160, 160, kernel_size=(7, 1), stride=(1, 1), padding=(3, 0), bias=False)\n",
              "      (bn): BatchNorm2d(160, eps=0.001, momentum=0.1, affine=True, track_running_stats=True)\n",
              "    )\n",
              "    (branch7x7dbl_3): BasicConv2d(\n",
              "      (conv): Conv2d(160, 160, kernel_size=(1, 7), stride=(1, 1), padding=(0, 3), bias=False)\n",
              "      (bn): BatchNorm2d(160, eps=0.001, momentum=0.1, affine=True, track_running_stats=True)\n",
              "    )\n",
              "    (branch7x7dbl_4): BasicConv2d(\n",
              "      (conv): Conv2d(160, 160, kernel_size=(7, 1), stride=(1, 1), padding=(3, 0), bias=False)\n",
              "      (bn): BatchNorm2d(160, eps=0.001, momentum=0.1, affine=True, track_running_stats=True)\n",
              "    )\n",
              "    (branch7x7dbl_5): BasicConv2d(\n",
              "      (conv): Conv2d(160, 192, kernel_size=(1, 7), stride=(1, 1), padding=(0, 3), bias=False)\n",
              "      (bn): BatchNorm2d(192, eps=0.001, momentum=0.1, affine=True, track_running_stats=True)\n",
              "    )\n",
              "    (branch_pool): BasicConv2d(\n",
              "      (conv): Conv2d(768, 192, kernel_size=(1, 1), stride=(1, 1), bias=False)\n",
              "      (bn): BatchNorm2d(192, eps=0.001, momentum=0.1, affine=True, track_running_stats=True)\n",
              "    )\n",
              "  )\n",
              "  (Mixed_6e): InceptionC(\n",
              "    (branch1x1): BasicConv2d(\n",
              "      (conv): Conv2d(768, 192, kernel_size=(1, 1), stride=(1, 1), bias=False)\n",
              "      (bn): BatchNorm2d(192, eps=0.001, momentum=0.1, affine=True, track_running_stats=True)\n",
              "    )\n",
              "    (branch7x7_1): BasicConv2d(\n",
              "      (conv): Conv2d(768, 192, kernel_size=(1, 1), stride=(1, 1), bias=False)\n",
              "      (bn): BatchNorm2d(192, eps=0.001, momentum=0.1, affine=True, track_running_stats=True)\n",
              "    )\n",
              "    (branch7x7_2): BasicConv2d(\n",
              "      (conv): Conv2d(192, 192, kernel_size=(1, 7), stride=(1, 1), padding=(0, 3), bias=False)\n",
              "      (bn): BatchNorm2d(192, eps=0.001, momentum=0.1, affine=True, track_running_stats=True)\n",
              "    )\n",
              "    (branch7x7_3): BasicConv2d(\n",
              "      (conv): Conv2d(192, 192, kernel_size=(7, 1), stride=(1, 1), padding=(3, 0), bias=False)\n",
              "      (bn): BatchNorm2d(192, eps=0.001, momentum=0.1, affine=True, track_running_stats=True)\n",
              "    )\n",
              "    (branch7x7dbl_1): BasicConv2d(\n",
              "      (conv): Conv2d(768, 192, kernel_size=(1, 1), stride=(1, 1), bias=False)\n",
              "      (bn): BatchNorm2d(192, eps=0.001, momentum=0.1, affine=True, track_running_stats=True)\n",
              "    )\n",
              "    (branch7x7dbl_2): BasicConv2d(\n",
              "      (conv): Conv2d(192, 192, kernel_size=(7, 1), stride=(1, 1), padding=(3, 0), bias=False)\n",
              "      (bn): BatchNorm2d(192, eps=0.001, momentum=0.1, affine=True, track_running_stats=True)\n",
              "    )\n",
              "    (branch7x7dbl_3): BasicConv2d(\n",
              "      (conv): Conv2d(192, 192, kernel_size=(1, 7), stride=(1, 1), padding=(0, 3), bias=False)\n",
              "      (bn): BatchNorm2d(192, eps=0.001, momentum=0.1, affine=True, track_running_stats=True)\n",
              "    )\n",
              "    (branch7x7dbl_4): BasicConv2d(\n",
              "      (conv): Conv2d(192, 192, kernel_size=(7, 1), stride=(1, 1), padding=(3, 0), bias=False)\n",
              "      (bn): BatchNorm2d(192, eps=0.001, momentum=0.1, affine=True, track_running_stats=True)\n",
              "    )\n",
              "    (branch7x7dbl_5): BasicConv2d(\n",
              "      (conv): Conv2d(192, 192, kernel_size=(1, 7), stride=(1, 1), padding=(0, 3), bias=False)\n",
              "      (bn): BatchNorm2d(192, eps=0.001, momentum=0.1, affine=True, track_running_stats=True)\n",
              "    )\n",
              "    (branch_pool): BasicConv2d(\n",
              "      (conv): Conv2d(768, 192, kernel_size=(1, 1), stride=(1, 1), bias=False)\n",
              "      (bn): BatchNorm2d(192, eps=0.001, momentum=0.1, affine=True, track_running_stats=True)\n",
              "    )\n",
              "  )\n",
              "  (AuxLogits): InceptionAux(\n",
              "    (conv0): BasicConv2d(\n",
              "      (conv): Conv2d(768, 128, kernel_size=(1, 1), stride=(1, 1), bias=False)\n",
              "      (bn): BatchNorm2d(128, eps=0.001, momentum=0.1, affine=True, track_running_stats=True)\n",
              "    )\n",
              "    (conv1): BasicConv2d(\n",
              "      (conv): Conv2d(128, 768, kernel_size=(5, 5), stride=(1, 1), bias=False)\n",
              "      (bn): BatchNorm2d(768, eps=0.001, momentum=0.1, affine=True, track_running_stats=True)\n",
              "    )\n",
              "    (fc): Linear(in_features=768, out_features=1000, bias=True)\n",
              "  )\n",
              "  (Mixed_7a): InceptionD(\n",
              "    (branch3x3_1): BasicConv2d(\n",
              "      (conv): Conv2d(768, 192, kernel_size=(1, 1), stride=(1, 1), bias=False)\n",
              "      (bn): BatchNorm2d(192, eps=0.001, momentum=0.1, affine=True, track_running_stats=True)\n",
              "    )\n",
              "    (branch3x3_2): BasicConv2d(\n",
              "      (conv): Conv2d(192, 320, kernel_size=(3, 3), stride=(2, 2), bias=False)\n",
              "      (bn): BatchNorm2d(320, eps=0.001, momentum=0.1, affine=True, track_running_stats=True)\n",
              "    )\n",
              "    (branch7x7x3_1): BasicConv2d(\n",
              "      (conv): Conv2d(768, 192, kernel_size=(1, 1), stride=(1, 1), bias=False)\n",
              "      (bn): BatchNorm2d(192, eps=0.001, momentum=0.1, affine=True, track_running_stats=True)\n",
              "    )\n",
              "    (branch7x7x3_2): BasicConv2d(\n",
              "      (conv): Conv2d(192, 192, kernel_size=(1, 7), stride=(1, 1), padding=(0, 3), bias=False)\n",
              "      (bn): BatchNorm2d(192, eps=0.001, momentum=0.1, affine=True, track_running_stats=True)\n",
              "    )\n",
              "    (branch7x7x3_3): BasicConv2d(\n",
              "      (conv): Conv2d(192, 192, kernel_size=(7, 1), stride=(1, 1), padding=(3, 0), bias=False)\n",
              "      (bn): BatchNorm2d(192, eps=0.001, momentum=0.1, affine=True, track_running_stats=True)\n",
              "    )\n",
              "    (branch7x7x3_4): BasicConv2d(\n",
              "      (conv): Conv2d(192, 192, kernel_size=(3, 3), stride=(2, 2), bias=False)\n",
              "      (bn): BatchNorm2d(192, eps=0.001, momentum=0.1, affine=True, track_running_stats=True)\n",
              "    )\n",
              "  )\n",
              "  (Mixed_7b): InceptionE(\n",
              "    (branch1x1): BasicConv2d(\n",
              "      (conv): Conv2d(1280, 320, kernel_size=(1, 1), stride=(1, 1), bias=False)\n",
              "      (bn): BatchNorm2d(320, eps=0.001, momentum=0.1, affine=True, track_running_stats=True)\n",
              "    )\n",
              "    (branch3x3_1): BasicConv2d(\n",
              "      (conv): Conv2d(1280, 384, kernel_size=(1, 1), stride=(1, 1), bias=False)\n",
              "      (bn): BatchNorm2d(384, eps=0.001, momentum=0.1, affine=True, track_running_stats=True)\n",
              "    )\n",
              "    (branch3x3_2a): BasicConv2d(\n",
              "      (conv): Conv2d(384, 384, kernel_size=(1, 3), stride=(1, 1), padding=(0, 1), bias=False)\n",
              "      (bn): BatchNorm2d(384, eps=0.001, momentum=0.1, affine=True, track_running_stats=True)\n",
              "    )\n",
              "    (branch3x3_2b): BasicConv2d(\n",
              "      (conv): Conv2d(384, 384, kernel_size=(3, 1), stride=(1, 1), padding=(1, 0), bias=False)\n",
              "      (bn): BatchNorm2d(384, eps=0.001, momentum=0.1, affine=True, track_running_stats=True)\n",
              "    )\n",
              "    (branch3x3dbl_1): BasicConv2d(\n",
              "      (conv): Conv2d(1280, 448, kernel_size=(1, 1), stride=(1, 1), bias=False)\n",
              "      (bn): BatchNorm2d(448, eps=0.001, momentum=0.1, affine=True, track_running_stats=True)\n",
              "    )\n",
              "    (branch3x3dbl_2): BasicConv2d(\n",
              "      (conv): Conv2d(448, 384, kernel_size=(3, 3), stride=(1, 1), padding=(1, 1), bias=False)\n",
              "      (bn): BatchNorm2d(384, eps=0.001, momentum=0.1, affine=True, track_running_stats=True)\n",
              "    )\n",
              "    (branch3x3dbl_3a): BasicConv2d(\n",
              "      (conv): Conv2d(384, 384, kernel_size=(1, 3), stride=(1, 1), padding=(0, 1), bias=False)\n",
              "      (bn): BatchNorm2d(384, eps=0.001, momentum=0.1, affine=True, track_running_stats=True)\n",
              "    )\n",
              "    (branch3x3dbl_3b): BasicConv2d(\n",
              "      (conv): Conv2d(384, 384, kernel_size=(3, 1), stride=(1, 1), padding=(1, 0), bias=False)\n",
              "      (bn): BatchNorm2d(384, eps=0.001, momentum=0.1, affine=True, track_running_stats=True)\n",
              "    )\n",
              "    (branch_pool): BasicConv2d(\n",
              "      (conv): Conv2d(1280, 192, kernel_size=(1, 1), stride=(1, 1), bias=False)\n",
              "      (bn): BatchNorm2d(192, eps=0.001, momentum=0.1, affine=True, track_running_stats=True)\n",
              "    )\n",
              "  )\n",
              "  (Mixed_7c): InceptionE(\n",
              "    (branch1x1): BasicConv2d(\n",
              "      (conv): Conv2d(2048, 320, kernel_size=(1, 1), stride=(1, 1), bias=False)\n",
              "      (bn): BatchNorm2d(320, eps=0.001, momentum=0.1, affine=True, track_running_stats=True)\n",
              "    )\n",
              "    (branch3x3_1): BasicConv2d(\n",
              "      (conv): Conv2d(2048, 384, kernel_size=(1, 1), stride=(1, 1), bias=False)\n",
              "      (bn): BatchNorm2d(384, eps=0.001, momentum=0.1, affine=True, track_running_stats=True)\n",
              "    )\n",
              "    (branch3x3_2a): BasicConv2d(\n",
              "      (conv): Conv2d(384, 384, kernel_size=(1, 3), stride=(1, 1), padding=(0, 1), bias=False)\n",
              "      (bn): BatchNorm2d(384, eps=0.001, momentum=0.1, affine=True, track_running_stats=True)\n",
              "    )\n",
              "    (branch3x3_2b): BasicConv2d(\n",
              "      (conv): Conv2d(384, 384, kernel_size=(3, 1), stride=(1, 1), padding=(1, 0), bias=False)\n",
              "      (bn): BatchNorm2d(384, eps=0.001, momentum=0.1, affine=True, track_running_stats=True)\n",
              "    )\n",
              "    (branch3x3dbl_1): BasicConv2d(\n",
              "      (conv): Conv2d(2048, 448, kernel_size=(1, 1), stride=(1, 1), bias=False)\n",
              "      (bn): BatchNorm2d(448, eps=0.001, momentum=0.1, affine=True, track_running_stats=True)\n",
              "    )\n",
              "    (branch3x3dbl_2): BasicConv2d(\n",
              "      (conv): Conv2d(448, 384, kernel_size=(3, 3), stride=(1, 1), padding=(1, 1), bias=False)\n",
              "      (bn): BatchNorm2d(384, eps=0.001, momentum=0.1, affine=True, track_running_stats=True)\n",
              "    )\n",
              "    (branch3x3dbl_3a): BasicConv2d(\n",
              "      (conv): Conv2d(384, 384, kernel_size=(1, 3), stride=(1, 1), padding=(0, 1), bias=False)\n",
              "      (bn): BatchNorm2d(384, eps=0.001, momentum=0.1, affine=True, track_running_stats=True)\n",
              "    )\n",
              "    (branch3x3dbl_3b): BasicConv2d(\n",
              "      (conv): Conv2d(384, 384, kernel_size=(3, 1), stride=(1, 1), padding=(1, 0), bias=False)\n",
              "      (bn): BatchNorm2d(384, eps=0.001, momentum=0.1, affine=True, track_running_stats=True)\n",
              "    )\n",
              "    (branch_pool): BasicConv2d(\n",
              "      (conv): Conv2d(2048, 192, kernel_size=(1, 1), stride=(1, 1), bias=False)\n",
              "      (bn): BatchNorm2d(192, eps=0.001, momentum=0.1, affine=True, track_running_stats=True)\n",
              "    )\n",
              "  )\n",
              "  (avgpool): AdaptiveAvgPool2d(output_size=(1, 1))\n",
              "  (dropout): Dropout(p=0.5, inplace=False)\n",
              "  (fc): Sequential(\n",
              "    (0): Linear(in_features=2048, out_features=1024, bias=True)\n",
              "    (1): ReLU()\n",
              "    (2): Linear(in_features=1024, out_features=512, bias=True)\n",
              "    (3): ReLU()\n",
              "    (4): Linear(in_features=512, out_features=256, bias=True)\n",
              "    (5): ReLU()\n",
              "    (6): Linear(in_features=256, out_features=2, bias=True)\n",
              "  )\n",
              ")"
            ]
          },
          "execution_count": 10,
          "metadata": {},
          "output_type": "execute_result"
        }
      ],
      "source": [
        "model"
      ]
    },
    {
      "cell_type": "markdown",
      "source": [
        "# **Resumen del Modelo con `torchsummary` (Opcional)**"
      ],
      "metadata": {
        "id": "RQpqA-RQOytn"
      },
      "id": "RQpqA-RQOytn"
    },
    {
      "cell_type": "code",
      "source": [
        "#Se utiliza el siguiente bloque para visualizar mejor la arquitectura que se utilizará:\n",
        "\n",
        "from torchsummary import summary\n",
        "\n",
        "# Mostrar un resumen del modelo con torchsummary\n",
        "summary(model, input_size=(3, 299, 299))  # Ajustar las dimensiones de entrada según sea necesario"
      ],
      "metadata": {
        "id": "F-iPHpBjPrKR"
      },
      "id": "F-iPHpBjPrKR",
      "execution_count": null,
      "outputs": []
    },
    {
      "cell_type": "markdown",
      "source": [
        "\n",
        "Para comprender mejor la arquitectura del modelo InceptionV3 personalizado, se utiliza la herramienta `torchsummary` para obtener un resumen conciso. Este resumen muestra las capas del modelo, el tamaño de salida de cada capa y la cantidad de parámetros entrenables.\n",
        "\n",
        "```plaintext\n",
        "=======================================================================\n",
        "Layer (type:depth-idx)                        Output Shape              Param #\n",
        "=======================================================================\n",
        "├─Inception3: 1-1                             [-1, 2048, 8, 8]         --\n",
        "│    └─BasicConv2d: 2-1                       [-1, 32, 149, 149]       --\n",
        "│    │    └─Conv2d: 3-1                       [-1, 32, 149, 149]       896\n",
        "│    │    └─BatchNorm2d: 3-2                  [-1, 32, 149, 149]       64\n",
        "│    │    └─ReLU: 3-3                         [-1, 32, 149, 149]       --\n",
        "│    └─BasicConv2d: 2-2                       [-1, 32, 147, 147]       --\n",
        "│    │    └─Conv2d: 3-4                       [-1, 32, 147, 147]       9,248\n",
        "│    │    └─BatchNorm2d: 3-5                  [-1, 32, 147, 147]       64\n",
        "│    │    └─ReLU: 3-6                         [-1, 32, 147, 147]       --\n",
        "│    └─BasicConv2d: 2-3                       [-1, 64, 147, 147]       --\n",
        "│    │    └─Conv2d: 3-7                       [-1, 64, 147, 147]       18,496\n",
        "│    │    └─BatchNorm2d: 3-8                  [-1, 64, 147, 147]       128\n",
        "│    │    └─ReLU: 3-9                         [-1, 64, 147, 147]       --\n",
        "│    └─MaxPool2d: 2-4                         [-1, 64, 73, 73]         --\n",
        "│    └─BasicConv2d: 2-5                       [-1, 80, 73, 73]         --\n",
        "│    │    └─Conv2d: 3-10                      [-1, 80, 73, 73]         51,680\n",
        "│    │    └─BatchNorm2d: 3-11                 [-1, 80, 73, 73]         160\n",
        "│    │    └─ReLU: 3-12                        [-1, 80, 73, 73]         --\n",
        "│    └─BasicConv2d: 2-6                       [-1, 192, 71, 71]        --\n",
        "│    │    └─Conv2d: 3-13                      [-1, 192, 71, 71]        138,240\n",
        "│    │    └─BatchNorm2d: 3-14                 [-1, 192, 71, 71]        384\n",
        "│    │    └─ReLU: 3-15                        [-1, 192, 71, 71]        --\n",
        "│    └─MaxPool2d: 2-7                         [-1, 192, 35, 35]        --\n",
        "│    └─InceptionA: 2-8                        [-1, 256, 35, 35]        --\n",
        "│    └─InceptionA: 2-9                        [-1, 288, 35, 35]        --\n",
        "│    └─InceptionA: 2-10                       [-1, 288, 35, 35]        --\n",
        "│    └─InceptionB: 2-11                       [-1, 768, 17, 17]        --\n",
        "│    └─InceptionC: 2-12                       [-1, 768, 17, 17]        --\n",
        "│    └─InceptionC: 2-13                       [-1, 768, 17, 17]        --\n",
        "│    └─InceptionC: 2-14                       [-1, 768, 17, 17]        --\n",
        "│    └─InceptionC: 2-15                       [-1, 768, 17, 17]        --\n",
        "│    └─InceptionD: 2-16                       [-1, 1280, 8, 8]         --\n",
        "│    └─InceptionE: 2-17                       [-1, 2048, 8, 8]         --\n",
        "│    └─AdaptiveAvgPool2d: 2-18                [-1, 2048, 1, 1]         --\n",
        "├─Sequential: 1-2                            [-1, 2]                  --\n",
        "│    └─Linear: 2-19                          [-1, 1024]               2,099,200\n",
        "│    └─ReLU: 2-20                            [-1, 1024]               --\n",
        "│    └─Linear: 2-21                          [-1, 512]                524,800\n",
        "│    └─ReLU: 2-22                            [-1, 512]                --\n",
        "│    └─Linear: 2-23                          [-1, 256]                131,328\n",
        "│    └─ReLU: 2-24                            [-1, 256]                --\n",
        "│    └─Linear: 2-25                          [-1, 2]                  514\n",
        "=======================================================================\n",
        "Total params: 26,099,330\n",
        "Trainable params: 26,099,330\n",
        "Non-trainable params: 0\n",
        "=======================================================================\n",
        "```\n",
        "\n",
        "Este resumen proporciona una visión detallada de la arquitectura del modelo InceptionV3 personalizado, incluyendo el número de parámetros en cada capa. Esto es útil para comprender la complejidad del modelo y ajustar adecuadamente los hiperparámetros durante el entrenamiento."
      ],
      "metadata": {
        "id": "ezqhyvBYOnB2"
      },
      "id": "ezqhyvBYOnB2"
    },
    {
      "cell_type": "markdown",
      "id": "474b4432",
      "metadata": {
        "id": "474b4432",
        "papermill": {
          "duration": 0.006641,
          "end_time": "2023-10-04T14:53:58.330419",
          "exception": false,
          "start_time": "2023-10-04T14:53:58.323778",
          "status": "completed"
        },
        "tags": []
      },
      "source": [
        "# **Definir función de pérdida, optimizador y épocas**"
      ]
    },
    {
      "cell_type": "markdown",
      "source": [
        "En este bloque de código, se establece la configuración esencial para entrenar el modelo:\n",
        "\n",
        "- **Función de Pérdida (`criterion_main` y `criterion_aux1`):**\n",
        "  - `nn.CrossEntropyLoss()`: Esta función de pérdida se utiliza comúnmente en problemas de clasificación. Calcula la pérdida entre las predicciones del modelo y las etiquetas reales. En este caso, se ha definido tanto para la tarea principal (`criterion_main`) como para una tarea auxiliar (`criterion_aux1`), aunque esta última está comentada y podría no ser necesaria dependiendo del diseño del modelo.\n",
        "\n",
        "- **Optimizador (`optimizer`):**\n",
        "  - `optim.SGD`: Se utiliza el optimizador de descenso de gradiente estocástico (SGD). Este optimizador ajusta los pesos del modelo para minimizar la función de pérdida durante el entrenamiento.\n",
        "  - `lr=0.001`: Tasa de aprendizaje, que controla el tamaño de los pasos que da el optimizador para converger hacia un mínimo.\n",
        "  - `momentum=0.9`: Parámetro de momento que agrega una fracción del paso anterior al paso actual, mejorando la convergencia y ayudando a evitar mínimos locales.\n",
        "  - `weight_decay=1e-5`: Término de penalización por peso, que ayuda a prevenir el sobreajuste al penalizar pesos grandes.\n",
        "\n",
        "- **Número de Épocas (`epochs`):**\n",
        "  - `epochs = 100`: Establece el número de épocas, que representa la cantidad de veces que el modelo verá todo el conjunto de datos durante el entrenamiento.\n",
        "\n",
        "Estos elementos son cruciales para el entrenamiento del modelo y la optimización de los pesos para minimizar la pérdida. La configuración de la tasa de aprendizaje, el momento y la penalización por peso son aspectos clave en el rendimiento del modelo durante el entrenamiento."
      ],
      "metadata": {
        "id": "O3kDb2ieQOLL"
      },
      "id": "O3kDb2ieQOLL"
    },
    {
      "cell_type": "code",
      "execution_count": null,
      "id": "ba5d5297",
      "metadata": {
        "execution": {
          "iopub.execute_input": "2023-10-04T14:53:58.347534Z",
          "iopub.status.busy": "2023-10-04T14:53:58.347267Z",
          "iopub.status.idle": "2023-10-04T14:53:58.353471Z",
          "shell.execute_reply": "2023-10-04T14:53:58.352397Z"
        },
        "id": "ba5d5297",
        "papermill": {
          "duration": 0.017737,
          "end_time": "2023-10-04T14:53:58.355426",
          "exception": false,
          "start_time": "2023-10-04T14:53:58.337689",
          "status": "completed"
        },
        "tags": []
      },
      "outputs": [],
      "source": [
        "# Definir función de pérdida y optimizador\n",
        "criterion_main = nn.CrossEntropyLoss()  # Pérdida para la tarea principal\n",
        "criterion_aux1 = nn.CrossEntropyLoss()  # Pérdida auxiliar 1\n",
        "optimizer = optim.SGD(model.parameters(), lr=0.001, momentum=0.9, weight_decay=1e-5)\n",
        "# Entrenar modelo por 100 épocas\n",
        "epochs = 100"
      ]
    },
    {
      "cell_type": "markdown",
      "id": "a07d4991",
      "metadata": {
        "id": "a07d4991",
        "papermill": {
          "duration": 0.007215,
          "end_time": "2023-10-04T14:53:58.369976",
          "exception": false,
          "start_time": "2023-10-04T14:53:58.362761",
          "status": "completed"
        },
        "tags": []
      },
      "source": [
        "# **Entrenamiento del modelo InceptionV3**"
      ]
    },
    {
      "cell_type": "markdown",
      "source": [
        "En esta sección, se lleva a cabo el entrenamiento del modelo a lo largo de múltiples épocas. Durante cada época, se utiliza el conjunto de entrenamiento para ajustar los pesos del modelo, y se evalúa el desempeño en el conjunto de validación para monitorear la generalización del modelo. Además, se registra la mejor época basada en la pérdida de validación, y se guarda el modelo en un archivo al finalizar el entrenamiento.\n",
        "\n",
        "- **Configuración Inicial:**\n",
        "  - Se inicializan listas para almacenar las pérdidas y precisiones tanto en el conjunto de entrenamiento como en el conjunto de validación.\n",
        "  - La mejor pérdida de validación se inicia como infinito, y se establece la mejor época como 0.\n",
        "\n",
        "- **Bucle de Épocas:**\n",
        "  - Se itera sobre el número especificado de épocas.\n",
        "  - En cada época, el modelo se ajusta utilizando el conjunto de entrenamiento y se evalúa en el conjunto de validación.\n",
        "  - La barra de progreso `tqdm` proporciona una visualización del avance del entrenamiento.\n",
        "\n",
        "- **Entrenamiento:**\n",
        "  - Se establece el modelo en modo de entrenamiento (`model.train()`).\n",
        "  - Se itera sobre los lotes de datos de entrenamiento, calculando las pérdidas y ajustando los pesos del modelo con el optimizador.\n",
        "\n",
        "- **Evaluación en Validación:**\n",
        "  - Se establece el modelo en modo de evaluación (`model.eval()`).\n",
        "  - Se itera sobre los lotes de datos de validación, calculando las pérdidas y evaluando la precisión del modelo.\n",
        "\n",
        "- **Registro de Métricas y Mejor Modelo:**\n",
        "  - Se registran las pérdidas y precisiones en listas.\n",
        "  - La mejor pérdida de validación y la mejor época se actualizan si se encuentra una pérdida de validación más baja.\n",
        "  - El modelo con la mejor pérdida de validación se guarda en un archivo.\n",
        "\n",
        "- **Resultados Finales:**\n",
        "  - Al finalizar el entrenamiento, se proporciona un resumen de las mejores métricas alcanzadas.\n",
        "\n",
        "Este bloque de código facilita el seguimiento y la comprensión del proceso de entrenamiento y evaluación del modelo."
      ],
      "metadata": {
        "id": "OlpRCrD-ckOk"
      },
      "id": "OlpRCrD-ckOk"
    },
    {
      "cell_type": "code",
      "execution_count": null,
      "id": "17f0ee7a",
      "metadata": {
        "execution": {
          "iopub.execute_input": "2023-10-04T14:53:58.387928Z",
          "iopub.status.busy": "2023-10-04T14:53:58.387538Z",
          "iopub.status.idle": "2023-10-04T15:45:04.891043Z",
          "shell.execute_reply": "2023-10-04T15:45:04.890072Z"
        },
        "id": "17f0ee7a",
        "outputId": "3b9e3482-39ef-4548-a922-8885a7f9e1e4",
        "papermill": {
          "duration": 3066.514791,
          "end_time": "2023-10-04T15:45:04.893127",
          "exception": false,
          "start_time": "2023-10-04T14:53:58.378336",
          "status": "completed"
        },
        "tags": [],
        "colab": {
          "referenced_widgets": [
            "2f1198b9a83248f3bb18f0134c0b8e27",
            "362f730573f140e8a107f6044c5c04fe",
            "706520fb12294abf88b8e31fa89655af",
            "c5aab0722bec485086a52e266ff513f8",
            "60574f8211fd4246ba37ae480695f1bc",
            "a36fa758ed9a4b9585f935ddb93418f3",
            "53bfc66a0de3411b8f73fd19557152c6",
            "fa1167169bea4cf78e5f6633ad7a6c67",
            "b76d97dec20749e5ab5bed20c5312097",
            "60f62536d21c4593bef3aac97f79f6c5",
            "4a3c730624324fd9955c498f7ac1e571",
            "b4e921339c8f4d959e3d63ca8ccda2ee",
            "61031ae0411a4351b6d43fcde25742f6",
            "db1eb7504763497b8b1f952a9036ea90",
            "53e8f11cc73442d7832fc5dd3e80737f",
            "1500dd848ac24cb8beacff847df79cb5",
            "efaf506e6b6740b6a349b422ec6cd4bc",
            "682499498d6f4a1c954c7ab655536b55",
            "0147371fea4a4d39ae51c683201f4b01",
            "a55f3bf86cb44004accbb8ad223abc59",
            "809641106f47434ab2993b48ff7b8052",
            "9b68ae236ec047d9bc1cb617cbb769a6",
            "8e3f99ad44fe49cfbf1345312b03266c",
            "75d5482ca07f4e96ad8323674a23e5db",
            "70e5868317c841c3bda47e739416958a",
            "3542202c1cc5416684adef0227ac22f4",
            "5299c509338645399870a7ae113d7ba4",
            "e5f3119d589c464c8a043202e63557ae",
            "c2a97c621bad4245997d038320e4840d",
            "b920396df2dd4862ad77967701f224f9",
            "c2b1576bf6ee4a99bb704309c9b49942",
            "dda17028996d4f0aab03c95c01af2520",
            "0f18a34ea774402f88d9e09475bce9f6",
            "2fb8846f6ad0487b9748da178547e33e",
            "e66ff8cc4f07432cada3b613b600f9db",
            "618026a8717d49118e99a98161c6baf1",
            "5b1ab0fd714e486c821398180832c2a8",
            "d5ccef8fe615432aa1801e69036df6c6",
            "f13391a290d440bb98616a33179e623c",
            "9cdf3d2330484644a774bf877c168fa2",
            "b5ac32639dfe49c5b4b0f4b14e9e1464",
            "67fb83246e74402c9d40d23b24d10d2a",
            "00d4ed1e808e4fb6ac5d8ea4fb19961b",
            "c12769fdd7fe478d8159602bad2effaf",
            "2933a0e2d5ea4b68a301dda20a356dfe",
            "b9ea0f6307c0486e9381772fcb4a8681",
            "3e8d98e06d45493cb68ba7ffaf129320",
            "4d594b2b0a5345b1ae277d8ecf274d1b",
            "af0909eca9ed4397a7cc6136569b1c2b",
            "ee891a895fd94bbc96d6acc357196d19",
            "aba92590c9c14944bee3d683a522cc1f",
            "d2e730cec54547708a06ad2ca69207e1",
            "1c41440fe77b4629b99ced9018b6fe71",
            "f4afc88ca488443bb854e6b39a83dbad",
            "52a5b47fed1444999e9ac93d797f5d37",
            "554b8da26ac44a55b298d3ccbb78f2be",
            "bd723eb08e14408ba4d9d0cf0db15060",
            "1ad3c2b557cc4ba9ad830bf70c5b3665",
            "610f49e943c545788d20bcc27af03e49",
            "915f40d0b057473bac7b451173bef616",
            "b7b4522bbe0b4aefb50e73a6eec5627a",
            "1c2c4143be774a34b39a33386347830e",
            "804febbbbfa84ece920b63b31964040f",
            "71ecf36a1e574c4e90ba986fb1c6ca98",
            "c42ae12ebbe347ca848f6899907cbe21",
            "04ba3bf81b7d4350ab828d2cbaa18869",
            "6c5f2422ee89458aa57a239740869402",
            "9089350789a943d3a9bc5b32983f580e",
            "a2e8d6343085474c87c6d5852b29e2e5",
            "6d21347bd7c44a82924b0f5af6c5b4a5",
            "780c701092434fd3b918cbb5ea8a26e0",
            "e4d1a0b36c2849c681921f1eec4938f5",
            "5e223424641540e7a8b41117fdd8dcb1",
            "1dd1248c7b554b7295a0b561555cc25d",
            "d2ee5c3a93fb44d5a2ca55d60cbced38",
            "1e41c8d08ea7443ea9003ef496f207c4",
            "e379e079a678424787cdb61bdeae7f31",
            "d9246150d61c42bebe32a1b807dedf57",
            "638544a3b853488cb4bc86d4539a9c88",
            "2f9711a66ee540f19e240ee53ba56b14",
            "4ffd30cb8e3c44f288cec90c5285adf4",
            "54e6585c3d43421980cd881e580a3036",
            "87f5427663a6410fadc94794f0483456",
            "84f5e0922d7149178fcf3629eef1c9a9",
            "4cf07be38a514d2db72040059948b1de",
            "5d1cd44009c648ac8ca428a79b2488b8",
            "81e928a47ff14e6c99516305a78a2390",
            "9b59909aac63453a85c0d786ece95f38",
            "92738de6e5734e498a2399f2823a4675",
            "956b08a4ae214823b19512aafdd93a78",
            "3b7a538b84f44aa48289e45cee7b6213",
            "3eb736f8e36345e6a2ce54c49a7f23ce",
            "f0626432e6d44d6bb95e09c1a320e3ed",
            "e3a8a34f7c4f4f71b56f89d7c560cb9f",
            "5c466deae0fb4d90936bfde1939cbcd3",
            "c676ec147d5a4b7fa778bfc498b62af9",
            "60516ac3e1974109a85abaa7079c2854",
            "ccd74ce684624fc899254200eb2067d6",
            "e9cf51acc08c498f8a31c68841a58b23",
            "3a083104a8194345b6b785b8e16ae235"
          ]
        }
      },
      "outputs": [
        {
          "name": "stderr",
          "output_type": "stream",
          "text": [
            "/tmp/ipykernel_23/2985417030.py:17: TqdmDeprecationWarning: This function will be removed in tqdm==5.0.0\n",
            "Please use `tqdm.notebook.tqdm` instead of `tqdm.tqdm_notebook`\n",
            "  with tqdm(train_loader, unit=\"batch\") as tepoch:  # Utiliza train_loader en lugar de train_dataset\n"
          ]
        },
        {
          "data": {
            "application/vnd.jupyter.widget-view+json": {
              "model_id": "2f1198b9a83248f3bb18f0134c0b8e27",
              "version_major": 2,
              "version_minor": 0
            },
            "text/plain": [
              "  0%|          | 0/13 [00:00<?, ?batch/s]"
            ]
          },
          "metadata": {},
          "output_type": "display_data"
        },
        {
          "name": "stderr",
          "output_type": "stream",
          "text": [
            "/opt/conda/lib/python3.10/site-packages/torchvision/transforms/functional.py:1603: UserWarning: The default value of the antialias parameter of all the resizing transforms (Resize(), RandomResizedCrop(), etc.) will change from None to True in v0.17, in order to be consistent across the PIL and Tensor backends. To suppress this warning, directly pass antialias=True (recommended, future default), antialias=None (current default, which means False for Tensors and True for PIL), or antialias=False (only works on Tensors - PIL will still use antialiasing). This also applies if you are using the inference transforms from the models weights: update the call to weights.transforms(antialias=True).\n",
            "  warnings.warn(\n"
          ]
        },
        {
          "name": "stdout",
          "output_type": "stream",
          "text": [
            "Epoch 1 Training Accuracy = 0.47470817120622566\n",
            "Epoch 1 Training Loss = 4.942391544000648\n",
            "Epoch 1 Validation Accuracy = 0.5364583333333334\n",
            "Epoch 1 Validation Loss = 0.6931345462799072\n",
            "La mejor precisión de Validation Loss (0.6931345462799072) se alcanzó en la época 1\n"
          ]
        },
        {
          "data": {
            "application/vnd.jupyter.widget-view+json": {
              "model_id": "362f730573f140e8a107f6044c5c04fe",
              "version_major": 2,
              "version_minor": 0
            },
            "text/plain": [
              "  0%|          | 0/13 [00:00<?, ?batch/s]"
            ]
          },
          "metadata": {},
          "output_type": "display_data"
        },
        {
          "name": "stdout",
          "output_type": "stream",
          "text": [
            "Epoch 2 Training Accuracy = 0.5110246433203631\n",
            "Epoch 2 Training Loss = 1.5405963537139498\n",
            "Epoch 2 Validation Accuracy = 0.546875\n",
            "Epoch 2 Validation Loss = 0.6913176774978638\n",
            "La mejor precisión de Validation Loss (0.6913176774978638) se alcanzó en la época 2\n"
          ]
        },
        {
          "data": {
            "application/vnd.jupyter.widget-view+json": {
              "model_id": "706520fb12294abf88b8e31fa89655af",
              "version_major": 2,
              "version_minor": 0
            },
            "text/plain": [
              "  0%|          | 0/13 [00:00<?, ?batch/s]"
            ]
          },
          "metadata": {},
          "output_type": "display_data"
        },
        {
          "name": "stdout",
          "output_type": "stream",
          "text": [
            "Epoch 3 Training Accuracy = 0.5486381322957199\n",
            "Epoch 3 Training Loss = 0.9920135252515939\n",
            "Epoch 3 Validation Accuracy = 0.546875\n",
            "Epoch 3 Validation Loss = 0.690244734287262\n",
            "La mejor precisión de Validation Loss (0.690244734287262) se alcanzó en la época 3\n"
          ]
        },
        {
          "data": {
            "application/vnd.jupyter.widget-view+json": {
              "model_id": "c5aab0722bec485086a52e266ff513f8",
              "version_major": 2,
              "version_minor": 0
            },
            "text/plain": [
              "  0%|          | 0/13 [00:00<?, ?batch/s]"
            ]
          },
          "metadata": {},
          "output_type": "display_data"
        },
        {
          "name": "stdout",
          "output_type": "stream",
          "text": [
            "Epoch 4 Training Accuracy = 0.5486381322957199\n",
            "Epoch 4 Training Loss = 0.8939348463882268\n",
            "Epoch 4 Validation Accuracy = 0.546875\n",
            "Epoch 4 Validation Loss = 0.6890904108683268\n",
            "La mejor precisión de Validation Loss (0.6890904108683268) se alcanzó en la época 4\n"
          ]
        },
        {
          "data": {
            "application/vnd.jupyter.widget-view+json": {
              "model_id": "60574f8211fd4246ba37ae480695f1bc",
              "version_major": 2,
              "version_minor": 0
            },
            "text/plain": [
              "  0%|          | 0/13 [00:00<?, ?batch/s]"
            ]
          },
          "metadata": {},
          "output_type": "display_data"
        },
        {
          "name": "stdout",
          "output_type": "stream",
          "text": [
            "Epoch 5 Training Accuracy = 0.5486381322957199\n",
            "Epoch 5 Training Loss = 0.8701820818830557\n",
            "Epoch 5 Validation Accuracy = 0.546875\n",
            "Epoch 5 Validation Loss = 0.6883138020833334\n",
            "La mejor precisión de Validation Loss (0.6883138020833334) se alcanzó en la época 5\n"
          ]
        },
        {
          "data": {
            "application/vnd.jupyter.widget-view+json": {
              "model_id": "a36fa758ed9a4b9585f935ddb93418f3",
              "version_major": 2,
              "version_minor": 0
            },
            "text/plain": [
              "  0%|          | 0/13 [00:00<?, ?batch/s]"
            ]
          },
          "metadata": {},
          "output_type": "display_data"
        },
        {
          "name": "stdout",
          "output_type": "stream",
          "text": [
            "Epoch 6 Training Accuracy = 0.5486381322957199\n",
            "Epoch 6 Training Loss = 0.7957332372356173\n",
            "Epoch 6 Validation Accuracy = 0.546875\n",
            "Epoch 6 Validation Loss = 0.6869973142941793\n",
            "La mejor precisión de Validation Loss (0.6869973142941793) se alcanzó en la época 6\n"
          ]
        },
        {
          "data": {
            "application/vnd.jupyter.widget-view+json": {
              "model_id": "53bfc66a0de3411b8f73fd19557152c6",
              "version_major": 2,
              "version_minor": 0
            },
            "text/plain": [
              "  0%|          | 0/13 [00:00<?, ?batch/s]"
            ]
          },
          "metadata": {},
          "output_type": "display_data"
        },
        {
          "name": "stdout",
          "output_type": "stream",
          "text": [
            "Epoch 7 Training Accuracy = 0.5486381322957199\n",
            "Epoch 7 Training Loss = 0.7918227369064796\n",
            "Epoch 7 Validation Accuracy = 0.546875\n",
            "Epoch 7 Validation Loss = 0.6868058641751608\n",
            "La mejor precisión de Validation Loss (0.6868058641751608) se alcanzó en la época 7\n"
          ]
        },
        {
          "data": {
            "application/vnd.jupyter.widget-view+json": {
              "model_id": "fa1167169bea4cf78e5f6633ad7a6c67",
              "version_major": 2,
              "version_minor": 0
            },
            "text/plain": [
              "  0%|          | 0/13 [00:00<?, ?batch/s]"
            ]
          },
          "metadata": {},
          "output_type": "display_data"
        },
        {
          "name": "stdout",
          "output_type": "stream",
          "text": [
            "Epoch 8 Training Accuracy = 0.5486381322957199\n",
            "Epoch 8 Training Loss = 0.7656946571111369\n",
            "Epoch 8 Validation Accuracy = 0.546875\n",
            "Epoch 8 Validation Loss = 0.6856814026832581\n",
            "La mejor precisión de Validation Loss (0.6856814026832581) se alcanzó en la época 8\n"
          ]
        },
        {
          "data": {
            "application/vnd.jupyter.widget-view+json": {
              "model_id": "b76d97dec20749e5ab5bed20c5312097",
              "version_major": 2,
              "version_minor": 0
            },
            "text/plain": [
              "  0%|          | 0/13 [00:00<?, ?batch/s]"
            ]
          },
          "metadata": {},
          "output_type": "display_data"
        },
        {
          "name": "stdout",
          "output_type": "stream",
          "text": [
            "Epoch 9 Training Accuracy = 0.5486381322957199\n",
            "Epoch 9 Training Loss = 0.7318153934874578\n",
            "Epoch 9 Validation Accuracy = 0.546875\n",
            "Epoch 9 Validation Loss = 0.6850443879763285\n",
            "La mejor precisión de Validation Loss (0.6850443879763285) se alcanzó en la época 9\n"
          ]
        },
        {
          "data": {
            "application/vnd.jupyter.widget-view+json": {
              "model_id": "60f62536d21c4593bef3aac97f79f6c5",
              "version_major": 2,
              "version_minor": 0
            },
            "text/plain": [
              "  0%|          | 0/13 [00:00<?, ?batch/s]"
            ]
          },
          "metadata": {},
          "output_type": "display_data"
        },
        {
          "name": "stdout",
          "output_type": "stream",
          "text": [
            "Epoch 10 Training Accuracy = 0.5486381322957199\n",
            "Epoch 10 Training Loss = 0.7410260715682528\n",
            "Epoch 10 Validation Accuracy = 0.546875\n",
            "Epoch 10 Validation Loss = 0.6838792363802592\n",
            "La mejor precisión de Validation Loss (0.6838792363802592) se alcanzó en la época 10\n"
          ]
        },
        {
          "data": {
            "application/vnd.jupyter.widget-view+json": {
              "model_id": "4a3c730624324fd9955c498f7ac1e571",
              "version_major": 2,
              "version_minor": 0
            },
            "text/plain": [
              "  0%|          | 0/13 [00:00<?, ?batch/s]"
            ]
          },
          "metadata": {},
          "output_type": "display_data"
        },
        {
          "name": "stdout",
          "output_type": "stream",
          "text": [
            "Epoch 11 Training Accuracy = 0.5486381322957199\n",
            "Epoch 11 Training Loss = 0.7866803543731551\n",
            "Epoch 11 Validation Accuracy = 0.546875\n",
            "Epoch 11 Validation Loss = 0.6844748854637146\n",
            "La mejor precisión de Validation Loss (0.6838792363802592) se alcanzó en la época 10\n"
          ]
        },
        {
          "data": {
            "application/vnd.jupyter.widget-view+json": {
              "model_id": "b4e921339c8f4d959e3d63ca8ccda2ee",
              "version_major": 2,
              "version_minor": 0
            },
            "text/plain": [
              "  0%|          | 0/13 [00:00<?, ?batch/s]"
            ]
          },
          "metadata": {},
          "output_type": "display_data"
        },
        {
          "name": "stdout",
          "output_type": "stream",
          "text": [
            "Epoch 12 Training Accuracy = 0.5486381322957199\n",
            "Epoch 12 Training Loss = 0.7534592805669466\n",
            "Epoch 12 Validation Accuracy = 0.546875\n",
            "Epoch 12 Validation Loss = 0.683247705300649\n",
            "La mejor precisión de Validation Loss (0.683247705300649) se alcanzó en la época 12\n"
          ]
        },
        {
          "data": {
            "application/vnd.jupyter.widget-view+json": {
              "model_id": "61031ae0411a4351b6d43fcde25742f6",
              "version_major": 2,
              "version_minor": 0
            },
            "text/plain": [
              "  0%|          | 0/13 [00:00<?, ?batch/s]"
            ]
          },
          "metadata": {},
          "output_type": "display_data"
        },
        {
          "name": "stdout",
          "output_type": "stream",
          "text": [
            "Epoch 13 Training Accuracy = 0.5486381322957199\n",
            "Epoch 13 Training Loss = 0.7749906322217018\n",
            "Epoch 13 Validation Accuracy = 0.546875\n",
            "Epoch 13 Validation Loss = 0.6816420555114746\n",
            "La mejor precisión de Validation Loss (0.6816420555114746) se alcanzó en la época 13\n"
          ]
        },
        {
          "data": {
            "application/vnd.jupyter.widget-view+json": {
              "model_id": "db1eb7504763497b8b1f952a9036ea90",
              "version_major": 2,
              "version_minor": 0
            },
            "text/plain": [
              "  0%|          | 0/13 [00:00<?, ?batch/s]"
            ]
          },
          "metadata": {},
          "output_type": "display_data"
        },
        {
          "name": "stdout",
          "output_type": "stream",
          "text": [
            "Epoch 14 Training Accuracy = 0.5486381322957199\n",
            "Epoch 14 Training Loss = 0.782724239869495\n",
            "Epoch 14 Validation Accuracy = 0.546875\n",
            "Epoch 14 Validation Loss = 0.6814481019973755\n",
            "La mejor precisión de Validation Loss (0.6814481019973755) se alcanzó en la época 14\n"
          ]
        },
        {
          "data": {
            "application/vnd.jupyter.widget-view+json": {
              "model_id": "53e8f11cc73442d7832fc5dd3e80737f",
              "version_major": 2,
              "version_minor": 0
            },
            "text/plain": [
              "  0%|          | 0/13 [00:00<?, ?batch/s]"
            ]
          },
          "metadata": {},
          "output_type": "display_data"
        },
        {
          "name": "stdout",
          "output_type": "stream",
          "text": [
            "Epoch 15 Training Accuracy = 0.5486381322957199\n",
            "Epoch 15 Training Loss = 0.7469232442623291\n",
            "Epoch 15 Validation Accuracy = 0.546875\n",
            "Epoch 15 Validation Loss = 0.6797474424044291\n",
            "La mejor precisión de Validation Loss (0.6797474424044291) se alcanzó en la época 15\n"
          ]
        },
        {
          "data": {
            "application/vnd.jupyter.widget-view+json": {
              "model_id": "1500dd848ac24cb8beacff847df79cb5",
              "version_major": 2,
              "version_minor": 0
            },
            "text/plain": [
              "  0%|          | 0/13 [00:00<?, ?batch/s]"
            ]
          },
          "metadata": {},
          "output_type": "display_data"
        },
        {
          "name": "stdout",
          "output_type": "stream",
          "text": [
            "Epoch 16 Training Accuracy = 0.5486381322957199\n",
            "Epoch 16 Training Loss = 0.7062063122847047\n",
            "Epoch 16 Validation Accuracy = 0.546875\n",
            "Epoch 16 Validation Loss = 0.6773900985717773\n",
            "La mejor precisión de Validation Loss (0.6773900985717773) se alcanzó en la época 16\n"
          ]
        },
        {
          "data": {
            "application/vnd.jupyter.widget-view+json": {
              "model_id": "efaf506e6b6740b6a349b422ec6cd4bc",
              "version_major": 2,
              "version_minor": 0
            },
            "text/plain": [
              "  0%|          | 0/13 [00:00<?, ?batch/s]"
            ]
          },
          "metadata": {},
          "output_type": "display_data"
        },
        {
          "name": "stdout",
          "output_type": "stream",
          "text": [
            "Epoch 17 Training Accuracy = 0.5486381322957199\n",
            "Epoch 17 Training Loss = 0.714207769909103\n",
            "Epoch 17 Validation Accuracy = 0.546875\n",
            "Epoch 17 Validation Loss = 0.676527718702952\n",
            "La mejor precisión de Validation Loss (0.676527718702952) se alcanzó en la época 17\n"
          ]
        },
        {
          "data": {
            "application/vnd.jupyter.widget-view+json": {
              "model_id": "682499498d6f4a1c954c7ab655536b55",
              "version_major": 2,
              "version_minor": 0
            },
            "text/plain": [
              "  0%|          | 0/13 [00:00<?, ?batch/s]"
            ]
          },
          "metadata": {},
          "output_type": "display_data"
        },
        {
          "name": "stdout",
          "output_type": "stream",
          "text": [
            "Epoch 18 Training Accuracy = 0.5486381322957199\n",
            "Epoch 18 Training Loss = 0.700820530203066\n",
            "Epoch 18 Validation Accuracy = 0.546875\n",
            "Epoch 18 Validation Loss = 0.6718930602073669\n",
            "La mejor precisión de Validation Loss (0.6718930602073669) se alcanzó en la época 18\n"
          ]
        },
        {
          "data": {
            "application/vnd.jupyter.widget-view+json": {
              "model_id": "0147371fea4a4d39ae51c683201f4b01",
              "version_major": 2,
              "version_minor": 0
            },
            "text/plain": [
              "  0%|          | 0/13 [00:00<?, ?batch/s]"
            ]
          },
          "metadata": {},
          "output_type": "display_data"
        },
        {
          "name": "stdout",
          "output_type": "stream",
          "text": [
            "Epoch 19 Training Accuracy = 0.5486381322957199\n",
            "Epoch 19 Training Loss = 0.6931489078296607\n",
            "Epoch 19 Validation Accuracy = 0.546875\n",
            "Epoch 19 Validation Loss = 0.667451282342275\n",
            "La mejor precisión de Validation Loss (0.667451282342275) se alcanzó en la época 19\n"
          ]
        },
        {
          "data": {
            "application/vnd.jupyter.widget-view+json": {
              "model_id": "a55f3bf86cb44004accbb8ad223abc59",
              "version_major": 2,
              "version_minor": 0
            },
            "text/plain": [
              "  0%|          | 0/13 [00:00<?, ?batch/s]"
            ]
          },
          "metadata": {},
          "output_type": "display_data"
        },
        {
          "name": "stdout",
          "output_type": "stream",
          "text": [
            "Epoch 20 Training Accuracy = 0.5486381322957199\n",
            "Epoch 20 Training Loss = 0.7431465348690246\n",
            "Epoch 20 Validation Accuracy = 0.546875\n",
            "Epoch 20 Validation Loss = 0.6673751274744669\n",
            "La mejor precisión de Validation Loss (0.6673751274744669) se alcanzó en la época 20\n"
          ]
        },
        {
          "data": {
            "application/vnd.jupyter.widget-view+json": {
              "model_id": "809641106f47434ab2993b48ff7b8052",
              "version_major": 2,
              "version_minor": 0
            },
            "text/plain": [
              "  0%|          | 0/13 [00:00<?, ?batch/s]"
            ]
          },
          "metadata": {},
          "output_type": "display_data"
        },
        {
          "name": "stdout",
          "output_type": "stream",
          "text": [
            "Epoch 21 Training Accuracy = 0.5486381322957199\n",
            "Epoch 21 Training Loss = 0.769811793987853\n",
            "Epoch 21 Validation Accuracy = 0.546875\n",
            "Epoch 21 Validation Loss = 0.6628075838088989\n",
            "La mejor precisión de Validation Loss (0.6628075838088989) se alcanzó en la época 21\n"
          ]
        },
        {
          "data": {
            "application/vnd.jupyter.widget-view+json": {
              "model_id": "9b68ae236ec047d9bc1cb617cbb769a6",
              "version_major": 2,
              "version_minor": 0
            },
            "text/plain": [
              "  0%|          | 0/13 [00:00<?, ?batch/s]"
            ]
          },
          "metadata": {},
          "output_type": "display_data"
        },
        {
          "name": "stdout",
          "output_type": "stream",
          "text": [
            "Epoch 22 Training Accuracy = 0.5486381322957199\n",
            "Epoch 22 Training Loss = 0.759298406531684\n",
            "Epoch 22 Validation Accuracy = 0.546875\n",
            "Epoch 22 Validation Loss = 0.6570555965105692\n",
            "La mejor precisión de Validation Loss (0.6570555965105692) se alcanzó en la época 22\n"
          ]
        },
        {
          "data": {
            "application/vnd.jupyter.widget-view+json": {
              "model_id": "8e3f99ad44fe49cfbf1345312b03266c",
              "version_major": 2,
              "version_minor": 0
            },
            "text/plain": [
              "  0%|          | 0/13 [00:00<?, ?batch/s]"
            ]
          },
          "metadata": {},
          "output_type": "display_data"
        },
        {
          "name": "stdout",
          "output_type": "stream",
          "text": [
            "Epoch 23 Training Accuracy = 0.5486381322957199\n",
            "Epoch 23 Training Loss = 0.7218927145777355\n",
            "Epoch 23 Validation Accuracy = 0.546875\n",
            "Epoch 23 Validation Loss = 0.6534439921379089\n",
            "La mejor precisión de Validation Loss (0.6534439921379089) se alcanzó en la época 23\n"
          ]
        },
        {
          "data": {
            "application/vnd.jupyter.widget-view+json": {
              "model_id": "75d5482ca07f4e96ad8323674a23e5db",
              "version_major": 2,
              "version_minor": 0
            },
            "text/plain": [
              "  0%|          | 0/13 [00:00<?, ?batch/s]"
            ]
          },
          "metadata": {},
          "output_type": "display_data"
        },
        {
          "name": "stdout",
          "output_type": "stream",
          "text": [
            "Epoch 24 Training Accuracy = 0.5486381322957199\n",
            "Epoch 24 Training Loss = 0.6953496727343509\n",
            "Epoch 24 Validation Accuracy = 0.546875\n",
            "Epoch 24 Validation Loss = 0.6422588427861532\n",
            "La mejor precisión de Validation Loss (0.6422588427861532) se alcanzó en la época 24\n"
          ]
        },
        {
          "data": {
            "application/vnd.jupyter.widget-view+json": {
              "model_id": "70e5868317c841c3bda47e739416958a",
              "version_major": 2,
              "version_minor": 0
            },
            "text/plain": [
              "  0%|          | 0/13 [00:00<?, ?batch/s]"
            ]
          },
          "metadata": {},
          "output_type": "display_data"
        },
        {
          "name": "stdout",
          "output_type": "stream",
          "text": [
            "Epoch 25 Training Accuracy = 0.5486381322957199\n",
            "Epoch 25 Training Loss = 0.6539459454255655\n",
            "Epoch 25 Validation Accuracy = 0.546875\n",
            "Epoch 25 Validation Loss = 0.6273653904596964\n",
            "La mejor precisión de Validation Loss (0.6273653904596964) se alcanzó en la época 25\n"
          ]
        },
        {
          "data": {
            "application/vnd.jupyter.widget-view+json": {
              "model_id": "3542202c1cc5416684adef0227ac22f4",
              "version_major": 2,
              "version_minor": 0
            },
            "text/plain": [
              "  0%|          | 0/13 [00:00<?, ?batch/s]"
            ]
          },
          "metadata": {},
          "output_type": "display_data"
        },
        {
          "name": "stdout",
          "output_type": "stream",
          "text": [
            "Epoch 26 Training Accuracy = 0.5486381322957199\n",
            "Epoch 26 Training Loss = 0.6784805148337447\n",
            "Epoch 26 Validation Accuracy = 0.546875\n",
            "Epoch 26 Validation Loss = 0.6233693162600199\n",
            "La mejor precisión de Validation Loss (0.6233693162600199) se alcanzó en la época 26\n"
          ]
        },
        {
          "data": {
            "application/vnd.jupyter.widget-view+json": {
              "model_id": "5299c509338645399870a7ae113d7ba4",
              "version_major": 2,
              "version_minor": 0
            },
            "text/plain": [
              "  0%|          | 0/13 [00:00<?, ?batch/s]"
            ]
          },
          "metadata": {},
          "output_type": "display_data"
        },
        {
          "name": "stdout",
          "output_type": "stream",
          "text": [
            "Epoch 27 Training Accuracy = 0.5486381322957199\n",
            "Epoch 27 Training Loss = 0.6157737857095616\n",
            "Epoch 27 Validation Accuracy = 0.5520833333333334\n",
            "Epoch 27 Validation Loss = 0.5905854304631551\n",
            "La mejor precisión de Validation Loss (0.5905854304631551) se alcanzó en la época 27\n"
          ]
        },
        {
          "data": {
            "application/vnd.jupyter.widget-view+json": {
              "model_id": "e5f3119d589c464c8a043202e63557ae",
              "version_major": 2,
              "version_minor": 0
            },
            "text/plain": [
              "  0%|          | 0/13 [00:00<?, ?batch/s]"
            ]
          },
          "metadata": {},
          "output_type": "display_data"
        },
        {
          "name": "stdout",
          "output_type": "stream",
          "text": [
            "Epoch 28 Training Accuracy = 0.5551232166018158\n",
            "Epoch 28 Training Loss = 0.5667174183286426\n",
            "Epoch 28 Validation Accuracy = 0.5833333333333334\n",
            "Epoch 28 Validation Loss = 0.5648066202799479\n",
            "La mejor precisión de Validation Loss (0.5648066202799479) se alcanzó en la época 28\n"
          ]
        },
        {
          "data": {
            "application/vnd.jupyter.widget-view+json": {
              "model_id": "c2a97c621bad4245997d038320e4840d",
              "version_major": 2,
              "version_minor": 0
            },
            "text/plain": [
              "  0%|          | 0/13 [00:00<?, ?batch/s]"
            ]
          },
          "metadata": {},
          "output_type": "display_data"
        },
        {
          "name": "stdout",
          "output_type": "stream",
          "text": [
            "Epoch 29 Training Accuracy = 0.603112840466926\n",
            "Epoch 29 Training Loss = 0.5179909376086892\n",
            "Epoch 29 Validation Accuracy = 0.65625\n",
            "Epoch 29 Validation Loss = 0.5419415136178335\n",
            "La mejor precisión de Validation Loss (0.5419415136178335) se alcanzó en la época 29\n"
          ]
        },
        {
          "data": {
            "application/vnd.jupyter.widget-view+json": {
              "model_id": "b920396df2dd4862ad77967701f224f9",
              "version_major": 2,
              "version_minor": 0
            },
            "text/plain": [
              "  0%|          | 0/13 [00:00<?, ?batch/s]"
            ]
          },
          "metadata": {},
          "output_type": "display_data"
        },
        {
          "name": "stdout",
          "output_type": "stream",
          "text": [
            "Epoch 30 Training Accuracy = 0.7185473411154345\n",
            "Epoch 30 Training Loss = 0.48352222838445086\n",
            "Epoch 30 Validation Accuracy = 0.7239583333333334\n",
            "Epoch 30 Validation Loss = 0.534069836139679\n",
            "La mejor precisión de Validation Loss (0.534069836139679) se alcanzó en la época 30\n"
          ]
        },
        {
          "data": {
            "application/vnd.jupyter.widget-view+json": {
              "model_id": "c2b1576bf6ee4a99bb704309c9b49942",
              "version_major": 2,
              "version_minor": 0
            },
            "text/plain": [
              "  0%|          | 0/13 [00:00<?, ?batch/s]"
            ]
          },
          "metadata": {},
          "output_type": "display_data"
        },
        {
          "name": "stdout",
          "output_type": "stream",
          "text": [
            "Epoch 31 Training Accuracy = 0.8365758754863813\n",
            "Epoch 31 Training Loss = 0.4797931144209687\n",
            "Epoch 31 Validation Accuracy = 0.7760416666666666\n",
            "Epoch 31 Validation Loss = 0.5139895180861155\n",
            "La mejor precisión de Validation Loss (0.5139895180861155) se alcanzó en la época 31\n"
          ]
        },
        {
          "data": {
            "application/vnd.jupyter.widget-view+json": {
              "model_id": "dda17028996d4f0aab03c95c01af2520",
              "version_major": 2,
              "version_minor": 0
            },
            "text/plain": [
              "  0%|          | 0/13 [00:00<?, ?batch/s]"
            ]
          },
          "metadata": {},
          "output_type": "display_data"
        },
        {
          "name": "stdout",
          "output_type": "stream",
          "text": [
            "Epoch 32 Training Accuracy = 0.880674448767834\n",
            "Epoch 32 Training Loss = 0.4575261171380524\n",
            "Epoch 32 Validation Accuracy = 0.8072916666666666\n",
            "Epoch 32 Validation Loss = 0.4948078989982605\n",
            "La mejor precisión de Validation Loss (0.4948078989982605) se alcanzó en la época 32\n"
          ]
        },
        {
          "data": {
            "application/vnd.jupyter.widget-view+json": {
              "model_id": "0f18a34ea774402f88d9e09475bce9f6",
              "version_major": 2,
              "version_minor": 0
            },
            "text/plain": [
              "  0%|          | 0/13 [00:00<?, ?batch/s]"
            ]
          },
          "metadata": {},
          "output_type": "display_data"
        },
        {
          "name": "stdout",
          "output_type": "stream",
          "text": [
            "Epoch 33 Training Accuracy = 0.9364461738002594\n",
            "Epoch 33 Training Loss = 0.39599601265366746\n",
            "Epoch 33 Validation Accuracy = 0.8177083333333334\n",
            "Epoch 33 Validation Loss = 0.4801302949587504\n",
            "La mejor precisión de Validation Loss (0.4801302949587504) se alcanzó en la época 33\n"
          ]
        },
        {
          "data": {
            "application/vnd.jupyter.widget-view+json": {
              "model_id": "2fb8846f6ad0487b9748da178547e33e",
              "version_major": 2,
              "version_minor": 0
            },
            "text/plain": [
              "  0%|          | 0/13 [00:00<?, ?batch/s]"
            ]
          },
          "metadata": {},
          "output_type": "display_data"
        },
        {
          "name": "stdout",
          "output_type": "stream",
          "text": [
            "Epoch 34 Training Accuracy = 0.8923476005188068\n",
            "Epoch 34 Training Loss = 0.45419524105606374\n",
            "Epoch 34 Validation Accuracy = 0.7864583333333334\n",
            "Epoch 34 Validation Loss = 0.49027644594510394\n",
            "La mejor precisión de Validation Loss (0.4801302949587504) se alcanzó en la época 33\n"
          ]
        },
        {
          "data": {
            "application/vnd.jupyter.widget-view+json": {
              "model_id": "e66ff8cc4f07432cada3b613b600f9db",
              "version_major": 2,
              "version_minor": 0
            },
            "text/plain": [
              "  0%|          | 0/13 [00:00<?, ?batch/s]"
            ]
          },
          "metadata": {},
          "output_type": "display_data"
        },
        {
          "name": "stdout",
          "output_type": "stream",
          "text": [
            "Epoch 35 Training Accuracy = 0.9299610894941635\n",
            "Epoch 35 Training Loss = 0.41796298643958246\n",
            "Epoch 35 Validation Accuracy = 0.78125\n",
            "Epoch 35 Validation Loss = 0.4969799915949504\n",
            "La mejor precisión de Validation Loss (0.4801302949587504) se alcanzó en la época 33\n"
          ]
        },
        {
          "data": {
            "application/vnd.jupyter.widget-view+json": {
              "model_id": "618026a8717d49118e99a98161c6baf1",
              "version_major": 2,
              "version_minor": 0
            },
            "text/plain": [
              "  0%|          | 0/13 [00:00<?, ?batch/s]"
            ]
          },
          "metadata": {},
          "output_type": "display_data"
        },
        {
          "name": "stdout",
          "output_type": "stream",
          "text": [
            "Epoch 36 Training Accuracy = 0.9351491569390402\n",
            "Epoch 36 Training Loss = 0.37472313944003927\n",
            "Epoch 36 Validation Accuracy = 0.7916666666666666\n",
            "Epoch 36 Validation Loss = 0.5170192122459412\n",
            "La mejor precisión de Validation Loss (0.4801302949587504) se alcanzó en la época 33\n"
          ]
        },
        {
          "data": {
            "application/vnd.jupyter.widget-view+json": {
              "model_id": "5b1ab0fd714e486c821398180832c2a8",
              "version_major": 2,
              "version_minor": 0
            },
            "text/plain": [
              "  0%|          | 0/13 [00:00<?, ?batch/s]"
            ]
          },
          "metadata": {},
          "output_type": "display_data"
        },
        {
          "name": "stdout",
          "output_type": "stream",
          "text": [
            "Epoch 37 Training Accuracy = 0.9455252918287937\n",
            "Epoch 37 Training Loss = 0.4486608095515408\n",
            "Epoch 37 Validation Accuracy = 0.8385416666666666\n",
            "Epoch 37 Validation Loss = 0.48031094670295715\n",
            "La mejor precisión de Validation Loss (0.4801302949587504) se alcanzó en la época 33\n"
          ]
        },
        {
          "data": {
            "application/vnd.jupyter.widget-view+json": {
              "model_id": "d5ccef8fe615432aa1801e69036df6c6",
              "version_major": 2,
              "version_minor": 0
            },
            "text/plain": [
              "  0%|          | 0/13 [00:00<?, ?batch/s]"
            ]
          },
          "metadata": {},
          "output_type": "display_data"
        },
        {
          "name": "stdout",
          "output_type": "stream",
          "text": [
            "Epoch 38 Training Accuracy = 0.9377431906614786\n",
            "Epoch 38 Training Loss = 0.46350082836262446\n",
            "Epoch 38 Validation Accuracy = 0.7760416666666666\n",
            "Epoch 38 Validation Loss = 0.48456432422002155\n",
            "La mejor precisión de Validation Loss (0.4801302949587504) se alcanzó en la época 33\n"
          ]
        },
        {
          "data": {
            "application/vnd.jupyter.widget-view+json": {
              "model_id": "f13391a290d440bb98616a33179e623c",
              "version_major": 2,
              "version_minor": 0
            },
            "text/plain": [
              "  0%|          | 0/13 [00:00<?, ?batch/s]"
            ]
          },
          "metadata": {},
          "output_type": "display_data"
        },
        {
          "name": "stdout",
          "output_type": "stream",
          "text": [
            "Epoch 39 Training Accuracy = 0.9546044098573282\n",
            "Epoch 39 Training Loss = 0.36126820513091973\n",
            "Epoch 39 Validation Accuracy = 0.8125\n",
            "Epoch 39 Validation Loss = 0.45619118213653564\n",
            "La mejor precisión de Validation Loss (0.45619118213653564) se alcanzó en la época 39\n"
          ]
        },
        {
          "data": {
            "application/vnd.jupyter.widget-view+json": {
              "model_id": "9cdf3d2330484644a774bf877c168fa2",
              "version_major": 2,
              "version_minor": 0
            },
            "text/plain": [
              "  0%|          | 0/13 [00:00<?, ?batch/s]"
            ]
          },
          "metadata": {},
          "output_type": "display_data"
        },
        {
          "name": "stdout",
          "output_type": "stream",
          "text": [
            "Epoch 40 Training Accuracy = 0.980544747081712\n",
            "Epoch 40 Training Loss = 0.28259148320180744\n",
            "Epoch 40 Validation Accuracy = 0.84375\n",
            "Epoch 40 Validation Loss = 0.400253822406133\n",
            "La mejor precisión de Validation Loss (0.400253822406133) se alcanzó en la época 40\n"
          ]
        },
        {
          "data": {
            "application/vnd.jupyter.widget-view+json": {
              "model_id": "b5ac32639dfe49c5b4b0f4b14e9e1464",
              "version_major": 2,
              "version_minor": 0
            },
            "text/plain": [
              "  0%|          | 0/13 [00:00<?, ?batch/s]"
            ]
          },
          "metadata": {},
          "output_type": "display_data"
        },
        {
          "name": "stdout",
          "output_type": "stream",
          "text": [
            "Epoch 41 Training Accuracy = 0.9909208819714657\n",
            "Epoch 41 Training Loss = 0.2361083283112052\n",
            "Epoch 41 Validation Accuracy = 0.8541666666666666\n",
            "Epoch 41 Validation Loss = 0.4181697467962901\n",
            "La mejor precisión de Validation Loss (0.400253822406133) se alcanzó en la época 40\n"
          ]
        },
        {
          "data": {
            "application/vnd.jupyter.widget-view+json": {
              "model_id": "67fb83246e74402c9d40d23b24d10d2a",
              "version_major": 2,
              "version_minor": 0
            },
            "text/plain": [
              "  0%|          | 0/13 [00:00<?, ?batch/s]"
            ]
          },
          "metadata": {},
          "output_type": "display_data"
        },
        {
          "name": "stdout",
          "output_type": "stream",
          "text": [
            "Epoch 42 Training Accuracy = 0.9896238651102465\n",
            "Epoch 42 Training Loss = 0.22372016152209964\n",
            "Epoch 42 Validation Accuracy = 0.8541666666666666\n",
            "Epoch 42 Validation Loss = 0.41792498032251996\n",
            "La mejor precisión de Validation Loss (0.400253822406133) se alcanzó en la época 40\n"
          ]
        },
        {
          "data": {
            "application/vnd.jupyter.widget-view+json": {
              "model_id": "00d4ed1e808e4fb6ac5d8ea4fb19961b",
              "version_major": 2,
              "version_minor": 0
            },
            "text/plain": [
              "  0%|          | 0/13 [00:00<?, ?batch/s]"
            ]
          },
          "metadata": {},
          "output_type": "display_data"
        },
        {
          "name": "stdout",
          "output_type": "stream",
          "text": [
            "Epoch 43 Training Accuracy = 0.9974059662775616\n",
            "Epoch 43 Training Loss = 0.21344544192541742\n",
            "Epoch 43 Validation Accuracy = 0.8385416666666666\n",
            "Epoch 43 Validation Loss = 0.4247925480206807\n",
            "La mejor precisión de Validation Loss (0.400253822406133) se alcanzó en la época 40\n"
          ]
        },
        {
          "data": {
            "application/vnd.jupyter.widget-view+json": {
              "model_id": "c12769fdd7fe478d8159602bad2effaf",
              "version_major": 2,
              "version_minor": 0
            },
            "text/plain": [
              "  0%|          | 0/13 [00:00<?, ?batch/s]"
            ]
          },
          "metadata": {},
          "output_type": "display_data"
        },
        {
          "name": "stdout",
          "output_type": "stream",
          "text": [
            "Epoch 44 Training Accuracy = 0.9974059662775616\n",
            "Epoch 44 Training Loss = 0.2080578511211195\n",
            "Epoch 44 Validation Accuracy = 0.8541666666666666\n",
            "Epoch 44 Validation Loss = 0.39325512448946637\n",
            "La mejor precisión de Validation Loss (0.39325512448946637) se alcanzó en la época 44\n"
          ]
        },
        {
          "data": {
            "application/vnd.jupyter.widget-view+json": {
              "model_id": "2933a0e2d5ea4b68a301dda20a356dfe",
              "version_major": 2,
              "version_minor": 0
            },
            "text/plain": [
              "  0%|          | 0/13 [00:00<?, ?batch/s]"
            ]
          },
          "metadata": {},
          "output_type": "display_data"
        },
        {
          "name": "stdout",
          "output_type": "stream",
          "text": [
            "Epoch 45 Training Accuracy = 0.9961089494163424\n",
            "Epoch 45 Training Loss = 0.18082767520124038\n",
            "Epoch 45 Validation Accuracy = 0.890625\n",
            "Epoch 45 Validation Loss = 0.35524982213974\n",
            "La mejor precisión de Validation Loss (0.35524982213974) se alcanzó en la época 45\n"
          ]
        },
        {
          "data": {
            "application/vnd.jupyter.widget-view+json": {
              "model_id": "b9ea0f6307c0486e9381772fcb4a8681",
              "version_major": 2,
              "version_minor": 0
            },
            "text/plain": [
              "  0%|          | 0/13 [00:00<?, ?batch/s]"
            ]
          },
          "metadata": {},
          "output_type": "display_data"
        },
        {
          "name": "stdout",
          "output_type": "stream",
          "text": [
            "Epoch 46 Training Accuracy = 0.9987029831387808\n",
            "Epoch 46 Training Loss = 0.158676441309517\n",
            "Epoch 46 Validation Accuracy = 0.8697916666666666\n",
            "Epoch 46 Validation Loss = 0.3760901192824046\n",
            "La mejor precisión de Validation Loss (0.35524982213974) se alcanzó en la época 45\n"
          ]
        },
        {
          "data": {
            "application/vnd.jupyter.widget-view+json": {
              "model_id": "3e8d98e06d45493cb68ba7ffaf129320",
              "version_major": 2,
              "version_minor": 0
            },
            "text/plain": [
              "  0%|          | 0/13 [00:00<?, ?batch/s]"
            ]
          },
          "metadata": {},
          "output_type": "display_data"
        },
        {
          "name": "stdout",
          "output_type": "stream",
          "text": [
            "Epoch 47 Training Accuracy = 0.9987029831387808\n",
            "Epoch 47 Training Loss = 0.16317800727181242\n",
            "Epoch 47 Validation Accuracy = 0.8489583333333334\n",
            "Epoch 47 Validation Loss = 0.40202778577804565\n",
            "La mejor precisión de Validation Loss (0.35524982213974) se alcanzó en la época 45\n"
          ]
        },
        {
          "data": {
            "application/vnd.jupyter.widget-view+json": {
              "model_id": "4d594b2b0a5345b1ae277d8ecf274d1b",
              "version_major": 2,
              "version_minor": 0
            },
            "text/plain": [
              "  0%|          | 0/13 [00:00<?, ?batch/s]"
            ]
          },
          "metadata": {},
          "output_type": "display_data"
        },
        {
          "name": "stdout",
          "output_type": "stream",
          "text": [
            "Epoch 48 Training Accuracy = 0.9779507133592736\n",
            "Epoch 48 Training Loss = 0.21851317706275078\n",
            "Epoch 48 Validation Accuracy = 0.8125\n",
            "Epoch 48 Validation Loss = 0.44784147540728253\n",
            "La mejor precisión de Validation Loss (0.35524982213974) se alcanzó en la época 45\n"
          ]
        },
        {
          "data": {
            "application/vnd.jupyter.widget-view+json": {
              "model_id": "af0909eca9ed4397a7cc6136569b1c2b",
              "version_major": 2,
              "version_minor": 0
            },
            "text/plain": [
              "  0%|          | 0/13 [00:00<?, ?batch/s]"
            ]
          },
          "metadata": {},
          "output_type": "display_data"
        },
        {
          "name": "stdout",
          "output_type": "stream",
          "text": [
            "Epoch 49 Training Accuracy = 0.9753566796368353\n",
            "Epoch 49 Training Loss = 0.2283258067030851\n",
            "Epoch 49 Validation Accuracy = 0.8072916666666666\n",
            "Epoch 49 Validation Loss = 0.5072328845659891\n",
            "La mejor precisión de Validation Loss (0.35524982213974) se alcanzó en la época 45\n"
          ]
        },
        {
          "data": {
            "application/vnd.jupyter.widget-view+json": {
              "model_id": "ee891a895fd94bbc96d6acc357196d19",
              "version_major": 2,
              "version_minor": 0
            },
            "text/plain": [
              "  0%|          | 0/13 [00:00<?, ?batch/s]"
            ]
          },
          "metadata": {},
          "output_type": "display_data"
        },
        {
          "name": "stdout",
          "output_type": "stream",
          "text": [
            "Epoch 50 Training Accuracy = 0.980544747081712\n",
            "Epoch 50 Training Loss = 0.23498195247427497\n",
            "Epoch 50 Validation Accuracy = 0.8020833333333334\n",
            "Epoch 50 Validation Loss = 0.4441595772902171\n",
            "La mejor precisión de Validation Loss (0.35524982213974) se alcanzó en la época 45\n"
          ]
        },
        {
          "data": {
            "application/vnd.jupyter.widget-view+json": {
              "model_id": "aba92590c9c14944bee3d683a522cc1f",
              "version_major": 2,
              "version_minor": 0
            },
            "text/plain": [
              "  0%|          | 0/13 [00:00<?, ?batch/s]"
            ]
          },
          "metadata": {},
          "output_type": "display_data"
        },
        {
          "name": "stdout",
          "output_type": "stream",
          "text": [
            "Epoch 51 Training Accuracy = 0.9779507133592736\n",
            "Epoch 51 Training Loss = 0.26734319843361504\n",
            "Epoch 51 Validation Accuracy = 0.8229166666666666\n",
            "Epoch 51 Validation Loss = 0.4140659769376119\n",
            "La mejor precisión de Validation Loss (0.35524982213974) se alcanzó en la época 45\n"
          ]
        },
        {
          "data": {
            "application/vnd.jupyter.widget-view+json": {
              "model_id": "d2e730cec54547708a06ad2ca69207e1",
              "version_major": 2,
              "version_minor": 0
            },
            "text/plain": [
              "  0%|          | 0/13 [00:00<?, ?batch/s]"
            ]
          },
          "metadata": {},
          "output_type": "display_data"
        },
        {
          "name": "stdout",
          "output_type": "stream",
          "text": [
            "Epoch 52 Training Accuracy = 0.9844357976653697\n",
            "Epoch 52 Training Loss = 0.18574888820623456\n",
            "Epoch 52 Validation Accuracy = 0.8489583333333334\n",
            "Epoch 52 Validation Loss = 0.3942517340183258\n",
            "La mejor precisión de Validation Loss (0.35524982213974) se alcanzó en la época 45\n"
          ]
        },
        {
          "data": {
            "application/vnd.jupyter.widget-view+json": {
              "model_id": "1c41440fe77b4629b99ced9018b6fe71",
              "version_major": 2,
              "version_minor": 0
            },
            "text/plain": [
              "  0%|          | 0/13 [00:00<?, ?batch/s]"
            ]
          },
          "metadata": {},
          "output_type": "display_data"
        },
        {
          "name": "stdout",
          "output_type": "stream",
          "text": [
            "Epoch 53 Training Accuracy = 0.9818417639429312\n",
            "Epoch 53 Training Loss = 0.187316898242045\n",
            "Epoch 53 Validation Accuracy = 0.8177083333333334\n",
            "Epoch 53 Validation Loss = 0.48263026277224225\n",
            "La mejor precisión de Validation Loss (0.35524982213974) se alcanzó en la época 45\n"
          ]
        },
        {
          "data": {
            "application/vnd.jupyter.widget-view+json": {
              "model_id": "f4afc88ca488443bb854e6b39a83dbad",
              "version_major": 2,
              "version_minor": 0
            },
            "text/plain": [
              "  0%|          | 0/13 [00:00<?, ?batch/s]"
            ]
          },
          "metadata": {},
          "output_type": "display_data"
        },
        {
          "name": "stdout",
          "output_type": "stream",
          "text": [
            "Epoch 54 Training Accuracy = 0.9766536964980544\n",
            "Epoch 54 Training Loss = 0.23393125772166964\n",
            "Epoch 54 Validation Accuracy = 0.8489583333333334\n",
            "Epoch 54 Validation Loss = 0.3601091106732686\n",
            "La mejor precisión de Validation Loss (0.35524982213974) se alcanzó en la época 45\n"
          ]
        },
        {
          "data": {
            "application/vnd.jupyter.widget-view+json": {
              "model_id": "52a5b47fed1444999e9ac93d797f5d37",
              "version_major": 2,
              "version_minor": 0
            },
            "text/plain": [
              "  0%|          | 0/13 [00:00<?, ?batch/s]"
            ]
          },
          "metadata": {},
          "output_type": "display_data"
        },
        {
          "name": "stdout",
          "output_type": "stream",
          "text": [
            "Epoch 55 Training Accuracy = 0.9818417639429312\n",
            "Epoch 55 Training Loss = 0.19093042403343585\n",
            "Epoch 55 Validation Accuracy = 0.8489583333333334\n",
            "Epoch 55 Validation Loss = 0.36009042461713153\n",
            "La mejor precisión de Validation Loss (0.35524982213974) se alcanzó en la época 45\n"
          ]
        },
        {
          "data": {
            "application/vnd.jupyter.widget-view+json": {
              "model_id": "554b8da26ac44a55b298d3ccbb78f2be",
              "version_major": 2,
              "version_minor": 0
            },
            "text/plain": [
              "  0%|          | 0/13 [00:00<?, ?batch/s]"
            ]
          },
          "metadata": {},
          "output_type": "display_data"
        },
        {
          "name": "stdout",
          "output_type": "stream",
          "text": [
            "Epoch 56 Training Accuracy = 0.9857328145265889\n",
            "Epoch 56 Training Loss = 0.18477473865068686\n",
            "Epoch 56 Validation Accuracy = 0.8489583333333334\n",
            "Epoch 56 Validation Loss = 0.33581095933914185\n",
            "La mejor precisión de Validation Loss (0.33581095933914185) se alcanzó en la época 56\n"
          ]
        },
        {
          "data": {
            "application/vnd.jupyter.widget-view+json": {
              "model_id": "bd723eb08e14408ba4d9d0cf0db15060",
              "version_major": 2,
              "version_minor": 0
            },
            "text/plain": [
              "  0%|          | 0/13 [00:00<?, ?batch/s]"
            ]
          },
          "metadata": {},
          "output_type": "display_data"
        },
        {
          "name": "stdout",
          "output_type": "stream",
          "text": [
            "Epoch 57 Training Accuracy = 0.9844357976653697\n",
            "Epoch 57 Training Loss = 0.185144649482732\n",
            "Epoch 57 Validation Accuracy = 0.859375\n",
            "Epoch 57 Validation Loss = 0.367845356464386\n",
            "La mejor precisión de Validation Loss (0.33581095933914185) se alcanzó en la época 56\n"
          ]
        },
        {
          "data": {
            "application/vnd.jupyter.widget-view+json": {
              "model_id": "1ad3c2b557cc4ba9ad830bf70c5b3665",
              "version_major": 2,
              "version_minor": 0
            },
            "text/plain": [
              "  0%|          | 0/13 [00:00<?, ?batch/s]"
            ]
          },
          "metadata": {},
          "output_type": "display_data"
        },
        {
          "name": "stdout",
          "output_type": "stream",
          "text": [
            "Epoch 58 Training Accuracy = 0.9922178988326849\n",
            "Epoch 58 Training Loss = 0.12483277590280996\n",
            "Epoch 58 Validation Accuracy = 0.8385416666666666\n",
            "Epoch 58 Validation Loss = 0.40806811054547626\n",
            "La mejor precisión de Validation Loss (0.33581095933914185) se alcanzó en la época 56\n"
          ]
        },
        {
          "data": {
            "application/vnd.jupyter.widget-view+json": {
              "model_id": "610f49e943c545788d20bcc27af03e49",
              "version_major": 2,
              "version_minor": 0
            },
            "text/plain": [
              "  0%|          | 0/13 [00:00<?, ?batch/s]"
            ]
          },
          "metadata": {},
          "output_type": "display_data"
        },
        {
          "name": "stdout",
          "output_type": "stream",
          "text": [
            "Epoch 59 Training Accuracy = 0.993514915693904\n",
            "Epoch 59 Training Loss = 0.09579694244029766\n",
            "Epoch 59 Validation Accuracy = 0.8489583333333334\n",
            "Epoch 59 Validation Loss = 0.3914363582928975\n",
            "La mejor precisión de Validation Loss (0.33581095933914185) se alcanzó en la época 56\n"
          ]
        },
        {
          "data": {
            "application/vnd.jupyter.widget-view+json": {
              "model_id": "915f40d0b057473bac7b451173bef616",
              "version_major": 2,
              "version_minor": 0
            },
            "text/plain": [
              "  0%|          | 0/13 [00:00<?, ?batch/s]"
            ]
          },
          "metadata": {},
          "output_type": "display_data"
        },
        {
          "name": "stdout",
          "output_type": "stream",
          "text": [
            "Epoch 60 Training Accuracy = 0.993514915693904\n",
            "Epoch 60 Training Loss = 0.08656288955925967\n",
            "Epoch 60 Validation Accuracy = 0.8385416666666666\n",
            "Epoch 60 Validation Loss = 0.44238975644111633\n",
            "La mejor precisión de Validation Loss (0.33581095933914185) se alcanzó en la época 56\n"
          ]
        },
        {
          "data": {
            "application/vnd.jupyter.widget-view+json": {
              "model_id": "b7b4522bbe0b4aefb50e73a6eec5627a",
              "version_major": 2,
              "version_minor": 0
            },
            "text/plain": [
              "  0%|          | 0/13 [00:00<?, ?batch/s]"
            ]
          },
          "metadata": {},
          "output_type": "display_data"
        },
        {
          "name": "stdout",
          "output_type": "stream",
          "text": [
            "Epoch 61 Training Accuracy = 0.953307392996109\n",
            "Epoch 61 Training Loss = 0.24092754188214757\n",
            "Epoch 61 Validation Accuracy = 0.828125\n",
            "Epoch 61 Validation Loss = 0.42002585530281067\n",
            "La mejor precisión de Validation Loss (0.33581095933914185) se alcanzó en la época 56\n"
          ]
        },
        {
          "data": {
            "application/vnd.jupyter.widget-view+json": {
              "model_id": "1c2c4143be774a34b39a33386347830e",
              "version_major": 2,
              "version_minor": 0
            },
            "text/plain": [
              "  0%|          | 0/13 [00:00<?, ?batch/s]"
            ]
          },
          "metadata": {},
          "output_type": "display_data"
        },
        {
          "name": "stdout",
          "output_type": "stream",
          "text": [
            "Epoch 62 Training Accuracy = 0.9753566796368353\n",
            "Epoch 62 Training Loss = 0.15026462573833502\n",
            "Epoch 62 Validation Accuracy = 0.859375\n",
            "Epoch 62 Validation Loss = 0.32200878361860913\n",
            "La mejor precisión de Validation Loss (0.32200878361860913) se alcanzó en la época 62\n"
          ]
        },
        {
          "data": {
            "application/vnd.jupyter.widget-view+json": {
              "model_id": "804febbbbfa84ece920b63b31964040f",
              "version_major": 2,
              "version_minor": 0
            },
            "text/plain": [
              "  0%|          | 0/13 [00:00<?, ?batch/s]"
            ]
          },
          "metadata": {},
          "output_type": "display_data"
        },
        {
          "name": "stdout",
          "output_type": "stream",
          "text": [
            "Epoch 63 Training Accuracy = 0.9896238651102465\n",
            "Epoch 63 Training Loss = 0.08966446448547521\n",
            "Epoch 63 Validation Accuracy = 0.84375\n",
            "Epoch 63 Validation Loss = 0.4632612069447835\n",
            "La mejor precisión de Validation Loss (0.32200878361860913) se alcanzó en la época 62\n"
          ]
        },
        {
          "data": {
            "application/vnd.jupyter.widget-view+json": {
              "model_id": "71ecf36a1e574c4e90ba986fb1c6ca98",
              "version_major": 2,
              "version_minor": 0
            },
            "text/plain": [
              "  0%|          | 0/13 [00:00<?, ?batch/s]"
            ]
          },
          "metadata": {},
          "output_type": "display_data"
        },
        {
          "name": "stdout",
          "output_type": "stream",
          "text": [
            "Epoch 64 Training Accuracy = 0.9636835278858625\n",
            "Epoch 64 Training Loss = 0.16669679892608164\n",
            "Epoch 64 Validation Accuracy = 0.8229166666666666\n",
            "Epoch 64 Validation Loss = 0.418820192416509\n",
            "La mejor precisión de Validation Loss (0.32200878361860913) se alcanzó en la época 62\n"
          ]
        },
        {
          "data": {
            "application/vnd.jupyter.widget-view+json": {
              "model_id": "c42ae12ebbe347ca848f6899907cbe21",
              "version_major": 2,
              "version_minor": 0
            },
            "text/plain": [
              "  0%|          | 0/13 [00:00<?, ?batch/s]"
            ]
          },
          "metadata": {},
          "output_type": "display_data"
        },
        {
          "name": "stdout",
          "output_type": "stream",
          "text": [
            "Epoch 65 Training Accuracy = 0.9792477302204928\n",
            "Epoch 65 Training Loss = 0.12209380461548089\n",
            "Epoch 65 Validation Accuracy = 0.875\n",
            "Epoch 65 Validation Loss = 0.3357570668061574\n",
            "La mejor precisión de Validation Loss (0.32200878361860913) se alcanzó en la época 62\n"
          ]
        },
        {
          "data": {
            "application/vnd.jupyter.widget-view+json": {
              "model_id": "04ba3bf81b7d4350ab828d2cbaa18869",
              "version_major": 2,
              "version_minor": 0
            },
            "text/plain": [
              "  0%|          | 0/13 [00:00<?, ?batch/s]"
            ]
          },
          "metadata": {},
          "output_type": "display_data"
        },
        {
          "name": "stdout",
          "output_type": "stream",
          "text": [
            "Epoch 66 Training Accuracy = 0.9818417639429312\n",
            "Epoch 66 Training Loss = 0.15202181085692923\n",
            "Epoch 66 Validation Accuracy = 0.8333333333333334\n",
            "Epoch 66 Validation Loss = 0.39027563730875653\n",
            "La mejor precisión de Validation Loss (0.32200878361860913) se alcanzó en la época 62\n"
          ]
        },
        {
          "data": {
            "application/vnd.jupyter.widget-view+json": {
              "model_id": "6c5f2422ee89458aa57a239740869402",
              "version_major": 2,
              "version_minor": 0
            },
            "text/plain": [
              "  0%|          | 0/13 [00:00<?, ?batch/s]"
            ]
          },
          "metadata": {},
          "output_type": "display_data"
        },
        {
          "name": "stdout",
          "output_type": "stream",
          "text": [
            "Epoch 67 Training Accuracy = 0.9662775616083009\n",
            "Epoch 67 Training Loss = 0.16850525840401803\n",
            "Epoch 67 Validation Accuracy = 0.84375\n",
            "Epoch 67 Validation Loss = 0.3792078495025635\n",
            "La mejor precisión de Validation Loss (0.32200878361860913) se alcanzó en la época 62\n"
          ]
        },
        {
          "data": {
            "application/vnd.jupyter.widget-view+json": {
              "model_id": "9089350789a943d3a9bc5b32983f580e",
              "version_major": 2,
              "version_minor": 0
            },
            "text/plain": [
              "  0%|          | 0/13 [00:00<?, ?batch/s]"
            ]
          },
          "metadata": {},
          "output_type": "display_data"
        },
        {
          "name": "stdout",
          "output_type": "stream",
          "text": [
            "Epoch 68 Training Accuracy = 0.9792477302204928\n",
            "Epoch 68 Training Loss = 0.1130006645411137\n",
            "Epoch 68 Validation Accuracy = 0.90625\n",
            "Epoch 68 Validation Loss = 0.27479924261569977\n",
            "La mejor precisión de Validation Loss (0.27479924261569977) se alcanzó en la época 68\n"
          ]
        },
        {
          "data": {
            "application/vnd.jupyter.widget-view+json": {
              "model_id": "a2e8d6343085474c87c6d5852b29e2e5",
              "version_major": 2,
              "version_minor": 0
            },
            "text/plain": [
              "  0%|          | 0/13 [00:00<?, ?batch/s]"
            ]
          },
          "metadata": {},
          "output_type": "display_data"
        },
        {
          "name": "stdout",
          "output_type": "stream",
          "text": [
            "Epoch 69 Training Accuracy = 0.9909208819714657\n",
            "Epoch 69 Training Loss = 0.07824530302705159\n",
            "Epoch 69 Validation Accuracy = 0.875\n",
            "Epoch 69 Validation Loss = 0.3223189065853755\n",
            "La mejor precisión de Validation Loss (0.27479924261569977) se alcanzó en la época 68\n"
          ]
        },
        {
          "data": {
            "application/vnd.jupyter.widget-view+json": {
              "model_id": "6d21347bd7c44a82924b0f5af6c5b4a5",
              "version_major": 2,
              "version_minor": 0
            },
            "text/plain": [
              "  0%|          | 0/13 [00:00<?, ?batch/s]"
            ]
          },
          "metadata": {},
          "output_type": "display_data"
        },
        {
          "name": "stdout",
          "output_type": "stream",
          "text": [
            "Epoch 70 Training Accuracy = 0.9961089494163424\n",
            "Epoch 70 Training Loss = 0.05528499490681712\n",
            "Epoch 70 Validation Accuracy = 0.9010416666666666\n",
            "Epoch 70 Validation Loss = 0.2832457423210144\n",
            "La mejor precisión de Validation Loss (0.27479924261569977) se alcanzó en la época 68\n"
          ]
        },
        {
          "data": {
            "application/vnd.jupyter.widget-view+json": {
              "model_id": "780c701092434fd3b918cbb5ea8a26e0",
              "version_major": 2,
              "version_minor": 0
            },
            "text/plain": [
              "  0%|          | 0/13 [00:00<?, ?batch/s]"
            ]
          },
          "metadata": {},
          "output_type": "display_data"
        },
        {
          "name": "stdout",
          "output_type": "stream",
          "text": [
            "Epoch 71 Training Accuracy = 0.9948119325551232\n",
            "Epoch 71 Training Loss = 0.05150979094390894\n",
            "Epoch 71 Validation Accuracy = 0.8802083333333334\n",
            "Epoch 71 Validation Loss = 0.3633559246857961\n",
            "La mejor precisión de Validation Loss (0.27479924261569977) se alcanzó en la época 68\n"
          ]
        },
        {
          "data": {
            "application/vnd.jupyter.widget-view+json": {
              "model_id": "e4d1a0b36c2849c681921f1eec4938f5",
              "version_major": 2,
              "version_minor": 0
            },
            "text/plain": [
              "  0%|          | 0/13 [00:00<?, ?batch/s]"
            ]
          },
          "metadata": {},
          "output_type": "display_data"
        },
        {
          "name": "stdout",
          "output_type": "stream",
          "text": [
            "Epoch 72 Training Accuracy = 1.0\n",
            "Epoch 72 Training Loss = 0.02931989165054376\n",
            "Epoch 72 Validation Accuracy = 0.8958333333333334\n",
            "Epoch 72 Validation Loss = 0.3304598132769267\n",
            "La mejor precisión de Validation Loss (0.27479924261569977) se alcanzó en la época 68\n"
          ]
        },
        {
          "data": {
            "application/vnd.jupyter.widget-view+json": {
              "model_id": "5e223424641540e7a8b41117fdd8dcb1",
              "version_major": 2,
              "version_minor": 0
            },
            "text/plain": [
              "  0%|          | 0/13 [00:00<?, ?batch/s]"
            ]
          },
          "metadata": {},
          "output_type": "display_data"
        },
        {
          "name": "stdout",
          "output_type": "stream",
          "text": [
            "Epoch 73 Training Accuracy = 1.0\n",
            "Epoch 73 Training Loss = 0.02693559652636487\n",
            "Epoch 73 Validation Accuracy = 0.9010416666666666\n",
            "Epoch 73 Validation Loss = 0.3240598489840825\n",
            "La mejor precisión de Validation Loss (0.27479924261569977) se alcanzó en la época 68\n"
          ]
        },
        {
          "data": {
            "application/vnd.jupyter.widget-view+json": {
              "model_id": "1dd1248c7b554b7295a0b561555cc25d",
              "version_major": 2,
              "version_minor": 0
            },
            "text/plain": [
              "  0%|          | 0/13 [00:00<?, ?batch/s]"
            ]
          },
          "metadata": {},
          "output_type": "display_data"
        },
        {
          "name": "stdout",
          "output_type": "stream",
          "text": [
            "Epoch 74 Training Accuracy = 0.9974059662775616\n",
            "Epoch 74 Training Loss = 0.02893669166917467\n",
            "Epoch 74 Validation Accuracy = 0.90625\n",
            "Epoch 74 Validation Loss = 0.28707046806812286\n",
            "La mejor precisión de Validation Loss (0.27479924261569977) se alcanzó en la época 68\n"
          ]
        },
        {
          "data": {
            "application/vnd.jupyter.widget-view+json": {
              "model_id": "d2ee5c3a93fb44d5a2ca55d60cbced38",
              "version_major": 2,
              "version_minor": 0
            },
            "text/plain": [
              "  0%|          | 0/13 [00:00<?, ?batch/s]"
            ]
          },
          "metadata": {},
          "output_type": "display_data"
        },
        {
          "name": "stdout",
          "output_type": "stream",
          "text": [
            "Epoch 75 Training Accuracy = 0.9948119325551232\n",
            "Epoch 75 Training Loss = 0.038023427534660016\n",
            "Epoch 75 Validation Accuracy = 0.9114583333333334\n",
            "Epoch 75 Validation Loss = 0.3286595592896144\n",
            "La mejor precisión de Validation Loss (0.27479924261569977) se alcanzó en la época 68\n"
          ]
        },
        {
          "data": {
            "application/vnd.jupyter.widget-view+json": {
              "model_id": "1e41c8d08ea7443ea9003ef496f207c4",
              "version_major": 2,
              "version_minor": 0
            },
            "text/plain": [
              "  0%|          | 0/13 [00:00<?, ?batch/s]"
            ]
          },
          "metadata": {},
          "output_type": "display_data"
        },
        {
          "name": "stdout",
          "output_type": "stream",
          "text": [
            "Epoch 76 Training Accuracy = 0.9961089494163424\n",
            "Epoch 76 Training Loss = 0.049832728431691765\n",
            "Epoch 76 Validation Accuracy = 0.8958333333333334\n",
            "Epoch 76 Validation Loss = 0.28967233498891193\n",
            "La mejor precisión de Validation Loss (0.27479924261569977) se alcanzó en la época 68\n"
          ]
        },
        {
          "data": {
            "application/vnd.jupyter.widget-view+json": {
              "model_id": "e379e079a678424787cdb61bdeae7f31",
              "version_major": 2,
              "version_minor": 0
            },
            "text/plain": [
              "  0%|          | 0/13 [00:00<?, ?batch/s]"
            ]
          },
          "metadata": {},
          "output_type": "display_data"
        },
        {
          "name": "stdout",
          "output_type": "stream",
          "text": [
            "Epoch 77 Training Accuracy = 0.9779507133592736\n",
            "Epoch 77 Training Loss = 0.10502178434538625\n",
            "Epoch 77 Validation Accuracy = 0.875\n",
            "Epoch 77 Validation Loss = 0.3647296925385793\n",
            "La mejor precisión de Validation Loss (0.27479924261569977) se alcanzó en la época 68\n"
          ]
        },
        {
          "data": {
            "application/vnd.jupyter.widget-view+json": {
              "model_id": "d9246150d61c42bebe32a1b807dedf57",
              "version_major": 2,
              "version_minor": 0
            },
            "text/plain": [
              "  0%|          | 0/13 [00:00<?, ?batch/s]"
            ]
          },
          "metadata": {},
          "output_type": "display_data"
        },
        {
          "name": "stdout",
          "output_type": "stream",
          "text": [
            "Epoch 78 Training Accuracy = 0.9883268482490273\n",
            "Epoch 78 Training Loss = 0.06977645200514145\n",
            "Epoch 78 Validation Accuracy = 0.890625\n",
            "Epoch 78 Validation Loss = 0.3467346926530202\n",
            "La mejor precisión de Validation Loss (0.27479924261569977) se alcanzó en la época 68\n"
          ]
        },
        {
          "data": {
            "application/vnd.jupyter.widget-view+json": {
              "model_id": "638544a3b853488cb4bc86d4539a9c88",
              "version_major": 2,
              "version_minor": 0
            },
            "text/plain": [
              "  0%|          | 0/13 [00:00<?, ?batch/s]"
            ]
          },
          "metadata": {},
          "output_type": "display_data"
        },
        {
          "name": "stdout",
          "output_type": "stream",
          "text": [
            "Epoch 79 Training Accuracy = 0.9909208819714657\n",
            "Epoch 79 Training Loss = 0.08175389652276936\n",
            "Epoch 79 Validation Accuracy = 0.8802083333333334\n",
            "Epoch 79 Validation Loss = 0.36821213364601135\n",
            "La mejor precisión de Validation Loss (0.27479924261569977) se alcanzó en la época 68\n"
          ]
        },
        {
          "data": {
            "application/vnd.jupyter.widget-view+json": {
              "model_id": "2f9711a66ee540f19e240ee53ba56b14",
              "version_major": 2,
              "version_minor": 0
            },
            "text/plain": [
              "  0%|          | 0/13 [00:00<?, ?batch/s]"
            ]
          },
          "metadata": {},
          "output_type": "display_data"
        },
        {
          "name": "stdout",
          "output_type": "stream",
          "text": [
            "Epoch 80 Training Accuracy = 0.993514915693904\n",
            "Epoch 80 Training Loss = 0.1061165767266438\n",
            "Epoch 80 Validation Accuracy = 0.875\n",
            "Epoch 80 Validation Loss = 0.33535197377204895\n",
            "La mejor precisión de Validation Loss (0.27479924261569977) se alcanzó en la época 68\n"
          ]
        },
        {
          "data": {
            "application/vnd.jupyter.widget-view+json": {
              "model_id": "4ffd30cb8e3c44f288cec90c5285adf4",
              "version_major": 2,
              "version_minor": 0
            },
            "text/plain": [
              "  0%|          | 0/13 [00:00<?, ?batch/s]"
            ]
          },
          "metadata": {},
          "output_type": "display_data"
        },
        {
          "name": "stdout",
          "output_type": "stream",
          "text": [
            "Epoch 81 Training Accuracy = 0.9922178988326849\n",
            "Epoch 81 Training Loss = 0.06642722992658924\n",
            "Epoch 81 Validation Accuracy = 0.8854166666666666\n",
            "Epoch 81 Validation Loss = 0.3408922751744588\n",
            "La mejor precisión de Validation Loss (0.27479924261569977) se alcanzó en la época 68\n"
          ]
        },
        {
          "data": {
            "application/vnd.jupyter.widget-view+json": {
              "model_id": "54e6585c3d43421980cd881e580a3036",
              "version_major": 2,
              "version_minor": 0
            },
            "text/plain": [
              "  0%|          | 0/13 [00:00<?, ?batch/s]"
            ]
          },
          "metadata": {},
          "output_type": "display_data"
        },
        {
          "name": "stdout",
          "output_type": "stream",
          "text": [
            "Epoch 82 Training Accuracy = 0.9961089494163424\n",
            "Epoch 82 Training Loss = 0.03604981478608072\n",
            "Epoch 82 Validation Accuracy = 0.8541666666666666\n",
            "Epoch 82 Validation Loss = 0.4623613158861796\n",
            "La mejor precisión de Validation Loss (0.27479924261569977) se alcanzó en la época 68\n"
          ]
        },
        {
          "data": {
            "application/vnd.jupyter.widget-view+json": {
              "model_id": "87f5427663a6410fadc94794f0483456",
              "version_major": 2,
              "version_minor": 0
            },
            "text/plain": [
              "  0%|          | 0/13 [00:00<?, ?batch/s]"
            ]
          },
          "metadata": {},
          "output_type": "display_data"
        },
        {
          "name": "stdout",
          "output_type": "stream",
          "text": [
            "Epoch 83 Training Accuracy = 0.9948119325551232\n",
            "Epoch 83 Training Loss = 0.04433135746165279\n",
            "Epoch 83 Validation Accuracy = 0.8958333333333334\n",
            "Epoch 83 Validation Loss = 0.37132786711057025\n",
            "La mejor precisión de Validation Loss (0.27479924261569977) se alcanzó en la época 68\n"
          ]
        },
        {
          "data": {
            "application/vnd.jupyter.widget-view+json": {
              "model_id": "84f5e0922d7149178fcf3629eef1c9a9",
              "version_major": 2,
              "version_minor": 0
            },
            "text/plain": [
              "  0%|          | 0/13 [00:00<?, ?batch/s]"
            ]
          },
          "metadata": {},
          "output_type": "display_data"
        },
        {
          "name": "stdout",
          "output_type": "stream",
          "text": [
            "Epoch 84 Training Accuracy = 0.9974059662775616\n",
            "Epoch 84 Training Loss = 0.017556644860176725\n",
            "Epoch 84 Validation Accuracy = 0.8645833333333334\n",
            "Epoch 84 Validation Loss = 0.41930679480234784\n",
            "La mejor precisión de Validation Loss (0.27479924261569977) se alcanzó en la época 68\n"
          ]
        },
        {
          "data": {
            "application/vnd.jupyter.widget-view+json": {
              "model_id": "4cf07be38a514d2db72040059948b1de",
              "version_major": 2,
              "version_minor": 0
            },
            "text/plain": [
              "  0%|          | 0/13 [00:00<?, ?batch/s]"
            ]
          },
          "metadata": {},
          "output_type": "display_data"
        },
        {
          "name": "stdout",
          "output_type": "stream",
          "text": [
            "Epoch 85 Training Accuracy = 1.0\n",
            "Epoch 85 Training Loss = 0.01159260435037112\n",
            "Epoch 85 Validation Accuracy = 0.890625\n",
            "Epoch 85 Validation Loss = 0.37798504034678143\n",
            "La mejor precisión de Validation Loss (0.27479924261569977) se alcanzó en la época 68\n"
          ]
        },
        {
          "data": {
            "application/vnd.jupyter.widget-view+json": {
              "model_id": "5d1cd44009c648ac8ca428a79b2488b8",
              "version_major": 2,
              "version_minor": 0
            },
            "text/plain": [
              "  0%|          | 0/13 [00:00<?, ?batch/s]"
            ]
          },
          "metadata": {},
          "output_type": "display_data"
        },
        {
          "name": "stdout",
          "output_type": "stream",
          "text": [
            "Epoch 86 Training Accuracy = 1.0\n",
            "Epoch 86 Training Loss = 0.013110809467839206\n",
            "Epoch 86 Validation Accuracy = 0.8541666666666666\n",
            "Epoch 86 Validation Loss = 0.41408387819925946\n",
            "La mejor precisión de Validation Loss (0.27479924261569977) se alcanzó en la época 68\n"
          ]
        },
        {
          "data": {
            "application/vnd.jupyter.widget-view+json": {
              "model_id": "81e928a47ff14e6c99516305a78a2390",
              "version_major": 2,
              "version_minor": 0
            },
            "text/plain": [
              "  0%|          | 0/13 [00:00<?, ?batch/s]"
            ]
          },
          "metadata": {},
          "output_type": "display_data"
        },
        {
          "name": "stdout",
          "output_type": "stream",
          "text": [
            "Epoch 87 Training Accuracy = 0.9987029831387808\n",
            "Epoch 87 Training Loss = 0.016223662654868052\n",
            "Epoch 87 Validation Accuracy = 0.8697916666666666\n",
            "Epoch 87 Validation Loss = 0.4339434703191121\n",
            "La mejor precisión de Validation Loss (0.27479924261569977) se alcanzó en la época 68\n"
          ]
        },
        {
          "data": {
            "application/vnd.jupyter.widget-view+json": {
              "model_id": "9b59909aac63453a85c0d786ece95f38",
              "version_major": 2,
              "version_minor": 0
            },
            "text/plain": [
              "  0%|          | 0/13 [00:00<?, ?batch/s]"
            ]
          },
          "metadata": {},
          "output_type": "display_data"
        },
        {
          "name": "stdout",
          "output_type": "stream",
          "text": [
            "Epoch 88 Training Accuracy = 0.9987029831387808\n",
            "Epoch 88 Training Loss = 0.014367746853604237\n",
            "Epoch 88 Validation Accuracy = 0.875\n",
            "Epoch 88 Validation Loss = 0.4030311008294423\n",
            "La mejor precisión de Validation Loss (0.27479924261569977) se alcanzó en la época 68\n"
          ]
        },
        {
          "data": {
            "application/vnd.jupyter.widget-view+json": {
              "model_id": "92738de6e5734e498a2399f2823a4675",
              "version_major": 2,
              "version_minor": 0
            },
            "text/plain": [
              "  0%|          | 0/13 [00:00<?, ?batch/s]"
            ]
          },
          "metadata": {},
          "output_type": "display_data"
        },
        {
          "name": "stdout",
          "output_type": "stream",
          "text": [
            "Epoch 89 Training Accuracy = 0.9987029831387808\n",
            "Epoch 89 Training Loss = 0.008741786507780914\n",
            "Epoch 89 Validation Accuracy = 0.8854166666666666\n",
            "Epoch 89 Validation Loss = 0.42108969887097675\n",
            "La mejor precisión de Validation Loss (0.27479924261569977) se alcanzó en la época 68\n"
          ]
        },
        {
          "data": {
            "application/vnd.jupyter.widget-view+json": {
              "model_id": "956b08a4ae214823b19512aafdd93a78",
              "version_major": 2,
              "version_minor": 0
            },
            "text/plain": [
              "  0%|          | 0/13 [00:00<?, ?batch/s]"
            ]
          },
          "metadata": {},
          "output_type": "display_data"
        },
        {
          "name": "stdout",
          "output_type": "stream",
          "text": [
            "Epoch 90 Training Accuracy = 0.993514915693904\n",
            "Epoch 90 Training Loss = 0.03400201366878514\n",
            "Epoch 90 Validation Accuracy = 0.84375\n",
            "Epoch 90 Validation Loss = 0.5721369783083597\n",
            "La mejor precisión de Validation Loss (0.27479924261569977) se alcanzó en la época 68\n"
          ]
        },
        {
          "data": {
            "application/vnd.jupyter.widget-view+json": {
              "model_id": "3b7a538b84f44aa48289e45cee7b6213",
              "version_major": 2,
              "version_minor": 0
            },
            "text/plain": [
              "  0%|          | 0/13 [00:00<?, ?batch/s]"
            ]
          },
          "metadata": {},
          "output_type": "display_data"
        },
        {
          "name": "stdout",
          "output_type": "stream",
          "text": [
            "Epoch 91 Training Accuracy = 0.9649805447470817\n",
            "Epoch 91 Training Loss = 0.1640345823556069\n",
            "Epoch 91 Validation Accuracy = 0.8958333333333334\n",
            "Epoch 91 Validation Loss = 0.33413270115852356\n",
            "La mejor precisión de Validation Loss (0.27479924261569977) se alcanzó en la época 68\n"
          ]
        },
        {
          "data": {
            "application/vnd.jupyter.widget-view+json": {
              "model_id": "3eb736f8e36345e6a2ce54c49a7f23ce",
              "version_major": 2,
              "version_minor": 0
            },
            "text/plain": [
              "  0%|          | 0/13 [00:00<?, ?batch/s]"
            ]
          },
          "metadata": {},
          "output_type": "display_data"
        },
        {
          "name": "stdout",
          "output_type": "stream",
          "text": [
            "Epoch 92 Training Accuracy = 0.9883268482490273\n",
            "Epoch 92 Training Loss = 0.08214447965263239\n",
            "Epoch 92 Validation Accuracy = 0.8020833333333334\n",
            "Epoch 92 Validation Loss = 0.4899773995081584\n",
            "La mejor precisión de Validation Loss (0.27479924261569977) se alcanzó en la época 68\n"
          ]
        },
        {
          "data": {
            "application/vnd.jupyter.widget-view+json": {
              "model_id": "f0626432e6d44d6bb95e09c1a320e3ed",
              "version_major": 2,
              "version_minor": 0
            },
            "text/plain": [
              "  0%|          | 0/13 [00:00<?, ?batch/s]"
            ]
          },
          "metadata": {},
          "output_type": "display_data"
        },
        {
          "name": "stdout",
          "output_type": "stream",
          "text": [
            "Epoch 93 Training Accuracy = 0.9662775616083009\n",
            "Epoch 93 Training Loss = 0.16671562349440677\n",
            "Epoch 93 Validation Accuracy = 0.8072916666666666\n",
            "Epoch 93 Validation Loss = 0.4530063072840373\n",
            "La mejor precisión de Validation Loss (0.27479924261569977) se alcanzó en la época 68\n"
          ]
        },
        {
          "data": {
            "application/vnd.jupyter.widget-view+json": {
              "model_id": "e3a8a34f7c4f4f71b56f89d7c560cb9f",
              "version_major": 2,
              "version_minor": 0
            },
            "text/plain": [
              "  0%|          | 0/13 [00:00<?, ?batch/s]"
            ]
          },
          "metadata": {},
          "output_type": "display_data"
        },
        {
          "name": "stdout",
          "output_type": "stream",
          "text": [
            "Epoch 94 Training Accuracy = 0.9818417639429312\n",
            "Epoch 94 Training Loss = 0.11651955658978216\n",
            "Epoch 94 Validation Accuracy = 0.859375\n",
            "Epoch 94 Validation Loss = 0.4259944558143616\n",
            "La mejor precisión de Validation Loss (0.27479924261569977) se alcanzó en la época 68\n"
          ]
        },
        {
          "data": {
            "application/vnd.jupyter.widget-view+json": {
              "model_id": "5c466deae0fb4d90936bfde1939cbcd3",
              "version_major": 2,
              "version_minor": 0
            },
            "text/plain": [
              "  0%|          | 0/13 [00:00<?, ?batch/s]"
            ]
          },
          "metadata": {},
          "output_type": "display_data"
        },
        {
          "name": "stdout",
          "output_type": "stream",
          "text": [
            "Epoch 95 Training Accuracy = 0.9740596627756161\n",
            "Epoch 95 Training Loss = 0.15423050634901192\n",
            "Epoch 95 Validation Accuracy = 0.84375\n",
            "Epoch 95 Validation Loss = 0.531564732392629\n",
            "La mejor precisión de Validation Loss (0.27479924261569977) se alcanzó en la época 68\n"
          ]
        },
        {
          "data": {
            "application/vnd.jupyter.widget-view+json": {
              "model_id": "c676ec147d5a4b7fa778bfc498b62af9",
              "version_major": 2,
              "version_minor": 0
            },
            "text/plain": [
              "  0%|          | 0/13 [00:00<?, ?batch/s]"
            ]
          },
          "metadata": {},
          "output_type": "display_data"
        },
        {
          "name": "stdout",
          "output_type": "stream",
          "text": [
            "Epoch 96 Training Accuracy = 0.9649805447470817\n",
            "Epoch 96 Training Loss = 0.17136810571148547\n",
            "Epoch 96 Validation Accuracy = 0.7916666666666666\n",
            "Epoch 96 Validation Loss = 0.5799607336521149\n",
            "La mejor precisión de Validation Loss (0.27479924261569977) se alcanzó en la época 68\n"
          ]
        },
        {
          "data": {
            "application/vnd.jupyter.widget-view+json": {
              "model_id": "60516ac3e1974109a85abaa7079c2854",
              "version_major": 2,
              "version_minor": 0
            },
            "text/plain": [
              "  0%|          | 0/13 [00:00<?, ?batch/s]"
            ]
          },
          "metadata": {},
          "output_type": "display_data"
        },
        {
          "name": "stdout",
          "output_type": "stream",
          "text": [
            "Epoch 97 Training Accuracy = 0.9649805447470817\n",
            "Epoch 97 Training Loss = 0.14615012096523775\n",
            "Epoch 97 Validation Accuracy = 0.8020833333333334\n",
            "Epoch 97 Validation Loss = 0.5560669203599294\n",
            "La mejor precisión de Validation Loss (0.27479924261569977) se alcanzó en la época 68\n"
          ]
        },
        {
          "data": {
            "application/vnd.jupyter.widget-view+json": {
              "model_id": "ccd74ce684624fc899254200eb2067d6",
              "version_major": 2,
              "version_minor": 0
            },
            "text/plain": [
              "  0%|          | 0/13 [00:00<?, ?batch/s]"
            ]
          },
          "metadata": {},
          "output_type": "display_data"
        },
        {
          "name": "stdout",
          "output_type": "stream",
          "text": [
            "Epoch 98 Training Accuracy = 0.9831387808041504\n",
            "Epoch 98 Training Loss = 0.08605574162244488\n",
            "Epoch 98 Validation Accuracy = 0.8489583333333334\n",
            "Epoch 98 Validation Loss = 0.477078914642334\n",
            "La mejor precisión de Validation Loss (0.27479924261569977) se alcanzó en la época 68\n"
          ]
        },
        {
          "data": {
            "application/vnd.jupyter.widget-view+json": {
              "model_id": "e9cf51acc08c498f8a31c68841a58b23",
              "version_major": 2,
              "version_minor": 0
            },
            "text/plain": [
              "  0%|          | 0/13 [00:00<?, ?batch/s]"
            ]
          },
          "metadata": {},
          "output_type": "display_data"
        },
        {
          "name": "stdout",
          "output_type": "stream",
          "text": [
            "Epoch 99 Training Accuracy = 0.9844357976653697\n",
            "Epoch 99 Training Loss = 0.07523067556466574\n",
            "Epoch 99 Validation Accuracy = 0.8333333333333334\n",
            "Epoch 99 Validation Loss = 0.450657198826472\n",
            "La mejor precisión de Validation Loss (0.27479924261569977) se alcanzó en la época 68\n"
          ]
        },
        {
          "data": {
            "application/vnd.jupyter.widget-view+json": {
              "model_id": "3a083104a8194345b6b785b8e16ae235",
              "version_major": 2,
              "version_minor": 0
            },
            "text/plain": [
              "  0%|          | 0/13 [00:00<?, ?batch/s]"
            ]
          },
          "metadata": {},
          "output_type": "display_data"
        },
        {
          "name": "stdout",
          "output_type": "stream",
          "text": [
            "Epoch 100 Training Accuracy = 0.9974059662775616\n",
            "Epoch 100 Training Loss = 0.03841129017947906\n",
            "Epoch 100 Validation Accuracy = 0.8645833333333334\n",
            "Epoch 100 Validation Loss = 0.3982420066992442\n",
            "La mejor precisión de Validation Loss (0.27479924261569977) se alcanzó en la época 68\n"
          ]
        }
      ],
      "source": [
        "train_loss = []  # Lista para almacenar las pérdidas de entrenamiento\n",
        "train_accuracy = []  # Lista para almacenar la precisión de entrenamiento\n",
        "val_loss = []  # Lista para almacenar las pérdidas de validación\n",
        "val_accuracy = []  # Lista para almacenar la precisión de validación\n",
        "best_val_loss = float('inf')  # Inicializa la mejor pérdida de validación como infinito\n",
        "best_epoch = 0  # Inicializa la mejor época como 0\n",
        "\n",
        "\n",
        "for epoch in range(epochs):\n",
        "    model.train()\n",
        "    total = 0\n",
        "    correct = 0\n",
        "    counter = 0\n",
        "    train_running_loss = 0\n",
        "\n",
        "    # Utiliza tqdm para mostrar una barra de progreso durante el entrenamiento\n",
        "    with tqdm(train_loader, unit=\"batch\") as tepoch:  # Utiliza train_loader en lugar de train_dataset\n",
        "        # Etiqueta de la barra de progreso\n",
        "        tepoch.set_description(f'Epoch {epoch+1}/{epochs}')\n",
        "\n",
        "        for images, labels in tepoch:  # Utiliza tepoch como iterable\n",
        "            images = images.to(device)\n",
        "            labels = labels.to(device)\n",
        "\n",
        "            optimizer.zero_grad()\n",
        "            outputs_main, outputs_aux = model(images)\n",
        "            loss_main = criterion_main(outputs_main, labels)\n",
        "            loss_aux = criterion_aux1(outputs_aux, labels)\n",
        "            loss_total = loss_main + 0.7 * loss_aux\n",
        "            loss_total.backward()\n",
        "            optimizer.step()\n",
        "\n",
        "            train_running_loss += loss_total.item() * images.size(0)\n",
        "\n",
        "            _, pred = torch.max(outputs_main.data, 1)\n",
        "\n",
        "            # Lleva un registro de cuántas imágenes se han propagado hacia adelante\n",
        "            total += labels.size(0)\n",
        "            # Lleva un registro de cuántas se predijeron correctamente\n",
        "            correct += (pred == labels).sum().item()\n",
        "\n",
        "            # Actualiza la barra de progreso con la pérdida actual\n",
        "            tepoch.set_postfix(loss=train_running_loss/total)  # Puedes mostrar la pérdida en la barra de progreso\n",
        "\n",
        "        train_accuracy.append(correct/total)\n",
        "        train_loss.append(train_running_loss/len(train_dataset))\n",
        "\n",
        "        print(f'Epoch {epoch+1} Training Accuracy = {correct/total}')\n",
        "        print(f'Epoch {epoch+1} Training Loss = {train_running_loss/len(train_dataset)}')\n",
        "\n",
        "    # Obtén nuestra precisión y pérdida de validación\n",
        "    if epoch %1 == 0:\n",
        "        model.eval()\n",
        "        total = 0\n",
        "        correct = 0\n",
        "        val_running_loss = 0\n",
        "\n",
        "        # No necesitamos gradientes para la validación, así que envuélvelo en no_grad para ahorrar memoria\n",
        "        with torch.no_grad():\n",
        "            for images, labels in val_loader:\n",
        "                images, labels = images.to(device), labels.to(device)\n",
        "                val_output = model(images)\n",
        "                loss_val = criterion_main(val_output, labels)\n",
        "\n",
        "                # Calcula la pérdida acumulada multiplicando el valor de pérdida por el tamaño del lote\n",
        "                val_running_loss += loss_val.item() * images.size(0)\n",
        "                _, pred = torch.max(val_output.data, 1)\n",
        "                total += labels.size(0)\n",
        "                correct += (pred == labels).sum().item()\n",
        "\n",
        "            val_accuracy.append(correct/total)\n",
        "            # Calcula la pérdida por época dividiendo la pérdida acumulada por el número de elementos en el conjunto de validación\n",
        "            val_loss.append(val_running_loss/len(validation_dataset))\n",
        "\n",
        "            # Actualiza la variable best_val_loss y guarda los pesos del modelo si la pérdida de validación actual es mejor.\n",
        "            if val_loss[-1] < best_val_loss:\n",
        "                best_val_loss = val_loss[-1]\n",
        "                # Guarda los pesos del modelo en variables para almacenarlo al finalizar el entrenamiento.\n",
        "                best_epoch = epoch\n",
        "                best_model_name = \"mejor_modelo.pth\"\n",
        "                best_model_dict = model.state_dict()\n",
        "                #torch.save(model.state_dict(), best_model_name)\n",
        "                best_model = model\n",
        "\n",
        "            print(f'Epoch {epoch+1} Validation Accuracy = {correct/total}')\n",
        "            print(f'Epoch {epoch+1} Validation Loss = {val_running_loss/len(validation_dataset)}')\n",
        "            print(f\"La mejor precisión de Validation Loss ({best_val_loss}) se alcanzó en la época {best_epoch + 1}\")\n",
        "\n",
        "            # Guarda los pesos del modelo en un archivo.\n",
        "torch.save(best_model_dict, best_model_name)"
      ]
    },
    {
      "cell_type": "markdown",
      "id": "2b30af23",
      "metadata": {
        "id": "2b30af23",
        "papermill": {
          "duration": 0.024116,
          "end_time": "2023-10-04T15:45:04.942624",
          "exception": false,
          "start_time": "2023-10-04T15:45:04.918508",
          "status": "completed"
        },
        "tags": []
      },
      "source": [
        "# **Visualización de Pérdida y Precisión durante el Entrenamiento**"
      ]
    },
    {
      "cell_type": "markdown",
      "source": [
        "En este bloque, se genera una visualización que muestra la evolución de la pérdida y la precisión a lo largo de las épocas, tanto en el conjunto de entrenamiento como en el conjunto de validación. La visualización se presenta en dos subgráficos: uno para la pérdida y otro para la precisión.\n",
        "\n",
        "- **Configuración Inicial:**\n",
        "  - Se crea una figura con dos subgráficos dispuestos en dos filas y una columna.\n",
        "  - El título general y la etiqueta del eje x se establecen para facilitar la comprensión de la visualización.\n",
        "\n",
        "- **Datos de Entrenamiento y Validación:**\n",
        "  - Se utilizan líneas personalizadas para representar las curvas de pérdida y precisión tanto en el conjunto de entrenamiento como en el conjunto de validación.\n",
        "  - Cada conjunto tiene un color y estilo único para facilitar la distinción en la gráfica.\n",
        "\n",
        "- **Configuración de Ejes y Leyendas:**\n",
        "  - Se configuran los ejes y las leyendas para ambos subgráficos.\n",
        "  - El primer subgráfico representa la pérdida, mientras que el segundo representa la precisión.\n",
        "  - Los colores y estilos de línea se corresponden con los utilizados para los datos.\n",
        "\n",
        "- **Ajuste de Espaciado:**\n",
        "  - Se ajusta el espaciado entre los subgráficos para evitar superposiciones.\n",
        "\n",
        "- **Guardado de la Gráfica en un Archivo PDF:**\n",
        "  - Se guarda la gráfica en un archivo PDF con un nombre específico.\n",
        "\n",
        "- **Mostrar la Gráfica:**\n",
        "  - Se muestra la gráfica generada en el bloque de código.\n",
        "\n",
        "Este bloque proporciona una representación visual clara y concisa del rendimiento del modelo a lo largo del entrenamiento y la validación. La gráfica se almacena en un archivo PDF para su posterior referencia."
      ],
      "metadata": {
        "id": "RKhMCiB9dMp-"
      },
      "id": "RKhMCiB9dMp-"
    },
    {
      "cell_type": "code",
      "execution_count": null,
      "id": "b2b05d8e",
      "metadata": {
        "execution": {
          "iopub.execute_input": "2023-10-04T15:45:04.991836Z",
          "iopub.status.busy": "2023-10-04T15:45:04.991248Z",
          "iopub.status.idle": "2023-10-04T15:45:06.387613Z",
          "shell.execute_reply": "2023-10-04T15:45:06.386662Z"
        },
        "id": "b2b05d8e",
        "outputId": "a4b47cfc-8f29-42ec-d065-1d4ccea160a8",
        "papermill": {
          "duration": 1.423718,
          "end_time": "2023-10-04T15:45:06.389977",
          "exception": false,
          "start_time": "2023-10-04T15:45:04.966259",
          "status": "completed"
        },
        "tags": []
      },
      "outputs": [
        {
          "data": {
            "image/png": "[encoded data removed]",
            "text/plain": [
              "<Figure size 1000x800 with 2 Axes>"
            ]
          },
          "metadata": {},
          "output_type": "display_data"
        }
      ],
      "source": [
        "epoch_log = [*range(epochs)]\n",
        "\n",
        "# Crear la figura y los ejes\n",
        "fig, (ax1, ax2) = plt.subplots(2, 1, figsize=(10, 8))  # 2 filas, 1 columna\n",
        "\n",
        "# Título y rotación del eje x\n",
        "fig.suptitle(\"Training Loss & Accuracy vs Epoch\", fontsize=16)\n",
        "ax2.set_xlabel('Epochs')\n",
        "\n",
        "# Crear las líneas para los datos de entrenamiento (colores y estilos personalizados)\n",
        "ax1.plot(epoch_log, train_loss, color='red', linestyle='-', marker='o', label='Training Loss')\n",
        "ax2.plot(epoch_log, train_accuracy, color='blue', linestyle='--', marker='o', label='Training Accuracy')\n",
        "\n",
        "# Crear las líneas para los datos de validación (colores y estilos personalizados)\n",
        "ax1.plot(epoch_log, val_loss, color='green', linestyle='-.', marker='o', label='Validation Loss')\n",
        "ax2.plot(epoch_log, val_accuracy, color='purple', linestyle=':', marker='o', label='Validation Accuracy')\n",
        "\n",
        "# Configurar ejes y leyendas para el primer subgráfico (pérdida)\n",
        "ax1.set_ylabel('Loss', color='black')\n",
        "ax1.tick_params(axis='y', labelcolor='black')\n",
        "ax1.legend(loc='upper left')\n",
        "\n",
        "# Configurar ejes y leyendas para el segundo subgráfico (precisión)\n",
        "ax2.set_ylabel('Accuracy', color='black')\n",
        "ax2.tick_params(axis='y', labelcolor='black')\n",
        "ax2.legend(loc='upper left')\n",
        "\n",
        "# Ajustar el espaciado entre los subgráficos\n",
        "plt.tight_layout()\n",
        "\n",
        "    # Nombre del archivo PDF\n",
        "pdf_filename = \"graficaFold2_Loss&AccvsEpoch.pdf\"\n",
        "\n",
        "    # Guardar la gráfica en un archivo PDF\n",
        "plt.savefig(pdf_filename, format='pdf')\n",
        "\n",
        "# Mostrar la gráfica\n",
        "plt.show()"
      ]
    },
    {
      "cell_type": "markdown",
      "id": "e2cabbdb",
      "metadata": {
        "id": "e2cabbdb",
        "papermill": {
          "duration": 0.025317,
          "end_time": "2023-10-04T15:45:06.440863",
          "exception": false,
          "start_time": "2023-10-04T15:45:06.415546",
          "status": "completed"
        },
        "tags": []
      },
      "source": [
        "# **Evaluación del Modelo con Conjunto de Prueba**"
      ]
    },
    {
      "cell_type": "markdown",
      "source": [
        "En este bloque de código, se evalúa el modelo utilizando un conjunto de datos de prueba. Se carga el modelo InceptionV3 preentrenado con capas totalmente conectadas personalizadas y se utilizan los pesos del mejor modelo entrenado previamente. Se realizan predicciones en el conjunto de prueba y se calculan diversas métricas de rendimiento, incluyendo la precisión, la precisión ponderada, la recuperación y la puntuación F1. Además, se almacenan las predicciones y etiquetas reales para análisis posterior.\n",
        "\n",
        "Este proceso proporciona una evaluación detallada del rendimiento del modelo en datos no vistos, permitiendo una comprensión más completa de su calidad y generalización.\n",
        "\n",
        "Este bloque de código proporciona una evaluación completa del modelo en un conjunto de datos de prueba, permitiendo una comprensión detallada de su rendimiento en situaciones del mundo real."
      ],
      "metadata": {
        "id": "fw46zRbgd_RA"
      },
      "id": "fw46zRbgd_RA"
    },
    {
      "cell_type": "code",
      "execution_count": null,
      "id": "f38c3d46",
      "metadata": {
        "execution": {
          "iopub.execute_input": "2023-10-04T15:45:06.491987Z",
          "iopub.status.busy": "2023-10-04T15:45:06.491504Z",
          "iopub.status.idle": "2023-10-04T15:45:14.789453Z",
          "shell.execute_reply": "2023-10-04T15:45:14.788456Z"
        },
        "papermill": {
          "duration": 8.325796,
          "end_time": "2023-10-04T15:45:14.791259",
          "exception": false,
          "start_time": "2023-10-04T15:45:06.465463",
          "status": "completed"
        },
        "tags": [],
        "id": "f38c3d46",
        "outputId": "35b9ec3e-57a9-4071-a321-76c13e0a7255"
      },
      "outputs": [
        {
          "name": "stderr",
          "output_type": "stream",
          "text": [
            "/opt/conda/lib/python3.10/site-packages/torchvision/models/_utils.py:208: UserWarning: The parameter 'pretrained' is deprecated since 0.13 and may be removed in the future, please use 'weights' instead.\n",
            "  warnings.warn(\n",
            "/opt/conda/lib/python3.10/site-packages/torchvision/models/_utils.py:223: UserWarning: Arguments other than a weight enum or `None` for 'weights' are deprecated since 0.13 and may be removed in the future. The current behavior is equivalent to passing `weights=Inception_V3_Weights.IMAGENET1K_V1`. You can also use `weights=Inception_V3_Weights.DEFAULT` to get the most up-to-date weights.\n",
            "  warnings.warn(msg)\n",
            "/opt/conda/lib/python3.10/site-packages/torchvision/transforms/functional.py:1603: UserWarning: The default value of the antialias parameter of all the resizing transforms (Resize(), RandomResizedCrop(), etc.) will change from None to True in v0.17, in order to be consistent across the PIL and Tensor backends. To suppress this warning, directly pass antialias=True (recommended, future default), antialias=None (current default, which means False for Tensors and True for PIL), or antialias=False (only works on Tensors - PIL will still use antialiasing). This also applies if you are using the inference transforms from the models weights: update the call to weights.transforms(antialias=True).\n",
            "  warnings.warn(\n"
          ]
        },
        {
          "name": "stdout",
          "output_type": "stream",
          "text": [
            "Resultados con el mejor modelo\n"
          ]
        }
      ],
      "source": [
        "# Inicializa listas para almacenar las predicciones y etiquetas reales\n",
        "all_predictions = []\n",
        "all_labels = []\n",
        "\n",
        "# Cargar el modelo InceptionV3 pre-entrenado\n",
        "model = models.inception_v3(pretrained=True, aux_logits=True)\n",
        "num_features = model.fc.in_features  # Obtener el número de características de entrada\n",
        "# Definir tus propias capas FC\n",
        "fc0 = nn.Linear(num_features, 1024)\n",
        "fc1 = nn.Linear(1024, 512)  # Agrega la primera capa FC con 512 neuronas\n",
        "fc2 = nn.Linear(512, 256)  # Agrega la segunda capa FC con 256 neuronas\n",
        "fc3 = nn.Linear(256, num_classes)  # Agrega la tercera capa FC con 2 neuronas (suponiendo 2 clases)\n",
        "\n",
        "# Reemplazar la capa FC existente en InceptionV3 con tus nuevas capas FC\n",
        "model.fc = nn.Sequential(\n",
        "    fc0,\n",
        "    nn.ReLU(),\n",
        "    fc1,\n",
        "    nn.ReLU(),  # Agrega una función de activación, por ejemplo, ReLU\n",
        "    fc2,\n",
        "    nn.ReLU(),  # Otra función de activación, por ejemplo, ReLU\n",
        "    fc3\n",
        ")\n",
        "\n",
        "model.load_state_dict(torch.load('mejor_modelo.pth'))\n",
        "\n",
        "model.to(device)\n",
        "\n",
        "# Cambiar el modelo a modo de evaluación\n",
        "model.eval()\n",
        "\n",
        "# Inicializa variables para las métricas\n",
        "total_correct = 0\n",
        "total_samples = 0\n",
        "\n",
        "# Inicializa la matriz de confusión\n",
        "confusion = torch.zeros(num_classes, num_classes)\n",
        "\n",
        "# Realiza el bucle de prueba\n",
        "with torch.no_grad():\n",
        "    for images, labels in test_loader:\n",
        "        images = images.to(device)\n",
        "        labels = labels.to(device)\n",
        "\n",
        "        # Realiza predicciones\n",
        "        outputs = model(images)\n",
        "        _, predictions = torch.max(outputs, 1)\n",
        "\n",
        "        # Calcula la matriz de confusión\n",
        "        for t, p in zip(labels.view(-1), predictions.view(-1)):\n",
        "            confusion[t.long(), p.long()] += 1\n",
        "\n",
        "        # Calcula las métricas\n",
        "        total_samples += labels.size(0)\n",
        "        total_correct += (predictions == labels).sum().item()\n",
        "\n",
        "        # Almacena las predicciones y etiquetas reales para cálculos posteriores\n",
        "        all_predictions.extend(predictions.cpu().numpy())\n",
        "        all_labels.extend(labels.cpu().numpy())\n",
        "\n",
        "# Calcula métricas finales\n",
        "print('Resultados con el mejor modelo')\n",
        "accuracy = total_correct / total_samples\n",
        "precision = precision_score(all_labels, all_predictions, average='micro')\n",
        "recall = recall_score(all_labels, all_predictions)\n",
        "f1 = f1_score(all_labels, all_predictions)"
      ]
    },
    {
      "cell_type": "markdown",
      "id": "cb081182",
      "metadata": {
        "papermill": {
          "duration": 0.025883,
          "end_time": "2023-10-04T15:45:14.844943",
          "exception": false,
          "start_time": "2023-10-04T15:45:14.819060",
          "status": "completed"
        },
        "tags": [],
        "id": "cb081182"
      },
      "source": [
        "# **Resultados de Evaluación**"
      ]
    },
    {
      "cell_type": "markdown",
      "source": [
        "En esta sección, se imprimen las métricas de rendimiento calculadas durante la evaluación del modelo en el conjunto de datos de prueba. Estas métricas proporcionan una comprensión cuantitativa del rendimiento del modelo en términos de precisión, recuperación y F1-score.\n",
        "\n",
        "Estos resultados proporcionan información clave sobre el rendimiento del modelo en diferentes aspectos, ayudando a identificar fortalezas y debilidades específicas en su capacidad predictiva."
      ],
      "metadata": {
        "id": "QJRzU2JZeXWm"
      },
      "id": "QJRzU2JZeXWm"
    },
    {
      "cell_type": "code",
      "execution_count": null,
      "id": "c06cf954",
      "metadata": {
        "execution": {
          "iopub.execute_input": "2023-10-04T15:45:14.897843Z",
          "iopub.status.busy": "2023-10-04T15:45:14.897243Z",
          "iopub.status.idle": "2023-10-04T15:45:14.902958Z",
          "shell.execute_reply": "2023-10-04T15:45:14.902098Z"
        },
        "papermill": {
          "duration": 0.034145,
          "end_time": "2023-10-04T15:45:14.904531",
          "exception": false,
          "start_time": "2023-10-04T15:45:14.870386",
          "status": "completed"
        },
        "tags": [],
        "id": "c06cf954",
        "outputId": "4526b063-9275-4f6b-989a-f0923b8a47db"
      },
      "outputs": [
        {
          "name": "stdout",
          "output_type": "stream",
          "text": [
            "Accuracy: 0.8589211618257261\n",
            "Precision: 0.8589211618257261\n",
            "Recall: 0.8333333333333334\n",
            "F1-Score: 0.8661417322834646\n"
          ]
        }
      ],
      "source": [
        "# Imprime las métricas y la matriz de confusión\n",
        "print(f'Accuracy: {accuracy}')\n",
        "print(f'Precision: {precision}')\n",
        "print(f'Recall: {recall}')\n",
        "print(f'F1-Score: {f1}')"
      ]
    },
    {
      "cell_type": "markdown",
      "id": "13681967",
      "metadata": {
        "papermill": {
          "duration": 0.025196,
          "end_time": "2023-10-04T15:45:14.954449",
          "exception": false,
          "start_time": "2023-10-04T15:45:14.929253",
          "status": "completed"
        },
        "tags": [],
        "id": "13681967"
      },
      "source": [
        "# **Visualización de Métricas de Evaluación**"
      ]
    },
    {
      "cell_type": "markdown",
      "source": [
        "En este bloque de código, se crea una visualización utilizando la biblioteca Matplotlib para representar gráficamente las métricas de evaluación del modelo. Se utilizan los valores de precisión, recuperación, F1-score y exactitud, calculados previamente, para generar un gráfico de barras que proporciona una representación visual de estas métricas.\n",
        "\n",
        "La figura se guarda en un archivo PDF con el nombre \"graficaFold2_Metrics.pdf\". Esta visualización es una herramienta efectiva para comunicar de manera clara y concisa cómo el modelo está realizando en términos de diferentes métricas de evaluación.\n",
        "\n",
        "Esta visualización proporciona una representación intuitiva y fácil de interpretar del rendimiento del modelo en diferentes métricas clave, lo que facilita la comunicación de los resultados a audiencias no técnicas."
      ],
      "metadata": {
        "id": "ymfRksxfewjL"
      },
      "id": "ymfRksxfewjL"
    },
    {
      "cell_type": "code",
      "execution_count": null,
      "id": "b1ef858c",
      "metadata": {
        "execution": {
          "iopub.execute_input": "2023-10-04T15:45:15.008130Z",
          "iopub.status.busy": "2023-10-04T15:45:15.007423Z",
          "iopub.status.idle": "2023-10-04T15:45:15.358460Z",
          "shell.execute_reply": "2023-10-04T15:45:15.357660Z"
        },
        "papermill": {
          "duration": 0.380062,
          "end_time": "2023-10-04T15:45:15.360339",
          "exception": false,
          "start_time": "2023-10-04T15:45:14.980277",
          "status": "completed"
        },
        "tags": [],
        "id": "b1ef858c",
        "outputId": "8fbeed42-0827-450b-c191-7d8410362006"
      },
      "outputs": [
        {
          "data": {
            "image/png": "[encoded data removed]",
            "text/plain": [
              "<Figure size 800x600 with 1 Axes>"
            ]
          },
          "metadata": {},
          "output_type": "display_data"
        }
      ],
      "source": [
        "# Valores de las métricas\n",
        "metrics = ['Accuracy', 'Precision', 'Recall', 'F1-Score']\n",
        "values = [accuracy, precision, recall, f1]\n",
        "\n",
        "# Crea una figura de Matplotlib\n",
        "plt.figure(figsize=(8, 6))\n",
        "\n",
        "# Crea un gráfico de barras para las métricas\n",
        "plt.bar(metrics, values, color=['blue', 'green', 'red', 'purple'])\n",
        "\n",
        "# Etiqueta del eje y\n",
        "plt.ylabel('Valor')\n",
        "\n",
        "# Título del gráfico\n",
        "plt.title('Métricas de Evaluación')\n",
        "\n",
        "    # Nombre del archivo PDF\n",
        "pdf_filename2 = \"graficaFold2_Metrics.pdf\"\n",
        "\n",
        "plt.savefig(pdf_filename2, format='pdf')\n",
        "\n",
        "# Muestra el gráfico de barras\n",
        "plt.show()"
      ]
    },
    {
      "cell_type": "markdown",
      "id": "7ccabd68",
      "metadata": {
        "papermill": {
          "duration": 0.025175,
          "end_time": "2023-10-04T15:45:15.411845",
          "exception": false,
          "start_time": "2023-10-04T15:45:15.386670",
          "status": "completed"
        },
        "tags": [],
        "id": "7ccabd68"
      },
      "source": [
        "# **Visualización de la Matriz de Confusión**"
      ]
    },
    {
      "cell_type": "markdown",
      "source": [
        "En este bloque de código, se utiliza la biblioteca Matplotlib junto con Seaborn para crear un mapa de calor que representa visualmente la matriz de confusión del modelo. La matriz de confusión es convertida en un DataFrame de pandas para facilitar su visualización, y se utiliza un mapa de calor para resaltar las relaciones entre las clases reales y las predicciones del modelo.\n",
        "\n",
        "La figura resultante se guarda en un archivo PDF con el nombre \"graficaFold2_Matrix.pdf\". Esta visualización proporciona una representación clara de cómo el modelo clasifica las muestras en diferentes clases, destacando áreas de aciertos y posibles áreas de confusión.\n",
        "\n",
        "Esta visualización es esencial para comprender cómo el modelo está realizando las clasificaciones en cada clase, proporcionando información detallada sobre sus aciertos y posibles áreas de mejora."
      ],
      "metadata": {
        "id": "Y0SJyGp4fChB"
      },
      "id": "Y0SJyGp4fChB"
    },
    {
      "cell_type": "code",
      "execution_count": null,
      "id": "d82a0d5b",
      "metadata": {
        "execution": {
          "iopub.execute_input": "2023-10-04T15:45:15.510409Z",
          "iopub.status.busy": "2023-10-04T15:45:15.510093Z",
          "iopub.status.idle": "2023-10-04T15:45:15.760063Z",
          "shell.execute_reply": "2023-10-04T15:45:15.759109Z"
        },
        "papermill": {
          "duration": 0.326303,
          "end_time": "2023-10-04T15:45:15.763150",
          "exception": false,
          "start_time": "2023-10-04T15:45:15.436847",
          "status": "completed"
        },
        "tags": [],
        "id": "d82a0d5b",
        "outputId": "ee520746-d08b-4fa1-bfb6-498ddba78572"
      },
      "outputs": [
        {
          "data": {
            "image/png": "[encoded data removed]",
            "text/plain": [
              "<Figure size 800x600 with 1 Axes>"
            ]
          },
          "metadata": {},
          "output_type": "display_data"
        }
      ],
      "source": [
        "# Crea una figura de Matplotlib\n",
        "plt.figure(figsize=(8, 6))\n",
        "\n",
        "# Convierte la matriz de confusión en un DataFrame de pandas para una mejor visualización\n",
        "confusion_df = pd.DataFrame(confusion.numpy(), index=range(num_classes), columns=range(num_classes))\n",
        "\n",
        "# Utiliza Seaborn para crear un mapa de calor\n",
        "sns.heatmap(confusion_df, annot=True, fmt='g', cmap='Reds', cbar=False)\n",
        "\n",
        "# Configura etiquetas y títulos\n",
        "plt.xlabel('Valores de Predicción')\n",
        "plt.ylabel('Reales')\n",
        "plt.title('Confusion Matrix')\n",
        "\n",
        "    # Nombre del archivo PDF\n",
        "pdf_filename3 = \"graficaFold2_Matrix.pdf\"\n",
        "\n",
        "plt.savefig(pdf_filename3, format='pdf')\n",
        "\n",
        "# Muestra la matriz de confusión\n",
        "plt.show()"
      ]
    }
  ],
  "metadata": {
    "kernelspec": {
      "display_name": "Python 3",
      "language": "python",
      "name": "python3"
    },
    "language_info": {
      "codemirror_mode": {
        "name": "ipython",
        "version": 3
      },
      "file_extension": ".py",
      "mimetype": "text/x-python",
      "name": "python",
      "nbconvert_exporter": "python",
      "pygments_lexer": "ipython3",
      "version": "3.10.12"
    },
    "papermill": {
      "default_parameters": {},
      "duration": 3102.775161,
      "end_time": "2023-10-04T15:45:19.505730",
      "environment_variables": {},
      "exception": null,
      "input_path": "__notebook__.ipynb",
      "output_path": "__notebook__.ipynb",
      "parameters": {},
      "start_time": "2023-10-04T14:53:36.730569",
      "version": "2.4.0"
    },
    "colab": {
      "provenance": [],
      "collapsed_sections": [
        "890930a6",
        "df56ab06",
        "ef1be2e8",
        "SaK439gPoWYZ",
        "514eab23",
        "944ff772",
        "57a7aa74",
        "f2fdb2ca",
        "RQpqA-RQOytn",
        "474b4432",
        "a07d4991",
        "e2cabbdb",
        "cb081182",
        "13681967",
        "7ccabd68"
      ],
      "include_colab_link": true
    }
  },
  "nbformat": 4,
  "nbformat_minor": 5
}