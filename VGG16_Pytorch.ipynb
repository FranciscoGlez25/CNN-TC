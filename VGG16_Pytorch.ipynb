{
  "cells": [
    {
      "cell_type": "markdown",
      "metadata": {
        "id": "view-in-github",
        "colab_type": "text"
      },
      "source": [
        "<a href=\"https://colab.research.google.com/github/FranciscoGlez25/CNN-TC/blob/main/VGG16_Pytorch.ipynb\" target=\"_parent\"><img src=\"https://colab.research.google.com/assets/colab-badge.svg\" alt=\"Open In Colab\"/></a>"
      ]
    },
    {
      "cell_type": "markdown",
      "id": "fba3e438",
      "metadata": {
        "id": "fba3e438",
        "papermill": {
          "duration": 0.00819,
          "end_time": "2023-09-25T00:33:15.911470",
          "exception": false,
          "start_time": "2023-09-25T00:33:15.903280",
          "status": "completed"
        },
        "tags": []
      },
      "source": [
        "# **Configuración Inicial y Bibliotecas de PyTorch**"
      ]
    },
    {
      "cell_type": "markdown",
      "source": [
        "En este bloque de código, se realiza la configuración inicial del entorno para trabajar con modelos de aprendizaje profundo utilizando la biblioteca PyTorch.\n",
        "\n",
        "1. **Importación de Bibliotecas:**\n",
        "   - Se importan diversas bibliotecas y módulos necesarios para la construcción y evaluación de modelos de aprendizaje profundo. Entre estas se encuentran Torchvision para herramientas de visión por computadora, Matplotlib y Seaborn para visualización de datos, y diversas utilidades de PyTorch.\n",
        "\n",
        "2. **Verificación de Disponibilidad de GPU:**\n",
        "   - Se utiliza `torch.cuda.is_available()` para determinar si una GPU está disponible. Si está disponible, el dispositivo de entrenamiento se establece en 'cuda'; de lo contrario, se utiliza la CPU.\n",
        "\n",
        "3. **Definición de Transformaciones y Optimizador:**\n",
        "   - Se importan clases y funciones específicas de PyTorch para transformaciones de datos, optimización y definición de modelos. Estas incluyen transformaciones de imágenes, el optimizador Adam, y funciones de inicialización de pesos.\n",
        "\n",
        "4. **Definición de Clases y Funciones Útiles:**\n",
        "   - Se definen clases como `Dataset` y `DataLoader` para gestionar conjuntos de datos, y varias funciones para calcular métricas de evaluación como la matriz de confusión, el informe de clasificación y puntajes de precisión, recuperación y F1.\n",
        "\n",
        "5. **Configuración del Entorno de Visualización:**\n",
        "   - Se configuran herramientas de visualización como Matplotlib y Seaborn para crear gráficos y mapas de calor. Esto incluye la configuración de un dispositivo de visualización utilizando `plt.show()`.\n",
        "\n",
        "Este bloque establece las bases para la manipulación de datos, entrenamiento de modelos y evaluación de rendimiento en el contexto de aprendizaje profundo con PyTorch. La verificación de la disponibilidad de la GPU es particularmente útil para aprovechar el rendimiento acelerado en hardware compatible."
      ],
      "metadata": {
        "id": "pG5Eh8scJrru"
      },
      "id": "pG5Eh8scJrru"
    },
    {
      "cell_type": "code",
      "execution_count": null,
      "id": "05cfd641",
      "metadata": {
        "execution": {
          "iopub.execute_input": "2023-09-25T00:33:15.928753Z",
          "iopub.status.busy": "2023-09-25T00:33:15.928392Z",
          "iopub.status.idle": "2023-09-25T00:33:22.193018Z",
          "shell.execute_reply": "2023-09-25T00:33:22.191937Z"
        },
        "id": "05cfd641",
        "papermill": {
          "duration": 6.276478,
          "end_time": "2023-09-25T00:33:22.195702",
          "exception": false,
          "start_time": "2023-09-25T00:33:15.919224",
          "status": "completed"
        },
        "tags": [],
        "outputId": "5f9ffb81-3f98-4b9a-8355-76bd68558d4b"
      },
      "outputs": [
        {
          "name": "stderr",
          "output_type": "stream",
          "text": [
            "/opt/conda/lib/python3.10/site-packages/torchvision/datapoints/__init__.py:12: UserWarning: The torchvision.datapoints and torchvision.transforms.v2 namespaces are still Beta. While we do not expect major breaking changes, some APIs may still change according to user feedback. Please submit any feedback you may have in this issue: https://github.com/pytorch/vision/issues/6753, and you can also check out https://github.com/pytorch/vision/issues/7319 to learn more about the APIs that we suspect might involve future changes. You can silence this warning by calling torchvision.disable_beta_transforms_warning().\n",
            "  warnings.warn(_BETA_TRANSFORMS_WARNING)\n",
            "/opt/conda/lib/python3.10/site-packages/torchvision/transforms/v2/__init__.py:54: UserWarning: The torchvision.datapoints and torchvision.transforms.v2 namespaces are still Beta. While we do not expect major breaking changes, some APIs may still change according to user feedback. Please submit any feedback you may have in this issue: https://github.com/pytorch/vision/issues/6753, and you can also check out https://github.com/pytorch/vision/issues/7319 to learn more about the APIs that we suspect might involve future changes. You can silence this warning by calling torchvision.disable_beta_transforms_warning().\n",
            "  warnings.warn(_BETA_TRANSFORMS_WARNING)\n",
            "/opt/conda/lib/python3.10/site-packages/scipy/__init__.py:146: UserWarning: A NumPy version >=1.16.5 and <1.23.0 is required for this version of SciPy (detected version 1.23.5\n",
            "  warnings.warn(f\"A NumPy version >={np_minversion} and <{np_maxversion}\"\n"
          ]
        }
      ],
      "source": [
        "import torch\n",
        "import torchvision\n",
        "from torchvision.transforms import v2\n",
        "import torch.optim as optim\n",
        "import torch.nn as nn\n",
        "import torch.nn.init as init\n",
        "from torch.utils.data import Dataset, DataLoader\n",
        "import pandas as pd\n",
        "from PIL import Image\n",
        "import os\n",
        "from tqdm import tqdm_notebook as tqdm\n",
        "import matplotlib.image as img\n",
        "from sklearn.metrics import confusion_matrix, classification_report, accuracy_score, precision_score, recall_score, f1_score\n",
        "import seaborn as sns\n",
        "import matplotlib.pyplot as plt\n",
        "import torchvision.models as models\n",
        "from torch.nn import Linear, CrossEntropyLoss, Sequential\n",
        "\n",
        "torch.cuda.is_available()\n",
        "device = torch.device(\"cuda\" if torch.cuda.is_available() else \"cpu\")"
      ]
    },
    {
      "cell_type": "markdown",
      "id": "7568dab2",
      "metadata": {
        "id": "7568dab2",
        "papermill": {
          "duration": 0.008666,
          "end_time": "2023-09-25T00:33:22.213409",
          "exception": false,
          "start_time": "2023-09-25T00:33:22.204743",
          "status": "completed"
        },
        "tags": []
      },
      "source": [
        "# **Definición de Transformaciones de Imágenes**"
      ]
    },
    {
      "cell_type": "markdown",
      "source": [
        "En este bloque de código, se definen las transformaciones necesarias para el preprocesamiento de imágenes. Estas transformaciones son esenciales para alimentar efectivamente las imágenes a un modelo de aprendizaje profundo.\n",
        "\n",
        "1. **transform_train:** Se utiliza para el conjunto de entrenamiento y consta de las siguientes operaciones:\n",
        "    - `ToTensor()`: Convierte la imagen a un tensor.\n",
        "    - `Resize(size=(224, 224))`: Ajusta el tamaño de la imagen a (224, 224).\n",
        "    - `RandomHorizontalFlip(p=0.5)`: Aplica una rotación horizontal aleatoria con una probabilidad del 50%.\n",
        "    - `Normalize(mean=[0.485, 0.456, 0.406], std=[0.229, 0.224, 0.225])`: Normaliza los valores de píxeles de la imagen según la media y la desviación estándar proporcionadas.\n",
        "\n",
        "2. **transform_test:** Se utiliza para el conjunto de prueba y consta de las siguientes operaciones:\n",
        "    - `ToTensor()`: Convierte la imagen a un tensor.\n",
        "    - `Resize(size=(224, 224))`: Ajusta el tamaño de la imagen a (224, 224).\n",
        "    - `Normalize(mean=[0.485, 0.456, 0.406], std=[0.229, 0.224, 0.225])`: Normaliza los valores de píxeles de la imagen según la media y la desviación estándar proporcionadas.\n",
        "\n",
        "Estas transformaciones garantizan que las imágenes se encuentren en un formato adecuado y estandarizado antes de ser utilizadas para el entrenamiento y la evaluación del modelo. Además, las transformaciones de entrenamiento incluyen operaciones de aumento de datos, como la rotación horizontal aleatoria, para mejorar la capacidad del modelo para generalizar a nuevas imágenes."
      ],
      "metadata": {
        "id": "oRsKmO-HKUB8"
      },
      "id": "oRsKmO-HKUB8"
    },
    {
      "cell_type": "code",
      "execution_count": null,
      "id": "30802185",
      "metadata": {
        "execution": {
          "iopub.execute_input": "2023-09-25T00:33:22.234114Z",
          "iopub.status.busy": "2023-09-25T00:33:22.232265Z",
          "iopub.status.idle": "2023-09-25T00:33:22.247946Z",
          "shell.execute_reply": "2023-09-25T00:33:22.246917Z"
        },
        "id": "30802185",
        "papermill": {
          "duration": 0.028476,
          "end_time": "2023-09-25T00:33:22.250677",
          "exception": false,
          "start_time": "2023-09-25T00:33:22.222201",
          "status": "completed"
        },
        "tags": [],
        "outputId": "453df6fd-69cb-4f01-8059-018ee8f7f3de"
      },
      "outputs": [
        {
          "name": "stderr",
          "output_type": "stream",
          "text": [
            "/opt/conda/lib/python3.10/site-packages/torchvision/transforms/v2/_deprecated.py:41: UserWarning: The transform `ToTensor()` is deprecated and will be removed in a future release. Instead, please use `transforms.Compose([transforms.ToImageTensor(), transforms.ConvertImageDtype()])`.\n",
            "  warnings.warn(\n"
          ]
        }
      ],
      "source": [
        "from torchvision import datasets, transforms, models\n",
        "\n",
        "# Definir transformaciones para el preprocesamiento de las imágenes\n",
        "transform_train = v2.Compose([v2.ToTensor(),\n",
        "                    v2.Resize(size = (224, 224)),\n",
        "                    v2.RandomHorizontalFlip(p=0.5),\n",
        "                    #v2.RandomEqualize(p = 1),\n",
        "                    v2.Normalize(mean=[0.485, 0.456, 0.406], std=[0.229, 0.224, 0.225]),\n",
        "                ])\n",
        "\n",
        "transform_test = v2.Compose([v2.ToTensor(),\n",
        "                    v2.Resize(size = (224, 224)),\n",
        "                    #v2.RandomEqualize(p = 1),\n",
        "                    v2.Normalize(mean=[0.485, 0.456, 0.406], std=[0.229, 0.224, 0.225]),\n",
        "                ])"
      ]
    },
    {
      "cell_type": "markdown",
      "id": "8a91c515",
      "metadata": {
        "id": "8a91c515",
        "papermill": {
          "duration": 0.008488,
          "end_time": "2023-09-25T00:33:22.267711",
          "exception": false,
          "start_time": "2023-09-25T00:33:22.259223",
          "status": "completed"
        },
        "tags": []
      },
      "source": [
        "# **Definición de Conjunto de Datos Personalizado para Clasificación de Imágenes**"
      ]
    },
    {
      "cell_type": "markdown",
      "source": [
        "El siguiente bloque de código define una clase llamada `CustomDataset` que hereda de la clase `Dataset` de PyTorch. Esta clase personalizada se utiliza para cargar imágenes y etiquetas desde un archivo CSV.\n",
        "\n",
        "1. **Método `__init__`:**\n",
        "   - Se inicializa la clase con tres parámetros:\n",
        "      - `csv_file`: Ruta al archivo CSV que contiene información sobre las imágenes y sus etiquetas.\n",
        "      - `root_dir`: Ruta al directorio que contiene las imágenes.\n",
        "      - `transform`: Transformaciones a aplicar a las imágenes (puede ser `None` si no se desean transformaciones).\n",
        "\n",
        "2. **Carga de Anotaciones y Número de Clases:**\n",
        "   - Las anotaciones se cargan desde el archivo CSV utilizando `pd.read_csv` y se almacenan en el atributo `annotations`.\n",
        "   - Se calcula el número de clases únicas en la columna 'Egreso' del conjunto de datos y se almacena en `num_classes`.\n",
        "\n",
        "3. **Método `__len__`:**\n",
        "   - Devuelve la longitud total del conjunto de datos, que es la cantidad de filas en el archivo CSV.\n",
        "\n",
        "4. **Método `__getitem__`:**\n",
        "   - Obtiene la ruta de la imagen y la etiqueta correspondiente para el índice dado.\n",
        "   - Abre la imagen en formato RGB utilizando `Image.open`.\n",
        "   - Si se proporciona una transformación (`transform` no es `None`), aplica las transformaciones a la imagen.\n",
        "   - Devuelve la imagen transformada y la etiqueta asociada.\n",
        "\n",
        "Este conjunto de datos personalizado es útil cuando se trabaja con datos almacenados en una estructura específica y se desea aplicar transformaciones personalizadas a las imágenes. Además, la clase se integra con las funcionalidades de carga de datos de PyTorch, como `DataLoader`."
      ],
      "metadata": {
        "id": "VmVxiOk_Ksf6"
      },
      "id": "VmVxiOk_Ksf6"
    },
    {
      "cell_type": "code",
      "execution_count": null,
      "id": "f249314d",
      "metadata": {
        "execution": {
          "iopub.execute_input": "2023-09-25T00:33:22.286259Z",
          "iopub.status.busy": "2023-09-25T00:33:22.285684Z",
          "iopub.status.idle": "2023-09-25T00:33:22.294160Z",
          "shell.execute_reply": "2023-09-25T00:33:22.293220Z"
        },
        "id": "f249314d",
        "papermill": {
          "duration": 0.020243,
          "end_time": "2023-09-25T00:33:22.296390",
          "exception": false,
          "start_time": "2023-09-25T00:33:22.276147",
          "status": "completed"
        },
        "tags": []
      },
      "outputs": [],
      "source": [
        "# Definir dataset personalizado para cargar imágenes y clases desde archivos CSV\n",
        "class CustomDataset(Dataset):\n",
        "    def __init__(self, csv_file, root_dir, transform=None):\n",
        "        self.annotations = pd.read_csv(csv_file)\n",
        "        self.root_dir = root_dir\n",
        "        self.transform = transform\n",
        "\n",
        "        # Obtener el número de clases desde el conjunto de datos\n",
        "        self.num_classes = len(self.annotations['Egreso'].unique())  # Suponiendo que la columna de etiquetas se llama 'label'\n",
        "\n",
        "    def __len__(self):\n",
        "        return len(self.annotations)\n",
        "\n",
        "    def __getitem__(self, index):\n",
        "        img_path = os.path.join(self.root_dir, self.annotations.iloc[index, 0])\n",
        "        image = Image.open(img_path).convert('RGB')\n",
        "        label = self.annotations.iloc[index, 3]\n",
        "\n",
        "        if self.transform:\n",
        "            image = self.transform(image)\n",
        "\n",
        "        return image, label"
      ]
    },
    {
      "cell_type": "markdown",
      "source": [
        "# **Montaje de Google Drive en Colab**"
      ],
      "metadata": {
        "id": "TRhbKOMx9NbA"
      },
      "id": "TRhbKOMx9NbA"
    },
    {
      "cell_type": "markdown",
      "source": [
        "En este bloque de código, se utiliza la biblioteca `google.colab` para montar Google Drive en el entorno de ejecución de Google Colab. Google Drive es una plataforma de almacenamiento en la nube, y montarlo en Colab permite acceder y manipular archivos almacenados en Google Drive directamente desde el entorno de ejecución.\n",
        "\n",
        "1. **Importación de la Biblioteca:**\n",
        "   Se importa la biblioteca `drive` desde `google.colab`.\n",
        "\n",
        "2. **Montaje de Google Drive:**\n",
        "   La función `drive.mount('/content/drive')` se utiliza para montar Google Drive en el directorio `/content/drive` de Colab. Al ejecutar esta celda, aparecerá un enlace para autorizar el acceso a Google Drive. Después de la autorización, se generará un código de autenticación que debe ser copiado y pegado en un campo de entrada en la celda para completar el proceso de montaje.\n",
        "\n",
        "Este bloque es esencial cuando se trabaja con archivos almacenados en Google Drive desde un entorno de ejecución en Google Colab. Una vez montado, se pueden acceder a los archivos de Google Drive como si fueran archivos locales en la ruta `/content/drive`."
      ],
      "metadata": {
        "id": "keZ7HMSEgHii"
      },
      "id": "keZ7HMSEgHii"
    },
    {
      "cell_type": "code",
      "source": [
        "from google.colab import drive\n",
        "\n",
        "# Monta Google Drive en el entorno de ejecución\n",
        "drive.mount('/content/drive')"
      ],
      "metadata": {
        "id": "F2lJj6RZgCfO"
      },
      "execution_count": null,
      "outputs": [],
      "id": "F2lJj6RZgCfO"
    },
    {
      "cell_type": "markdown",
      "id": "f99ef845",
      "metadata": {
        "id": "f99ef845",
        "papermill": {
          "duration": 0.008318,
          "end_time": "2023-09-25T00:33:22.313113",
          "exception": false,
          "start_time": "2023-09-25T00:33:22.304795",
          "status": "completed"
        },
        "tags": []
      },
      "source": [
        "# **Creación y Descripción del Conjunto de Datos de Entrenamiento**"
      ]
    },
    {
      "cell_type": "markdown",
      "source": [
        "En este bloque de código, se realiza lo siguiente:\n",
        "\n",
        "1. **Definición del Conjunto de Datos de Entrenamiento:**\n",
        "   - Se crea una instancia del conjunto de datos personalizado `CustomDataset` para el conjunto de entrenamiento.\n",
        "   - La ruta al archivo CSV (`'ruta_archivo_csv'`), la ruta al directorio de imágenes (`'ruta_carpeta_imagenes'`), y las transformaciones (`transform_train`) se proporcionan como parámetros.\n",
        "   \n",
        "2. **Obtención de la Cantidad Total de Imágenes en el Conjunto de Entrenamiento:**\n",
        "   - La longitud total del conjunto de entrenamiento se obtiene utilizando la función `len(train_dataset)`.\n",
        "   - Se imprime la cantidad total de imágenes en el conjunto de entrenamiento.\n",
        "\n",
        "Este bloque de código es esencial para cargar y entender la cantidad de datos disponibles en el conjunto de entrenamiento. La información recopilada aquí será útil para ajustar parámetros y realizar un seguimiento del rendimiento del modelo durante el entrenamiento."
      ],
      "metadata": {
        "id": "hrU_xomuK9a1"
      },
      "id": "hrU_xomuK9a1"
    },
    {
      "cell_type": "code",
      "execution_count": null,
      "id": "492bc790",
      "metadata": {
        "execution": {
          "iopub.execute_input": "2023-09-25T00:33:22.331525Z",
          "iopub.status.busy": "2023-09-25T00:33:22.331246Z",
          "iopub.status.idle": "2023-09-25T00:33:22.365997Z",
          "shell.execute_reply": "2023-09-25T00:33:22.364923Z"
        },
        "id": "492bc790",
        "outputId": "cea326bd-2a0f-4ca4-c09d-82bcb065f90a",
        "papermill": {
          "duration": 0.046563,
          "end_time": "2023-09-25T00:33:22.368307",
          "exception": false,
          "start_time": "2023-09-25T00:33:22.321744",
          "status": "completed"
        },
        "tags": []
      },
      "outputs": [
        {
          "name": "stdout",
          "output_type": "stream",
          "text": [
            "Cantidad total de imágenes en Train Dataset: 964\n"
          ]
        }
      ],
      "source": [
        "from torch.utils.data import DataLoader, random_split\n",
        "\n",
        "# Define el conjunto de datos completo\n",
        "train_dataset = CustomDataset('ruta_archivo_csv', 'ruta_carpeta_imagenes', transform=transform_train)\n",
        "\n",
        "total_train = len(train_dataset)\n",
        "print(f'Cantidad total de imágenes en Train Dataset: {total_train}')"
      ]
    },
    {
      "cell_type": "markdown",
      "source": [
        "# **División del Conjunto de Datos en Entrenamiento y Validación**\n"
      ],
      "metadata": {
        "id": "7fABjj4LQukm"
      },
      "id": "7fABjj4LQukm"
    },
    {
      "cell_type": "markdown",
      "source": [
        "En este bloque de código, se lleva a cabo la partición del conjunto de datos en entrenamiento y validación, junto con la definición de los `DataLoaders` correspondientes.\n",
        "\n",
        "1. **Obtención del Número Total de Muestras:**\n",
        "   - Se calcula el número total de muestras en el conjunto de entrenamiento usando `len(train_dataset)` y se almacena en la variable `total_samples`.\n",
        "\n",
        "2. **Cálculo del Tamaño del Conjunto de Validación:**\n",
        "   - Se define el porcentaje de datos destinados al conjunto de validación mediante `validation_split` (por ejemplo, 20%).\n",
        "   - Se calcula el tamaño del conjunto de validación (`validation_size`) como un porcentaje del número total de muestras.\n",
        "\n",
        "3. **Cálculo del Tamaño del Conjunto de Entrenamiento:**\n",
        "   - Se calcula el tamaño del conjunto de entrenamiento (`train_size`) restando el tamaño del conjunto de validación del número total de muestras.\n",
        "\n",
        "4. **División del Conjunto de Datos:**\n",
        "   - Se utiliza `random_split` para dividir el conjunto de entrenamiento en los conjuntos de entrenamiento y validación según los tamaños calculados.\n",
        "\n",
        "5. **Definición de DataLoaders:**\n",
        "   - Se definen los `DataLoaders` para los conjuntos de entrenamiento y validación (`train_loader` y `val_loader`, respectivamente) utilizando los conjuntos de datos recién creados.\n",
        "   - Se especifica el tamaño del lote (`batch_size`) y se establece `shuffle=True` para el conjunto de entrenamiento, lo que ayuda a introducir variabilidad en el entrenamiento.\n",
        "\n",
        "Esta sección es crucial para preparar los datos para el entrenamiento del modelo, asegurando una separación adecuada entre el conjunto de entrenamiento y el conjunto de validación. Además, los `DataLoaders` facilitan la iteración sobre los datos durante el entrenamiento y la validación del modelo."
      ],
      "metadata": {
        "id": "Yz3GJefrNZ4Y"
      },
      "id": "Yz3GJefrNZ4Y"
    },
    {
      "cell_type": "code",
      "execution_count": null,
      "id": "8863a1ec",
      "metadata": {
        "execution": {
          "iopub.execute_input": "2023-09-25T00:33:22.386966Z",
          "iopub.status.busy": "2023-09-25T00:33:22.386152Z",
          "iopub.status.idle": "2023-09-25T00:33:22.409651Z",
          "shell.execute_reply": "2023-09-25T00:33:22.408794Z"
        },
        "id": "8863a1ec",
        "papermill": {
          "duration": 0.035017,
          "end_time": "2023-09-25T00:33:22.411790",
          "exception": false,
          "start_time": "2023-09-25T00:33:22.376773",
          "status": "completed"
        },
        "tags": []
      },
      "outputs": [],
      "source": [
        "# Obtén el número total de muestras en el conjunto de entrenamiento\n",
        "total_samples = len(train_dataset)\n",
        "\n",
        "# Calcula el número de muestras para el conjunto de validación (por ejemplo, el 20%)\n",
        "validation_split = 0.2\n",
        "validation_size = int(validation_split * total_samples)\n",
        "\n",
        "# Calcula el tamaño del conjunto de entrenamiento\n",
        "train_size = total_samples - validation_size\n",
        "\n",
        "# Divide el conjunto de entrenamiento en conjunto de entrenamiento y conjunto de validación\n",
        "train_dataset, validation_dataset = random_split(train_dataset, [train_size, validation_size])\n",
        "\n",
        "# Define los DataLoaders para entrenamiento y validación\n",
        "train_loader = DataLoader(train_dataset, batch_size=64, shuffle=True)\n",
        "val_loader = DataLoader(validation_dataset, batch_size=64, shuffle=True)"
      ]
    },
    {
      "cell_type": "markdown",
      "source": [
        "# **Obtención y Visualización de la Cantidad Total de Imágenes en los Conjuntos de Entrenamiento y Validación**"
      ],
      "metadata": {
        "id": "d25eoivYQy-D"
      },
      "id": "d25eoivYQy-D"
    },
    {
      "cell_type": "markdown",
      "source": [
        "En este bloque de código, se obtiene y visualiza la cantidad total de imágenes en los conjuntos de entrenamiento y validación.\n",
        "\n",
        "1. **Obtención del Número Total de Imágenes:**\n",
        "   - Se utiliza la función `len()` para obtener la cantidad total de imágenes en los conjuntos de entrenamiento y validación a través de `train_loader.dataset` y `val_loader.dataset`, respectivamente.\n",
        "\n",
        "2. **Impresión de la Cantidad Total de Imágenes:**\n",
        "   - Se imprime la cantidad total de imágenes en el conjunto de entrenamiento después de realizar la división (`total_images_train`) y en el conjunto de validación (`total_images_validation`).\n",
        "\n",
        "Este bloque proporciona información esencial sobre la cantidad de datos disponibles para el entrenamiento y la validación después de realizar la división del conjunto de datos. La cantidad adecuada de datos es fundamental para entrenar modelos de aprendizaje profundo de manera efectiva y generalizable."
      ],
      "metadata": {
        "id": "O-joPW8nNe3n"
      },
      "id": "O-joPW8nNe3n"
    },
    {
      "cell_type": "code",
      "execution_count": null,
      "id": "a07ea249",
      "metadata": {
        "execution": {
          "iopub.execute_input": "2023-09-25T00:33:22.430286Z",
          "iopub.status.busy": "2023-09-25T00:33:22.429535Z",
          "iopub.status.idle": "2023-09-25T00:33:22.435629Z",
          "shell.execute_reply": "2023-09-25T00:33:22.434461Z"
        },
        "id": "a07ea249",
        "outputId": "7b3036ad-ae8d-49e2-a1dd-e5245d3aac41",
        "papermill": {
          "duration": 0.017538,
          "end_time": "2023-09-25T00:33:22.437739",
          "exception": false,
          "start_time": "2023-09-25T00:33:22.420201",
          "status": "completed"
        },
        "tags": []
      },
      "outputs": [
        {
          "name": "stdout",
          "output_type": "stream",
          "text": [
            "Cantidad total de imágenes en Train Dataset despues de realizar split: 772\n",
            "Cantidad total de imágenes en Validation Dataset: 192\n"
          ]
        }
      ],
      "source": [
        "# Obtén la cantidad total de imágenes en train_loader y validation_loader\n",
        "total_images_train = len(train_loader.dataset)\n",
        "total_images_validation = len(val_loader.dataset)\n",
        "\n",
        "# Imprime la cantidad total de imágenes\n",
        "print(f'Cantidad total de imágenes en Train Dataset despues de realizar split: {total_images_train}')\n",
        "print(f'Cantidad total de imágenes en Validation Dataset: {total_images_validation}')"
      ]
    },
    {
      "cell_type": "markdown",
      "id": "353d0f97",
      "metadata": {
        "id": "353d0f97",
        "papermill": {
          "duration": 0.00844,
          "end_time": "2023-09-25T00:33:22.456598",
          "exception": false,
          "start_time": "2023-09-25T00:33:22.448158",
          "status": "completed"
        },
        "tags": []
      },
      "source": [
        "# **Definición del Conjunto de Datos de Prueba y del DataLoader**"
      ]
    },
    {
      "cell_type": "markdown",
      "source": [
        "En este bloque de código, se define el conjunto de datos de prueba y el DataLoader correspondiente.\n",
        "\n",
        "1. **Definición del Conjunto de Datos de Prueba:**\n",
        "   - Se crea un objeto `test_dataset` utilizando la clase `CustomDataset` con la ruta al archivo CSV (`'ruta_archivo_csv'`), la carpeta que contiene las imágenes de prueba (`'ruta_carpeta_imagenes'`), y las transformaciones de prueba (`transform_test`).\n",
        "\n",
        "2. **Definición del DataLoader de Prueba:**\n",
        "   - Se utiliza `DataLoader` para definir el DataLoader de prueba (`test_loader`) a partir del conjunto de datos de prueba. Se especifica un tamaño de lote de 64 y se mezclan los datos (`shuffle=True`).\n",
        "\n",
        "3. **Obtención del Número Total de Imágenes de Prueba:**\n",
        "   - Se utiliza la función `len()` para obtener la cantidad total de imágenes en el conjunto de datos de prueba (`test_loader.dataset`).\n",
        "\n",
        "4. **Impresión de la Cantidad Total de Imágenes de Prueba:**\n",
        "   - Se imprime la cantidad total de imágenes en el conjunto de datos de prueba (`total_images_test`).\n",
        "\n",
        "Este bloque es crucial para preparar el conjunto de datos de prueba y cargarlo en el DataLoader correspondiente. La cantidad total de imágenes en el conjunto de datos de prueba se imprime para proporcionar información sobre el tamaño de este conjunto, lo cual es esencial para evaluar el rendimiento del modelo en datos no vistos."
      ],
      "metadata": {
        "id": "sCHFpQRsN1rZ"
      },
      "id": "sCHFpQRsN1rZ"
    },
    {
      "cell_type": "code",
      "execution_count": null,
      "id": "4c8f6cb7",
      "metadata": {
        "execution": {
          "iopub.execute_input": "2023-09-25T00:33:22.475048Z",
          "iopub.status.busy": "2023-09-25T00:33:22.474493Z",
          "iopub.status.idle": "2023-09-25T00:33:22.490706Z",
          "shell.execute_reply": "2023-09-25T00:33:22.489673Z"
        },
        "id": "4c8f6cb7",
        "outputId": "8d2d501d-5249-4ccd-bff3-cfe62919742d",
        "papermill": {
          "duration": 0.027656,
          "end_time": "2023-09-25T00:33:22.492750",
          "exception": false,
          "start_time": "2023-09-25T00:33:22.465094",
          "status": "completed"
        },
        "tags": []
      },
      "outputs": [
        {
          "name": "stdout",
          "output_type": "stream",
          "text": [
            "Cantidad total de imágenes en Test Dataset: 240\n"
          ]
        }
      ],
      "source": [
        "# Definir dataset de validación y dataloader\n",
        "test_dataset = CustomDataset('ruta_archivo_csv', 'ruta_carpeta_imagenes', transform=transform_test)\n",
        "test_loader = DataLoader(test_dataset, batch_size=64, shuffle=True)\n",
        "\n",
        "total_images_test = len(test_loader.dataset)\n",
        "print(f'Cantidad total de imágenes en Test Dataset: {total_images_test}')"
      ]
    },
    {
      "cell_type": "markdown",
      "source": [
        "# **Obtención del Número de Clases en el Conjunto de Datos de Prueba**"
      ],
      "metadata": {
        "id": "1H_4zCWZQ33f"
      },
      "id": "1H_4zCWZQ33f"
    },
    {
      "cell_type": "markdown",
      "source": [
        "En este bloque de código, se obtiene el número de clases presente en el conjunto de datos de prueba.\n",
        "\n",
        "1. **Obtención del Número de Clases:**\n",
        "   - Se accede al atributo `num_classes` del objeto `test_dataset` para obtener el número de clases presentes en el conjunto de datos de prueba.\n",
        "\n",
        "2. **Impresión del Número de Clases:**\n",
        "   - Se imprime el número de clases obtenidas en el conjunto de datos de prueba mediante la función `print()`.\n",
        "\n",
        "Este bloque es útil para conocer la cantidad y las clases específicas presentes en el conjunto de datos de prueba. Entender el número de clases es esencial para interpretar las salidas del modelo y evaluar su rendimiento en cada categoría."
      ],
      "metadata": {
        "id": "wTbRPBCrORMM"
      },
      "id": "wTbRPBCrORMM"
    },
    {
      "cell_type": "code",
      "execution_count": null,
      "id": "db4951be",
      "metadata": {
        "execution": {
          "iopub.execute_input": "2023-09-25T00:33:22.512079Z",
          "iopub.status.busy": "2023-09-25T00:33:22.511160Z",
          "iopub.status.idle": "2023-09-25T00:33:22.516995Z",
          "shell.execute_reply": "2023-09-25T00:33:22.515654Z"
        },
        "id": "db4951be",
        "outputId": "9bca7db7-3e1f-4e5e-c195-ee155b91a572",
        "papermill": {
          "duration": 0.017656,
          "end_time": "2023-09-25T00:33:22.519089",
          "exception": false,
          "start_time": "2023-09-25T00:33:22.501433",
          "status": "completed"
        },
        "tags": []
      },
      "outputs": [
        {
          "name": "stdout",
          "output_type": "stream",
          "text": [
            "Clases obtenidas en el conjunto Test Dataset: 2\n"
          ]
        }
      ],
      "source": [
        "num_classes = test_dataset.num_classes\n",
        "print(\"Clases obtenidas en el conjunto Test Dataset:\", num_classes)"
      ]
    },
    {
      "cell_type": "markdown",
      "id": "8d805f4e",
      "metadata": {
        "id": "8d805f4e",
        "papermill": {
          "duration": 0.010051,
          "end_time": "2023-09-25T00:33:22.537704",
          "exception": false,
          "start_time": "2023-09-25T00:33:22.527653",
          "status": "completed"
        },
        "tags": []
      },
      "source": [
        "# **Modificación de la Capa de Clasificación en VGG16_bn con Batch Normalization**"
      ]
    },
    {
      "cell_type": "markdown",
      "source": [
        "En este bloque de código, se carga un modelo preentrenado VGG16_bn y se modifica su capa de clasificación para adaptarse a un problema de clasificación binaria con Batch Normalization.\n",
        "\n",
        "1. **Carga del Modelo Preentrenado:**\n",
        "   - Se utiliza `models.vgg16_bn(pretrained=True)` para cargar la arquitectura VGG16_bn preentrenada desde torchvision.\n",
        "\n",
        "2. **Modificación de la Capa de Clasificación:**\n",
        "   - Se obtiene el número de características de entrada (`num_features`) de la primera capa de la clasificación actual.\n",
        "   - Se define una nueva secuencia (`classifier_with_bn`) que consiste en capas completamente conectadas, funciones de activación ReLU, capas de dropout y capas de Batch Normalization.\n",
        "   - Se reemplaza la capa de clasificación del modelo VGG16_bn con la nueva secuencia definida.\n",
        "\n",
        "3. **Movimiento del Modelo al Dispositivo de Entrenamiento:**\n",
        "   - Se utiliza `model.to(device)` para mover el modelo a la GPU (si está disponible) o al CPU.\n",
        "\n",
        "Este bloque es esencial para adaptar un modelo preentrenado a un problema específico, en este caso, para clasificación binaria con Batch Normalization en la capa de clasificación. El modelo modificado está listo para el entrenamiento en el conjunto de datos personalizado."
      ],
      "metadata": {
        "id": "kptdG3QcOcxc"
      },
      "id": "kptdG3QcOcxc"
    },
    {
      "cell_type": "code",
      "execution_count": null,
      "id": "4c4929b2",
      "metadata": {
        "execution": {
          "iopub.execute_input": "2023-09-25T00:33:22.556489Z",
          "iopub.status.busy": "2023-09-25T00:33:22.555805Z",
          "iopub.status.idle": "2023-09-25T00:33:36.830751Z",
          "shell.execute_reply": "2023-09-25T00:33:36.829788Z"
        },
        "id": "4c4929b2",
        "outputId": "ec9df59c-9898-4f11-9818-ab1f428f9c81",
        "papermill": {
          "duration": 14.286871,
          "end_time": "2023-09-25T00:33:36.832882",
          "exception": false,
          "start_time": "2023-09-25T00:33:22.546011",
          "status": "completed"
        },
        "tags": []
      },
      "outputs": [
        {
          "name": "stderr",
          "output_type": "stream",
          "text": [
            "/opt/conda/lib/python3.10/site-packages/torchvision/models/_utils.py:208: UserWarning: The parameter 'pretrained' is deprecated since 0.13 and may be removed in the future, please use 'weights' instead.\n",
            "  warnings.warn(\n",
            "/opt/conda/lib/python3.10/site-packages/torchvision/models/_utils.py:223: UserWarning: Arguments other than a weight enum or `None` for 'weights' are deprecated since 0.13 and may be removed in the future. The current behavior is equivalent to passing `weights=VGG16_BN_Weights.IMAGENET1K_V1`. You can also use `weights=VGG16_BN_Weights.DEFAULT` to get the most up-to-date weights.\n",
            "  warnings.warn(msg)\n",
            "Downloading: \"https://download.pytorch.org/models/vgg16_bn-6c64b313.pth\" to /root/.cache/torch/hub/checkpoints/vgg16_bn-6c64b313.pth\n",
            "100%|██████████| 528M/528M [00:08<00:00, 67.7MB/s]\n"
          ]
        },
        {
          "data": {
            "text/plain": [
              "VGG(\n",
              "  (features): Sequential(\n",
              "    (0): Conv2d(3, 64, kernel_size=(3, 3), stride=(1, 1), padding=(1, 1))\n",
              "    (1): BatchNorm2d(64, eps=1e-05, momentum=0.1, affine=True, track_running_stats=True)\n",
              "    (2): ReLU(inplace=True)\n",
              "    (3): Conv2d(64, 64, kernel_size=(3, 3), stride=(1, 1), padding=(1, 1))\n",
              "    (4): BatchNorm2d(64, eps=1e-05, momentum=0.1, affine=True, track_running_stats=True)\n",
              "    (5): ReLU(inplace=True)\n",
              "    (6): MaxPool2d(kernel_size=2, stride=2, padding=0, dilation=1, ceil_mode=False)\n",
              "    (7): Conv2d(64, 128, kernel_size=(3, 3), stride=(1, 1), padding=(1, 1))\n",
              "    (8): BatchNorm2d(128, eps=1e-05, momentum=0.1, affine=True, track_running_stats=True)\n",
              "    (9): ReLU(inplace=True)\n",
              "    (10): Conv2d(128, 128, kernel_size=(3, 3), stride=(1, 1), padding=(1, 1))\n",
              "    (11): BatchNorm2d(128, eps=1e-05, momentum=0.1, affine=True, track_running_stats=True)\n",
              "    (12): ReLU(inplace=True)\n",
              "    (13): MaxPool2d(kernel_size=2, stride=2, padding=0, dilation=1, ceil_mode=False)\n",
              "    (14): Conv2d(128, 256, kernel_size=(3, 3), stride=(1, 1), padding=(1, 1))\n",
              "    (15): BatchNorm2d(256, eps=1e-05, momentum=0.1, affine=True, track_running_stats=True)\n",
              "    (16): ReLU(inplace=True)\n",
              "    (17): Conv2d(256, 256, kernel_size=(3, 3), stride=(1, 1), padding=(1, 1))\n",
              "    (18): BatchNorm2d(256, eps=1e-05, momentum=0.1, affine=True, track_running_stats=True)\n",
              "    (19): ReLU(inplace=True)\n",
              "    (20): Conv2d(256, 256, kernel_size=(3, 3), stride=(1, 1), padding=(1, 1))\n",
              "    (21): BatchNorm2d(256, eps=1e-05, momentum=0.1, affine=True, track_running_stats=True)\n",
              "    (22): ReLU(inplace=True)\n",
              "    (23): MaxPool2d(kernel_size=2, stride=2, padding=0, dilation=1, ceil_mode=False)\n",
              "    (24): Conv2d(256, 512, kernel_size=(3, 3), stride=(1, 1), padding=(1, 1))\n",
              "    (25): BatchNorm2d(512, eps=1e-05, momentum=0.1, affine=True, track_running_stats=True)\n",
              "    (26): ReLU(inplace=True)\n",
              "    (27): Conv2d(512, 512, kernel_size=(3, 3), stride=(1, 1), padding=(1, 1))\n",
              "    (28): BatchNorm2d(512, eps=1e-05, momentum=0.1, affine=True, track_running_stats=True)\n",
              "    (29): ReLU(inplace=True)\n",
              "    (30): Conv2d(512, 512, kernel_size=(3, 3), stride=(1, 1), padding=(1, 1))\n",
              "    (31): BatchNorm2d(512, eps=1e-05, momentum=0.1, affine=True, track_running_stats=True)\n",
              "    (32): ReLU(inplace=True)\n",
              "    (33): MaxPool2d(kernel_size=2, stride=2, padding=0, dilation=1, ceil_mode=False)\n",
              "    (34): Conv2d(512, 512, kernel_size=(3, 3), stride=(1, 1), padding=(1, 1))\n",
              "    (35): BatchNorm2d(512, eps=1e-05, momentum=0.1, affine=True, track_running_stats=True)\n",
              "    (36): ReLU(inplace=True)\n",
              "    (37): Conv2d(512, 512, kernel_size=(3, 3), stride=(1, 1), padding=(1, 1))\n",
              "    (38): BatchNorm2d(512, eps=1e-05, momentum=0.1, affine=True, track_running_stats=True)\n",
              "    (39): ReLU(inplace=True)\n",
              "    (40): Conv2d(512, 512, kernel_size=(3, 3), stride=(1, 1), padding=(1, 1))\n",
              "    (41): BatchNorm2d(512, eps=1e-05, momentum=0.1, affine=True, track_running_stats=True)\n",
              "    (42): ReLU(inplace=True)\n",
              "    (43): MaxPool2d(kernel_size=2, stride=2, padding=0, dilation=1, ceil_mode=False)\n",
              "  )\n",
              "  (avgpool): AdaptiveAvgPool2d(output_size=(7, 7))\n",
              "  (classifier): Sequential(\n",
              "    (0): Linear(in_features=25088, out_features=4096, bias=True)\n",
              "    (1): ReLU(inplace=True)\n",
              "    (2): Dropout(p=0.5, inplace=False)\n",
              "    (3): BatchNorm1d(4096, eps=1e-05, momentum=0.1, affine=True, track_running_stats=True)\n",
              "    (4): Linear(in_features=4096, out_features=4096, bias=True)\n",
              "    (5): ReLU(inplace=True)\n",
              "    (6): Dropout(p=0.5, inplace=False)\n",
              "    (7): BatchNorm1d(4096, eps=1e-05, momentum=0.1, affine=True, track_running_stats=True)\n",
              "    (8): Linear(in_features=4096, out_features=2, bias=True)\n",
              "  )\n",
              ")"
            ]
          },
          "execution_count": 9,
          "metadata": {},
          "output_type": "execute_result"
        }
      ],
      "source": [
        "# loading the pretrained model\n",
        "model = models.vgg16_bn(pretrained=True)\n",
        "\n",
        "# Modificar la capa de clasificación para dos clases y agregar BatchNorm\n",
        "num_features = model.classifier[0].in_features\n",
        "\n",
        "# Definir una nueva secuencia para la capa de clasificación con BatchNorm\n",
        "classifier_with_bn = nn.Sequential(\n",
        "    nn.Linear(num_features, 4096),  # Capa completamente conectada\n",
        "    nn.ReLU(True),\n",
        "    nn.Dropout(),\n",
        "    nn.BatchNorm1d(4096),  # BatchNorm\n",
        "    nn.Linear(4096, 4096),  # Capa completamente conectada\n",
        "    nn.ReLU(True),\n",
        "    nn.Dropout(),\n",
        "    nn.BatchNorm1d(4096),  # BatchNorm\n",
        "    nn.Linear(4096, 2)  # Capa de salida para dos clases\n",
        ")\n",
        "\n",
        "model.classifier = classifier_with_bn\n",
        "\n",
        "# Mover modelo a dispositivo de entrenamiento\n",
        "device = torch.device(\"cuda:0\" if torch.cuda.is_available() else \"cpu\")\n",
        "model.to(device)"
      ]
    },
    {
      "cell_type": "markdown",
      "id": "e4376226",
      "metadata": {
        "id": "e4376226",
        "papermill": {
          "duration": 0.01202,
          "end_time": "2023-09-25T00:33:36.857799",
          "exception": false,
          "start_time": "2023-09-25T00:33:36.845779",
          "status": "completed"
        },
        "tags": []
      },
      "source": [
        "# Visualizamos la arquitectura del modelo"
      ]
    },
    {
      "cell_type": "code",
      "execution_count": null,
      "id": "9b3d01bd",
      "metadata": {
        "execution": {
          "iopub.execute_input": "2023-09-25T00:33:36.884763Z",
          "iopub.status.busy": "2023-09-25T00:33:36.883810Z",
          "iopub.status.idle": "2023-09-25T00:33:36.891180Z",
          "shell.execute_reply": "2023-09-25T00:33:36.890253Z"
        },
        "id": "9b3d01bd",
        "outputId": "8983454c-ab5e-4c34-c531-289d67adbe79",
        "papermill": {
          "duration": 0.02286,
          "end_time": "2023-09-25T00:33:36.893267",
          "exception": false,
          "start_time": "2023-09-25T00:33:36.870407",
          "status": "completed"
        },
        "tags": []
      },
      "outputs": [
        {
          "data": {
            "text/plain": [
              "VGG(\n",
              "  (features): Sequential(\n",
              "    (0): Conv2d(3, 64, kernel_size=(3, 3), stride=(1, 1), padding=(1, 1))\n",
              "    (1): BatchNorm2d(64, eps=1e-05, momentum=0.1, affine=True, track_running_stats=True)\n",
              "    (2): ReLU(inplace=True)\n",
              "    (3): Conv2d(64, 64, kernel_size=(3, 3), stride=(1, 1), padding=(1, 1))\n",
              "    (4): BatchNorm2d(64, eps=1e-05, momentum=0.1, affine=True, track_running_stats=True)\n",
              "    (5): ReLU(inplace=True)\n",
              "    (6): MaxPool2d(kernel_size=2, stride=2, padding=0, dilation=1, ceil_mode=False)\n",
              "    (7): Conv2d(64, 128, kernel_size=(3, 3), stride=(1, 1), padding=(1, 1))\n",
              "    (8): BatchNorm2d(128, eps=1e-05, momentum=0.1, affine=True, track_running_stats=True)\n",
              "    (9): ReLU(inplace=True)\n",
              "    (10): Conv2d(128, 128, kernel_size=(3, 3), stride=(1, 1), padding=(1, 1))\n",
              "    (11): BatchNorm2d(128, eps=1e-05, momentum=0.1, affine=True, track_running_stats=True)\n",
              "    (12): ReLU(inplace=True)\n",
              "    (13): MaxPool2d(kernel_size=2, stride=2, padding=0, dilation=1, ceil_mode=False)\n",
              "    (14): Conv2d(128, 256, kernel_size=(3, 3), stride=(1, 1), padding=(1, 1))\n",
              "    (15): BatchNorm2d(256, eps=1e-05, momentum=0.1, affine=True, track_running_stats=True)\n",
              "    (16): ReLU(inplace=True)\n",
              "    (17): Conv2d(256, 256, kernel_size=(3, 3), stride=(1, 1), padding=(1, 1))\n",
              "    (18): BatchNorm2d(256, eps=1e-05, momentum=0.1, affine=True, track_running_stats=True)\n",
              "    (19): ReLU(inplace=True)\n",
              "    (20): Conv2d(256, 256, kernel_size=(3, 3), stride=(1, 1), padding=(1, 1))\n",
              "    (21): BatchNorm2d(256, eps=1e-05, momentum=0.1, affine=True, track_running_stats=True)\n",
              "    (22): ReLU(inplace=True)\n",
              "    (23): MaxPool2d(kernel_size=2, stride=2, padding=0, dilation=1, ceil_mode=False)\n",
              "    (24): Conv2d(256, 512, kernel_size=(3, 3), stride=(1, 1), padding=(1, 1))\n",
              "    (25): BatchNorm2d(512, eps=1e-05, momentum=0.1, affine=True, track_running_stats=True)\n",
              "    (26): ReLU(inplace=True)\n",
              "    (27): Conv2d(512, 512, kernel_size=(3, 3), stride=(1, 1), padding=(1, 1))\n",
              "    (28): BatchNorm2d(512, eps=1e-05, momentum=0.1, affine=True, track_running_stats=True)\n",
              "    (29): ReLU(inplace=True)\n",
              "    (30): Conv2d(512, 512, kernel_size=(3, 3), stride=(1, 1), padding=(1, 1))\n",
              "    (31): BatchNorm2d(512, eps=1e-05, momentum=0.1, affine=True, track_running_stats=True)\n",
              "    (32): ReLU(inplace=True)\n",
              "    (33): MaxPool2d(kernel_size=2, stride=2, padding=0, dilation=1, ceil_mode=False)\n",
              "    (34): Conv2d(512, 512, kernel_size=(3, 3), stride=(1, 1), padding=(1, 1))\n",
              "    (35): BatchNorm2d(512, eps=1e-05, momentum=0.1, affine=True, track_running_stats=True)\n",
              "    (36): ReLU(inplace=True)\n",
              "    (37): Conv2d(512, 512, kernel_size=(3, 3), stride=(1, 1), padding=(1, 1))\n",
              "    (38): BatchNorm2d(512, eps=1e-05, momentum=0.1, affine=True, track_running_stats=True)\n",
              "    (39): ReLU(inplace=True)\n",
              "    (40): Conv2d(512, 512, kernel_size=(3, 3), stride=(1, 1), padding=(1, 1))\n",
              "    (41): BatchNorm2d(512, eps=1e-05, momentum=0.1, affine=True, track_running_stats=True)\n",
              "    (42): ReLU(inplace=True)\n",
              "    (43): MaxPool2d(kernel_size=2, stride=2, padding=0, dilation=1, ceil_mode=False)\n",
              "  )\n",
              "  (avgpool): AdaptiveAvgPool2d(output_size=(7, 7))\n",
              "  (classifier): Sequential(\n",
              "    (0): Linear(in_features=25088, out_features=4096, bias=True)\n",
              "    (1): ReLU(inplace=True)\n",
              "    (2): Dropout(p=0.5, inplace=False)\n",
              "    (3): BatchNorm1d(4096, eps=1e-05, momentum=0.1, affine=True, track_running_stats=True)\n",
              "    (4): Linear(in_features=4096, out_features=4096, bias=True)\n",
              "    (5): ReLU(inplace=True)\n",
              "    (6): Dropout(p=0.5, inplace=False)\n",
              "    (7): BatchNorm1d(4096, eps=1e-05, momentum=0.1, affine=True, track_running_stats=True)\n",
              "    (8): Linear(in_features=4096, out_features=2, bias=True)\n",
              "  )\n",
              ")"
            ]
          },
          "execution_count": 10,
          "metadata": {},
          "output_type": "execute_result"
        }
      ],
      "source": [
        "model"
      ]
    },
    {
      "cell_type": "markdown",
      "id": "c94aab46",
      "metadata": {
        "id": "c94aab46",
        "papermill": {
          "duration": 0.012403,
          "end_time": "2023-09-25T00:33:36.918047",
          "exception": false,
          "start_time": "2023-09-25T00:33:36.905644",
          "status": "completed"
        },
        "tags": []
      },
      "source": [
        "# **Definición de Función de Pérdida y Optimizador, y Entrenamiento del Modelo**\n"
      ]
    },
    {
      "cell_type": "markdown",
      "source": [
        "En este bloque de código, se definen la función de pérdida y el optimizador, y luego se realiza el entrenamiento del modelo.\n",
        "\n",
        "1. **Definición de Función de Pérdida:**\n",
        "   - Se utiliza `nn.CrossEntropyLoss()` para definir una función de pérdida de entropía cruzada. Esta función es comúnmente utilizada en problemas de clasificación.\n",
        "\n",
        "2. **Definición de Optimizador:**\n",
        "   - Se utiliza `optim.Adam` para definir un optimizador Adam. Este optimizador es eficiente para el entrenamiento de redes neuronales y se adapta bien a diversos conjuntos de datos.\n",
        "\n",
        "3. **Configuración del Dispositivo:**\n",
        "   - Se utiliza `to(device)` para mover la función de pérdida al dispositivo de entrenamiento (GPU o CPU).\n",
        "\n",
        "4. **Entrenamiento del Modelo:**\n",
        "   - Se establece el número de épocas (`epochs`) en 100.\n",
        "   - Durante el entrenamiento, se utilizará la función de pérdida definida anteriormente y el optimizador Adam.\n",
        "   - El modelo se entrenará en un bucle de 100 épocas, y los pesos del modelo se actualizarán mediante el descenso del gradiente.\n",
        "\n",
        "Este bloque es esencial para la configuración del proceso de entrenamiento del modelo. La función de pérdida y el optimizador se utilizan para ajustar los pesos del modelo en función de la retropropagación del error durante las épocas de entrenamiento."
      ],
      "metadata": {
        "id": "pRDIpAyLPCb1"
      },
      "id": "pRDIpAyLPCb1"
    },
    {
      "cell_type": "code",
      "execution_count": null,
      "id": "c947ab1c",
      "metadata": {
        "execution": {
          "iopub.execute_input": "2023-09-25T00:33:36.945135Z",
          "iopub.status.busy": "2023-09-25T00:33:36.944756Z",
          "iopub.status.idle": "2023-09-25T00:33:36.950602Z",
          "shell.execute_reply": "2023-09-25T00:33:36.949581Z"
        },
        "id": "c947ab1c",
        "papermill": {
          "duration": 0.022187,
          "end_time": "2023-09-25T00:33:36.952774",
          "exception": false,
          "start_time": "2023-09-25T00:33:36.930587",
          "status": "completed"
        },
        "tags": []
      },
      "outputs": [],
      "source": [
        "# Definir función de pérdida y optimizador\n",
        "criterion = nn.CrossEntropyLoss().to(device)\n",
        "optimizer = optim.Adam(model.parameters(), lr=0.00001, weight_decay=1e-5)\n",
        "\n",
        "# Entrenar modelo por 100 épocas\n",
        "epochs = 100"
      ]
    },
    {
      "cell_type": "markdown",
      "id": "619165c5",
      "metadata": {
        "id": "619165c5",
        "papermill": {
          "duration": 0.012975,
          "end_time": "2023-09-25T00:33:36.978887",
          "exception": false,
          "start_time": "2023-09-25T00:33:36.965912",
          "status": "completed"
        },
        "tags": []
      },
      "source": [
        "# **Entrenamiento del Modelo y Evaluación en Conjunto de Validación**"
      ]
    },
    {
      "cell_type": "markdown",
      "source": [
        "Este bloque de código está diseñado para entrenar el modelo a lo largo de múltiples épocas y evaluar su rendimiento en un conjunto de validación.\n",
        "\n",
        "1. **Inicialización de Listas y Variables:**\n",
        "   - `train_loss`, `train_accuracy`, `val_loss`, y `val_accuracy` son listas que se utilizarán para almacenar las pérdidas y la precisión durante el entrenamiento y la validación.\n",
        "   - `best_val_loss` se inicializa como infinito para realizar un seguimiento de la mejor pérdida de validación.\n",
        "   - `best_epoch` y `best_model_name` se inicializan para realizar un seguimiento de la época en la que se obtuvo la mejor pérdida de validación y el nombre del mejor modelo, respectivamente.\n",
        "\n",
        "2. **Bucle de Épocas:**\n",
        "   - Se itera a través de un bucle que abarca el número especificado de épocas (`epochs`).\n",
        "   - Para cada época:\n",
        "     - Se establece el modelo en modo de entrenamiento (`model.train()`).\n",
        "     - Se utiliza un bucle (con la ayuda de `tqdm` para mostrar una barra de progreso) para iterar a través del conjunto de entrenamiento (`train_loader`).\n",
        "     - Para cada lote en el conjunto de entrenamiento:\n",
        "       - Se envían las imágenes y las etiquetas al dispositivo de entrenamiento.\n",
        "       - Se lleva a cabo la propagación hacia adelante, el cálculo de la pérdida y la retropropagación.\n",
        "       - Se actualizan los pesos del modelo usando el optimizador.\n",
        "       - Se registran las estadísticas, como la pérdida y la precisión, para su seguimiento y visualización.\n",
        "     - Se evalúa el modelo en el conjunto de validación (`val_loader`) después de cada época, calculando la pérdida y la precisión en el conjunto de validación.\n",
        "     - Se actualiza la mejor pérdida de validación y se guarda el modelo si se obtiene una pérdida de validación más baja.\n",
        "     - Se imprimen y registran las métricas de entrenamiento y validación.\n",
        "\n",
        "3. **Guardado del Mejor Modelo:**\n",
        "   - Después de completar todas las épocas, los pesos del mejor modelo se guardan en un archivo (`mejor_modelo.pth`) utilizando `torch.save`.\n",
        "\n",
        "Este bloque es esencial para entrenar y evaluar el modelo en un conjunto de datos dividido en entrenamiento y validación. La métrica clave aquí es la pérdida en el conjunto de validación, y el modelo con la pérdida más baja se guarda como el mejor modelo."
      ],
      "metadata": {
        "id": "6fgAhS3DPFRq"
      },
      "id": "6fgAhS3DPFRq"
    },
    {
      "cell_type": "code",
      "execution_count": null,
      "id": "3b6c679f",
      "metadata": {
        "execution": {
          "iopub.execute_input": "2023-09-25T00:33:37.005186Z",
          "iopub.status.busy": "2023-09-25T00:33:37.004887Z",
          "iopub.status.idle": "2023-09-25T01:25:46.388998Z",
          "shell.execute_reply": "2023-09-25T01:25:46.387931Z"
        },
        "id": "3b6c679f",
        "outputId": "3b9e3482-39ef-4548-a922-8885a7f9e1e4",
        "papermill": {
          "duration": 3129.400119,
          "end_time": "2023-09-25T01:25:46.391656",
          "exception": false,
          "start_time": "2023-09-25T00:33:36.991537",
          "status": "completed"
        },
        "tags": [],
        "colab": {
          "referenced_widgets": [
            "f4f864634be14341b9ee82a0e7ebd760",
            "e5e2a2365eaa4c64bdfbea7a38bad0bc",
            "1cb313d728de40b2b4f2a130f5db2a5d",
            "16ca96e2be1d476aaac6e06fdc8ea2cf",
            "c0fed6e66f5843a388ec88b2c5c85a27",
            "dbe63f7b64164197a77b3e247f3bc9ba",
            "053856bc5e9a4b57b361f9f1b972db7d",
            "848d9b5b245948b29cc947e23e475e27",
            "ddfc4aa490cd4eee88c188e3ce0801e6",
            "a4d0bdacd25e4901bdb50a906b505f73",
            "6fa7c47b573346d2915f8bfba052888d",
            "4b7cc0b10b054fbb921bace3be80e5cb",
            "415b161236f14c18a0309b3b5b59f3ca",
            "394634fc34904e32923cb67b3dd78bfe",
            "863cec355d8641bfa5d63f49268add1a",
            "289a93ba2bc94615a0a1b997b4a9e668",
            "ab86e4309c5f4f67871260996d9a626a",
            "a874b8ae42f4471a9231ecbf29ffff81",
            "36c7dc8c616f42f7a2c378000063d4ff",
            "5d8896365fdf449d954131ad255a3cbe",
            "55f25bc61d36420aa935751ddc7db05b",
            "bd2cc1c5711347a78d8f64a8e342eba1",
            "ca4cefa8c7e64bbf9da67353241e28a0",
            "f2753a3e9a364723b8f9c3c235092da3",
            "0661952608264876ad31e4dd84282047",
            "515c985954174e03b9913fafcfab08af",
            "35e4254698904ec6951fccb0da81105d",
            "c0e54f7a7f5a4703967c5859f221f380",
            "39ada1f6dcdc44fea246dc09046aedca",
            "c0beeca5097a4456a4d6e7e18704d2a4",
            "4d4a3716b710416eb0da00de9dcfcd9b",
            "66509e9e977e448b8b26e233d1b801b9",
            "4edd3175c4c64e7aa7afa57f708e53b2",
            "d928e637fe5f4061ac9388e46d686187",
            "ecc5cbc55c764f258e6e45a12a323875",
            "17a32daac5df46158f97a3d9c6937ceb",
            "da29d4e365bf49fcb34b33d127835bd3",
            "83467d7e0d4440af8f67a2ae42d82ad1",
            "9406e5a98dfe4c8198e3f3c4266bd6ff",
            "441011f8314c440e9e711a9ec4b59ed3",
            "c92941225d694dd4b315d4ef56176313",
            "9761f05915ef4bc38e31ad6f071a9e47",
            "8be028c257b54425801cd51ffb5978b9",
            "0318ec10ab1e4b4db45b4a11f6f56a76",
            "2d23044f766042a3a488ffc6a8467406",
            "4415dab05688453b89b739ffa2f65fb8",
            "5c915a5be83d434cb2d2414e12ab305c",
            "6ab2478ec3bc44a7acbc63aa4ee1e096",
            "ebd1a457acbf4409b89a3ca3d7e07498",
            "fcec17bafe734f0aa7ba476fe818e50c",
            "7d470a1e43ae40ca8a7eba981bda51a5",
            "feadc1de621942d994f8965ad04b99e3",
            "8cb181da52ee44b38175d3fdfb7e9b5c",
            "e39f274be22741e5b05e1b077c9edae4",
            "de7dd5d1e1d94b0382c94a194b7ce67c",
            "bf5a56d3704a4fc7be66ea25044b1e2e",
            "2139fda84f1d46aa8469e66151549d10",
            "c0bc1cac6e8d41f68fd927250821bc6c",
            "ec84e63adc4b41298ffc29c9e72c03f2",
            "4d9e82718c2b4ff98e0977ab8656551e",
            "0e7293b26aed4d20ae0ed1c5207a83a4",
            "cfa998a69bb94a798cbe2f88925e70ce",
            "fe8450fa426b48fba76136edf4540909",
            "7230b32f719e478aa9e6ce17fb06c056",
            "49afa650670e4d5981833a2b74d713b8",
            "94e2691091c44c659c33fd2c93e38400",
            "9b5d5f4865b841a4a22ff7ba8378595a",
            "a627d04012e141a2b9c57257db8a2581",
            "15f847f5980942b4bad2711539c7be12",
            "42de0531e58d42b49a3d34d15272e8ea",
            "37f694f46fef45948494473060b51d13",
            "f3874cf9ee7143cfb4e781fe34d848fd",
            "a4afcb20699c42a6b960a9deac5f3321",
            "95c822bb65ef4769bf5a4a269d2cb556",
            "f8b04c81a5aa4f9db899b9aea4f14617",
            "5039224b5b264cedaf806b22422cd5c2",
            "9c08712c5afc4b6dbf35b4fee7eb77e8",
            "b003c1d1bb024fb28f603f7dc65f4509",
            "abace355aadc4ae293e555f0fb2c7c40",
            "6ac8512e847144baae793e238b8c6cf0",
            "67d4efa2158d47aab082ab4171a81e9d",
            "e542e2cb23b74f8d9a12d67af046aef3",
            "d64b3aaeef82464380529951a02ff8bb",
            "69fcef61b12548ccb2f6871d8819e127",
            "0baede11cd23455b8e7f435be041762a",
            "13a9798d66de4255976c10406beaec81",
            "2b32205e8911447f956044ba9850c017",
            "79c46774d83c4d84af34332e95b5f06c",
            "c7c633349d144fe7a3400b4a195a49f3",
            "df97d770212046c692a61b9fb2864bb0",
            "8c809641126a4a86a23d15032a84076d",
            "ced293162a724df89cc33ff0f309075e",
            "56e03e2507ee4692ae5614db0e33d0ee",
            "327d3bc02f3e46539b4e8756e1cc0f14",
            "4d1fba5a53ea4a5b950fe84b68a1ece5",
            "376ce9fbcb094f58b9f2d746859fa589",
            "c793e3566c6f46d8846ca76e41314112",
            "f15910a22c234b809dd0e82370749392",
            "a7bc476fb0554588a5b247b6d80cde31",
            "a7197f2da3f24109b66305a36b0bade2"
          ]
        }
      },
      "outputs": [
        {
          "name": "stderr",
          "output_type": "stream",
          "text": [
            "/tmp/ipykernel_22/22504745.py:17: TqdmDeprecationWarning: This function will be removed in tqdm==5.0.0\n",
            "Please use `tqdm.notebook.tqdm` instead of `tqdm.tqdm_notebook`\n",
            "  with tqdm(train_loader, unit=\"batch\") as tepoch:  # Utiliza train_loader en lugar de train_dataset\n"
          ]
        },
        {
          "data": {
            "application/vnd.jupyter.widget-view+json": {
              "model_id": "f4f864634be14341b9ee82a0e7ebd760",
              "version_major": 2,
              "version_minor": 0
            },
            "text/plain": [
              "  0%|          | 0/13 [00:00<?, ?batch/s]"
            ]
          },
          "metadata": {},
          "output_type": "display_data"
        },
        {
          "name": "stderr",
          "output_type": "stream",
          "text": [
            "/opt/conda/lib/python3.10/site-packages/torchvision/transforms/functional.py:1603: UserWarning: The default value of the antialias parameter of all the resizing transforms (Resize(), RandomResizedCrop(), etc.) will change from None to True in v0.17, in order to be consistent across the PIL and Tensor backends. To suppress this warning, directly pass antialias=True (recommended, future default), antialias=None (current default, which means False for Tensors and True for PIL), or antialias=False (only works on Tensors - PIL will still use antialiasing). This also applies if you are using the inference transforms from the models weights: update the call to weights.transforms(antialias=True).\n",
            "  warnings.warn(\n"
          ]
        },
        {
          "name": "stdout",
          "output_type": "stream",
          "text": [
            "Epoch 1 Training Accuracy = 0.5816062176165803\n",
            "Epoch 1 Training Loss = 0.70335493788818\n",
            "Epoch 1 Validation Accuracy = 0.6770833333333334\n",
            "Epoch 1 Validation Loss = 0.6557528177897135\n",
            "La mejor precisión de Validation Loss (0.6557528177897135) se alcanzó en la época 1\n"
          ]
        },
        {
          "data": {
            "application/vnd.jupyter.widget-view+json": {
              "model_id": "e5e2a2365eaa4c64bdfbea7a38bad0bc",
              "version_major": 2,
              "version_minor": 0
            },
            "text/plain": [
              "  0%|          | 0/13 [00:00<?, ?batch/s]"
            ]
          },
          "metadata": {},
          "output_type": "display_data"
        },
        {
          "name": "stdout",
          "output_type": "stream",
          "text": [
            "Epoch 2 Training Accuracy = 0.7150259067357513\n",
            "Epoch 2 Training Loss = 0.5638094059543907\n",
            "Epoch 2 Validation Accuracy = 0.7864583333333334\n",
            "Epoch 2 Validation Loss = 0.5769297083218893\n",
            "La mejor precisión de Validation Loss (0.5769297083218893) se alcanzó en la época 2\n"
          ]
        },
        {
          "data": {
            "application/vnd.jupyter.widget-view+json": {
              "model_id": "1cb313d728de40b2b4f2a130f5db2a5d",
              "version_major": 2,
              "version_minor": 0
            },
            "text/plain": [
              "  0%|          | 0/13 [00:00<?, ?batch/s]"
            ]
          },
          "metadata": {},
          "output_type": "display_data"
        },
        {
          "name": "stdout",
          "output_type": "stream",
          "text": [
            "Epoch 3 Training Accuracy = 0.7849740932642487\n",
            "Epoch 3 Training Loss = 0.48361767620002666\n",
            "Epoch 3 Validation Accuracy = 0.8020833333333334\n",
            "Epoch 3 Validation Loss = 0.4998270968596141\n",
            "La mejor precisión de Validation Loss (0.4998270968596141) se alcanzó en la época 3\n"
          ]
        },
        {
          "data": {
            "application/vnd.jupyter.widget-view+json": {
              "model_id": "16ca96e2be1d476aaac6e06fdc8ea2cf",
              "version_major": 2,
              "version_minor": 0
            },
            "text/plain": [
              "  0%|          | 0/13 [00:00<?, ?batch/s]"
            ]
          },
          "metadata": {},
          "output_type": "display_data"
        },
        {
          "name": "stdout",
          "output_type": "stream",
          "text": [
            "Epoch 4 Training Accuracy = 0.8238341968911918\n",
            "Epoch 4 Training Loss = 0.4143780172643266\n",
            "Epoch 4 Validation Accuracy = 0.828125\n",
            "Epoch 4 Validation Loss = 0.44481038053830463\n",
            "La mejor precisión de Validation Loss (0.44481038053830463) se alcanzó en la época 4\n"
          ]
        },
        {
          "data": {
            "application/vnd.jupyter.widget-view+json": {
              "model_id": "c0fed6e66f5843a388ec88b2c5c85a27",
              "version_major": 2,
              "version_minor": 0
            },
            "text/plain": [
              "  0%|          | 0/13 [00:00<?, ?batch/s]"
            ]
          },
          "metadata": {},
          "output_type": "display_data"
        },
        {
          "name": "stdout",
          "output_type": "stream",
          "text": [
            "Epoch 5 Training Accuracy = 0.8393782383419689\n",
            "Epoch 5 Training Loss = 0.3695427234926372\n",
            "Epoch 5 Validation Accuracy = 0.8229166666666666\n",
            "Epoch 5 Validation Loss = 0.4188927710056305\n",
            "La mejor precisión de Validation Loss (0.4188927710056305) se alcanzó en la época 5\n"
          ]
        },
        {
          "data": {
            "application/vnd.jupyter.widget-view+json": {
              "model_id": "dbe63f7b64164197a77b3e247f3bc9ba",
              "version_major": 2,
              "version_minor": 0
            },
            "text/plain": [
              "  0%|          | 0/13 [00:00<?, ?batch/s]"
            ]
          },
          "metadata": {},
          "output_type": "display_data"
        },
        {
          "name": "stdout",
          "output_type": "stream",
          "text": [
            "Epoch 6 Training Accuracy = 0.8743523316062176\n",
            "Epoch 6 Training Loss = 0.32925404878477976\n",
            "Epoch 6 Validation Accuracy = 0.8489583333333334\n",
            "Epoch 6 Validation Loss = 0.3841707110404968\n",
            "La mejor precisión de Validation Loss (0.3841707110404968) se alcanzó en la época 6\n"
          ]
        },
        {
          "data": {
            "application/vnd.jupyter.widget-view+json": {
              "model_id": "053856bc5e9a4b57b361f9f1b972db7d",
              "version_major": 2,
              "version_minor": 0
            },
            "text/plain": [
              "  0%|          | 0/13 [00:00<?, ?batch/s]"
            ]
          },
          "metadata": {},
          "output_type": "display_data"
        },
        {
          "name": "stdout",
          "output_type": "stream",
          "text": [
            "Epoch 7 Training Accuracy = 0.8924870466321243\n",
            "Epoch 7 Training Loss = 0.3048396860997294\n",
            "Epoch 7 Validation Accuracy = 0.8385416666666666\n",
            "Epoch 7 Validation Loss = 0.3907809356848399\n",
            "La mejor precisión de Validation Loss (0.3841707110404968) se alcanzó en la época 6\n"
          ]
        },
        {
          "data": {
            "application/vnd.jupyter.widget-view+json": {
              "model_id": "848d9b5b245948b29cc947e23e475e27",
              "version_major": 2,
              "version_minor": 0
            },
            "text/plain": [
              "  0%|          | 0/13 [00:00<?, ?batch/s]"
            ]
          },
          "metadata": {},
          "output_type": "display_data"
        },
        {
          "name": "stdout",
          "output_type": "stream",
          "text": [
            "Epoch 8 Training Accuracy = 0.9080310880829016\n",
            "Epoch 8 Training Loss = 0.28749612668635316\n",
            "Epoch 8 Validation Accuracy = 0.8333333333333334\n",
            "Epoch 8 Validation Loss = 0.370872567097346\n",
            "La mejor precisión de Validation Loss (0.370872567097346) se alcanzó en la época 8\n"
          ]
        },
        {
          "data": {
            "application/vnd.jupyter.widget-view+json": {
              "model_id": "ddfc4aa490cd4eee88c188e3ce0801e6",
              "version_major": 2,
              "version_minor": 0
            },
            "text/plain": [
              "  0%|          | 0/13 [00:00<?, ?batch/s]"
            ]
          },
          "metadata": {},
          "output_type": "display_data"
        },
        {
          "name": "stdout",
          "output_type": "stream",
          "text": [
            "Epoch 9 Training Accuracy = 0.9158031088082902\n",
            "Epoch 9 Training Loss = 0.2448093875702181\n",
            "Epoch 9 Validation Accuracy = 0.875\n",
            "Epoch 9 Validation Loss = 0.36154904961586\n",
            "La mejor precisión de Validation Loss (0.36154904961586) se alcanzó en la época 9\n"
          ]
        },
        {
          "data": {
            "application/vnd.jupyter.widget-view+json": {
              "model_id": "a4d0bdacd25e4901bdb50a906b505f73",
              "version_major": 2,
              "version_minor": 0
            },
            "text/plain": [
              "  0%|          | 0/13 [00:00<?, ?batch/s]"
            ]
          },
          "metadata": {},
          "output_type": "display_data"
        },
        {
          "name": "stdout",
          "output_type": "stream",
          "text": [
            "Epoch 10 Training Accuracy = 0.9326424870466321\n",
            "Epoch 10 Training Loss = 0.23311374564244958\n",
            "Epoch 10 Validation Accuracy = 0.8541666666666666\n",
            "Epoch 10 Validation Loss = 0.34538360436757404\n",
            "La mejor precisión de Validation Loss (0.34538360436757404) se alcanzó en la época 10\n"
          ]
        },
        {
          "data": {
            "application/vnd.jupyter.widget-view+json": {
              "model_id": "6fa7c47b573346d2915f8bfba052888d",
              "version_major": 2,
              "version_minor": 0
            },
            "text/plain": [
              "  0%|          | 0/13 [00:00<?, ?batch/s]"
            ]
          },
          "metadata": {},
          "output_type": "display_data"
        },
        {
          "name": "stdout",
          "output_type": "stream",
          "text": [
            "Epoch 11 Training Accuracy = 0.9404145077720207\n",
            "Epoch 11 Training Loss = 0.2074783317783336\n",
            "Epoch 11 Validation Accuracy = 0.8385416666666666\n",
            "Epoch 11 Validation Loss = 0.3557604451974233\n",
            "La mejor precisión de Validation Loss (0.34538360436757404) se alcanzó en la época 10\n"
          ]
        },
        {
          "data": {
            "application/vnd.jupyter.widget-view+json": {
              "model_id": "4b7cc0b10b054fbb921bace3be80e5cb",
              "version_major": 2,
              "version_minor": 0
            },
            "text/plain": [
              "  0%|          | 0/13 [00:00<?, ?batch/s]"
            ]
          },
          "metadata": {},
          "output_type": "display_data"
        },
        {
          "name": "stdout",
          "output_type": "stream",
          "text": [
            "Epoch 12 Training Accuracy = 0.9624352331606217\n",
            "Epoch 12 Training Loss = 0.18595946653519269\n",
            "Epoch 12 Validation Accuracy = 0.8645833333333334\n",
            "Epoch 12 Validation Loss = 0.3369489659865697\n",
            "La mejor precisión de Validation Loss (0.3369489659865697) se alcanzó en la época 12\n"
          ]
        },
        {
          "data": {
            "application/vnd.jupyter.widget-view+json": {
              "model_id": "415b161236f14c18a0309b3b5b59f3ca",
              "version_major": 2,
              "version_minor": 0
            },
            "text/plain": [
              "  0%|          | 0/13 [00:00<?, ?batch/s]"
            ]
          },
          "metadata": {},
          "output_type": "display_data"
        },
        {
          "name": "stdout",
          "output_type": "stream",
          "text": [
            "Epoch 13 Training Accuracy = 0.9481865284974094\n",
            "Epoch 13 Training Loss = 0.19870462473192363\n",
            "Epoch 13 Validation Accuracy = 0.8697916666666666\n",
            "Epoch 13 Validation Loss = 0.3258168200651805\n",
            "La mejor precisión de Validation Loss (0.3258168200651805) se alcanzó en la época 13\n"
          ]
        },
        {
          "data": {
            "application/vnd.jupyter.widget-view+json": {
              "model_id": "394634fc34904e32923cb67b3dd78bfe",
              "version_major": 2,
              "version_minor": 0
            },
            "text/plain": [
              "  0%|          | 0/13 [00:00<?, ?batch/s]"
            ]
          },
          "metadata": {},
          "output_type": "display_data"
        },
        {
          "name": "stdout",
          "output_type": "stream",
          "text": [
            "Epoch 14 Training Accuracy = 0.9689119170984456\n",
            "Epoch 14 Training Loss = 0.1569417091231272\n",
            "Epoch 14 Validation Accuracy = 0.875\n",
            "Epoch 14 Validation Loss = 0.3000067671140035\n",
            "La mejor precisión de Validation Loss (0.3000067671140035) se alcanzó en la época 14\n"
          ]
        },
        {
          "data": {
            "application/vnd.jupyter.widget-view+json": {
              "model_id": "863cec355d8641bfa5d63f49268add1a",
              "version_major": 2,
              "version_minor": 0
            },
            "text/plain": [
              "  0%|          | 0/13 [00:00<?, ?batch/s]"
            ]
          },
          "metadata": {},
          "output_type": "display_data"
        },
        {
          "name": "stdout",
          "output_type": "stream",
          "text": [
            "Epoch 15 Training Accuracy = 0.9637305699481865\n",
            "Epoch 15 Training Loss = 0.15050273685875334\n",
            "Epoch 15 Validation Accuracy = 0.828125\n",
            "Epoch 15 Validation Loss = 0.31564711531003314\n",
            "La mejor precisión de Validation Loss (0.3000067671140035) se alcanzó en la época 14\n"
          ]
        },
        {
          "data": {
            "application/vnd.jupyter.widget-view+json": {
              "model_id": "289a93ba2bc94615a0a1b997b4a9e668",
              "version_major": 2,
              "version_minor": 0
            },
            "text/plain": [
              "  0%|          | 0/13 [00:00<?, ?batch/s]"
            ]
          },
          "metadata": {},
          "output_type": "display_data"
        },
        {
          "name": "stdout",
          "output_type": "stream",
          "text": [
            "Epoch 16 Training Accuracy = 0.977979274611399\n",
            "Epoch 16 Training Loss = 0.14441605336925525\n",
            "Epoch 16 Validation Accuracy = 0.8385416666666666\n",
            "Epoch 16 Validation Loss = 0.3185998598734538\n",
            "La mejor precisión de Validation Loss (0.3000067671140035) se alcanzó en la época 14\n"
          ]
        },
        {
          "data": {
            "application/vnd.jupyter.widget-view+json": {
              "model_id": "ab86e4309c5f4f67871260996d9a626a",
              "version_major": 2,
              "version_minor": 0
            },
            "text/plain": [
              "  0%|          | 0/13 [00:00<?, ?batch/s]"
            ]
          },
          "metadata": {},
          "output_type": "display_data"
        },
        {
          "name": "stdout",
          "output_type": "stream",
          "text": [
            "Epoch 17 Training Accuracy = 0.9676165803108808\n",
            "Epoch 17 Training Loss = 0.14391632775723007\n",
            "Epoch 17 Validation Accuracy = 0.890625\n",
            "Epoch 17 Validation Loss = 0.3017384707927704\n",
            "La mejor precisión de Validation Loss (0.3000067671140035) se alcanzó en la época 14\n"
          ]
        },
        {
          "data": {
            "application/vnd.jupyter.widget-view+json": {
              "model_id": "a874b8ae42f4471a9231ecbf29ffff81",
              "version_major": 2,
              "version_minor": 0
            },
            "text/plain": [
              "  0%|          | 0/13 [00:00<?, ?batch/s]"
            ]
          },
          "metadata": {},
          "output_type": "display_data"
        },
        {
          "name": "stdout",
          "output_type": "stream",
          "text": [
            "Epoch 18 Training Accuracy = 0.9831606217616581\n",
            "Epoch 18 Training Loss = 0.12613614505745585\n",
            "Epoch 18 Validation Accuracy = 0.859375\n",
            "Epoch 18 Validation Loss = 0.3073573708534241\n",
            "La mejor precisión de Validation Loss (0.3000067671140035) se alcanzó en la época 14\n"
          ]
        },
        {
          "data": {
            "application/vnd.jupyter.widget-view+json": {
              "model_id": "36c7dc8c616f42f7a2c378000063d4ff",
              "version_major": 2,
              "version_minor": 0
            },
            "text/plain": [
              "  0%|          | 0/13 [00:00<?, ?batch/s]"
            ]
          },
          "metadata": {},
          "output_type": "display_data"
        },
        {
          "name": "stdout",
          "output_type": "stream",
          "text": [
            "Epoch 19 Training Accuracy = 0.9715025906735751\n",
            "Epoch 19 Training Loss = 0.12042301568960279\n",
            "Epoch 19 Validation Accuracy = 0.875\n",
            "Epoch 19 Validation Loss = 0.3003532687822978\n",
            "La mejor precisión de Validation Loss (0.3000067671140035) se alcanzó en la época 14\n"
          ]
        },
        {
          "data": {
            "application/vnd.jupyter.widget-view+json": {
              "model_id": "5d8896365fdf449d954131ad255a3cbe",
              "version_major": 2,
              "version_minor": 0
            },
            "text/plain": [
              "  0%|          | 0/13 [00:00<?, ?batch/s]"
            ]
          },
          "metadata": {},
          "output_type": "display_data"
        },
        {
          "name": "stdout",
          "output_type": "stream",
          "text": [
            "Epoch 20 Training Accuracy = 0.9727979274611399\n",
            "Epoch 20 Training Loss = 0.11930375303011484\n",
            "Epoch 20 Validation Accuracy = 0.8802083333333334\n",
            "Epoch 20 Validation Loss = 0.29006711145242053\n",
            "La mejor precisión de Validation Loss (0.29006711145242053) se alcanzó en la época 20\n"
          ]
        },
        {
          "data": {
            "application/vnd.jupyter.widget-view+json": {
              "model_id": "55f25bc61d36420aa935751ddc7db05b",
              "version_major": 2,
              "version_minor": 0
            },
            "text/plain": [
              "  0%|          | 0/13 [00:00<?, ?batch/s]"
            ]
          },
          "metadata": {},
          "output_type": "display_data"
        },
        {
          "name": "stdout",
          "output_type": "stream",
          "text": [
            "Epoch 21 Training Accuracy = 0.9753886010362695\n",
            "Epoch 21 Training Loss = 0.10406058424495045\n",
            "Epoch 21 Validation Accuracy = 0.8489583333333334\n",
            "Epoch 21 Validation Loss = 0.3294611672560374\n",
            "La mejor precisión de Validation Loss (0.29006711145242053) se alcanzó en la época 20\n"
          ]
        },
        {
          "data": {
            "application/vnd.jupyter.widget-view+json": {
              "model_id": "bd2cc1c5711347a78d8f64a8e342eba1",
              "version_major": 2,
              "version_minor": 0
            },
            "text/plain": [
              "  0%|          | 0/13 [00:00<?, ?batch/s]"
            ]
          },
          "metadata": {},
          "output_type": "display_data"
        },
        {
          "name": "stdout",
          "output_type": "stream",
          "text": [
            "Epoch 22 Training Accuracy = 0.9857512953367875\n",
            "Epoch 22 Training Loss = 0.10212497884127761\n",
            "Epoch 22 Validation Accuracy = 0.8958333333333334\n",
            "Epoch 22 Validation Loss = 0.2712165613969167\n",
            "La mejor precisión de Validation Loss (0.2712165613969167) se alcanzó en la época 22\n"
          ]
        },
        {
          "data": {
            "application/vnd.jupyter.widget-view+json": {
              "model_id": "ca4cefa8c7e64bbf9da67353241e28a0",
              "version_major": 2,
              "version_minor": 0
            },
            "text/plain": [
              "  0%|          | 0/13 [00:00<?, ?batch/s]"
            ]
          },
          "metadata": {},
          "output_type": "display_data"
        },
        {
          "name": "stdout",
          "output_type": "stream",
          "text": [
            "Epoch 23 Training Accuracy = 0.9831606217616581\n",
            "Epoch 23 Training Loss = 0.09991110946230321\n",
            "Epoch 23 Validation Accuracy = 0.9010416666666666\n",
            "Epoch 23 Validation Loss = 0.27447666724522907\n",
            "La mejor precisión de Validation Loss (0.2712165613969167) se alcanzó en la época 22\n"
          ]
        },
        {
          "data": {
            "application/vnd.jupyter.widget-view+json": {
              "model_id": "f2753a3e9a364723b8f9c3c235092da3",
              "version_major": 2,
              "version_minor": 0
            },
            "text/plain": [
              "  0%|          | 0/13 [00:00<?, ?batch/s]"
            ]
          },
          "metadata": {},
          "output_type": "display_data"
        },
        {
          "name": "stdout",
          "output_type": "stream",
          "text": [
            "Epoch 24 Training Accuracy = 0.9857512953367875\n",
            "Epoch 24 Training Loss = 0.08429764651263934\n",
            "Epoch 24 Validation Accuracy = 0.8958333333333334\n",
            "Epoch 24 Validation Loss = 0.2708696871995926\n",
            "La mejor precisión de Validation Loss (0.2708696871995926) se alcanzó en la época 24\n"
          ]
        },
        {
          "data": {
            "application/vnd.jupyter.widget-view+json": {
              "model_id": "0661952608264876ad31e4dd84282047",
              "version_major": 2,
              "version_minor": 0
            },
            "text/plain": [
              "  0%|          | 0/13 [00:00<?, ?batch/s]"
            ]
          },
          "metadata": {},
          "output_type": "display_data"
        },
        {
          "name": "stdout",
          "output_type": "stream",
          "text": [
            "Epoch 25 Training Accuracy = 0.9883419689119171\n",
            "Epoch 25 Training Loss = 0.08810667114554292\n",
            "Epoch 25 Validation Accuracy = 0.8854166666666666\n",
            "Epoch 25 Validation Loss = 0.2917855381965637\n",
            "La mejor precisión de Validation Loss (0.2708696871995926) se alcanzó en la época 24\n"
          ]
        },
        {
          "data": {
            "application/vnd.jupyter.widget-view+json": {
              "model_id": "515c985954174e03b9913fafcfab08af",
              "version_major": 2,
              "version_minor": 0
            },
            "text/plain": [
              "  0%|          | 0/13 [00:00<?, ?batch/s]"
            ]
          },
          "metadata": {},
          "output_type": "display_data"
        },
        {
          "name": "stdout",
          "output_type": "stream",
          "text": [
            "Epoch 26 Training Accuracy = 0.9831606217616581\n",
            "Epoch 26 Training Loss = 0.08550139041762278\n",
            "Epoch 26 Validation Accuracy = 0.859375\n",
            "Epoch 26 Validation Loss = 0.2838742733001709\n",
            "La mejor precisión de Validation Loss (0.2708696871995926) se alcanzó en la época 24\n"
          ]
        },
        {
          "data": {
            "application/vnd.jupyter.widget-view+json": {
              "model_id": "35e4254698904ec6951fccb0da81105d",
              "version_major": 2,
              "version_minor": 0
            },
            "text/plain": [
              "  0%|          | 0/13 [00:00<?, ?batch/s]"
            ]
          },
          "metadata": {},
          "output_type": "display_data"
        },
        {
          "name": "stdout",
          "output_type": "stream",
          "text": [
            "Epoch 27 Training Accuracy = 0.9857512953367875\n",
            "Epoch 27 Training Loss = 0.08077129026768738\n",
            "Epoch 27 Validation Accuracy = 0.8697916666666666\n",
            "Epoch 27 Validation Loss = 0.29119019707043964\n",
            "La mejor precisión de Validation Loss (0.2708696871995926) se alcanzó en la época 24\n"
          ]
        },
        {
          "data": {
            "application/vnd.jupyter.widget-view+json": {
              "model_id": "c0e54f7a7f5a4703967c5859f221f380",
              "version_major": 2,
              "version_minor": 0
            },
            "text/plain": [
              "  0%|          | 0/13 [00:00<?, ?batch/s]"
            ]
          },
          "metadata": {},
          "output_type": "display_data"
        },
        {
          "name": "stdout",
          "output_type": "stream",
          "text": [
            "Epoch 28 Training Accuracy = 0.9883419689119171\n",
            "Epoch 28 Training Loss = 0.08440746606322767\n",
            "Epoch 28 Validation Accuracy = 0.890625\n",
            "Epoch 28 Validation Loss = 0.2842329839865367\n",
            "La mejor precisión de Validation Loss (0.2708696871995926) se alcanzó en la época 24\n"
          ]
        },
        {
          "data": {
            "application/vnd.jupyter.widget-view+json": {
              "model_id": "39ada1f6dcdc44fea246dc09046aedca",
              "version_major": 2,
              "version_minor": 0
            },
            "text/plain": [
              "  0%|          | 0/13 [00:00<?, ?batch/s]"
            ]
          },
          "metadata": {},
          "output_type": "display_data"
        },
        {
          "name": "stdout",
          "output_type": "stream",
          "text": [
            "Epoch 29 Training Accuracy = 0.9922279792746114\n",
            "Epoch 29 Training Loss = 0.07089311069775121\n",
            "Epoch 29 Validation Accuracy = 0.9010416666666666\n",
            "Epoch 29 Validation Loss = 0.26668724914391834\n",
            "La mejor precisión de Validation Loss (0.26668724914391834) se alcanzó en la época 29\n"
          ]
        },
        {
          "data": {
            "application/vnd.jupyter.widget-view+json": {
              "model_id": "c0beeca5097a4456a4d6e7e18704d2a4",
              "version_major": 2,
              "version_minor": 0
            },
            "text/plain": [
              "  0%|          | 0/13 [00:00<?, ?batch/s]"
            ]
          },
          "metadata": {},
          "output_type": "display_data"
        },
        {
          "name": "stdout",
          "output_type": "stream",
          "text": [
            "Epoch 30 Training Accuracy = 0.9961139896373057\n",
            "Epoch 30 Training Loss = 0.06369987994895698\n",
            "Epoch 30 Validation Accuracy = 0.9010416666666666\n",
            "Epoch 30 Validation Loss = 0.2585144390662511\n",
            "La mejor precisión de Validation Loss (0.2585144390662511) se alcanzó en la época 30\n"
          ]
        },
        {
          "data": {
            "application/vnd.jupyter.widget-view+json": {
              "model_id": "4d4a3716b710416eb0da00de9dcfcd9b",
              "version_major": 2,
              "version_minor": 0
            },
            "text/plain": [
              "  0%|          | 0/13 [00:00<?, ?batch/s]"
            ]
          },
          "metadata": {},
          "output_type": "display_data"
        },
        {
          "name": "stdout",
          "output_type": "stream",
          "text": [
            "Epoch 31 Training Accuracy = 0.9896373056994818\n",
            "Epoch 31 Training Loss = 0.06413816664503029\n",
            "Epoch 31 Validation Accuracy = 0.9010416666666666\n",
            "Epoch 31 Validation Loss = 0.257388710975647\n",
            "La mejor precisión de Validation Loss (0.257388710975647) se alcanzó en la época 31\n"
          ]
        },
        {
          "data": {
            "application/vnd.jupyter.widget-view+json": {
              "model_id": "66509e9e977e448b8b26e233d1b801b9",
              "version_major": 2,
              "version_minor": 0
            },
            "text/plain": [
              "  0%|          | 0/13 [00:00<?, ?batch/s]"
            ]
          },
          "metadata": {},
          "output_type": "display_data"
        },
        {
          "name": "stdout",
          "output_type": "stream",
          "text": [
            "Epoch 32 Training Accuracy = 0.9974093264248705\n",
            "Epoch 32 Training Loss = 0.0658612282164974\n",
            "Epoch 32 Validation Accuracy = 0.9010416666666666\n",
            "Epoch 32 Validation Loss = 0.2555452237526576\n",
            "La mejor precisión de Validation Loss (0.2555452237526576) se alcanzó en la época 32\n"
          ]
        },
        {
          "data": {
            "application/vnd.jupyter.widget-view+json": {
              "model_id": "4edd3175c4c64e7aa7afa57f708e53b2",
              "version_major": 2,
              "version_minor": 0
            },
            "text/plain": [
              "  0%|          | 0/13 [00:00<?, ?batch/s]"
            ]
          },
          "metadata": {},
          "output_type": "display_data"
        },
        {
          "name": "stdout",
          "output_type": "stream",
          "text": [
            "Epoch 33 Training Accuracy = 0.9935233160621761\n",
            "Epoch 33 Training Loss = 0.052576408948305356\n",
            "Epoch 33 Validation Accuracy = 0.9166666666666666\n",
            "Epoch 33 Validation Loss = 0.22428092857201895\n",
            "La mejor precisión de Validation Loss (0.22428092857201895) se alcanzó en la época 33\n"
          ]
        },
        {
          "data": {
            "application/vnd.jupyter.widget-view+json": {
              "model_id": "d928e637fe5f4061ac9388e46d686187",
              "version_major": 2,
              "version_minor": 0
            },
            "text/plain": [
              "  0%|          | 0/13 [00:00<?, ?batch/s]"
            ]
          },
          "metadata": {},
          "output_type": "display_data"
        },
        {
          "name": "stdout",
          "output_type": "stream",
          "text": [
            "Epoch 34 Training Accuracy = 0.9935233160621761\n",
            "Epoch 34 Training Loss = 0.059174234076485116\n",
            "Epoch 34 Validation Accuracy = 0.8958333333333334\n",
            "Epoch 34 Validation Loss = 0.27747975289821625\n",
            "La mejor precisión de Validation Loss (0.22428092857201895) se alcanzó en la época 33\n"
          ]
        },
        {
          "data": {
            "application/vnd.jupyter.widget-view+json": {
              "model_id": "ecc5cbc55c764f258e6e45a12a323875",
              "version_major": 2,
              "version_minor": 0
            },
            "text/plain": [
              "  0%|          | 0/13 [00:00<?, ?batch/s]"
            ]
          },
          "metadata": {},
          "output_type": "display_data"
        },
        {
          "name": "stdout",
          "output_type": "stream",
          "text": [
            "Epoch 35 Training Accuracy = 0.9922279792746114\n",
            "Epoch 35 Training Loss = 0.06384539712278336\n",
            "Epoch 35 Validation Accuracy = 0.9166666666666666\n",
            "Epoch 35 Validation Loss = 0.24262636651595434\n",
            "La mejor precisión de Validation Loss (0.22428092857201895) se alcanzó en la época 33\n"
          ]
        },
        {
          "data": {
            "application/vnd.jupyter.widget-view+json": {
              "model_id": "17a32daac5df46158f97a3d9c6937ceb",
              "version_major": 2,
              "version_minor": 0
            },
            "text/plain": [
              "  0%|          | 0/13 [00:00<?, ?batch/s]"
            ]
          },
          "metadata": {},
          "output_type": "display_data"
        },
        {
          "name": "stdout",
          "output_type": "stream",
          "text": [
            "Epoch 36 Training Accuracy = 0.9935233160621761\n",
            "Epoch 36 Training Loss = 0.052085312073712524\n",
            "Epoch 36 Validation Accuracy = 0.9114583333333334\n",
            "Epoch 36 Validation Loss = 0.22159942984580994\n",
            "La mejor precisión de Validation Loss (0.22159942984580994) se alcanzó en la época 36\n"
          ]
        },
        {
          "data": {
            "application/vnd.jupyter.widget-view+json": {
              "model_id": "da29d4e365bf49fcb34b33d127835bd3",
              "version_major": 2,
              "version_minor": 0
            },
            "text/plain": [
              "  0%|          | 0/13 [00:00<?, ?batch/s]"
            ]
          },
          "metadata": {},
          "output_type": "display_data"
        },
        {
          "name": "stdout",
          "output_type": "stream",
          "text": [
            "Epoch 37 Training Accuracy = 0.9922279792746114\n",
            "Epoch 37 Training Loss = 0.058587696885815554\n",
            "Epoch 37 Validation Accuracy = 0.8958333333333334\n",
            "Epoch 37 Validation Loss = 0.23231766621271768\n",
            "La mejor precisión de Validation Loss (0.22159942984580994) se alcanzó en la época 36\n"
          ]
        },
        {
          "data": {
            "application/vnd.jupyter.widget-view+json": {
              "model_id": "83467d7e0d4440af8f67a2ae42d82ad1",
              "version_major": 2,
              "version_minor": 0
            },
            "text/plain": [
              "  0%|          | 0/13 [00:00<?, ?batch/s]"
            ]
          },
          "metadata": {},
          "output_type": "display_data"
        },
        {
          "name": "stdout",
          "output_type": "stream",
          "text": [
            "Epoch 38 Training Accuracy = 0.9974093264248705\n",
            "Epoch 38 Training Loss = 0.04947266553967728\n",
            "Epoch 38 Validation Accuracy = 0.9166666666666666\n",
            "Epoch 38 Validation Loss = 0.21002780894438425\n",
            "La mejor precisión de Validation Loss (0.21002780894438425) se alcanzó en la época 38\n"
          ]
        },
        {
          "data": {
            "application/vnd.jupyter.widget-view+json": {
              "model_id": "9406e5a98dfe4c8198e3f3c4266bd6ff",
              "version_major": 2,
              "version_minor": 0
            },
            "text/plain": [
              "  0%|          | 0/13 [00:00<?, ?batch/s]"
            ]
          },
          "metadata": {},
          "output_type": "display_data"
        },
        {
          "name": "stdout",
          "output_type": "stream",
          "text": [
            "Epoch 39 Training Accuracy = 0.9948186528497409\n",
            "Epoch 39 Training Loss = 0.05232512533973536\n",
            "Epoch 39 Validation Accuracy = 0.921875\n",
            "Epoch 39 Validation Loss = 0.21343720952669779\n",
            "La mejor precisión de Validation Loss (0.21002780894438425) se alcanzó en la época 38\n"
          ]
        },
        {
          "data": {
            "application/vnd.jupyter.widget-view+json": {
              "model_id": "441011f8314c440e9e711a9ec4b59ed3",
              "version_major": 2,
              "version_minor": 0
            },
            "text/plain": [
              "  0%|          | 0/13 [00:00<?, ?batch/s]"
            ]
          },
          "metadata": {},
          "output_type": "display_data"
        },
        {
          "name": "stdout",
          "output_type": "stream",
          "text": [
            "Epoch 40 Training Accuracy = 0.9948186528497409\n",
            "Epoch 40 Training Loss = 0.05263278258896862\n",
            "Epoch 40 Validation Accuracy = 0.90625\n",
            "Epoch 40 Validation Loss = 0.2274618148803711\n",
            "La mejor precisión de Validation Loss (0.21002780894438425) se alcanzó en la época 38\n"
          ]
        },
        {
          "data": {
            "application/vnd.jupyter.widget-view+json": {
              "model_id": "c92941225d694dd4b315d4ef56176313",
              "version_major": 2,
              "version_minor": 0
            },
            "text/plain": [
              "  0%|          | 0/13 [00:00<?, ?batch/s]"
            ]
          },
          "metadata": {},
          "output_type": "display_data"
        },
        {
          "name": "stdout",
          "output_type": "stream",
          "text": [
            "Epoch 41 Training Accuracy = 0.9948186528497409\n",
            "Epoch 41 Training Loss = 0.04767238553323894\n",
            "Epoch 41 Validation Accuracy = 0.9114583333333334\n",
            "Epoch 41 Validation Loss = 0.23207112153371176\n",
            "La mejor precisión de Validation Loss (0.21002780894438425) se alcanzó en la época 38\n"
          ]
        },
        {
          "data": {
            "application/vnd.jupyter.widget-view+json": {
              "model_id": "9761f05915ef4bc38e31ad6f071a9e47",
              "version_major": 2,
              "version_minor": 0
            },
            "text/plain": [
              "  0%|          | 0/13 [00:00<?, ?batch/s]"
            ]
          },
          "metadata": {},
          "output_type": "display_data"
        },
        {
          "name": "stdout",
          "output_type": "stream",
          "text": [
            "Epoch 42 Training Accuracy = 0.9948186528497409\n",
            "Epoch 42 Training Loss = 0.04457151241253077\n",
            "Epoch 42 Validation Accuracy = 0.9114583333333334\n",
            "Epoch 42 Validation Loss = 0.23613552749156952\n",
            "La mejor precisión de Validation Loss (0.21002780894438425) se alcanzó en la época 38\n"
          ]
        },
        {
          "data": {
            "application/vnd.jupyter.widget-view+json": {
              "model_id": "8be028c257b54425801cd51ffb5978b9",
              "version_major": 2,
              "version_minor": 0
            },
            "text/plain": [
              "  0%|          | 0/13 [00:00<?, ?batch/s]"
            ]
          },
          "metadata": {},
          "output_type": "display_data"
        },
        {
          "name": "stdout",
          "output_type": "stream",
          "text": [
            "Epoch 43 Training Accuracy = 0.9987046632124352\n",
            "Epoch 43 Training Loss = 0.03626522174770968\n",
            "Epoch 43 Validation Accuracy = 0.90625\n",
            "Epoch 43 Validation Loss = 0.23092399537563324\n",
            "La mejor precisión de Validation Loss (0.21002780894438425) se alcanzó en la época 38\n"
          ]
        },
        {
          "data": {
            "application/vnd.jupyter.widget-view+json": {
              "model_id": "0318ec10ab1e4b4db45b4a11f6f56a76",
              "version_major": 2,
              "version_minor": 0
            },
            "text/plain": [
              "  0%|          | 0/13 [00:00<?, ?batch/s]"
            ]
          },
          "metadata": {},
          "output_type": "display_data"
        },
        {
          "name": "stdout",
          "output_type": "stream",
          "text": [
            "Epoch 44 Training Accuracy = 0.9974093264248705\n",
            "Epoch 44 Training Loss = 0.03757603258048932\n",
            "Epoch 44 Validation Accuracy = 0.9114583333333334\n",
            "Epoch 44 Validation Loss = 0.21424740056196848\n",
            "La mejor precisión de Validation Loss (0.21002780894438425) se alcanzó en la época 38\n"
          ]
        },
        {
          "data": {
            "application/vnd.jupyter.widget-view+json": {
              "model_id": "2d23044f766042a3a488ffc6a8467406",
              "version_major": 2,
              "version_minor": 0
            },
            "text/plain": [
              "  0%|          | 0/13 [00:00<?, ?batch/s]"
            ]
          },
          "metadata": {},
          "output_type": "display_data"
        },
        {
          "name": "stdout",
          "output_type": "stream",
          "text": [
            "Epoch 45 Training Accuracy = 0.9961139896373057\n",
            "Epoch 45 Training Loss = 0.04323696372113697\n",
            "Epoch 45 Validation Accuracy = 0.90625\n",
            "Epoch 45 Validation Loss = 0.2284033497174581\n",
            "La mejor precisión de Validation Loss (0.21002780894438425) se alcanzó en la época 38\n"
          ]
        },
        {
          "data": {
            "application/vnd.jupyter.widget-view+json": {
              "model_id": "4415dab05688453b89b739ffa2f65fb8",
              "version_major": 2,
              "version_minor": 0
            },
            "text/plain": [
              "  0%|          | 0/13 [00:00<?, ?batch/s]"
            ]
          },
          "metadata": {},
          "output_type": "display_data"
        },
        {
          "name": "stdout",
          "output_type": "stream",
          "text": [
            "Epoch 46 Training Accuracy = 0.9974093264248705\n",
            "Epoch 46 Training Loss = 0.03979535115197533\n",
            "Epoch 46 Validation Accuracy = 0.9166666666666666\n",
            "Epoch 46 Validation Loss = 0.22087164719899496\n",
            "La mejor precisión de Validation Loss (0.21002780894438425) se alcanzó en la época 38\n"
          ]
        },
        {
          "data": {
            "application/vnd.jupyter.widget-view+json": {
              "model_id": "5c915a5be83d434cb2d2414e12ab305c",
              "version_major": 2,
              "version_minor": 0
            },
            "text/plain": [
              "  0%|          | 0/13 [00:00<?, ?batch/s]"
            ]
          },
          "metadata": {},
          "output_type": "display_data"
        },
        {
          "name": "stdout",
          "output_type": "stream",
          "text": [
            "Epoch 47 Training Accuracy = 0.9987046632124352\n",
            "Epoch 47 Training Loss = 0.0429100425132198\n",
            "Epoch 47 Validation Accuracy = 0.9166666666666666\n",
            "Epoch 47 Validation Loss = 0.22206238905588785\n",
            "La mejor precisión de Validation Loss (0.21002780894438425) se alcanzó en la época 38\n"
          ]
        },
        {
          "data": {
            "application/vnd.jupyter.widget-view+json": {
              "model_id": "6ab2478ec3bc44a7acbc63aa4ee1e096",
              "version_major": 2,
              "version_minor": 0
            },
            "text/plain": [
              "  0%|          | 0/13 [00:00<?, ?batch/s]"
            ]
          },
          "metadata": {},
          "output_type": "display_data"
        },
        {
          "name": "stdout",
          "output_type": "stream",
          "text": [
            "Epoch 48 Training Accuracy = 0.9961139896373057\n",
            "Epoch 48 Training Loss = 0.03345726430416107\n",
            "Epoch 48 Validation Accuracy = 0.9114583333333334\n",
            "Epoch 48 Validation Loss = 0.23427478472391763\n",
            "La mejor precisión de Validation Loss (0.21002780894438425) se alcanzó en la época 38\n"
          ]
        },
        {
          "data": {
            "application/vnd.jupyter.widget-view+json": {
              "model_id": "ebd1a457acbf4409b89a3ca3d7e07498",
              "version_major": 2,
              "version_minor": 0
            },
            "text/plain": [
              "  0%|          | 0/13 [00:00<?, ?batch/s]"
            ]
          },
          "metadata": {},
          "output_type": "display_data"
        },
        {
          "name": "stdout",
          "output_type": "stream",
          "text": [
            "Epoch 49 Training Accuracy = 0.9974093264248705\n",
            "Epoch 49 Training Loss = 0.033590101439100475\n",
            "Epoch 49 Validation Accuracy = 0.9010416666666666\n",
            "Epoch 49 Validation Loss = 0.2493211974700292\n",
            "La mejor precisión de Validation Loss (0.21002780894438425) se alcanzó en la época 38\n"
          ]
        },
        {
          "data": {
            "application/vnd.jupyter.widget-view+json": {
              "model_id": "fcec17bafe734f0aa7ba476fe818e50c",
              "version_major": 2,
              "version_minor": 0
            },
            "text/plain": [
              "  0%|          | 0/13 [00:00<?, ?batch/s]"
            ]
          },
          "metadata": {},
          "output_type": "display_data"
        },
        {
          "name": "stdout",
          "output_type": "stream",
          "text": [
            "Epoch 50 Training Accuracy = 1.0\n",
            "Epoch 50 Training Loss = 0.02954396783070243\n",
            "Epoch 50 Validation Accuracy = 0.9114583333333334\n",
            "Epoch 50 Validation Loss = 0.23847887913386026\n",
            "La mejor precisión de Validation Loss (0.21002780894438425) se alcanzó en la época 38\n"
          ]
        },
        {
          "data": {
            "application/vnd.jupyter.widget-view+json": {
              "model_id": "7d470a1e43ae40ca8a7eba981bda51a5",
              "version_major": 2,
              "version_minor": 0
            },
            "text/plain": [
              "  0%|          | 0/13 [00:00<?, ?batch/s]"
            ]
          },
          "metadata": {},
          "output_type": "display_data"
        },
        {
          "name": "stdout",
          "output_type": "stream",
          "text": [
            "Epoch 51 Training Accuracy = 0.9961139896373057\n",
            "Epoch 51 Training Loss = 0.035373924927390304\n",
            "Epoch 51 Validation Accuracy = 0.8958333333333334\n",
            "Epoch 51 Validation Loss = 0.23846001426378885\n",
            "La mejor precisión de Validation Loss (0.21002780894438425) se alcanzó en la época 38\n"
          ]
        },
        {
          "data": {
            "application/vnd.jupyter.widget-view+json": {
              "model_id": "feadc1de621942d994f8965ad04b99e3",
              "version_major": 2,
              "version_minor": 0
            },
            "text/plain": [
              "  0%|          | 0/13 [00:00<?, ?batch/s]"
            ]
          },
          "metadata": {},
          "output_type": "display_data"
        },
        {
          "name": "stdout",
          "output_type": "stream",
          "text": [
            "Epoch 52 Training Accuracy = 0.9961139896373057\n",
            "Epoch 52 Training Loss = 0.02912367270400487\n",
            "Epoch 52 Validation Accuracy = 0.90625\n",
            "Epoch 52 Validation Loss = 0.228081742922465\n",
            "La mejor precisión de Validation Loss (0.21002780894438425) se alcanzó en la época 38\n"
          ]
        },
        {
          "data": {
            "application/vnd.jupyter.widget-view+json": {
              "model_id": "8cb181da52ee44b38175d3fdfb7e9b5c",
              "version_major": 2,
              "version_minor": 0
            },
            "text/plain": [
              "  0%|          | 0/13 [00:00<?, ?batch/s]"
            ]
          },
          "metadata": {},
          "output_type": "display_data"
        },
        {
          "name": "stdout",
          "output_type": "stream",
          "text": [
            "Epoch 53 Training Accuracy = 0.9974093264248705\n",
            "Epoch 53 Training Loss = 0.034542659017706166\n",
            "Epoch 53 Validation Accuracy = 0.9010416666666666\n",
            "Epoch 53 Validation Loss = 0.2219623625278473\n",
            "La mejor precisión de Validation Loss (0.21002780894438425) se alcanzó en la época 38\n"
          ]
        },
        {
          "data": {
            "application/vnd.jupyter.widget-view+json": {
              "model_id": "e39f274be22741e5b05e1b077c9edae4",
              "version_major": 2,
              "version_minor": 0
            },
            "text/plain": [
              "  0%|          | 0/13 [00:00<?, ?batch/s]"
            ]
          },
          "metadata": {},
          "output_type": "display_data"
        },
        {
          "name": "stdout",
          "output_type": "stream",
          "text": [
            "Epoch 54 Training Accuracy = 0.9922279792746114\n",
            "Epoch 54 Training Loss = 0.04186442535891743\n",
            "Epoch 54 Validation Accuracy = 0.921875\n",
            "Epoch 54 Validation Loss = 0.2029059181610743\n",
            "La mejor precisión de Validation Loss (0.2029059181610743) se alcanzó en la época 54\n"
          ]
        },
        {
          "data": {
            "application/vnd.jupyter.widget-view+json": {
              "model_id": "de7dd5d1e1d94b0382c94a194b7ce67c",
              "version_major": 2,
              "version_minor": 0
            },
            "text/plain": [
              "  0%|          | 0/13 [00:00<?, ?batch/s]"
            ]
          },
          "metadata": {},
          "output_type": "display_data"
        },
        {
          "name": "stdout",
          "output_type": "stream",
          "text": [
            "Epoch 55 Training Accuracy = 0.9948186528497409\n",
            "Epoch 55 Training Loss = 0.03759761007956273\n",
            "Epoch 55 Validation Accuracy = 0.90625\n",
            "Epoch 55 Validation Loss = 0.2343587875366211\n",
            "La mejor precisión de Validation Loss (0.2029059181610743) se alcanzó en la época 54\n"
          ]
        },
        {
          "data": {
            "application/vnd.jupyter.widget-view+json": {
              "model_id": "bf5a56d3704a4fc7be66ea25044b1e2e",
              "version_major": 2,
              "version_minor": 0
            },
            "text/plain": [
              "  0%|          | 0/13 [00:00<?, ?batch/s]"
            ]
          },
          "metadata": {},
          "output_type": "display_data"
        },
        {
          "name": "stdout",
          "output_type": "stream",
          "text": [
            "Epoch 56 Training Accuracy = 0.9987046632124352\n",
            "Epoch 56 Training Loss = 0.030610811293433984\n",
            "Epoch 56 Validation Accuracy = 0.90625\n",
            "Epoch 56 Validation Loss = 0.2280840426683426\n",
            "La mejor precisión de Validation Loss (0.2029059181610743) se alcanzó en la época 54\n"
          ]
        },
        {
          "data": {
            "application/vnd.jupyter.widget-view+json": {
              "model_id": "2139fda84f1d46aa8469e66151549d10",
              "version_major": 2,
              "version_minor": 0
            },
            "text/plain": [
              "  0%|          | 0/13 [00:00<?, ?batch/s]"
            ]
          },
          "metadata": {},
          "output_type": "display_data"
        },
        {
          "name": "stdout",
          "output_type": "stream",
          "text": [
            "Epoch 57 Training Accuracy = 0.9961139896373057\n",
            "Epoch 57 Training Loss = 0.032619519554889266\n",
            "Epoch 57 Validation Accuracy = 0.9114583333333334\n",
            "Epoch 57 Validation Loss = 0.23981029788653055\n",
            "La mejor precisión de Validation Loss (0.2029059181610743) se alcanzó en la época 54\n"
          ]
        },
        {
          "data": {
            "application/vnd.jupyter.widget-view+json": {
              "model_id": "c0bc1cac6e8d41f68fd927250821bc6c",
              "version_major": 2,
              "version_minor": 0
            },
            "text/plain": [
              "  0%|          | 0/13 [00:00<?, ?batch/s]"
            ]
          },
          "metadata": {},
          "output_type": "display_data"
        },
        {
          "name": "stdout",
          "output_type": "stream",
          "text": [
            "Epoch 58 Training Accuracy = 0.9974093264248705\n",
            "Epoch 58 Training Loss = 0.03381278053157688\n",
            "Epoch 58 Validation Accuracy = 0.9114583333333334\n",
            "Epoch 58 Validation Loss = 0.23628564675649008\n",
            "La mejor precisión de Validation Loss (0.2029059181610743) se alcanzó en la época 54\n"
          ]
        },
        {
          "data": {
            "application/vnd.jupyter.widget-view+json": {
              "model_id": "ec84e63adc4b41298ffc29c9e72c03f2",
              "version_major": 2,
              "version_minor": 0
            },
            "text/plain": [
              "  0%|          | 0/13 [00:00<?, ?batch/s]"
            ]
          },
          "metadata": {},
          "output_type": "display_data"
        },
        {
          "name": "stdout",
          "output_type": "stream",
          "text": [
            "Epoch 59 Training Accuracy = 0.9974093264248705\n",
            "Epoch 59 Training Loss = 0.0394070981736319\n",
            "Epoch 59 Validation Accuracy = 0.9166666666666666\n",
            "Epoch 59 Validation Loss = 0.23487994074821472\n",
            "La mejor precisión de Validation Loss (0.2029059181610743) se alcanzó en la época 54\n"
          ]
        },
        {
          "data": {
            "application/vnd.jupyter.widget-view+json": {
              "model_id": "4d9e82718c2b4ff98e0977ab8656551e",
              "version_major": 2,
              "version_minor": 0
            },
            "text/plain": [
              "  0%|          | 0/13 [00:00<?, ?batch/s]"
            ]
          },
          "metadata": {},
          "output_type": "display_data"
        },
        {
          "name": "stdout",
          "output_type": "stream",
          "text": [
            "Epoch 60 Training Accuracy = 0.9961139896373057\n",
            "Epoch 60 Training Loss = 0.03433723516105988\n",
            "Epoch 60 Validation Accuracy = 0.921875\n",
            "Epoch 60 Validation Loss = 0.22945343454678854\n",
            "La mejor precisión de Validation Loss (0.2029059181610743) se alcanzó en la época 54\n"
          ]
        },
        {
          "data": {
            "application/vnd.jupyter.widget-view+json": {
              "model_id": "0e7293b26aed4d20ae0ed1c5207a83a4",
              "version_major": 2,
              "version_minor": 0
            },
            "text/plain": [
              "  0%|          | 0/13 [00:00<?, ?batch/s]"
            ]
          },
          "metadata": {},
          "output_type": "display_data"
        },
        {
          "name": "stdout",
          "output_type": "stream",
          "text": [
            "Epoch 61 Training Accuracy = 0.9987046632124352\n",
            "Epoch 61 Training Loss = 0.02998860435164654\n",
            "Epoch 61 Validation Accuracy = 0.8958333333333334\n",
            "Epoch 61 Validation Loss = 0.2248559594154358\n",
            "La mejor precisión de Validation Loss (0.2029059181610743) se alcanzó en la época 54\n"
          ]
        },
        {
          "data": {
            "application/vnd.jupyter.widget-view+json": {
              "model_id": "cfa998a69bb94a798cbe2f88925e70ce",
              "version_major": 2,
              "version_minor": 0
            },
            "text/plain": [
              "  0%|          | 0/13 [00:00<?, ?batch/s]"
            ]
          },
          "metadata": {},
          "output_type": "display_data"
        },
        {
          "name": "stdout",
          "output_type": "stream",
          "text": [
            "Epoch 62 Training Accuracy = 0.9935233160621761\n",
            "Epoch 62 Training Loss = 0.03382069852994514\n",
            "Epoch 62 Validation Accuracy = 0.9270833333333334\n",
            "Epoch 62 Validation Loss = 0.20624634623527527\n",
            "La mejor precisión de Validation Loss (0.2029059181610743) se alcanzó en la época 54\n"
          ]
        },
        {
          "data": {
            "application/vnd.jupyter.widget-view+json": {
              "model_id": "fe8450fa426b48fba76136edf4540909",
              "version_major": 2,
              "version_minor": 0
            },
            "text/plain": [
              "  0%|          | 0/13 [00:00<?, ?batch/s]"
            ]
          },
          "metadata": {},
          "output_type": "display_data"
        },
        {
          "name": "stdout",
          "output_type": "stream",
          "text": [
            "Epoch 63 Training Accuracy = 1.0\n",
            "Epoch 63 Training Loss = 0.02973412988717074\n",
            "Epoch 63 Validation Accuracy = 0.9166666666666666\n",
            "Epoch 63 Validation Loss = 0.24287750820318857\n",
            "La mejor precisión de Validation Loss (0.2029059181610743) se alcanzó en la época 54\n"
          ]
        },
        {
          "data": {
            "application/vnd.jupyter.widget-view+json": {
              "model_id": "7230b32f719e478aa9e6ce17fb06c056",
              "version_major": 2,
              "version_minor": 0
            },
            "text/plain": [
              "  0%|          | 0/13 [00:00<?, ?batch/s]"
            ]
          },
          "metadata": {},
          "output_type": "display_data"
        },
        {
          "name": "stdout",
          "output_type": "stream",
          "text": [
            "Epoch 64 Training Accuracy = 0.9961139896373057\n",
            "Epoch 64 Training Loss = 0.0344976171696742\n",
            "Epoch 64 Validation Accuracy = 0.8958333333333334\n",
            "Epoch 64 Validation Loss = 0.23993491133054098\n",
            "La mejor precisión de Validation Loss (0.2029059181610743) se alcanzó en la época 54\n"
          ]
        },
        {
          "data": {
            "application/vnd.jupyter.widget-view+json": {
              "model_id": "49afa650670e4d5981833a2b74d713b8",
              "version_major": 2,
              "version_minor": 0
            },
            "text/plain": [
              "  0%|          | 0/13 [00:00<?, ?batch/s]"
            ]
          },
          "metadata": {},
          "output_type": "display_data"
        },
        {
          "name": "stdout",
          "output_type": "stream",
          "text": [
            "Epoch 65 Training Accuracy = 0.9961139896373057\n",
            "Epoch 65 Training Loss = 0.03215375959564367\n",
            "Epoch 65 Validation Accuracy = 0.8958333333333334\n",
            "Epoch 65 Validation Loss = 0.21801372369130453\n",
            "La mejor precisión de Validation Loss (0.2029059181610743) se alcanzó en la época 54\n"
          ]
        },
        {
          "data": {
            "application/vnd.jupyter.widget-view+json": {
              "model_id": "94e2691091c44c659c33fd2c93e38400",
              "version_major": 2,
              "version_minor": 0
            },
            "text/plain": [
              "  0%|          | 0/13 [00:00<?, ?batch/s]"
            ]
          },
          "metadata": {},
          "output_type": "display_data"
        },
        {
          "name": "stdout",
          "output_type": "stream",
          "text": [
            "Epoch 66 Training Accuracy = 0.9987046632124352\n",
            "Epoch 66 Training Loss = 0.030936852908196227\n",
            "Epoch 66 Validation Accuracy = 0.90625\n",
            "Epoch 66 Validation Loss = 0.21877504388491312\n",
            "La mejor precisión de Validation Loss (0.2029059181610743) se alcanzó en la época 54\n"
          ]
        },
        {
          "data": {
            "application/vnd.jupyter.widget-view+json": {
              "model_id": "9b5d5f4865b841a4a22ff7ba8378595a",
              "version_major": 2,
              "version_minor": 0
            },
            "text/plain": [
              "  0%|          | 0/13 [00:00<?, ?batch/s]"
            ]
          },
          "metadata": {},
          "output_type": "display_data"
        },
        {
          "name": "stdout",
          "output_type": "stream",
          "text": [
            "Epoch 67 Training Accuracy = 0.9961139896373057\n",
            "Epoch 67 Training Loss = 0.0353897893367036\n",
            "Epoch 67 Validation Accuracy = 0.90625\n",
            "Epoch 67 Validation Loss = 0.22806050380071005\n",
            "La mejor precisión de Validation Loss (0.2029059181610743) se alcanzó en la época 54\n"
          ]
        },
        {
          "data": {
            "application/vnd.jupyter.widget-view+json": {
              "model_id": "a627d04012e141a2b9c57257db8a2581",
              "version_major": 2,
              "version_minor": 0
            },
            "text/plain": [
              "  0%|          | 0/13 [00:00<?, ?batch/s]"
            ]
          },
          "metadata": {},
          "output_type": "display_data"
        },
        {
          "name": "stdout",
          "output_type": "stream",
          "text": [
            "Epoch 68 Training Accuracy = 0.9974093264248705\n",
            "Epoch 68 Training Loss = 0.02784102923511841\n",
            "Epoch 68 Validation Accuracy = 0.9010416666666666\n",
            "Epoch 68 Validation Loss = 0.21053657432397208\n",
            "La mejor precisión de Validation Loss (0.2029059181610743) se alcanzó en la época 54\n"
          ]
        },
        {
          "data": {
            "application/vnd.jupyter.widget-view+json": {
              "model_id": "15f847f5980942b4bad2711539c7be12",
              "version_major": 2,
              "version_minor": 0
            },
            "text/plain": [
              "  0%|          | 0/13 [00:00<?, ?batch/s]"
            ]
          },
          "metadata": {},
          "output_type": "display_data"
        },
        {
          "name": "stdout",
          "output_type": "stream",
          "text": [
            "Epoch 69 Training Accuracy = 0.9961139896373057\n",
            "Epoch 69 Training Loss = 0.030070741713973524\n",
            "Epoch 69 Validation Accuracy = 0.9010416666666666\n",
            "Epoch 69 Validation Loss = 0.23037035763263702\n",
            "La mejor precisión de Validation Loss (0.2029059181610743) se alcanzó en la época 54\n"
          ]
        },
        {
          "data": {
            "application/vnd.jupyter.widget-view+json": {
              "model_id": "42de0531e58d42b49a3d34d15272e8ea",
              "version_major": 2,
              "version_minor": 0
            },
            "text/plain": [
              "  0%|          | 0/13 [00:00<?, ?batch/s]"
            ]
          },
          "metadata": {},
          "output_type": "display_data"
        },
        {
          "name": "stdout",
          "output_type": "stream",
          "text": [
            "Epoch 70 Training Accuracy = 0.9961139896373057\n",
            "Epoch 70 Training Loss = 0.03926152732088158\n",
            "Epoch 70 Validation Accuracy = 0.8958333333333334\n",
            "Epoch 70 Validation Loss = 0.24296167492866516\n",
            "La mejor precisión de Validation Loss (0.2029059181610743) se alcanzó en la época 54\n"
          ]
        },
        {
          "data": {
            "application/vnd.jupyter.widget-view+json": {
              "model_id": "37f694f46fef45948494473060b51d13",
              "version_major": 2,
              "version_minor": 0
            },
            "text/plain": [
              "  0%|          | 0/13 [00:00<?, ?batch/s]"
            ]
          },
          "metadata": {},
          "output_type": "display_data"
        },
        {
          "name": "stdout",
          "output_type": "stream",
          "text": [
            "Epoch 71 Training Accuracy = 0.9948186528497409\n",
            "Epoch 71 Training Loss = 0.03679371158076074\n",
            "Epoch 71 Validation Accuracy = 0.9010416666666666\n",
            "Epoch 71 Validation Loss = 0.23480452100435892\n",
            "La mejor precisión de Validation Loss (0.2029059181610743) se alcanzó en la época 54\n"
          ]
        },
        {
          "data": {
            "application/vnd.jupyter.widget-view+json": {
              "model_id": "f3874cf9ee7143cfb4e781fe34d848fd",
              "version_major": 2,
              "version_minor": 0
            },
            "text/plain": [
              "  0%|          | 0/13 [00:00<?, ?batch/s]"
            ]
          },
          "metadata": {},
          "output_type": "display_data"
        },
        {
          "name": "stdout",
          "output_type": "stream",
          "text": [
            "Epoch 72 Training Accuracy = 0.9935233160621761\n",
            "Epoch 72 Training Loss = 0.0366123036862655\n",
            "Epoch 72 Validation Accuracy = 0.90625\n",
            "Epoch 72 Validation Loss = 0.2468090901772181\n",
            "La mejor precisión de Validation Loss (0.2029059181610743) se alcanzó en la época 54\n"
          ]
        },
        {
          "data": {
            "application/vnd.jupyter.widget-view+json": {
              "model_id": "a4afcb20699c42a6b960a9deac5f3321",
              "version_major": 2,
              "version_minor": 0
            },
            "text/plain": [
              "  0%|          | 0/13 [00:00<?, ?batch/s]"
            ]
          },
          "metadata": {},
          "output_type": "display_data"
        },
        {
          "name": "stdout",
          "output_type": "stream",
          "text": [
            "Epoch 73 Training Accuracy = 0.9961139896373057\n",
            "Epoch 73 Training Loss = 0.038394267154481125\n",
            "Epoch 73 Validation Accuracy = 0.9270833333333334\n",
            "Epoch 73 Validation Loss = 0.21013840536276499\n",
            "La mejor precisión de Validation Loss (0.2029059181610743) se alcanzó en la época 54\n"
          ]
        },
        {
          "data": {
            "application/vnd.jupyter.widget-view+json": {
              "model_id": "95c822bb65ef4769bf5a4a269d2cb556",
              "version_major": 2,
              "version_minor": 0
            },
            "text/plain": [
              "  0%|          | 0/13 [00:00<?, ?batch/s]"
            ]
          },
          "metadata": {},
          "output_type": "display_data"
        },
        {
          "name": "stdout",
          "output_type": "stream",
          "text": [
            "Epoch 74 Training Accuracy = 0.9948186528497409\n",
            "Epoch 74 Training Loss = 0.04070186769406413\n",
            "Epoch 74 Validation Accuracy = 0.9166666666666666\n",
            "Epoch 74 Validation Loss = 0.21508613477150598\n",
            "La mejor precisión de Validation Loss (0.2029059181610743) se alcanzó en la época 54\n"
          ]
        },
        {
          "data": {
            "application/vnd.jupyter.widget-view+json": {
              "model_id": "f8b04c81a5aa4f9db899b9aea4f14617",
              "version_major": 2,
              "version_minor": 0
            },
            "text/plain": [
              "  0%|          | 0/13 [00:00<?, ?batch/s]"
            ]
          },
          "metadata": {},
          "output_type": "display_data"
        },
        {
          "name": "stdout",
          "output_type": "stream",
          "text": [
            "Epoch 75 Training Accuracy = 0.9870466321243523\n",
            "Epoch 75 Training Loss = 0.0533045465464419\n",
            "Epoch 75 Validation Accuracy = 0.8958333333333334\n",
            "Epoch 75 Validation Loss = 0.24747335414091745\n",
            "La mejor precisión de Validation Loss (0.2029059181610743) se alcanzó en la época 54\n"
          ]
        },
        {
          "data": {
            "application/vnd.jupyter.widget-view+json": {
              "model_id": "5039224b5b264cedaf806b22422cd5c2",
              "version_major": 2,
              "version_minor": 0
            },
            "text/plain": [
              "  0%|          | 0/13 [00:00<?, ?batch/s]"
            ]
          },
          "metadata": {},
          "output_type": "display_data"
        },
        {
          "name": "stdout",
          "output_type": "stream",
          "text": [
            "Epoch 76 Training Accuracy = 0.9961139896373057\n",
            "Epoch 76 Training Loss = 0.03913171172450861\n",
            "Epoch 76 Validation Accuracy = 0.9114583333333334\n",
            "Epoch 76 Validation Loss = 0.22118085622787476\n",
            "La mejor precisión de Validation Loss (0.2029059181610743) se alcanzó en la época 54\n"
          ]
        },
        {
          "data": {
            "application/vnd.jupyter.widget-view+json": {
              "model_id": "9c08712c5afc4b6dbf35b4fee7eb77e8",
              "version_major": 2,
              "version_minor": 0
            },
            "text/plain": [
              "  0%|          | 0/13 [00:00<?, ?batch/s]"
            ]
          },
          "metadata": {},
          "output_type": "display_data"
        },
        {
          "name": "stdout",
          "output_type": "stream",
          "text": [
            "Epoch 77 Training Accuracy = 0.9883419689119171\n",
            "Epoch 77 Training Loss = 0.04619671211341502\n",
            "Epoch 77 Validation Accuracy = 0.8958333333333334\n",
            "Epoch 77 Validation Loss = 0.2498460908730825\n",
            "La mejor precisión de Validation Loss (0.2029059181610743) se alcanzó en la época 54\n"
          ]
        },
        {
          "data": {
            "application/vnd.jupyter.widget-view+json": {
              "model_id": "b003c1d1bb024fb28f603f7dc65f4509",
              "version_major": 2,
              "version_minor": 0
            },
            "text/plain": [
              "  0%|          | 0/13 [00:00<?, ?batch/s]"
            ]
          },
          "metadata": {},
          "output_type": "display_data"
        },
        {
          "name": "stdout",
          "output_type": "stream",
          "text": [
            "Epoch 78 Training Accuracy = 0.9948186528497409\n",
            "Epoch 78 Training Loss = 0.03726556603772652\n",
            "Epoch 78 Validation Accuracy = 0.9114583333333334\n",
            "Epoch 78 Validation Loss = 0.20080167055130005\n",
            "La mejor precisión de Validation Loss (0.20080167055130005) se alcanzó en la época 78\n"
          ]
        },
        {
          "data": {
            "application/vnd.jupyter.widget-view+json": {
              "model_id": "abace355aadc4ae293e555f0fb2c7c40",
              "version_major": 2,
              "version_minor": 0
            },
            "text/plain": [
              "  0%|          | 0/13 [00:00<?, ?batch/s]"
            ]
          },
          "metadata": {},
          "output_type": "display_data"
        },
        {
          "name": "stdout",
          "output_type": "stream",
          "text": [
            "Epoch 79 Training Accuracy = 0.9974093264248705\n",
            "Epoch 79 Training Loss = 0.03147341226049038\n",
            "Epoch 79 Validation Accuracy = 0.9114583333333334\n",
            "Epoch 79 Validation Loss = 0.21474764744440714\n",
            "La mejor precisión de Validation Loss (0.20080167055130005) se alcanzó en la época 78\n"
          ]
        },
        {
          "data": {
            "application/vnd.jupyter.widget-view+json": {
              "model_id": "6ac8512e847144baae793e238b8c6cf0",
              "version_major": 2,
              "version_minor": 0
            },
            "text/plain": [
              "  0%|          | 0/13 [00:00<?, ?batch/s]"
            ]
          },
          "metadata": {},
          "output_type": "display_data"
        },
        {
          "name": "stdout",
          "output_type": "stream",
          "text": [
            "Epoch 80 Training Accuracy = 0.9961139896373057\n",
            "Epoch 80 Training Loss = 0.0340143772604552\n",
            "Epoch 80 Validation Accuracy = 0.9166666666666666\n",
            "Epoch 80 Validation Loss = 0.20298870901266733\n",
            "La mejor precisión de Validation Loss (0.20080167055130005) se alcanzó en la época 78\n"
          ]
        },
        {
          "data": {
            "application/vnd.jupyter.widget-view+json": {
              "model_id": "67d4efa2158d47aab082ab4171a81e9d",
              "version_major": 2,
              "version_minor": 0
            },
            "text/plain": [
              "  0%|          | 0/13 [00:00<?, ?batch/s]"
            ]
          },
          "metadata": {},
          "output_type": "display_data"
        },
        {
          "name": "stdout",
          "output_type": "stream",
          "text": [
            "Epoch 81 Training Accuracy = 0.9987046632124352\n",
            "Epoch 81 Training Loss = 0.02536037803622725\n",
            "Epoch 81 Validation Accuracy = 0.9166666666666666\n",
            "Epoch 81 Validation Loss = 0.21912486851215363\n",
            "La mejor precisión de Validation Loss (0.20080167055130005) se alcanzó en la época 78\n"
          ]
        },
        {
          "data": {
            "application/vnd.jupyter.widget-view+json": {
              "model_id": "e542e2cb23b74f8d9a12d67af046aef3",
              "version_major": 2,
              "version_minor": 0
            },
            "text/plain": [
              "  0%|          | 0/13 [00:00<?, ?batch/s]"
            ]
          },
          "metadata": {},
          "output_type": "display_data"
        },
        {
          "name": "stdout",
          "output_type": "stream",
          "text": [
            "Epoch 82 Training Accuracy = 0.9974093264248705\n",
            "Epoch 82 Training Loss = 0.02835180239819492\n",
            "Epoch 82 Validation Accuracy = 0.90625\n",
            "Epoch 82 Validation Loss = 0.2200478439529737\n",
            "La mejor precisión de Validation Loss (0.20080167055130005) se alcanzó en la época 78\n"
          ]
        },
        {
          "data": {
            "application/vnd.jupyter.widget-view+json": {
              "model_id": "d64b3aaeef82464380529951a02ff8bb",
              "version_major": 2,
              "version_minor": 0
            },
            "text/plain": [
              "  0%|          | 0/13 [00:00<?, ?batch/s]"
            ]
          },
          "metadata": {},
          "output_type": "display_data"
        },
        {
          "name": "stdout",
          "output_type": "stream",
          "text": [
            "Epoch 83 Training Accuracy = 0.9948186528497409\n",
            "Epoch 83 Training Loss = 0.03366021443293502\n",
            "Epoch 83 Validation Accuracy = 0.90625\n",
            "Epoch 83 Validation Loss = 0.23418347040812174\n",
            "La mejor precisión de Validation Loss (0.20080167055130005) se alcanzó en la época 78\n"
          ]
        },
        {
          "data": {
            "application/vnd.jupyter.widget-view+json": {
              "model_id": "69fcef61b12548ccb2f6871d8819e127",
              "version_major": 2,
              "version_minor": 0
            },
            "text/plain": [
              "  0%|          | 0/13 [00:00<?, ?batch/s]"
            ]
          },
          "metadata": {},
          "output_type": "display_data"
        },
        {
          "name": "stdout",
          "output_type": "stream",
          "text": [
            "Epoch 84 Training Accuracy = 0.9948186528497409\n",
            "Epoch 84 Training Loss = 0.03388787041674006\n",
            "Epoch 84 Validation Accuracy = 0.9270833333333334\n",
            "Epoch 84 Validation Loss = 0.18713047603766123\n",
            "La mejor precisión de Validation Loss (0.18713047603766123) se alcanzó en la época 84\n"
          ]
        },
        {
          "data": {
            "application/vnd.jupyter.widget-view+json": {
              "model_id": "0baede11cd23455b8e7f435be041762a",
              "version_major": 2,
              "version_minor": 0
            },
            "text/plain": [
              "  0%|          | 0/13 [00:00<?, ?batch/s]"
            ]
          },
          "metadata": {},
          "output_type": "display_data"
        },
        {
          "name": "stdout",
          "output_type": "stream",
          "text": [
            "Epoch 85 Training Accuracy = 0.9922279792746114\n",
            "Epoch 85 Training Loss = 0.03301997853375469\n",
            "Epoch 85 Validation Accuracy = 0.90625\n",
            "Epoch 85 Validation Loss = 0.2263484646876653\n",
            "La mejor precisión de Validation Loss (0.18713047603766123) se alcanzó en la época 84\n"
          ]
        },
        {
          "data": {
            "application/vnd.jupyter.widget-view+json": {
              "model_id": "13a9798d66de4255976c10406beaec81",
              "version_major": 2,
              "version_minor": 0
            },
            "text/plain": [
              "  0%|          | 0/13 [00:00<?, ?batch/s]"
            ]
          },
          "metadata": {},
          "output_type": "display_data"
        },
        {
          "name": "stdout",
          "output_type": "stream",
          "text": [
            "Epoch 86 Training Accuracy = 0.9948186528497409\n",
            "Epoch 86 Training Loss = 0.028866584745713467\n",
            "Epoch 86 Validation Accuracy = 0.9114583333333334\n",
            "Epoch 86 Validation Loss = 0.23359794169664383\n",
            "La mejor precisión de Validation Loss (0.18713047603766123) se alcanzó en la época 84\n"
          ]
        },
        {
          "data": {
            "application/vnd.jupyter.widget-view+json": {
              "model_id": "2b32205e8911447f956044ba9850c017",
              "version_major": 2,
              "version_minor": 0
            },
            "text/plain": [
              "  0%|          | 0/13 [00:00<?, ?batch/s]"
            ]
          },
          "metadata": {},
          "output_type": "display_data"
        },
        {
          "name": "stdout",
          "output_type": "stream",
          "text": [
            "Epoch 87 Training Accuracy = 0.9935233160621761\n",
            "Epoch 87 Training Loss = 0.032652433131642906\n",
            "Epoch 87 Validation Accuracy = 0.90625\n",
            "Epoch 87 Validation Loss = 0.2287136713663737\n",
            "La mejor precisión de Validation Loss (0.18713047603766123) se alcanzó en la época 84\n"
          ]
        },
        {
          "data": {
            "application/vnd.jupyter.widget-view+json": {
              "model_id": "79c46774d83c4d84af34332e95b5f06c",
              "version_major": 2,
              "version_minor": 0
            },
            "text/plain": [
              "  0%|          | 0/13 [00:00<?, ?batch/s]"
            ]
          },
          "metadata": {},
          "output_type": "display_data"
        },
        {
          "name": "stdout",
          "output_type": "stream",
          "text": [
            "Epoch 88 Training Accuracy = 0.9974093264248705\n",
            "Epoch 88 Training Loss = 0.030095055544932272\n",
            "Epoch 88 Validation Accuracy = 0.9010416666666666\n",
            "Epoch 88 Validation Loss = 0.23730677366256714\n",
            "La mejor precisión de Validation Loss (0.18713047603766123) se alcanzó en la época 84\n"
          ]
        },
        {
          "data": {
            "application/vnd.jupyter.widget-view+json": {
              "model_id": "c7c633349d144fe7a3400b4a195a49f3",
              "version_major": 2,
              "version_minor": 0
            },
            "text/plain": [
              "  0%|          | 0/13 [00:00<?, ?batch/s]"
            ]
          },
          "metadata": {},
          "output_type": "display_data"
        },
        {
          "name": "stdout",
          "output_type": "stream",
          "text": [
            "Epoch 89 Training Accuracy = 0.9935233160621761\n",
            "Epoch 89 Training Loss = 0.02995912151633149\n",
            "Epoch 89 Validation Accuracy = 0.921875\n",
            "Epoch 89 Validation Loss = 0.20842867096265158\n",
            "La mejor precisión de Validation Loss (0.18713047603766123) se alcanzó en la época 84\n"
          ]
        },
        {
          "data": {
            "application/vnd.jupyter.widget-view+json": {
              "model_id": "df97d770212046c692a61b9fb2864bb0",
              "version_major": 2,
              "version_minor": 0
            },
            "text/plain": [
              "  0%|          | 0/13 [00:00<?, ?batch/s]"
            ]
          },
          "metadata": {},
          "output_type": "display_data"
        },
        {
          "name": "stdout",
          "output_type": "stream",
          "text": [
            "Epoch 90 Training Accuracy = 0.9974093264248705\n",
            "Epoch 90 Training Loss = 0.029200259074954788\n",
            "Epoch 90 Validation Accuracy = 0.9114583333333334\n",
            "Epoch 90 Validation Loss = 0.25663143893082935\n",
            "La mejor precisión de Validation Loss (0.18713047603766123) se alcanzó en la época 84\n"
          ]
        },
        {
          "data": {
            "application/vnd.jupyter.widget-view+json": {
              "model_id": "8c809641126a4a86a23d15032a84076d",
              "version_major": 2,
              "version_minor": 0
            },
            "text/plain": [
              "  0%|          | 0/13 [00:00<?, ?batch/s]"
            ]
          },
          "metadata": {},
          "output_type": "display_data"
        },
        {
          "name": "stdout",
          "output_type": "stream",
          "text": [
            "Epoch 91 Training Accuracy = 0.9987046632124352\n",
            "Epoch 91 Training Loss = 0.03018384075535394\n",
            "Epoch 91 Validation Accuracy = 0.9114583333333334\n",
            "Epoch 91 Validation Loss = 0.208709254860878\n",
            "La mejor precisión de Validation Loss (0.18713047603766123) se alcanzó en la época 84\n"
          ]
        },
        {
          "data": {
            "application/vnd.jupyter.widget-view+json": {
              "model_id": "ced293162a724df89cc33ff0f309075e",
              "version_major": 2,
              "version_minor": 0
            },
            "text/plain": [
              "  0%|          | 0/13 [00:00<?, ?batch/s]"
            ]
          },
          "metadata": {},
          "output_type": "display_data"
        },
        {
          "name": "stdout",
          "output_type": "stream",
          "text": [
            "Epoch 92 Training Accuracy = 0.9948186528497409\n",
            "Epoch 92 Training Loss = 0.029150840995225264\n",
            "Epoch 92 Validation Accuracy = 0.90625\n",
            "Epoch 92 Validation Loss = 0.24897813300291696\n",
            "La mejor precisión de Validation Loss (0.18713047603766123) se alcanzó en la época 84\n"
          ]
        },
        {
          "data": {
            "application/vnd.jupyter.widget-view+json": {
              "model_id": "56e03e2507ee4692ae5614db0e33d0ee",
              "version_major": 2,
              "version_minor": 0
            },
            "text/plain": [
              "  0%|          | 0/13 [00:00<?, ?batch/s]"
            ]
          },
          "metadata": {},
          "output_type": "display_data"
        },
        {
          "name": "stdout",
          "output_type": "stream",
          "text": [
            "Epoch 93 Training Accuracy = 0.9987046632124352\n",
            "Epoch 93 Training Loss = 0.021696181958203487\n",
            "Epoch 93 Validation Accuracy = 0.9166666666666666\n",
            "Epoch 93 Validation Loss = 0.23112130165100098\n",
            "La mejor precisión de Validation Loss (0.18713047603766123) se alcanzó en la época 84\n"
          ]
        },
        {
          "data": {
            "application/vnd.jupyter.widget-view+json": {
              "model_id": "327d3bc02f3e46539b4e8756e1cc0f14",
              "version_major": 2,
              "version_minor": 0
            },
            "text/plain": [
              "  0%|          | 0/13 [00:00<?, ?batch/s]"
            ]
          },
          "metadata": {},
          "output_type": "display_data"
        },
        {
          "name": "stdout",
          "output_type": "stream",
          "text": [
            "Epoch 94 Training Accuracy = 0.9974093264248705\n",
            "Epoch 94 Training Loss = 0.028869046873070417\n",
            "Epoch 94 Validation Accuracy = 0.90625\n",
            "Epoch 94 Validation Loss = 0.2402016967535019\n",
            "La mejor precisión de Validation Loss (0.18713047603766123) se alcanzó en la época 84\n"
          ]
        },
        {
          "data": {
            "application/vnd.jupyter.widget-view+json": {
              "model_id": "4d1fba5a53ea4a5b950fe84b68a1ece5",
              "version_major": 2,
              "version_minor": 0
            },
            "text/plain": [
              "  0%|          | 0/13 [00:00<?, ?batch/s]"
            ]
          },
          "metadata": {},
          "output_type": "display_data"
        },
        {
          "name": "stdout",
          "output_type": "stream",
          "text": [
            "Epoch 95 Training Accuracy = 0.9961139896373057\n",
            "Epoch 95 Training Loss = 0.02951247716042662\n",
            "Epoch 95 Validation Accuracy = 0.9322916666666666\n",
            "Epoch 95 Validation Loss = 0.2131874163945516\n",
            "La mejor precisión de Validation Loss (0.18713047603766123) se alcanzó en la época 84\n"
          ]
        },
        {
          "data": {
            "application/vnd.jupyter.widget-view+json": {
              "model_id": "376ce9fbcb094f58b9f2d746859fa589",
              "version_major": 2,
              "version_minor": 0
            },
            "text/plain": [
              "  0%|          | 0/13 [00:00<?, ?batch/s]"
            ]
          },
          "metadata": {},
          "output_type": "display_data"
        },
        {
          "name": "stdout",
          "output_type": "stream",
          "text": [
            "Epoch 96 Training Accuracy = 0.9974093264248705\n",
            "Epoch 96 Training Loss = 0.025428709511312177\n",
            "Epoch 96 Validation Accuracy = 0.9270833333333334\n",
            "Epoch 96 Validation Loss = 0.23825367788473764\n",
            "La mejor precisión de Validation Loss (0.18713047603766123) se alcanzó en la época 84\n"
          ]
        },
        {
          "data": {
            "application/vnd.jupyter.widget-view+json": {
              "model_id": "c793e3566c6f46d8846ca76e41314112",
              "version_major": 2,
              "version_minor": 0
            },
            "text/plain": [
              "  0%|          | 0/13 [00:00<?, ?batch/s]"
            ]
          },
          "metadata": {},
          "output_type": "display_data"
        },
        {
          "name": "stdout",
          "output_type": "stream",
          "text": [
            "Epoch 97 Training Accuracy = 0.9974093264248705\n",
            "Epoch 97 Training Loss = 0.02775920533763312\n",
            "Epoch 97 Validation Accuracy = 0.9166666666666666\n",
            "Epoch 97 Validation Loss = 0.2338187446196874\n",
            "La mejor precisión de Validation Loss (0.18713047603766123) se alcanzó en la época 84\n"
          ]
        },
        {
          "data": {
            "application/vnd.jupyter.widget-view+json": {
              "model_id": "f15910a22c234b809dd0e82370749392",
              "version_major": 2,
              "version_minor": 0
            },
            "text/plain": [
              "  0%|          | 0/13 [00:00<?, ?batch/s]"
            ]
          },
          "metadata": {},
          "output_type": "display_data"
        },
        {
          "name": "stdout",
          "output_type": "stream",
          "text": [
            "Epoch 98 Training Accuracy = 0.9987046632124352\n",
            "Epoch 98 Training Loss = 0.029331138946231784\n",
            "Epoch 98 Validation Accuracy = 0.90625\n",
            "Epoch 98 Validation Loss = 0.23159952461719513\n",
            "La mejor precisión de Validation Loss (0.18713047603766123) se alcanzó en la época 84\n"
          ]
        },
        {
          "data": {
            "application/vnd.jupyter.widget-view+json": {
              "model_id": "a7bc476fb0554588a5b247b6d80cde31",
              "version_major": 2,
              "version_minor": 0
            },
            "text/plain": [
              "  0%|          | 0/13 [00:00<?, ?batch/s]"
            ]
          },
          "metadata": {},
          "output_type": "display_data"
        },
        {
          "name": "stdout",
          "output_type": "stream",
          "text": [
            "Epoch 99 Training Accuracy = 0.9987046632124352\n",
            "Epoch 99 Training Loss = 0.02827976584202885\n",
            "Epoch 99 Validation Accuracy = 0.90625\n",
            "Epoch 99 Validation Loss = 0.23818285266558328\n",
            "La mejor precisión de Validation Loss (0.18713047603766123) se alcanzó en la época 84\n"
          ]
        },
        {
          "data": {
            "application/vnd.jupyter.widget-view+json": {
              "model_id": "a7197f2da3f24109b66305a36b0bade2",
              "version_major": 2,
              "version_minor": 0
            },
            "text/plain": [
              "  0%|          | 0/13 [00:00<?, ?batch/s]"
            ]
          },
          "metadata": {},
          "output_type": "display_data"
        },
        {
          "name": "stdout",
          "output_type": "stream",
          "text": [
            "Epoch 100 Training Accuracy = 0.9948186528497409\n",
            "Epoch 100 Training Loss = 0.03234228182950786\n",
            "Epoch 100 Validation Accuracy = 0.890625\n",
            "Epoch 100 Validation Loss = 0.24662697811921439\n",
            "La mejor precisión de Validation Loss (0.18713047603766123) se alcanzó en la época 84\n"
          ]
        }
      ],
      "source": [
        "train_loss = []  # Lista para almacenar las pérdidas de entrenamiento\n",
        "train_accuracy = []  # Lista para almacenar la precisión de entrenamiento\n",
        "val_loss = []  # Lista para almacenar las pérdidas de validación\n",
        "val_accuracy = []  # Lista para almacenar la precisión de validación\n",
        "best_val_loss = float('inf')  # Inicializa la mejor pérdida de validación como infinito\n",
        "best_epoch = 0  # Inicializa la mejor época como 0\n",
        "\n",
        "\n",
        "for epoch in range(epochs):\n",
        "    model.train()\n",
        "    total = 0\n",
        "    correct = 0\n",
        "    counter = 0\n",
        "    train_running_loss = 0\n",
        "\n",
        "    # Utiliza tqdm para mostrar una barra de progreso durante el entrenamiento\n",
        "    with tqdm(train_loader, unit=\"batch\") as tepoch:  # Utiliza train_loader en lugar de train_dataset\n",
        "        # Etiqueta de la barra de progreso\n",
        "        tepoch.set_description(f'Epoch {epoch+1}/{epochs}')\n",
        "\n",
        "        for images, labels in tepoch:  # Utiliza tepoch como iterable\n",
        "            images = images.to(device)\n",
        "            labels = labels.to(device)\n",
        "\n",
        "            optimizer.zero_grad()\n",
        "            outputs = model(images)\n",
        "            loss = criterion(outputs, labels)\n",
        "            loss.backward()\n",
        "            optimizer.step()\n",
        "\n",
        "            train_running_loss += loss.item() * images.size(0)\n",
        "\n",
        "            _, pred = torch.max(outputs.data, 1)\n",
        "\n",
        "            # Lleva un registro de cuántas imágenes se han propagado hacia adelante\n",
        "            total += labels.size(0)\n",
        "            # Lleva un registro de cuántas se predijeron correctamente\n",
        "            correct += (pred == labels).sum().item()\n",
        "\n",
        "            # Actualiza la barra de progreso con la pérdida actual\n",
        "            tepoch.set_postfix(loss=train_running_loss/total)  # Puedes mostrar la pérdida en la barra de progreso\n",
        "\n",
        "        train_accuracy.append(correct/total)\n",
        "        train_loss.append(train_running_loss/len(train_dataset))\n",
        "\n",
        "        print(f'Epoch {epoch+1} Training Accuracy = {correct/total}')\n",
        "        print(f'Epoch {epoch+1} Training Loss = {train_running_loss/len(train_dataset)}')\n",
        "\n",
        "    # Obtén nuestra precisión y pérdida de validación\n",
        "    if epoch %1 == 0:\n",
        "        model.eval()\n",
        "        total = 0\n",
        "        correct = 0\n",
        "        val_running_loss = 0\n",
        "\n",
        "        # No necesitamos gradientes para la validación, así que envuélvelo en no_grad para ahorrar memoria\n",
        "        with torch.no_grad():\n",
        "            for images, labels in val_loader:\n",
        "                images, labels = images.to(device), labels.to(device)\n",
        "                val_output = model(images)\n",
        "                loss_val = criterion(val_output, labels)\n",
        "\n",
        "                # Calcula la pérdida acumulada multiplicando el valor de pérdida por el tamaño del lote\n",
        "                val_running_loss += loss_val.item() * images.size(0)\n",
        "                _, pred = torch.max(val_output.data, 1)\n",
        "                total += labels.size(0)\n",
        "                correct += (pred == labels).sum().item()\n",
        "\n",
        "            val_accuracy.append(correct/total)\n",
        "            # Calcula la pérdida por época dividiendo la pérdida acumulada por el número de elementos en el conjunto de validación\n",
        "            val_loss.append(val_running_loss/len(validation_dataset))\n",
        "\n",
        "            # Actualiza la variable best_val_loss y guarda los pesos del modelo si la pérdida de validación actual es mejor.\n",
        "            if val_loss[-1] < best_val_loss:\n",
        "                best_val_loss = val_loss[-1]\n",
        "                # Guarda los pesos del modelo en variables para almacenarlo al finalizar el entrenamiento.\n",
        "                best_epoch = epoch\n",
        "                best_model_name = \"mejor_modelo.pth\"\n",
        "                best_model_dict = model.state_dict()\n",
        "                #torch.save(model.state_dict(), best_model_name)\n",
        "                best_model = model\n",
        "\n",
        "            print(f'Epoch {epoch+1} Validation Accuracy = {correct/total}')\n",
        "            print(f'Epoch {epoch+1} Validation Loss = {val_running_loss/len(validation_dataset)}')\n",
        "            print(f\"La mejor precisión de Validation Loss ({best_val_loss}) se alcanzó en la época {best_epoch + 1}\")\n",
        "\n",
        "            # Guarda los pesos del modelo en un archivo.\n",
        "torch.save(best_model_dict, best_model_name)"
      ]
    },
    {
      "cell_type": "markdown",
      "id": "7c80fae7",
      "metadata": {
        "id": "7c80fae7",
        "papermill": {
          "duration": 0.043925,
          "end_time": "2023-09-25T01:25:46.481283",
          "exception": false,
          "start_time": "2023-09-25T01:25:46.437358",
          "status": "completed"
        },
        "tags": []
      },
      "source": [
        "# **Visualización de Pérdida y Precisión durante el Entrenamiento**"
      ]
    },
    {
      "cell_type": "markdown",
      "source": [
        "Este bloque de código utiliza la biblioteca `matplotlib` para crear un gráfico que muestra cómo la pérdida y la precisión cambian a lo largo de las épocas durante el entrenamiento y la validación del modelo.\n",
        "\n",
        "1. **Creación del Gráfico:**\n",
        "   - `epoch_log` se crea como una lista que contiene las épocas.\n",
        "   - `fig, (ax1, ax2)` se utiliza para crear una figura con dos subgráficos (uno para la pérdida y otro para la precisión). La figura tiene 2 filas y 1 columna.\n",
        "   - `fig.suptitle` se utiliza para agregar un título a la figura.\n",
        "\n",
        "2. **Configuración de las Líneas y Estilos:**\n",
        "   - Se crean líneas para las curvas de pérdida y precisión tanto para el conjunto de entrenamiento como para el conjunto de validación.\n",
        "   - Se especifican colores, estilos de línea y marcadores para las curvas.\n",
        "\n",
        "3. **Configuración de Ejes y Leyendas:**\n",
        "   - `ax1` es el subgráfico para la pérdida, y `ax2` es el subgráfico para la precisión.\n",
        "   - `ax1.set_ylabel` y `ax2.set_ylabel` se utilizan para agregar etiquetas a los ejes y especificar colores.\n",
        "   - Se ajustan los parámetros de las leyendas y se colocan en la esquina superior izquierda.\n",
        "\n",
        "4. **Guardado y Visualización:**\n",
        "   - Se ajusta el espaciado entre los subgráficos y se guarda el gráfico como un archivo PDF con el nombre especificado (`graficaFold2_Loss&AccvsEpoch.pdf`).\n",
        "   - Se muestra el gráfico.\n",
        "\n",
        "Este bloque es útil para visualizar la progresión del modelo durante el entrenamiento y la validación en términos de pérdida y precisión a lo largo de las épocas. La figura generada proporciona información sobre el rendimiento del modelo en diferentes métricas a lo largo del tiempo de entrenamiento."
      ],
      "metadata": {
        "id": "oXMgjNB2Qluh"
      },
      "id": "oXMgjNB2Qluh"
    },
    {
      "cell_type": "code",
      "execution_count": null,
      "id": "23855e6d",
      "metadata": {
        "execution": {
          "iopub.execute_input": "2023-09-25T01:25:46.570524Z",
          "iopub.status.busy": "2023-09-25T01:25:46.570193Z",
          "iopub.status.idle": "2023-09-25T01:25:47.843794Z",
          "shell.execute_reply": "2023-09-25T01:25:47.842929Z"
        },
        "id": "23855e6d",
        "outputId": "a4b47cfc-8f29-42ec-d065-1d4ccea160a8",
        "papermill": {
          "duration": 1.321143,
          "end_time": "2023-09-25T01:25:47.846543",
          "exception": false,
          "start_time": "2023-09-25T01:25:46.525400",
          "status": "completed"
        },
        "tags": []
      },
      "outputs": [
        {
          "data": {
            "image/png": "[encoded data removed]",
            "text/plain": [
              "<Figure size 1000x800 with 2 Axes>"
            ]
          },
          "metadata": {},
          "output_type": "display_data"
        }
      ],
      "source": [
        "epoch_log = [*range(epochs)]\n",
        "\n",
        "# Crear la figura y los ejes\n",
        "fig, (ax1, ax2) = plt.subplots(2, 1, figsize=(10, 8))  # 2 filas, 1 columna\n",
        "\n",
        "# Título y rotación del eje x\n",
        "fig.suptitle(\"Training Loss & Accuracy vs Epoch\", fontsize=16)\n",
        "ax2.set_xlabel('Epochs')\n",
        "\n",
        "# Crear las líneas para los datos de entrenamiento (colores y estilos personalizados)\n",
        "ax1.plot(epoch_log, train_loss, color='red', linestyle='-', marker='o', label='Training Loss')\n",
        "ax2.plot(epoch_log, train_accuracy, color='blue', linestyle='--', marker='o', label='Training Accuracy')\n",
        "\n",
        "# Crear las líneas para los datos de validación (colores y estilos personalizados)\n",
        "ax1.plot(epoch_log, val_loss, color='green', linestyle='-.', marker='o', label='Validation Loss')\n",
        "ax2.plot(epoch_log, val_accuracy, color='purple', linestyle=':', marker='o', label='Validation Accuracy')\n",
        "\n",
        "# Configurar ejes y leyendas para el primer subgráfico (pérdida)\n",
        "ax1.set_ylabel('Loss', color='black')\n",
        "ax1.tick_params(axis='y', labelcolor='black')\n",
        "ax1.legend(loc='upper left')\n",
        "\n",
        "# Configurar ejes y leyendas para el segundo subgráfico (precisión)\n",
        "ax2.set_ylabel('Accuracy', color='black')\n",
        "ax2.tick_params(axis='y', labelcolor='black')\n",
        "ax2.legend(loc='upper left')\n",
        "\n",
        "# Ajustar el espaciado entre los subgráficos\n",
        "plt.tight_layout()\n",
        "\n",
        "    # Nombre del archivo PDF\n",
        "pdf_filename = \"graficaFold2_Loss&AccvsEpoch.pdf\"\n",
        "\n",
        "    # Guardar la gráfica en un archivo PDF\n",
        "plt.savefig(pdf_filename, format='pdf')\n",
        "\n",
        "# Mostrar la gráfica\n",
        "plt.show()"
      ]
    },
    {
      "cell_type": "markdown",
      "id": "2444461d",
      "metadata": {
        "id": "2444461d",
        "papermill": {
          "duration": 0.044148,
          "end_time": "2023-09-25T01:25:47.936680",
          "exception": false,
          "start_time": "2023-09-25T01:25:47.892532",
          "status": "completed"
        },
        "tags": []
      },
      "source": [
        "# **Evaluación del Modelo en el Conjunto de Prueba**"
      ]
    },
    {
      "cell_type": "markdown",
      "source": [
        "Este bloque de código realiza la evaluación final del modelo en el conjunto de prueba después de haber sido entrenado y seleccionado el mejor modelo.\n",
        "\n",
        "1. **Inicialización del Modelo:**\n",
        "   - Se carga y configura un modelo VGG16 con BatchNorm.\n",
        "   - Se carga el estado del modelo previamente guardado (`mejor_modelo.pth`).\n",
        "\n",
        "2. **Configuración para Evaluación:**\n",
        "   - Se cambia el modelo al modo de evaluación (`model.eval()`).\n",
        "   - Se inicializan variables para realizar un seguimiento de métricas como la precisión, y se crea una matriz de confusión.\n",
        "\n",
        "3. **Bucle de Prueba:**\n",
        "   - Se realiza un bucle sobre el conjunto de prueba (`test_loader`).\n",
        "   - Se hacen predicciones sobre las imágenes de prueba.\n",
        "   - Se calcula y actualiza la matriz de confusión.\n",
        "   - Se acumulan las predicciones y etiquetas reales para cálculos posteriores.\n",
        "\n",
        "4. **Cálculo de Métricas Finales:**\n",
        "   - Se calcula la precisión, precisión, recall y F1-score utilizando las predicciones y etiquetas reales acumuladas.\n",
        "\n",
        "Este bloque proporciona una evaluación completa del modelo en el conjunto de prueba y muestra métricas clave como precisión, recall y F1-score. La matriz de confusión también se utiliza para evaluar el rendimiento del modelo en cada clase. Estas métricas son fundamentales para comprender cómo se generaliza el modelo a datos no vistos y son esenciales para la evaluación del rendimiento del modelo en un problema de clasificación."
      ],
      "metadata": {
        "id": "_tozKp_ZQpJM"
      },
      "id": "_tozKp_ZQpJM"
    },
    {
      "cell_type": "code",
      "execution_count": null,
      "id": "ba3a6c53",
      "metadata": {
        "execution": {
          "iopub.execute_input": "2023-09-25T01:25:48.028843Z",
          "iopub.status.busy": "2023-09-25T01:25:48.028325Z",
          "iopub.status.idle": "2023-09-25T01:25:59.569322Z",
          "shell.execute_reply": "2023-09-25T01:25:59.567517Z"
        },
        "papermill": {
          "duration": 11.591578,
          "end_time": "2023-09-25T01:25:59.572568",
          "exception": false,
          "start_time": "2023-09-25T01:25:47.980990",
          "status": "completed"
        },
        "tags": [],
        "id": "ba3a6c53",
        "outputId": "e734ef66-51a8-403c-c207-b3fea7aa55ff"
      },
      "outputs": [
        {
          "name": "stderr",
          "output_type": "stream",
          "text": [
            "/opt/conda/lib/python3.10/site-packages/torchvision/models/_utils.py:208: UserWarning: The parameter 'pretrained' is deprecated since 0.13 and may be removed in the future, please use 'weights' instead.\n",
            "  warnings.warn(\n",
            "/opt/conda/lib/python3.10/site-packages/torchvision/models/_utils.py:223: UserWarning: Arguments other than a weight enum or `None` for 'weights' are deprecated since 0.13 and may be removed in the future. The current behavior is equivalent to passing `weights=None`.\n",
            "  warnings.warn(msg)\n",
            "/opt/conda/lib/python3.10/site-packages/torchvision/transforms/functional.py:1603: UserWarning: The default value of the antialias parameter of all the resizing transforms (Resize(), RandomResizedCrop(), etc.) will change from None to True in v0.17, in order to be consistent across the PIL and Tensor backends. To suppress this warning, directly pass antialias=True (recommended, future default), antialias=None (current default, which means False for Tensors and True for PIL), or antialias=False (only works on Tensors - PIL will still use antialiasing). This also applies if you are using the inference transforms from the models weights: update the call to weights.transforms(antialias=True).\n",
            "  warnings.warn(\n"
          ]
        },
        {
          "name": "stdout",
          "output_type": "stream",
          "text": [
            "Resultados con el mejor modelo\n"
          ]
        }
      ],
      "source": [
        "# Inicializa listas para almacenar las predicciones y etiquetas reales\n",
        "all_predictions = []\n",
        "all_labels = []\n",
        "\n",
        "model = models.vgg16_bn(pretrained=False)\n",
        "\n",
        "# Modificar la capa de clasificación para dos clases y agregar BatchNorm\n",
        "num_features = model.classifier[0].in_features\n",
        "\n",
        "# Definir una nueva secuencia para la capa de clasificación con BatchNorm\n",
        "classifier_with_bn = nn.Sequential(\n",
        "    nn.Linear(num_features, 4096),  # Capa completamente conectada\n",
        "    nn.ReLU(True),\n",
        "    nn.Dropout(),\n",
        "    nn.BatchNorm1d(4096),  # BatchNorm\n",
        "    nn.Linear(4096, 4096),  # Capa completamente conectada\n",
        "    nn.ReLU(True),\n",
        "    nn.Dropout(),\n",
        "    nn.BatchNorm1d(4096),  # BatchNorm\n",
        "    nn.Linear(4096, 2)  # Capa de salida para dos clases\n",
        ")\n",
        "\n",
        "model.classifier = classifier_with_bn\n",
        "\n",
        "model.load_state_dict(torch.load('mejor_modelo.pth'))\n",
        "\n",
        "model.to(device)\n",
        "\n",
        "# Cambiar el modelo a modo de evaluación\n",
        "model.eval()\n",
        "\n",
        "# Inicializa variables para las métricas\n",
        "total_correct = 0\n",
        "total_samples = 0\n",
        "\n",
        "# Inicializa la matriz de confusión\n",
        "confusion = torch.zeros(num_classes, num_classes)\n",
        "\n",
        "# Realiza el bucle de prueba\n",
        "with torch.no_grad():\n",
        "    for images, labels in test_loader:\n",
        "        images = images.to(device)\n",
        "        labels = labels.to(device)\n",
        "\n",
        "        # Realiza predicciones\n",
        "        outputs = model(images)\n",
        "        _, predictions = torch.max(outputs, 1)\n",
        "\n",
        "        # Calcula la matriz de confusión\n",
        "        for t, p in zip(labels.view(-1), predictions.view(-1)):\n",
        "            confusion[t.long(), p.long()] += 1\n",
        "\n",
        "        # Calcula las métricas\n",
        "        total_samples += labels.size(0)\n",
        "        total_correct += (predictions == labels).sum().item()\n",
        "\n",
        "        # Almacena las predicciones y etiquetas reales para cálculos posteriores\n",
        "        all_predictions.extend(predictions.cpu().numpy())\n",
        "        all_labels.extend(labels.cpu().numpy())\n",
        "\n",
        "# Calcula métricas finales\n",
        "print('Resultados con el mejor modelo')\n",
        "accuracy = total_correct / total_samples\n",
        "precision = precision_score(all_labels, all_predictions, average='micro')\n",
        "recall = recall_score(all_labels, all_predictions)\n",
        "f1 = f1_score(all_labels, all_predictions)"
      ]
    },
    {
      "cell_type": "markdown",
      "id": "68e3e1a4",
      "metadata": {
        "papermill": {
          "duration": 0.045412,
          "end_time": "2023-09-25T01:25:59.696060",
          "exception": false,
          "start_time": "2023-09-25T01:25:59.650648",
          "status": "completed"
        },
        "tags": [],
        "id": "68e3e1a4"
      },
      "source": [
        "# **Impresión de Métricas y Matriz de Confusión**"
      ]
    },
    {
      "cell_type": "markdown",
      "source": [
        "Este bloque de código imprime las métricas obtenidas.\n",
        "\n",
        "**Impresión de Métricas:**\n",
        "   - Se imprime la precisión, precisión, recall y F1-score calculadas previamente.\n"
      ],
      "metadata": {
        "id": "H9p2UgCNQ8sf"
      },
      "id": "H9p2UgCNQ8sf"
    },
    {
      "cell_type": "code",
      "execution_count": null,
      "id": "e6f0c023",
      "metadata": {
        "execution": {
          "iopub.execute_input": "2023-09-25T01:25:59.787379Z",
          "iopub.status.busy": "2023-09-25T01:25:59.787033Z",
          "iopub.status.idle": "2023-09-25T01:25:59.792549Z",
          "shell.execute_reply": "2023-09-25T01:25:59.791657Z"
        },
        "papermill": {
          "duration": 0.053978,
          "end_time": "2023-09-25T01:25:59.794748",
          "exception": false,
          "start_time": "2023-09-25T01:25:59.740770",
          "status": "completed"
        },
        "tags": [],
        "id": "e6f0c023",
        "outputId": "06f9b971-bdcc-4a95-e70c-07752355b958"
      },
      "outputs": [
        {
          "name": "stdout",
          "output_type": "stream",
          "text": [
            "Accuracy: 0.9083333333333333\n",
            "Precision: 0.9083333333333333\n",
            "Recall: 0.9166666666666666\n",
            "F1-Score: 0.9166666666666666\n"
          ]
        }
      ],
      "source": [
        "# Imprime las métricas y la matriz de confusión\n",
        "print(f'Accuracy: {accuracy}')\n",
        "print(f'Precision: {precision}')\n",
        "print(f'Recall: {recall}')\n",
        "print(f'F1-Score: {f1}')"
      ]
    },
    {
      "cell_type": "markdown",
      "id": "624b07d0",
      "metadata": {
        "papermill": {
          "duration": 0.044629,
          "end_time": "2023-09-25T01:25:59.883850",
          "exception": false,
          "start_time": "2023-09-25T01:25:59.839221",
          "status": "completed"
        },
        "tags": [],
        "id": "624b07d0"
      },
      "source": [
        "# **Generación y Guardado de Gráfico de Métricas**\n"
      ]
    },
    {
      "cell_type": "markdown",
      "source": [
        "Este bloque de código crea un gráfico de barras que visualiza las métricas de evaluación, como precisión, recall, F1-score, etc.\n",
        "\n",
        "1. **Creación del Gráfico:**\n",
        "   - Se crean barras para cada métrica con colores específicos.\n",
        "\n",
        "2. **Etiquetas y Título:**\n",
        "   - Se agrega una etiqueta al eje y y se establece un título para el gráfico.\n",
        "\n",
        "3. **Guardado y Visualización:**\n",
        "   - El gráfico se guarda en un archivo PDF.\n",
        "   - Finalmente, se muestra el gráfico de barras.\n",
        "\n",
        "Este tipo de gráfico proporciona una representación visual de las métricas de evaluación, lo que facilita la comparación entre ellas. Cada métrica tiene un color diferente para facilitar la identificación."
      ],
      "metadata": {
        "id": "fknq2hWJRIVX"
      },
      "id": "fknq2hWJRIVX"
    },
    {
      "cell_type": "code",
      "execution_count": null,
      "id": "f027db12",
      "metadata": {
        "execution": {
          "iopub.execute_input": "2023-09-25T01:25:59.975958Z",
          "iopub.status.busy": "2023-09-25T01:25:59.975003Z",
          "iopub.status.idle": "2023-09-25T01:26:00.360338Z",
          "shell.execute_reply": "2023-09-25T01:26:00.359409Z"
        },
        "papermill": {
          "duration": 0.434207,
          "end_time": "2023-09-25T01:26:00.362399",
          "exception": false,
          "start_time": "2023-09-25T01:25:59.928192",
          "status": "completed"
        },
        "tags": [],
        "id": "f027db12",
        "outputId": "55d38bdd-101b-4696-f8f0-709273ad2a69"
      },
      "outputs": [
        {
          "data": {
            "image/png": "[encoded data removed]",
            "text/plain": [
              "<Figure size 800x600 with 1 Axes>"
            ]
          },
          "metadata": {},
          "output_type": "display_data"
        }
      ],
      "source": [
        "# Valores de las métricas\n",
        "metrics = ['Accuracy', 'Precision', 'Recall', 'F1-Score']\n",
        "values = [accuracy, precision, recall, f1]\n",
        "\n",
        "# Crea una figura de Matplotlib\n",
        "plt.figure(figsize=(8, 6))\n",
        "\n",
        "# Crea un gráfico de barras para las métricas\n",
        "plt.bar(metrics, values, color=['blue', 'green', 'red', 'purple'])\n",
        "\n",
        "# Etiqueta del eje y\n",
        "plt.ylabel('Valor')\n",
        "\n",
        "# Título del gráfico\n",
        "plt.title('Métricas de Evaluación')\n",
        "\n",
        "    # Nombre del archivo PDF\n",
        "pdf_filename2 = \"graficaFold2_Metrics.pdf\"\n",
        "\n",
        "plt.savefig(pdf_filename2, format='pdf')\n",
        "\n",
        "# Muestra el gráfico de barras\n",
        "plt.show()"
      ]
    },
    {
      "cell_type": "markdown",
      "id": "0fe597c8",
      "metadata": {
        "papermill": {
          "duration": 0.046673,
          "end_time": "2023-09-25T01:26:00.455033",
          "exception": false,
          "start_time": "2023-09-25T01:26:00.408360",
          "status": "completed"
        },
        "tags": [],
        "id": "0fe597c8"
      },
      "source": [
        "# **Generación y Guardado de Matriz de Confusión**"
      ]
    },
    {
      "cell_type": "markdown",
      "source": [
        "Este bloque de código crea y guarda una matriz de confusión visualizada como un mapa de calor utilizando Seaborn y Matplotlib.\n",
        "\n",
        "1. **Creación de la Figura:**\n",
        "   - Se crea una figura de Matplotlib con un tamaño específico.\n",
        "\n",
        "2. **Conversión a DataFrame:**\n",
        "   - La matriz de confusión se convierte en un DataFrame de pandas para facilitar la visualización.\n",
        "\n",
        "3. **Mapa de Calor con Seaborn:**\n",
        "   - Se utiliza Seaborn para crear un mapa de calor de la matriz de confusión.\n",
        "   - Los valores de la matriz se muestran en cada celda del mapa de calor.\n",
        "\n",
        "4. **Configuración de Etiquetas y Títulos:**\n",
        "   - Se establecen etiquetas para los ejes x e y, así como un título para la matriz de confusión.\n",
        "\n",
        "5. **Guardado y Visualización:**\n",
        "   - La matriz de confusión visualizada se guarda en un archivo PDF.\n",
        "   - Finalmente, se muestra la matriz de confusión.\n",
        "\n",
        "Este tipo de visualización es útil para comprender el rendimiento del modelo en términos de la clasificación de las diferentes clases. Las celdas del mapa de calor muestran la cantidad de instancias que fueron clasificadas correctamente e incorrectamente para cada clase."
      ],
      "metadata": {
        "id": "apEYzMyFRKgt"
      },
      "id": "apEYzMyFRKgt"
    },
    {
      "cell_type": "code",
      "execution_count": null,
      "id": "52ff9fe1",
      "metadata": {
        "execution": {
          "iopub.execute_input": "2023-09-25T01:26:00.602193Z",
          "iopub.status.busy": "2023-09-25T01:26:00.601782Z",
          "iopub.status.idle": "2023-09-25T01:26:00.882149Z",
          "shell.execute_reply": "2023-09-25T01:26:00.880942Z"
        },
        "papermill": {
          "duration": 0.32958,
          "end_time": "2023-09-25T01:26:00.884403",
          "exception": false,
          "start_time": "2023-09-25T01:26:00.554823",
          "status": "completed"
        },
        "tags": [],
        "id": "52ff9fe1",
        "outputId": "009d4255-2a92-4d2c-e517-3e185142965d"
      },
      "outputs": [
        {
          "data": {
            "image/png": "[encoded data removed]",
            "text/plain": [
              "<Figure size 800x600 with 1 Axes>"
            ]
          },
          "metadata": {},
          "output_type": "display_data"
        }
      ],
      "source": [
        "# Crea una figura de Matplotlib\n",
        "plt.figure(figsize=(8, 6))\n",
        "\n",
        "# Convierte la matriz de confusión en un DataFrame de pandas para una mejor visualización\n",
        "confusion_df = pd.DataFrame(confusion.numpy(), index=range(num_classes), columns=range(num_classes))\n",
        "\n",
        "# Utiliza Seaborn para crear un mapa de calor\n",
        "sns.heatmap(confusion_df, annot=True, fmt='g', cmap='Reds', cbar=False)\n",
        "\n",
        "# Configura etiquetas y títulos\n",
        "plt.xlabel('Valores de Predicción')\n",
        "plt.ylabel('Reales')\n",
        "plt.title('Confusion Matrix')\n",
        "\n",
        "    # Nombre del archivo PDF\n",
        "pdf_filename3 = \"graficaFold2_Matrix.pdf\"\n",
        "\n",
        "plt.savefig(pdf_filename3, format='pdf')\n",
        "\n",
        "# Muestra la matriz de confusión\n",
        "plt.show()"
      ]
    }
  ],
  "metadata": {
    "kernelspec": {
      "display_name": "Python 3",
      "language": "python",
      "name": "python3"
    },
    "language_info": {
      "codemirror_mode": {
        "name": "ipython",
        "version": 3
      },
      "file_extension": ".py",
      "mimetype": "text/x-python",
      "name": "python",
      "nbconvert_exporter": "python",
      "pygments_lexer": "ipython3",
      "version": "3.10.12"
    },
    "papermill": {
      "default_parameters": {},
      "duration": 3171.176565,
      "end_time": "2023-09-25T01:26:03.556327",
      "environment_variables": {},
      "exception": null,
      "input_path": "__notebook__.ipynb",
      "output_path": "__notebook__.ipynb",
      "parameters": {},
      "start_time": "2023-09-25T00:33:12.379762",
      "version": "2.4.0"
    },
    "colab": {
      "provenance": [],
      "include_colab_link": true
    }
  },
  "nbformat": 4,
  "nbformat_minor": 5
}